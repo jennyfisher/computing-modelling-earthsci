{
 "cells": [
  {
   "cell_type": "markdown",
   "metadata": {},
   "source": [
    "# Introduction to Programming in Python: Logic\n",
    "\n",
    "This practical will build on the previous two to continue to introduce you to the basic ideas behind programming and how to use Python in simple ways. It is based on an almagamation of course and examples, including the following (which you are welcome to explore on your own!):\n",
    "1. Introduction to programming for Geoscientists (with Python) by Gerard Gorman and Christian Jacobs: http://ggorman.github.io/Introduction-to-programming-for-geoscientists/lecture_series/\n",
    "2. Introduction to scientific programming in Python by the UCL graduate school: http://www.cs.ucl.ac.uk/scipython/index.html\n",
    "3. Programming with Python by Software Carpentry: http://swcarpentry.github.io/python-novice-inflammation/\n",
    "4. CS For All: Introduction to Computer Science and Python Programming by HarveyMuddX at edX: https://www.edx.org/course/cs-all-introduction-computer-science-harveymuddx-cs005x-0\n",
    "\n",
    "**Recommended Reading**: *Think Python*, Sections [5.2](http://greenteapress.com/thinkpython/html/thinkpython006.html#toc53), [5.3](http://greenteapress.com/thinkpython/html/thinkpython006.html#toc54), [5.4](http://greenteapress.com/thinkpython/html/thinkpython006.html#toc55), [5.5](http://greenteapress.com/thinkpython/html/thinkpython006.html#toc56), [5.6](http://greenteapress.com/thinkpython/html/thinkpython006.html#toc57) and *Scipy Lecture Notes*, Sections [1.2.3.1](http://www.scipy-lectures.org/intro/language/control_flow.html#if-elif-else), [1.2.3.2](http://www.scipy-lectures.org/intro/language/control_flow.html#for-range), [1.2.3.4](http://www.scipy-lectures.org/intro/language/control_flow.html#conditional-expressions)"
   ]
  },
  {
   "cell_type": "markdown",
   "metadata": {
    "collapsed": true
   },
   "source": [
    "## Making comparisons\n",
    "\n",
    "Often we want to compare two values or variables. For example, last week you wrote a program to calculate the effective temperatures of Earth, Venus, and Mars. Imagine you wanted to know which planet was warmer. In this simple case, you could just tell python to print the values to the screen and you could compare them yourself. But this method (1) would be tedious if you needed to do it over and over, (2) wouldn't allow you to automatically choose one (for example the largest) for the next calculation you might need to do, and (3) is prone to human error (tired eyes, anyone?).\n",
    "\n",
    "Luckily, python has a built-in way to do this, using something called a ***boolean expression***. Boolean expressions are statements that output values that are either *True* or *False*. We use special ***relational operators*** to create boolean expressions that compare two values:\n",
    "\n",
    "| Operator | Example | Meaning |\n",
    "|:---------|:--------|:--------|\n",
    "|   <  | a < b | a is less than b|\n",
    "|   >  | a > b | a is greater than b|\n",
    "|   <=  | a <= b | a is less than or equal to b|\n",
    "|   >=  | a >= b | a is greater than or equal b|\n",
    "|   ==  | a == b | a is equal to b|\n",
    "|   !=  | a != b | a is not equal to b|\n",
    "\n",
    "The first four are the same as what you would write mathematically. Note that it is important to use the correct order (e.g. `>=` not `=>`) or you will get a syntax error. **Be very careful with the equality operator `==`.** If you forget and use a single equal sign `=` you are not checking whether two values are the same but instead assigning a new value to the variable on the left. For example, `C == 5` asks whether C has a value of 5, but `C=5` assigns the value of 5 to C from here on out.\n",
    "\n",
    "Let's test some example boolean expressions in Python. <font color=blue>**Play around with the examples below (using the operators in the table above) to get a feel for these**</font>."
   ]
  },
  {
   "cell_type": "code",
   "execution_count": null,
   "metadata": {},
   "outputs": [],
   "source": [
    "C = 41\n",
    "print( 'C is not equal to 40 (C != 40):', C != 40 )\n",
    "print( 'C is less than 40 (C < 40): ', C < 40 )\n",
    "print( 'C is equal to 41 (C == 41): ', C == 41 )"
   ]
  },
  {
   "cell_type": "code",
   "execution_count": null,
   "metadata": {},
   "outputs": [],
   "source": [
    "X = C+3\n",
    "print( 'The variables are C=',C,' and X=',X )\n",
    "print( 'C is not equal to X (C != X): ', C != X )\n",
    "print( 'C is less than X (C < X): ', C < X )\n",
    "print( 'C is equal to X (C == X): ', C == X )"
   ]
  },
  {
   "cell_type": "markdown",
   "metadata": {},
   "source": [
    "## <font color=blue>Complete Exercise 1a now</font>"
   ]
  },
  {
   "cell_type": "markdown",
   "metadata": {},
   "source": [
    "Python also has special ***logical operators***. The operators **`and`** and **`or`** let us combine several conditions into a single boolean expression.<br><br>\n",
    "\n",
    "| Operator | Outcome | Example |\n",
    "|:---------|:--------|:--------|\n",
    "|   and  | True if **both** conditions are true | (a < b) and (a < c) |\n",
    "|   or  | True if **either** conditions is true | (a < b) or (a < c) |\n",
    "\n",
    "**<font color=blue>Again, test this out by playing around with the examples below.</font>**"
   ]
  },
  {
   "cell_type": "code",
   "execution_count": null,
   "metadata": {},
   "outputs": [],
   "source": [
    "x = 0\n",
    "y = 1.2\n",
    "print( 'x >= 0: ', x >= 0 )\n",
    "print( 'y < 1: ', y < 1 )\n",
    "print( '(x >= 0) and (y < 1): ', (x >= 0) and (y < 1) )\n",
    "print( '(x >= 0) or (y < 1): ', (x >= 0) or (y < 1) )"
   ]
  },
  {
   "cell_type": "markdown",
   "metadata": {},
   "source": [
    "<font color=purple>**Want to know more?**<br>\n",
    "*Remember: text in purple is just some fun optional extras. If you love this stuff, read on! If you feel like this is already a LOT to take in, just skip anything in purple.*<br><br>\n",
    "\n",
    "There is another logical operator called **```not```** that works as an opposite, so ```not (a < b )``` is the same thing as ```(a >= b )```. We won't explicitly use it in EESC102, but you are welcome to try it out.</font>"
   ]
  },
  {
   "cell_type": "markdown",
   "metadata": {},
   "source": [
    "## <font color=blue>Complete Exercise 1b now</font>"
   ]
  },
  {
   "cell_type": "markdown",
   "metadata": {},
   "source": [
    "## Using logic (if)\n",
    "\n",
    "One of the most common things we do in programming is to check whether something is true or false, and then use the outcome of that check to do different things. We do this using ***conditional statements*** that first check whether a particular condition is true, and only follow the instructions if so. The basic construct for an **```if```** statment in python is very simple:\n",
    "```\n",
    "if [condition]:\n",
    "    [do action]\n",
    "```\n",
    "\n",
    "`[condition]` is a test that you want to make, like (`a == b`) or (`T_Mars > T_Venus`).<br>\n",
    "`[do action]` is a set of instructions you will give Python for what to do if the condition is met.\n",
    "\n",
    "For example, imagine you want to determine whether it is hot outside, depending on the temperature. For the purposes of argument, we'll say that it's hot when the temperature is greater than 35$^\\circ$C.\n",
    "\n",
    "We can write the following conditional statement in Python:"
   ]
  },
  {
   "cell_type": "code",
   "execution_count": null,
   "metadata": {},
   "outputs": [],
   "source": [
    "# Current temperature in degrees C\n",
    "Temp = 40.0\n",
    "\n",
    "if Temp > 35.0:\n",
    "    print( 'It\\'s hot!' )"
   ]
  },
  {
   "cell_type": "markdown",
   "metadata": {},
   "source": [
    "What happens if we set the current temperature to 22 instead?"
   ]
  },
  {
   "cell_type": "code",
   "execution_count": null,
   "metadata": {},
   "outputs": [],
   "source": [
    "# Current temperature in degrees C\n",
    "Temp = 22.0\n",
    "\n",
    "if Temp > 35.0:\n",
    "    print( 'It\\'s hot!' )"
   ]
  },
  {
   "cell_type": "markdown",
   "metadata": {},
   "source": [
    "If you run the code above, you'll see that nothing happened! Why not? This is because the **`Temp > 35.0`** is **`False`** so the condition ***failed***. When the condition fails, it doesn't execute any of the indented code. We have set the current temperature to 22, and we know that 22 is not higher than 35, so this condition should fail, and the code is behaving exactly as anticipated.<br><br>\n",
    "\n",
    "<font color=blue>**In the cell below, play around with setting the current temperature to different values. When is the condition met? When does it fail? Is it behaving how you would expect?**</font>"
   ]
  },
  {
   "cell_type": "code",
   "execution_count": null,
   "metadata": {},
   "outputs": [],
   "source": [
    "# Current temperature in degrees C\n",
    "Temp =  # Test out different values here\n",
    "\n",
    "if Temp > 35.0:\n",
    "    print( 'It\\'s hot!' )"
   ]
  },
  {
   "cell_type": "markdown",
   "metadata": {},
   "source": [
    "Remember that Python is very pedantic, so you must format the if statements correctly. **This means that the first line must start with <font face='courier' color=green>if</font> and end with a colon (:)**.\n",
    "\n",
    "You will also notice that the code that the should be executed if the condition is met (the action) **must be indented** (i.e. press 'tab' at the start of the line). This is a good time to talk about blank spaces.\n",
    "\n",
    "Blank spaces may or may not be important in Python programs! For example, these statements are all equivalent:"
   ]
  },
  {
   "cell_type": "code",
   "execution_count": null,
   "metadata": {},
   "outputs": [],
   "source": [
    "Temp=40.0\n",
    "Temp   =   40.0\n",
    "Temp=  40.0\n",
    "\n",
    "# The computer does not care but this formatting style is\n",
    "# considered clearest for the human reader\n",
    "Temp = 40.0"
   ]
  },
  {
   "cell_type": "markdown",
   "metadata": {},
   "source": [
    "However, in special blocks of code, including **`if`** statements, blank spaces really do matter. These statements should have 4 blank spaces at the start of the line. In Jupyter notebooks, you can get the right amount of indentation using the 'tab' key -- this is equivalent to typing 4 blank spaces. If you need to remove an indent, you can do so using shift-tab."
   ]
  },
  {
   "cell_type": "markdown",
   "metadata": {},
   "source": [
    "## <font color=blue>Complete Exercises 2a now</font>"
   ]
  },
  {
   "cell_type": "markdown",
   "metadata": {},
   "source": [
    "## On the other hand... (else)\n",
    "\n",
    "Let's take another look at our temperature test from above:"
   ]
  },
  {
   "cell_type": "code",
   "execution_count": null,
   "metadata": {},
   "outputs": [],
   "source": [
    "# Current temperature in degrees C\n",
    "Temp = 22.0\n",
    "\n",
    "if Temp > 35.0:\n",
    "    print( 'It\\'s hot!' )"
   ]
  },
  {
   "cell_type": "markdown",
   "metadata": {},
   "source": [
    "Remember that when the temperature is NOT greater than 35 (i.e. the condition fails), nothing happens. What if we want to do something else if it's not hot? We could do this using two if statements:"
   ]
  },
  {
   "cell_type": "code",
   "execution_count": null,
   "metadata": {},
   "outputs": [],
   "source": [
    "# Current temperature in degrees C\n",
    "Temp = 22.0\n",
    "\n",
    "if Temp > 35.0:\n",
    "    print( 'It\\'s hot!' )\n",
    "if Temp < 35.0:\n",
    "    print( 'It\\'s not hot!' )"
   ]
  },
  {
   "cell_type": "markdown",
   "metadata": {},
   "source": [
    "But there's a better way! (as there usually is in Python...). We can use another type of conditional statement that starts with **<font face='courier' color=green>else</font>**. **<font face='courier' color=green>else</font>** is always combined with **<font face='courier' color=green>if</font>**, and it tells the code to perform some action if the test fails:\n",
    "```\n",
    "if [condition]:\n",
    "    [do action 1]\n",
    "else:\n",
    "    [do action 2]\n",
    "```\n",
    "\n",
    "For our example above:"
   ]
  },
  {
   "cell_type": "code",
   "execution_count": null,
   "metadata": {},
   "outputs": [],
   "source": [
    "# Current temperature in degrees C\n",
    "Temp = 22.0\n",
    "\n",
    "if Temp > 35.0:\n",
    "    print( 'It\\'s hot!' )\n",
    "else:\n",
    "    print( 'It\\'s not hot!' )"
   ]
  },
  {
   "cell_type": "markdown",
   "metadata": {},
   "source": [
    "Again, pay attention to syntax. The **<font face='courier' color=green>else</font>** must be at the start of the line (lined up with the **<font face='courier' color=green>if</font>**) and must be followed by a colon, and the instructions must be indented."
   ]
  },
  {
   "cell_type": "markdown",
   "metadata": {},
   "source": [
    "## <font color=blue>Complete Exercise 2b now</font>"
   ]
  },
  {
   "cell_type": "markdown",
   "metadata": {},
   "source": [
    "## If not that, how about this? (elif)\n",
    "\n",
    "Let's go back to our temperature example one more time. When we last left it we had this:"
   ]
  },
  {
   "cell_type": "code",
   "execution_count": null,
   "metadata": {},
   "outputs": [],
   "source": [
    "# Current temperature in degrees C\n",
    "Temp = 22.0\n",
    "\n",
    "if Temp > 35.0:\n",
    "    print( 'It\\'s hot!' )\n",
    "else:\n",
    "    print( 'It\\'s not hot!' )"
   ]
  },
  {
   "cell_type": "markdown",
   "metadata": {},
   "source": [
    "What if we want to be more specific and classify other temperatures as well? For example it might be hot, warm, cold, freezing... not just 'hot' or 'not hot'.\n",
    "\n",
    "For this we use a third type of conditional statement, **<font face='courier' color=green>elif</font>**. **<font face='courier' color=green>elif</font>** is a combination of the 'else' and 'if'. It means that if the first **<font face='courier' color=green>if</font>** fails, try this one. The syntax is very similar to **<font face='courier' color=green>if</font>** and **<font face='courier' color=green>else</font>**:\n",
    "```\n",
    "if [condition 1]:\n",
    "    [do action 1]\n",
    "elif [condition 2]:\n",
    "    [do action 2]\n",
    "else:\n",
    "    [do action 3]\n",
    "```\n",
    "\n",
    "Let's edit our example to include other temperature ranges:"
   ]
  },
  {
   "cell_type": "code",
   "execution_count": null,
   "metadata": {
    "scrolled": true
   },
   "outputs": [],
   "source": [
    "# Current temperature in degrees C\n",
    "Temp = 22.0\n",
    "\n",
    "if Temp > 35.0:\n",
    "    print( 'It\\'s hot!' )\n",
    "elif Temp > 20.0:\n",
    "    print( 'It\\'s warm' )\n",
    "else:\n",
    "    print( 'It\\'s cool!' )"
   ]
  },
  {
   "cell_type": "markdown",
   "metadata": {},
   "source": [
    "We can combine as many **<font face='courier' color=green>elif</font>** statements as we want:"
   ]
  },
  {
   "cell_type": "code",
   "execution_count": null,
   "metadata": {},
   "outputs": [],
   "source": [
    "# Current temperature in degrees C\n",
    "Temp = 22.0\n",
    "\n",
    "if Temp > 35.0:\n",
    "    print( 'It\\'s hot!' )\n",
    "elif Temp > 20.0:\n",
    "    print( 'It\\'s warm' )\n",
    "elif Temp > 5.0:\n",
    "    print( 'It\\'s cool' )\n",
    "else:\n",
    "    print( 'Brrrr!' )"
   ]
  },
  {
   "cell_type": "markdown",
   "metadata": {},
   "source": [
    "## Getting the order right\n",
    "\n",
    "It's very important to recognise that `if-elif-else` conditional statements operate in a sequential order, from top to bottom. If we take another look at the generic example:\n",
    "```\n",
    "if [condition 1]:\n",
    "    [do action 1]\n",
    "elif [condition 2]:\n",
    "    [do action 2]\n",
    "else:\n",
    "    [do action 3]\n",
    "```\n",
    "Here is what python does:\n",
    "1. Check condition 1.\n",
    "    1. If condition 1 is True, do action 1 and ignore everything else\n",
    "    2. If condition 1 is False, check condition 2\n",
    "        1. If condition 2 is True, do action 2 and ignore everything else\n",
    "        2. If condition 2 is False, do action 3\n",
    "        \n",
    "So what happens if condition 1 is True **and** condition 2 is True? **Only action 1.** The program will never even check condition 2 because condition 1 was True. So only action 1 will be performed.\n",
    "\n",
    "Let's look at example to make this clearer. What if we instead wrote our previous program like this:"
   ]
  },
  {
   "cell_type": "code",
   "execution_count": null,
   "metadata": {},
   "outputs": [],
   "source": [
    "# Current temperature in degrees C\n",
    "Temp = 22.0\n",
    "\n",
    "if Temp > -5.0:\n",
    "    print( 'Brrr!' )\n",
    "elif Temp > 5.0:\n",
    "    print( 'It\\'s cool' )\n",
    "elif Temp > 20.0:\n",
    "    print( 'It\\'s warm' )\n",
    "else:\n",
    "    print( 'It\\'s hot!' )"
   ]
  },
  {
   "cell_type": "markdown",
   "metadata": {},
   "source": [
    "The program failed! This is because it first checked whether the temperature was higher than -5$^\\circ$C. That condition was true, so it executed the first action (<font face=\"courier\">print 'Brrr!'</font>) and ignored all the rest.\n",
    "\n",
    "There's another way this program could go wrong. What happens if we try to run it for a very cold temperature, like -15$^\\circ$C?"
   ]
  },
  {
   "cell_type": "code",
   "execution_count": null,
   "metadata": {},
   "outputs": [],
   "source": [
    "# Current temperature in degrees C\n",
    "Temp = -15.0\n",
    "\n",
    "if Temp > -5.0:\n",
    "    print( 'Brrr!' )\n",
    "elif Temp > 5.0:\n",
    "    print( 'It\\'s cool' )\n",
    "elif Temp > 20.0:\n",
    "    print( 'It\\'s warm' )\n",
    "else:\n",
    "    print( 'It\\'s hot!' )"
   ]
  },
  {
   "cell_type": "markdown",
   "metadata": {},
   "source": [
    "It failed again, this time because it didn't pass any of the conditions (Temp > -5.0, Temp > 5.0, Temp > 20.0) and so executed the action following the **<font face='courier' color=green>else</font>** statement.\n",
    "\n",
    "Does that mean we can only write this program starting from hot temperatures and working our way down? Of course not! To fix it we would need to change our CONDITIONS so they make sense:"
   ]
  },
  {
   "cell_type": "code",
   "execution_count": null,
   "metadata": {},
   "outputs": [],
   "source": [
    "# Current temperature in degrees C\n",
    "Temp = -15.0\n",
    "print( 'When Temp=',Temp )\n",
    "\n",
    "# Change > to < so you start from the coldest temperatures (and change bounds)\n",
    "if Temp < 5.0:             \n",
    "    print( 'Brrr!' )\n",
    "elif Temp < 20.0:\n",
    "    print( 'It\\'s cool' )\n",
    "elif Temp < 35.0:\n",
    "    print( 'It\\'s warm' )\n",
    "else:\n",
    "    print( 'It\\'s hot!' )"
   ]
  },
  {
   "cell_type": "markdown",
   "metadata": {},
   "source": [
    "## <font color=blue>Complete Exercise 3a now</font>"
   ]
  },
  {
   "cell_type": "markdown",
   "metadata": {},
   "source": [
    "## Doing more than printing\n",
    "Any action with an **<font face='courier' color=green>if</font>**, **<font face='courier' color=green>elif</font>**, or **<font face='courier' color=green>else</font>** can consist of multiple lines of code, provided they are all indented properly. In addition, **<font face='courier' color=green>if</font>** statements don't always have to print something. They can execute ANY code.\n",
    "\n",
    "For example, instead of printing output, we could use a **variable** to store our message, then print it at the end."
   ]
  },
  {
   "cell_type": "code",
   "execution_count": null,
   "metadata": {},
   "outputs": [],
   "source": [
    "# Current temperature in degrees C\n",
    "Temp = 40.0\n",
    "\n",
    "if Temp > 35.0:\n",
    "    message = 'It is too hot.'\n",
    "elif Temp > 20.0:\n",
    "    message = 'It is comfortable.'\n",
    "elif Temp > 5.0:\n",
    "    message = 'It is too cold.'\n",
    "else:\n",
    "    message = 'It is WAY too cold.'\n",
    "    \n",
    "print( message )"
   ]
  },
  {
   "cell_type": "markdown",
   "metadata": {},
   "source": [
    "## <font color=blue>Complete Exercise 3b now</font>"
   ]
  },
  {
   "cell_type": "markdown",
   "metadata": {},
   "source": [
    "We could even add some math into our example above (for example, picking a more comfortable temperature)."
   ]
  },
  {
   "cell_type": "code",
   "execution_count": null,
   "metadata": {},
   "outputs": [],
   "source": [
    "# Current temperature in degrees C\n",
    "Temp = 40.0\n",
    "\n",
    "if Temp > 35.0:\n",
    "    message = 'It is too hot.'\n",
    "    better_Temp = Temp - 15.0\n",
    "elif Temp > 20.0:\n",
    "    message = 'It is comfortable.'\n",
    "    better_Temp = Temp\n",
    "elif Temp > 5.0:\n",
    "    message = 'It is too cold.'\n",
    "    better_Temp = Temp + 5\n",
    "else:\n",
    "    message = 'It is WAY too cold.'\n",
    "    better_Temp = 25\n",
    "    \n",
    "print( message )\n",
    "print( 'I prefer when it is ',better_Temp,' degrees' )"
   ]
  },
  {
   "cell_type": "markdown",
   "metadata": {},
   "source": [
    "Or another example, for when we want to calculate the effective temperatures of different planets. Try changing `planet = 'Venus'` in the first line to `'Earth'` or `'Mars'` or `'Jupiter'`."
   ]
  },
  {
   "cell_type": "code",
   "execution_count": null,
   "metadata": {},
   "outputs": [],
   "source": [
    "planet = 'Venus'\n",
    "\n",
    "if planet == 'Venus':\n",
    "    albedo = 0.8\n",
    "    solar_flux = 2643.0\n",
    "elif planet == 'Earth':\n",
    "    albedo = 0.3\n",
    "    solar_flux = 1366.0\n",
    "elif planet == 'Mars':\n",
    "    albedo = 0.2\n",
    "    solar_flux = 593.0\n",
    "else:\n",
    "    print( 'Sorry, I do not know the values for this planet! Answers will be non-sensical.' )\n",
    "    albedo=1.0\n",
    "    solar_flux=0.0\n",
    "\n",
    "sigma=5.67e-8 #W/m^-2/K^-4\n",
    "Te = ((solar_flux/(4*sigma))*(1-albedo))**0.25\n",
    "print( 'Effective Temperature at planet ',planet,': ',Te )"
   ]
  },
  {
   "cell_type": "markdown",
   "metadata": {},
   "source": [
    "## Combining logic and loops\n",
    "\n",
    "An **`if`** statement inside a **`for`** loop - is that really possible? **YES it is!**\n",
    "\n",
    "The only \"extra\" thing you need to be careful of is the indent (spacing) at the beginning of the line. Remember that with `if` statements, when the condition is met any indented actions are carried out:"
   ]
  },
  {
   "cell_type": "raw",
   "metadata": {},
   "source": [
    "if condition==True:\n",
    "    do this\n",
    "    and this\n",
    "    and this\n",
    "\n",
    "this line is not indented, so do it whether or not the condition is true"
   ]
  },
  {
   "cell_type": "markdown",
   "metadata": {},
   "source": [
    "Similarly, with a `for` loop, the indented lines are repeated over and over:"
   ]
  },
  {
   "cell_type": "raw",
   "metadata": {},
   "source": [
    "for i in range(0,25,1):\n",
    "    do this 25 times\n",
    "    and this 25 times\n",
    "    and this 25 times\n",
    "\n",
    "this line is not indented, so only do it once, after the loop is finished."
   ]
  },
  {
   "cell_type": "markdown",
   "metadata": {},
   "source": [
    "If we want to combine them, we need an **extra** indent.\n",
    "\n",
    "Let's illustrate with an example that we looked at last week. You might remember that the vertical profile of temperature in the atmosphere is different in the lower atmosphere (troposphere, 0-11 km) than in the part of the atmosphere above it (stratosphere, 11-40 km), and temperature in degrees Celsius can be roughly expressed as:\n",
    "\n",
    "**`Temperature = 15.0 - 6.5 * altitude`** (when altitude is less than 11 km)<br>\n",
    "**`Temperature = -56.5`** (when altitude is between 11 and 20 km)<br>\n",
    "**`Temperature = -76.5 + 1.0 * altitude`** (when altitude is between 20 and 32 km)<br>\n",
    "\n",
    "Last week, we had to define 3 separate arrays for each variable and write 3 separate `for` loops to describe this:"
   ]
  },
  {
   "cell_type": "code",
   "execution_count": null,
   "metadata": {
    "scrolled": false
   },
   "outputs": [],
   "source": [
    "import numpy\n",
    "import matplotlib.pyplot as pyplot\n",
    "%matplotlib inline\n",
    "\n",
    "# 0-11 km\n",
    "altitude1=numpy.arange(0,11,0.1)\n",
    "# 11-20 km\n",
    "altitude2=numpy.arange(11,20,.1)\n",
    "# 25-40 km\n",
    "altitude3=numpy.arange(20,40,.1)\n",
    "\n",
    "# set up an array for temperature\n",
    "Temperature1=numpy.zeros(len(altitude1))\n",
    "Temperature2=numpy.zeros(len(altitude2))\n",
    "Temperature3=numpy.zeros(len(altitude3))\n",
    "\n",
    "for i in range(0,len(Temperature1),1):\n",
    "    Temperature1[i] = 15.0 - 6.5*altitude1[i]\n",
    "for i in range(0,len(Temperature2),1):\n",
    "    Temperature2[i] = -56.5\n",
    "for i in range(0,len(Temperature3),1):\n",
    "    Temperature3[i] = -76.5 + 1.0*altitude3[i]\n",
    "    \n",
    "# Set up the plot - we put altitude on the y-axis to represent it going \"up\"\n",
    "pyplot.plot(Temperature1,altitude1)\n",
    "pyplot.xlabel('Temperature (C)')\n",
    "pyplot.ylabel('Altitude (km)')\n",
    "pyplot.title('Atmospheric temperatures for 0-11km')\n",
    "pyplot.show()\n",
    "\n",
    "pyplot.plot(Temperature2,altitude2)\n",
    "pyplot.xlabel('Temperature (C)')\n",
    "pyplot.ylabel('Altitude (km)')\n",
    "pyplot.title('Atmospheric temperatures for 11-20km')\n",
    "pyplot.show()\n",
    "\n",
    "pyplot.plot(Temperature3,altitude3)\n",
    "pyplot.xlabel('Temperature (C)')\n",
    "pyplot.ylabel('Altitude (km)')\n",
    "pyplot.title('Atmospheric temperatures for 20-40km')\n",
    "pyplot.show()"
   ]
  },
  {
   "cell_type": "markdown",
   "metadata": {},
   "source": [
    "But really, we want to see the **entire** temperature profile, from the surface (0 km) all the way to 40 km. We can do this by defining **one** array for all values of `altitude`, **one** array full of zeros for `Temperature`, and then using **one** `for` loop to calculate the temperature at each altitude.\n",
    "\n",
    "To do so, within our `for` loop, we need to use an `if` statement that first tests which altitude range we are in (are we below 11 km? between 11 and 20? above 20) and then uses that information to determine which equation to use for calculating the temperature:"
   ]
  },
  {
   "cell_type": "code",
   "execution_count": null,
   "metadata": {},
   "outputs": [],
   "source": [
    "# altitude array in km, steps of 0.1km = 100m\n",
    "altitude=numpy.arange(0,40,.1)\n",
    "\n",
    "# set up an array for temperature\n",
    "Temperature=numpy.zeros(len(altitude))\n",
    "\n",
    "for i in range(0,len(Temperature),1):\n",
    "    if altitude[i] < 11:\n",
    "        Temperature[i] = 15.0 - 6.5*altitude[i]\n",
    "    elif altitude[i] < 20:\n",
    "        Temperature[i] = -56.5\n",
    "    else:\n",
    "        Temperature[i] = -76.5 + 1.0*altitude[i]"
   ]
  },
  {
   "cell_type": "markdown",
   "metadata": {},
   "source": [
    "You'll see that because we added an extra indentation (extra space) in front of the **`if`** statement, we checked the conditions every time we went around the loop.\n",
    "\n",
    "We also used the array index `[i]` to access a different value of `altitude` and `Temperature` each time we went around the loop.\n",
    "\n",
    "For example, the first time around, `i=0`, so we tested whether `altitude[0]<11`. It was, so we \"filled in\" the first space of the Temperature array, `Temperature[0]`.\n",
    "\n",
    "Now when we make the plot, we will see the whole profile combined!"
   ]
  },
  {
   "cell_type": "code",
   "execution_count": null,
   "metadata": {},
   "outputs": [],
   "source": [
    "# Set up the plot - we put altitude on the y-axis to represent it going \"up\"\n",
    "pyplot.plot(Temperature,altitude)\n",
    "pyplot.xlabel('Temperature (C)')\n",
    "pyplot.ylabel('Altitude (km)')\n",
    "pyplot.title('Change in temperature with altitude in the atmosphere')\n",
    "pyplot.show()"
   ]
  },
  {
   "cell_type": "markdown",
   "metadata": {},
   "source": [
    "## <font color=blue>Complete Exercise 4 now</font>"
   ]
  }
 ],
 "metadata": {
  "anaconda-cloud": {},
  "kernelspec": {
   "display_name": "Python 3",
   "language": "python",
   "name": "python3"
  },
  "language_info": {
   "codemirror_mode": {
    "name": "ipython",
    "version": 3
   },
   "file_extension": ".py",
   "mimetype": "text/x-python",
   "name": "python",
   "nbconvert_exporter": "python",
   "pygments_lexer": "ipython3",
   "version": "3.5.4"
  }
 },
 "nbformat": 4,
 "nbformat_minor": 1
}
