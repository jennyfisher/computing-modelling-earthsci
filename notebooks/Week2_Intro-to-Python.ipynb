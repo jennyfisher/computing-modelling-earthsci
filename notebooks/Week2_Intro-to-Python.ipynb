{
 "cells": [
  {
   "cell_type": "markdown",
   "metadata": {},
   "source": [
    "# Introduction to Programming in Python: Fundamentals\n",
    "\n",
    "This practical will introduce you to the basic ideas behind programming and how to use Python in simple ways. It is based on an almagamation of courses and examples, including the following (which you are welcome to explore on your own!):\n",
    "1. Introduction to programming for Geoscientists (with Python) by Gerard Gorman and Christian Jacobs: http://ggorman.github.io/Introduction-to-programming-for-geoscientists/lecture_series/\n",
    "2. Introduction to scientific programming in Python by the UCL graduate school: http://www.cs.ucl.ac.uk/scipython/index.html\n",
    "3. Programming with Python by Software Carpentry: http://swcarpentry.github.io/python-novice-inflammation/\n",
    "\n",
    "**Recommended Reading**: *Think Python*, [Chapter 1](http://greenteapress.com/thinkpython/html/thinkpython002.html) and Sections [2.2](http://greenteapress.com/thinkpython/html/thinkpython003.html#toc13), [2.3](http://greenteapress.com/thinkpython/html/thinkpython003.html#toc14), [2.4](http://greenteapress.com/thinkpython/html/thinkpython003.html#toc15), [2.5](http://greenteapress.com/thinkpython/html/thinkpython003.html#toc16), [2.7](http://greenteapress.com/thinkpython/html/thinkpython003.html#toc18), [2.9](http://greenteapress.com/thinkpython/html/thinkpython003.html#toc20), [2.10](http://greenteapress.com/thinkpython/html/thinkpython003.html#toc21)"
   ]
  },
  {
   "cell_type": "markdown",
   "metadata": {},
   "source": [
    "## Using Python as a fancy calculator\n",
    "\n",
    "At its most basic, Python is just a fancy calculator. Most of the basics work exactly as you would expect: "
   ]
  },
  {
   "cell_type": "markdown",
   "metadata": {},
   "source": [
    "| Operator | Operation | Example | Answer you would get |\n",
    "|:---------|:----------|:--------|:---------------------|\n",
    "|   +  | add| 6+2 | 8 |\n",
    "|   -  | subtract| 6-2 | 4 |\n",
    "|   *  | multiply| 6*2 | 12 |\n",
    "|   /  | divide| 6/2 | 3 |\n",
    "|   ** | power| 6**2 | 36 |\n",
    "|   e  | multiply by 10 to some power| 6e2 | 600|"
   ]
  },
  {
   "cell_type": "markdown",
   "metadata": {},
   "source": [
    "Let's start with an example.\n",
    "\n",
    "As we will learn in class (see also the textbook, page 57), the so-called *effective temperature* of a planet $T_e$ in Kelvin (in the absence of an atmosphere) can be calculated from the formula:\n",
    "$$T_e = \\left [\\dfrac{S}{4\\sigma}*(1-A) \\right ]^{0.25}$$\n",
    "\n",
    "where:\n",
    "\n",
    "* $\\sigma$ is the Stefan-Boltzmann constant, equal to $5.67\\cdot 10^{-8}$ W/m$^2$/K$^4$\n",
    "* S is the solar flux reaching the surface of the planet, in W/m$^2$\n",
    "* A is the albedo, the amount of solar energy that is reflected by the planet's surface, and is unitless.\n",
    "\n",
    "For Earth, we know that the solar flux is $S=1366$ W/m$^2$ and the average albedo is $A=0.3$.\n",
    "\n",
    "If we wanted to know the effective temperature of Earth, how would we normally calculate it? Typically, we would do this on paper by writing something like this:\n",
    "$$T_e = \\left [\\dfrac{1366}{4\\times 5.67\\cdot 10^{-8}}*(1-0.3) \\right ]^{0.25}$$\n",
    "\n",
    "Then we would use a calculator to perform each individual step. For now, we will use Python just like a calculator, by plugging in individual calculations and using the result from each step in the subsequent step.\n",
    "\n",
    "We'll do this below using the basic operations above, plus Python's <font face=\"courier\" color=green>**print**</font> function, which just tells Python to show us the answer."
   ]
  },
  {
   "cell_type": "markdown",
   "metadata": {},
   "source": [
    "<font color = blue>**Try out all of these lines by clicking anywhere in the cell and hitting the `shift` and `return` keys at the same time.**</font>"
   ]
  },
  {
   "cell_type": "code",
   "execution_count": 1,
   "metadata": {},
   "outputs": [
    {
     "name": "stdout",
     "output_type": "stream",
     "text": [
      "2.268e-07\n"
     ]
    }
   ],
   "source": [
    "print 4*5.67e-8"
   ]
  },
  {
   "cell_type": "code",
   "execution_count": null,
   "metadata": {},
   "outputs": [],
   "source": [
    "print 1366/2.268e-07"
   ]
  },
  {
   "cell_type": "code",
   "execution_count": null,
   "metadata": {},
   "outputs": [],
   "source": [
    "print 1-0.3"
   ]
  },
  {
   "cell_type": "code",
   "execution_count": null,
   "metadata": {},
   "outputs": [],
   "source": [
    "print 6022927689.59 * 0.7"
   ]
  },
  {
   "cell_type": "code",
   "execution_count": null,
   "metadata": {},
   "outputs": [],
   "source": [
    "print 4216049382.71**0.25"
   ]
  },
  {
   "cell_type": "markdown",
   "metadata": {},
   "source": [
    "So after a series of computations we have calculated $T_e = 254.8$ K. We can take advantage of using a programming environment and instead combine all these computations into one single line, just like you would on the page:"
   ]
  },
  {
   "cell_type": "code",
   "execution_count": null,
   "metadata": {},
   "outputs": [],
   "source": [
    "print ((1366/(4*5.67e-8))*(1-0.3))**0.25"
   ]
  },
  {
   "cell_type": "markdown",
   "metadata": {},
   "source": [
    "As expected, we get the same answer but in a much simpler fashion, and without having to worry about rounding errors as we proceed through the steps. You'll notice that we added a number of parentheses. This is necessary to force Python to follow the correct order of operations. The priority between operators is the same as you'd expect from mathematics. From highest (i.e. first operation) to lowest (i.e. last operation):\n",
    "\n",
    "| Order | Operator | Operation |\n",
    "|:------|:---------|:----------|\n",
    "|1|   e  | multiply by 10 to some power|\n",
    "|2|   ()  | evaluate term in bracket |\n",
    "|3|   ** | calculate power |\n",
    "|4|   *, /, %  | multiply, divide, modulo|\n",
    "|5|   +, -  | add, subtract|\n",
    "\n",
    "**It is always safest to add parentheses around every separate computation**.\n",
    "\n",
    "Let's take a closer look at the command above:\n",
    "```\n",
    "print ((1366/(4*5.67e-8))*(1-0.3))**0.25\n",
    "```\n",
    "\n",
    "This is what we would call a very simple ***program***, which is simply a sequence of instructions given to the computer."
   ]
  },
  {
   "cell_type": "markdown",
   "metadata": {},
   "source": [
    "## Communicating with Python in grammar it can understand\n",
    "\n",
    "In a way, a programming language is like any other language in that it follows a set of rules and requires a basic knowledge of those rules (grammar in language, ***syntax*** in programming) and vocabulary (***commands*** in programming).\n",
    "\n",
    "Unlike a spoken language, however, there is no wiggle room because computers are not as smart as people. They can't figure out what you mean from something that is \"close enough\". They need exactly correct use of rules and vocabulary, with no typos."
   ]
  },
  {
   "cell_type": "markdown",
   "metadata": {},
   "source": [
    "## <span style=\"color:blue\">EXERCISE 1a</span><br>\n",
    "\n",
    "<span style=\"color:blue\">To understand just how exact you need to be with Python, play with the command above. What kind of errors do you get when you:<br>\n",
    "1. Replace `**` with <font face=courier>^</font>:</span>"
   ]
  },
  {
   "cell_type": "code",
   "execution_count": null,
   "metadata": {},
   "outputs": [],
   "source": [
    "print 2^2"
   ]
  },
  {
   "cell_type": "markdown",
   "metadata": {},
   "source": [
    "<font color=blue>2. Use  **<font face=courier>write</font>** in the place of **<font face=courier>print</font>**:</font>"
   ]
  },
  {
   "cell_type": "code",
   "execution_count": null,
   "metadata": {},
   "outputs": [],
   "source": [
    "write 2**2"
   ]
  },
  {
   "cell_type": "markdown",
   "metadata": {},
   "source": [
    "<font color=blue>3. Use **<font face=courier>Print</font>** (with a capital P) in the place of **<font face=courier>print</font>**:</font>"
   ]
  },
  {
   "cell_type": "code",
   "execution_count": null,
   "metadata": {
    "collapsed": true
   },
   "outputs": [],
   "source": []
  },
  {
   "cell_type": "markdown",
   "metadata": {},
   "source": [
    "While a human might still understand these statements, they do not mean anything to the Python interpreter.\n",
    "\n",
    "Rather than throwing your hands up in the air whenever you get an error message like the above (you are going to see many during the course of these exercises!!!), train yourself to read the message patiently to get an idea what it is complaining about and re-read your code from the perspective of the Python interpreter.\n",
    "\n",
    "Error messages can look bewildering (frustrating etc.) at first, but it gets much easier with practise."
   ]
  },
  {
   "cell_type": "markdown",
   "metadata": {},
   "source": [
    "## Saving time by saving values for later\n",
    "\n",
    "A major part of programming is about saving us time. Pretty much any task that is going to be repeated can be done much faster, and with much less likelihood of error, if it is programmed. For example, imagine we want to calculate the effective temperature of other planets, besides just Earth. We could copy and paste the calculation above over and over. Or we could re-write the equation using ***variables***.\n",
    "\n",
    "From mathematics, you are already familiar with variables (e.g. $S=1366$, $A=0.3$, $\\sigma=5.67\\cdot10^{-8}$) and you already know how important they are for working out complicated problems.\n",
    "\n",
    "Similarly, you can use variables in a program to make it easier to read and understand and to make it easier to repeat."
   ]
  },
  {
   "cell_type": "code",
   "execution_count": null,
   "metadata": {},
   "outputs": [],
   "source": [
    "S = 1366\n",
    "A = 0.3\n",
    "sigma = 5.67e-8\n",
    "Te = ((S/(4*sigma))*(1-A))**0.25\n",
    "print Te"
   ]
  },
  {
   "cell_type": "markdown",
   "metadata": {},
   "source": [
    "This program spans several lines of text and uses variables, but it otherwise performs the same calculations and gives the same output as the previous program.\n",
    "\n",
    "In mathematics we usually use one letter for a variable, resorting to using the Greek alphabet and other characters for more clarity. The main reason for this is to avoid becoming exhausted from writing when working out long expressions or derivations. However, when programming you should use more descriptive names for variable names. This might not seem like an important consideration for the trivial example here but it becomes increasingly important as the program gets more complicated and if someone else has to read your code. **Good variable names make a program easier to understand!**\n",
    "\n",
    "Permitted variable names include:\n",
    "\n",
    "* One-letter symbols.\n",
    "* Words or abbreviation of words.\n",
    "* Variable names can contain a-z, A-Z, underscore (\"'_'\") and digits 0-9, **but** the name cannot start with a number and cannot include a space \" \".\n",
    "\n",
    "Variable names are case-sensitive (i.e. \"a\" is different from \"A\"). Let's rewrite the previous example using more descriptive variable names:"
   ]
  },
  {
   "cell_type": "code",
   "execution_count": null,
   "metadata": {},
   "outputs": [],
   "source": [
    "Solar_Flux = 1366\n",
    "Albedo = 0.3\n",
    "Boltzmann_Constant = 5.67e-8\n",
    "Effective_Temperature = ((Solar_Flux/(4*Boltzmann_Constant))*(1-Albedo))**0.25\n",
    "print Effective_Temperature"
   ]
  },
  {
   "cell_type": "markdown",
   "metadata": {},
   "source": [
    "## <font color=blue>EXERCISE 1b</font><br>\n",
    "\n",
    "<font color = blue>Just like we did above, we're going to see what happens when we try to break some of Python's rules. Copy the code above and see what happens if you:<br><br>\n",
    "\n",
    "1. Add a space instead of an underscore to the name for the variable representing solar flux (so it is now called <font face=courier>Solar Flux</font> instead of <font face=courier>Solar_Flux</font>):</font>"
   ]
  },
  {
   "cell_type": "code",
   "execution_count": null,
   "metadata": {},
   "outputs": [],
   "source": []
  },
  {
   "cell_type": "markdown",
   "metadata": {},
   "source": [
    "<font color = blue>2. Change the name of the variable <font face=courier>Albedo</font> to <font face=courier>albedo</font> the **second** time you use it (**but not the first time**):</font>"
   ]
  },
  {
   "cell_type": "code",
   "execution_count": null,
   "metadata": {},
   "outputs": [],
   "source": []
  },
  {
   "cell_type": "markdown",
   "metadata": {},
   "source": [
    "It is often a good idea to do these sorts of tests. It helps you understand how the rules work, and what kind of errors you get when you break them.\n",
    "\n",
    "One last note on variable names: certain words have a **special meaning** in Python and **cannot be used as variable names**. These are: *and, as, assert, break, class, continue, def, del, elif, else, except, exec, finally, for, from, global, if, import, in, is, lambda, not, or, pass, print, raise, return, try, with, while,* and *yield*."
   ]
  },
  {
   "cell_type": "markdown",
   "metadata": {},
   "source": [
    "## Getting the order right\n",
    "\n",
    "Variables must be \"defined\" (assigned a value) before they can be used, or an error will occur. This makes sense from maths. If I asked you to tell me the answer to *x* + 2, you would first need to know what *x* is before you could give me an answer. Otherwise, it could be anything!\n",
    "\n",
    "The same is true for Python. It can't tell you what *x* + 2 is, unless you first give it a value for *x*.\n",
    "\n",
    "**Python works from top to bottom**. That means that you need to **FIRST** give the variable a value and only afterwards try to use it.\n",
    "\n",
    "For example, this won't work:"
   ]
  },
  {
   "cell_type": "code",
   "execution_count": null,
   "metadata": {},
   "outputs": [],
   "source": [
    "print Albedo_Mars\n",
    "Albedo_Mars = 0.15"
   ]
  },
  {
   "cell_type": "markdown",
   "metadata": {},
   "source": [
    "But this will:"
   ]
  },
  {
   "cell_type": "code",
   "execution_count": null,
   "metadata": {
    "collapsed": true
   },
   "outputs": [],
   "source": [
    "Albedo_Venus = 0.75\n",
    "print Albedo_Venus"
   ]
  },
  {
   "cell_type": "markdown",
   "metadata": {},
   "source": [
    "## <font color=blue>EXERCISE 1c</font><br>\n",
    "\n",
    "<font color = blue>Just to bring the point home, fix the programs below so that they don't give an error message. (Use any value you want for x)</font>"
   ]
  },
  {
   "cell_type": "code",
   "execution_count": null,
   "metadata": {
    "collapsed": true
   },
   "outputs": [],
   "source": [
    "print x+2"
   ]
  },
  {
   "cell_type": "code",
   "execution_count": null,
   "metadata": {
    "collapsed": true
   },
   "outputs": [],
   "source": [
    "y=4\n",
    "\n",
    "print y+z\n",
    "\n",
    "z=2"
   ]
  },
  {
   "cell_type": "markdown",
   "metadata": {},
   "source": [
    "## Communicating with other humans\n",
    "\n",
    "Not everything written in a computer program is intended for execution. Sometimes you want to leave a note for someone else who will read your program later (for example: your marker, a group member, or yourself when you look back next week!).\n",
    "\n",
    "\n",
    "In Python anything on a line after the '#' character is ignored and is known as a ***comment***. You can write whatever you want in a comment. Comments are intended to be used to explain what a snippet of code is intended for. A given comment might explain the units of a variable, the objective of a single line, or provide a reference to the data or algorithm used.\n",
    "\n",
    "**Comments don't have to follow the rules**! Comments are written exclusively for human eyes. So go ahead and use spaces, change case, and even make typos (although your graders would probably prefer if you didn't!). Also, there are no rules about how much space you can have between Python code and comments, so you can format as you please to make your code more readable."
   ]
  },
  {
   "cell_type": "code",
   "execution_count": null,
   "metadata": {},
   "outputs": [],
   "source": [
    "# Program for computing the effective temperature of a planet\n",
    "S = 1366         # Set the solar flux at the surface of the planet, in W/m2\n",
    "A = 0.3          # Set the albedo of the planet, unitless\n",
    "sigma = 5.67e-8  # Set the Boltzmann Constant, in W/m^42/K^4\n",
    "Te = ((S/(4*sigma))*(1-A))**0.25  # Calculate the effective temperature, in K.\n",
    "print Te                          # Print the result to the screen"
   ]
  },
  {
   "cell_type": "markdown",
   "metadata": {},
   "source": [
    "As a rule, you should add as many comments as are necessary to understand your code. For example, you might modify the comments in the program above to tell the reader where to find more about the equation (page 57 of the textbook). Or you might specify that sigma is constant value but that S and A are different for different planets.\n",
    "\n",
    "If you use poor variable names (like S instead of Solar_Flux above), it is absolutely critical that you include comments that explain what they are. Ideally, you should always use good variables names **and** good comments. **You will be assessed on both of these things in EESC102.**"
   ]
  },
  {
   "cell_type": "markdown",
   "metadata": {},
   "source": [
    "## <font color=blue>EXERCISE 2</font><br>\n",
    "\n",
    "<font color=blue>We're going to put everything we have learned so far into practice with an example.<br><br>\n",
    "\n",
    "**Your goal is to write a simple program to convert a distance from one unit to another. Your program should include variables with understandable names and comments that explain every step of what you are doing.**<br><br>\n",
    "\n",
    "As scientists, we always use SI or SI-derived units. However, sometimes we might find information that we need from other sources comes in other units (for an example, try googling \"swimming pool length usa\"). At this stage, we already have all the tools needed to write a program that converts from one unit to another.<br><br>\n",
    "\n",
    "Make a program to **convert a length given in miles** to the corresponding length measured in **meters**. Use the fact that:<br>\n",
    "- 1 mile = 1760 yards<br>\n",
    "- 1 yard = 3 feet<br>\n",
    "- 1 foot = 12 inches<br>\n",
    "- 1 inch = 2.54 cm<br><br>\n",
    "\n",
    "We have started the program for you by defining the length in miles as 0.4. If your program is working properly, it should show that the equivalent distances for 0.4 miles are 704 yards, 2112 feet, 25344 inches, 64373.76 centimetres, and 643.7376 metres.<br><br>\n",
    "\n",
    "To verify that your program is accurate, also **test it for a length of 0.6 miles** (change the 0.4 to 0.6 at the start). This should give distances of 1056 yards, 3168 feet, 38016 inches, 96460.64 centimetres, and 965.6064 metres.<br><br>\n",
    "\n",
    "***Before you try to do this in Python, pull out a piece of paper and figure out what you would do if you were just using paper, pencil, and calculator. Once you have worked out the steps YOU would do it will be much easier to instruct Python to do them.***</font>"
   ]
  },
  {
   "cell_type": "code",
   "execution_count": null,
   "metadata": {},
   "outputs": [],
   "source": [
    "length_miles = 0.4                   # Set original length in miles\n"
   ]
  },
  {
   "cell_type": "markdown",
   "metadata": {},
   "source": [
    "## The perils of division in programming\n",
    "\n",
    "Let's consider a new formula - temperature conversion. Given $F$ as a temperature in degrees Fahrenheit (silly Americans), compute the corresponding temperature in degrees Celsius $C$:\n",
    "$$ C = {5\\over9}*(F - 32) $$\n",
    "We implement this here as:"
   ]
  },
  {
   "cell_type": "code",
   "execution_count": null,
   "metadata": {},
   "outputs": [],
   "source": [
    "F = 70\n",
    "C = (5/9)*(F-32)\n",
    "print C"
   ]
  },
  {
   "cell_type": "markdown",
   "metadata": {},
   "source": [
    "A quick check on your calculator will verify that the answer is actually 21.1 and not 0 as our program calculated. So what is going on here?\n",
    "\n",
    "5/9 is not 0.5556 but 0 in most computer languages!!! This is a frequent programming error so look out for it. The reason it works like this is tied to the notion of a variable ***type***. If $a$ and $b$ are integers (i.e. no decimal point) then $a/b$ implies integer division and therefore the answer is truncated. Other examples of this are: $1/5=0$, $2/5=0$, $7/5=1$, $12/5=2$.\n",
    "\n",
    "In mathematics, 5/9 is a real number (0.5556). In computing this is called ***float division*** and is the division we want in the case of our temperature conversion formula above. To force the program to correctly interpret this as a float division, one of the operands ($a$ or $b$) in $a/b$ must be a real number (\"float\"). A float in Python has a dot (or decimals): 9. or 9.0. The absence of a dot implies an integer, i.e. 9 is an integer. For example, 5.0/9 yields 0.5556, 5/9. yields 0.5556 while 5/9 yields 0.\n",
    "\n",
    "Therefore a correct implementation of the temperature conversion is:"
   ]
  },
  {
   "cell_type": "code",
   "execution_count": null,
   "metadata": {},
   "outputs": [],
   "source": [
    "F = 70\n",
    "C = (5.0/9)*(F-32)\n",
    "print C"
   ]
  },
  {
   "cell_type": "markdown",
   "metadata": {},
   "source": [
    "**It is always safest to add a decimal point (e.g. 22 becomes 22.0) before doing mathematical operations in Python or other computing languages.**"
   ]
  },
  {
   "cell_type": "markdown",
   "metadata": {},
   "source": [
    "## <font color=blue>EXERCISE 3</font><br>\n",
    "\n",
    "<font color=blue>A so-called \"blackbody\" is something that emits (and absorbs) radiation with 100% efficiency (see textbook, page 55). Wien's Law states that \"the flux of radiation emitted by a blackbody reaches its peak value at a wavelength $\\lambda_{max}$, which depends inversely on the body's absolute temperature\" (textbook, page 56). If $T$ is the temperature in Kelvin, $\\lambda_{max}$ in microns (10$^{-6}$ m) is calculated as:<br>\n",
    "$$\\lambda_{max} \\approx \\frac{2898}{T} $$<br><br>\n",
    "\n",
    "The surface temperature of the sun is about 5780 K and the surface temperature of the Earth is about 288 K.<br><br>\n",
    "\n",
    "Write a program to calculate the wavelength of maximum radiation for both the sun and the Earth. **Be careful to avoid integer division!**"
   ]
  },
  {
   "cell_type": "code",
   "execution_count": null,
   "metadata": {},
   "outputs": [],
   "source": []
  },
  {
   "cell_type": "markdown",
   "metadata": {},
   "source": [
    "## Adding words to the output\n",
    "\n",
    "To make the output of our program meaningful to someone who runs it (but doesn't read the code), we frequently want to print out text in addition to the numerical output.\n",
    "\n",
    "The first thing we need to understand here is how Python handles text. In programming speak, a fragment of text is referred to as a ***string***, which is a sequence of ***characters***. Strings must be enclosed in quotes to distinguish them from variable names. Strings don't have too many rules that need following -- you can start them with numbers, include spaces, etc. You can generally use single quotes (') or double quotes (\").\n",
    "\n",
    "For example, let's make the output of our program above clearer by telling the user the unit of the final value is Kelvin."
   ]
  },
  {
   "cell_type": "code",
   "execution_count": null,
   "metadata": {},
   "outputs": [],
   "source": [
    "# Program for computing the effective temperature of a planet\n",
    "S = 1366         # Set the solar flux at the surface of the planet, in W/m2\n",
    "A = 0.3          # Set the albedo of the planet, unitless\n",
    "sigma = 5.67e-8  # Set the Boltzmann Constant, in W/m^42/K^4\n",
    "Te = ((S/(4*sigma))*(1-A))**0.25  # Calculate the effective temperature, in K.\n",
    "print Te                          # Print the result to the screen\n",
    "print \"The effective temperature printed above is in units of Kelvin (K)\""
   ]
  },
  {
   "cell_type": "markdown",
   "metadata": {},
   "source": [
    "### Special characters"
   ]
  },
  {
   "cell_type": "markdown",
   "metadata": {},
   "source": [
    "There are a few ***special characters*** that have to be treated carefully, for example single quotes (') and double quotes (\"). See what happens if you try to print the phrase:\n",
    "\n",
    "<center>The instructor said \"Strings don't have too many rules that need following\""
   ]
  },
  {
   "cell_type": "code",
   "execution_count": null,
   "metadata": {},
   "outputs": [],
   "source": [
    "print \"The instructor said \"Strings don't have too many rules that need following\"\""
   ]
  },
  {
   "cell_type": "markdown",
   "metadata": {},
   "source": [
    "For these special characters we use a backslash (\\\\) beforehand to tell Python to use the actual character, not its special Python meaning:"
   ]
  },
  {
   "cell_type": "code",
   "execution_count": null,
   "metadata": {},
   "outputs": [],
   "source": [
    "print \"The instructor said \\\"Strings don't have too many rules that need following\\\"\""
   ]
  },
  {
   "cell_type": "markdown",
   "metadata": {},
   "source": [
    "### Saving strings in variables"
   ]
  },
  {
   "cell_type": "markdown",
   "metadata": {},
   "source": [
    "Just like numbers, strings can be assigned to variables:"
   ]
  },
  {
   "cell_type": "code",
   "execution_count": null,
   "metadata": {},
   "outputs": [],
   "source": [
    "units=\"Kelvin (K)\"\n",
    "print units"
   ]
  },
  {
   "cell_type": "markdown",
   "metadata": {},
   "source": [
    "### Combining strings"
   ]
  },
  {
   "cell_type": "markdown",
   "metadata": {},
   "source": [
    "Strings can also be added together using + to form a single longer string:"
   ]
  },
  {
   "cell_type": "code",
   "execution_count": null,
   "metadata": {},
   "outputs": [],
   "source": [
    "print \"effective temperature is in units of \"+units\n",
    "\n",
    "# or\n",
    "variable = \"effective temperature\"\n",
    "extra_text = \" is in units of \"\n",
    "print variable+extra_text+units\n",
    "\n",
    "#or even\n",
    "print_statement = variable+extra_text+units\n",
    "print print_statement"
   ]
  },
  {
   "cell_type": "markdown",
   "metadata": {},
   "source": [
    "### Combining strings with numbers\n",
    "Often we want to print out results using a combination of text and numbers, e.g. \"For a solar flux S=1366 W/m2 and an albedo A=0.3, Te is 255 K\". The simplest way to do this is to just combine text and numbers with commas between each value:"
   ]
  },
  {
   "cell_type": "code",
   "execution_count": null,
   "metadata": {},
   "outputs": [],
   "source": [
    "print \"For a solar flux S=\",S,\" W/m2 and an albedo A=\",A,\", Te is \",Te,\" K\""
   ]
  },
  {
   "cell_type": "markdown",
   "metadata": {},
   "source": [
    "A better (sometimes referred to as \"pythonic\") way to do this is to use a ***format*** statement. We won't require this in EESC102, but if you'd like to use it, you'll find instructions at the end of this practical, <font color=purple>**in purple**</font>."
   ]
  },
  {
   "cell_type": "markdown",
   "metadata": {},
   "source": [
    "## <font color=blue>EXERCISE 4</font><br>\n",
    "\n",
    "<font color=blue>Copy your solution from Exercise 3 here, and modify it so that at the end it prints out not just the final answer but also which body (sun or Earth) and what the units are.</font>"
   ]
  },
  {
   "cell_type": "code",
   "execution_count": null,
   "metadata": {
    "collapsed": true
   },
   "outputs": [],
   "source": []
  },
  {
   "cell_type": "markdown",
   "metadata": {},
   "source": [
    "## Understanding errors\n",
    "\n",
    "Making -- and figuring out how to correct -- errors is what you will spend most of your programming time doing! Making mistakes is completely normal, and doesn't mean you aren't good at programming. What is important is learning how to understand and fix those errors.\n",
    "\n",
    "When you make an error, Python will print an error message. These are helpful if you can interpret them. There are three basic types of errors.\n",
    "\n",
    "### Syntax errors\n",
    "Syntax errors occur when your code does not follow the grammar rules that python understands. For example:"
   ]
  },
  {
   "cell_type": "code",
   "execution_count": null,
   "metadata": {},
   "outputs": [],
   "source": [
    "n = 20 - 3*8)/4"
   ]
  },
  {
   "cell_type": "markdown",
   "metadata": {},
   "source": [
    "- The first line of the error message tells you where the error occurred. Here, our program only has one line so this is not particularly helpful -- but it may be helpful in future when you write longer programs.\n",
    "- The second and third lines of the error message point to the exact part of the code where the mistake is (look for the \"^\"). In this case, we have a closing bracket \")\" but it is not paired with a opening bracket \"(\". You can also see that Python nicely highlighted this for us in red in the code cell itself.\n",
    "- Finally, the last line of the error message tells us what type of error this was -- a syntax error."
   ]
  },
  {
   "cell_type": "markdown",
   "metadata": {},
   "source": [
    "### Runtime errors\n",
    "Runtime errors occur when your code uses the correct syntax, but you are trying to do something that is impossible. For example:"
   ]
  },
  {
   "cell_type": "code",
   "execution_count": null,
   "metadata": {},
   "outputs": [],
   "source": [
    "denominator = 0\n",
    "print 1.0 / denominator"
   ]
  },
  {
   "cell_type": "markdown",
   "metadata": {},
   "source": [
    "This time, we've tried to divide by zero, which is impossible. Again, Python does its best to point us to the error (this time it can only show us which line went wrong) and tell us as many details as possible about the problem (\"float division by zero\")."
   ]
  },
  {
   "cell_type": "markdown",
   "metadata": {},
   "source": [
    "### Logic errors\n",
    "Logic errors are the trickiest. These occur when you have written code that Python understands, but your code doesn't actually do what you want it to! Unfortunately, these don't give you an error message because Python only does what you tell it to do -- it doesn't know what you want.\n",
    "\n",
    "For example, imagine you wanted to divide a class into 4 groups, and you wanted to know how many students to put in each group based on the class size. If you have 21 students in the class, the program below will tell you that you should have 5.25 students in each group. But you can't split the extra student into 4! So you would need to write a more clever program to do this properly."
   ]
  },
  {
   "cell_type": "code",
   "execution_count": null,
   "metadata": {},
   "outputs": [],
   "source": [
    "class_size = 21\n",
    "students_per_group = class_size/4.\n",
    "print students_per_group"
   ]
  },
  {
   "cell_type": "markdown",
   "metadata": {},
   "source": [
    "## <font color=blue>EXERCISE 5a</font><br>\n",
    "<font color=blue>Given a quadratic equation, $ax^2 + bx + c = 0,$\n",
    "\n",
    "we can find solutions for the values of x:<br><br>\n",
    "\n",
    "$$x1 = \\frac{−b+\\sqrt{b^2 −4ac}}{2a},$$ and\n",
    "$$x2 = \\frac{−b−\\sqrt{b^2 −4ac}}{2a}.$$<br><br>\n",
    "\n",
    "Why does the following program not work correctly?<br><br>\n",
    "\n",
    "Identify the errors **AND** use comments to create a version of the program that does run correctly.<br><br>\n",
    "\n",
    "Use a calculator to verify that your program provides the correct solution (for example: http://www.mathwarehouse.com/quadratic/quadratic-formula-calculator.php).</font>"
   ]
  },
  {
   "cell_type": "code",
   "execution_count": null,
   "metadata": {},
   "outputs": [],
   "source": [
    "# Original Program\n",
    "a = 1; b = 2; c = -2\n",
    "q = b**2 - 4ac)**0.5\n",
    "x1 = -b + q/2*a\n",
    "x2 = -b - q/2*a\n",
    "Print x1, x2"
   ]
  },
  {
   "cell_type": "code",
   "execution_count": null,
   "metadata": {
    "collapsed": true
   },
   "outputs": [],
   "source": [
    "# Fixed Program"
   ]
  },
  {
   "cell_type": "markdown",
   "metadata": {},
   "source": [
    "## <font color=blue>EXERCISE 5b</font><br>\n",
    "<font color=blue>Now try to use your new and improved program with<br>\n",
    "a = 2<br>\n",
    "b = 1<br>\n",
    "c = 2<br><br>\n",
    "\n",
    "Why do you get an error? What does that error mean?</font>"
   ]
  },
  {
   "cell_type": "code",
   "execution_count": null,
   "metadata": {
    "collapsed": true
   },
   "outputs": [],
   "source": []
  },
  {
   "cell_type": "markdown",
   "metadata": {},
   "source": [
    "## <font color=blue>EXERCISE 6: BRINGING IT ALL TOGETHER</font><br>\n",
    "\n",
    "<font color=blue>This final exercise is designed to give you a chance to practice everything you have learned so far today - and also get you into the practice of thinking about what your answers **mean**.<br><br>\n",
    "\n",
    "### EXERCISE 6a<br><br>\n",
    "\n",
    "Remember from the start of the practical (or the lectures, or the textbook) that the temperature a planet would have without an atmosphere is called the *effective temperature* of a planet ($T_e$, in Kelvin) and can be calculated from the formula:\n",
    "$$T_e = \\left [\\dfrac{S}{4\\sigma}*(1-A) \\right ]^{0.25}$$\n",
    "\n",
    "where:\n",
    "\n",
    "* $\\sigma$ is the Stefan-Boltzmann constant, equal to $5.67\\cdot 10^{-8}$ W/m$^2$/K$^4$\n",
    "* S is the solar flux reaching the surface of the planet, in W/m$^2$\n",
    "* A is the albedo, the amount of solar energy that is reflected by the planet's surface, and is unitless.\n",
    "\n",
    "Using the parameters in the table below, write a program that:\n",
    "1. Calculates the effective temperature at Venus, Earth, and Mars\n",
    "2. Prints the name of each planet and the corresponding effective temperature (including the unit)\n",
    "\n",
    "| Planet | Solar Flux (W/m$^2$) | Albedo |\n",
    "|:-------|:---------------------|:-------|\n",
    "| Venus | 2643 | 0.8 |\n",
    "| Earth | 1366 | 0.3 |\n",
    "| Mars | 593 | 0.2 |\n",
    "<br><br>\n",
    "\n",
    "***Do not delete the <font face=courier>%reset</font> in the cell below*** (this makes sure your program isn't just \"remembering\" something you did before). Each time you run you will see the message <font face=courier>Once deleted, variables cannot be recovered. Proceed (y/[n])?</font> - ***make sure to answer y.***"
   ]
  },
  {
   "cell_type": "code",
   "execution_count": null,
   "metadata": {
    "collapsed": true
   },
   "outputs": [],
   "source": [
    "%reset\n",
    "\n",
    "# Program for computing the effective temperature of a planet\n"
   ]
  },
  {
   "cell_type": "markdown",
   "metadata": {},
   "source": [
    "### <font color=blue>EXERCISE 6b</font><br>\n",
    "\n",
    "<font color=blue>The actual surface temperatures are\n",
    "- Venus: 730 K\n",
    "- Earth: 288 K\n",
    "- Mars: 218 K<br><br>\n",
    "\n",
    "Which planet shows the smallest difference between the effective temperature (without an atmosphere) and the actual temperature (with an atmosphere)? Which shows the biggest difference? What can you infer about the atmospheres of these three planets based on these differences?"
   ]
  },
  {
   "cell_type": "code",
   "execution_count": null,
   "metadata": {
    "collapsed": true
   },
   "outputs": [],
   "source": [
    "# Type your answer here, as comments\n",
    "# Use as many lines as you need to make it readable\n",
    "#\n",
    "#\n",
    "#\n",
    "#\n",
    "#\n",
    "#"
   ]
  },
  {
   "cell_type": "markdown",
   "metadata": {},
   "source": [
    "## <font color=purple>Want to know more? Using the format statement to print numbers</font><br>\n",
    "\n",
    "<font color=purple>Occasionally, these notebooks will include some fun **extras in purple.** You are welcome to ignore these if you run out of time! However, if you are burning through the material, finishing earlier than your classmates, enjoying the programming and want to know more then look out for these. Here's the first one.<br><br>\n",
    "\n",
    "As we noted above, a better way to combine text and numbers is to use a ***format*** statement. In it's most basic form, the format statement works as shown here:</font>"
   ]
  },
  {
   "cell_type": "code",
   "execution_count": null,
   "metadata": {},
   "outputs": [],
   "source": [
    "print \"For a solar flux S={} W/m2 and an albedo A={}, Te is {} K\".format(S, A, Te)"
   ]
  },
  {
   "cell_type": "markdown",
   "metadata": {},
   "source": [
    "<font color=purple>The beauty of writing it this way, is that sometimes we  want to choose how many decimal places to show in our answer. In the example above, we don't need to know that Te is 254.81584058. In fact, when we print numbers that we have calculated from input variables, we should **never** quote numbers to a higher accuracy than they were measured.<br><br>\n",
    "\n",
    "To format our print statements more carefully, we add ***format codes*** inside those {} brackets.<br><br>\n",
    "\n",
    "In our example, S and A have defaulted to show their exact values, so we don't need to worry about them. But Te is showing too many values past the decimal point. To fix this, we will use the format code \"f\" which means \"floating point number\" (i.e. for our purposes, this basically means any number with a decimal point). We can specify how many values we want after the decimal point as shown below: </font>"
   ]
  },
  {
   "cell_type": "code",
   "execution_count": null,
   "metadata": {},
   "outputs": [],
   "source": [
    "print \"For a solar flux S={} W/m2 and an albedo A={}, Te is {:.1f} K\".format(S, A, Te)"
   ]
  },
  {
   "cell_type": "markdown",
   "metadata": {},
   "source": [
    "<font color=purple>In our example above, we used \":.1f\" to specify that we wanted ONE number after the decimal point. We can change that 1 to any number we want. Go ahead and play around with that in the cell below.</font>"
   ]
  },
  {
   "cell_type": "code",
   "execution_count": null,
   "metadata": {},
   "outputs": [],
   "source": [
    "print \"For a solar flux S={} W/m2 and an albedo A={}, Te is {:.6f} K\".format(S, A, Te)"
   ]
  },
  {
   "cell_type": "markdown",
   "metadata": {},
   "source": [
    "<font color=purple>What if we want NO values after the decimal place? The best way to do that is just to specify \".0f\":</font>"
   ]
  },
  {
   "cell_type": "code",
   "execution_count": null,
   "metadata": {},
   "outputs": [],
   "source": [
    "print \"For a solar flux S={} W/m2 and an albedo A={}, Te is {:.0f} K\".format(S, A, Te)"
   ]
  },
  {
   "cell_type": "markdown",
   "metadata": {},
   "source": [
    "<font color=purple>You'll see that Python rounded properly from 254.8 to 255. It is possible to use a special format code for integers (numbers with no decimal values), but rather than round your number it will simply cut it off before the decimal place (in the example above, that would give us 254 instead of 255), so \".0f\" is the safer option.<br><br>\n",
    "\n",
    "The other type of format specifier you might want is exponential notation. To use exponential notation, we replace the \"f\" with \"e\":</font>"
   ]
  },
  {
   "cell_type": "code",
   "execution_count": null,
   "metadata": {},
   "outputs": [],
   "source": [
    "print \"The Stefan-Boltzmann constant is {:e}\".format(sigma)"
   ]
  },
  {
   "cell_type": "markdown",
   "metadata": {},
   "source": [
    "<font color=purple>As for floating point numbers, we can specify the number of values after the decimal point:</font>"
   ]
  },
  {
   "cell_type": "code",
   "execution_count": null,
   "metadata": {},
   "outputs": [],
   "source": [
    "print \"The Stefan-Boltzmann constant is {:.2e}\".format(sigma)"
   ]
  },
  {
   "cell_type": "markdown",
   "metadata": {},
   "source": [
    "## <font color=purple>EXERCISE 7 (extra)</font><br>\n",
    "<font color=purple>We can measure the solar flux at Earth. But what if we want to know the solar flux at another planet? We can find the solar flux S anywhere else in the solar system using the inverse-square law (see textbook, page 54), expressed as:<br>\n",
    "$$S = S_0*\\left (\\frac{r_0}{r}\\right ) ^2$$\n",
    "\n",
    "where $S_0$ is the known solar flux at a known reference distance from the sun $r_0$ (here, the distance of Earth) and $r$ is the distance from the sun where we would like to calculate the solar flux (in the same units as $r_0$. The distance from the Earth to the Sun is 1.00 AU (AU is an \"astronomical unit\" defined as 149600000 km), and the solar flux at Earth is 1366 W/m$^2$.<br><br>\n",
    "\n",
    "Write a program that computes the solar flux at a specified planet. Your program should:<br>\n",
    "1. Define $S_0$, $r_0$ and $r$ as variables, and include a comment with the corresponding unit.<br>\n",
    "2. Print the calculated solar flux, with one decimal place.<br>\n",
    "3. Calculate the distance to the planet in km and print using exponential notation with three decimal places.<br><br>\n",
    "\n",
    "Use the program to calculate the solar flux at:<br> \n",
    "- Mars (distance from Mars to the Sun is 1.52 AU)<br>\n",
    "- Venus (distance from Venus to the Sun is 0.72 AU).<br><br>\n",
    "\n",
    "Make sure you use the formatting statements introduced above.</font>"
   ]
  },
  {
   "cell_type": "code",
   "execution_count": null,
   "metadata": {},
   "outputs": [],
   "source": []
  }
 ],
 "metadata": {
  "anaconda-cloud": {},
  "kernelspec": {
   "display_name": "Python 2",
   "language": "python",
   "name": "python2"
  },
  "language_info": {
   "codemirror_mode": {
    "name": "ipython",
    "version": 2
   },
   "file_extension": ".py",
   "mimetype": "text/x-python",
   "name": "python",
   "nbconvert_exporter": "python",
   "pygments_lexer": "ipython2",
   "version": "2.7.13"
  }
 },
 "nbformat": 4,
 "nbformat_minor": 1
}
