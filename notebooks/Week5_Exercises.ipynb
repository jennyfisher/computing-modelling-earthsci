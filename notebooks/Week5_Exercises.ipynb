{
 "cells": [
  {
   "cell_type": "markdown",
   "metadata": {},
   "source": [
    "# Introduction to Programming in Python: Logic"
   ]
  },
  {
   "cell_type": "markdown",
   "metadata": {},
   "source": [
    "# <font color=red>MAKE SURE TO EXECUTE THIS CELL BEFORE YOU START YOUR WORK!"
   ]
  },
  {
   "cell_type": "code",
   "execution_count": null,
   "metadata": {
    "collapsed": true
   },
   "outputs": [],
   "source": [
    "import numpy"
   ]
  },
  {
   "cell_type": "markdown",
   "metadata": {},
   "source": [
    "## <font color=blue>EXERCISE 1a</font><br>\n",
    "\n",
    "<font color=blue>As usual, let's see what kind of errors we get when we make a mistake in the syntax. Try out each of the examples below without changing anything so you see the error message, then fix the error.</font>"
   ]
  },
  {
   "cell_type": "markdown",
   "metadata": {},
   "source": [
    "<font color = blue>**i. Original**:</font>"
   ]
  },
  {
   "cell_type": "code",
   "execution_count": null,
   "metadata": {
    "collapsed": true
   },
   "outputs": [],
   "source": [
    "C = 41\n",
    "X = C+3\n",
    "print( X )\n",
    "print( 'Is X less than or equal to C?', X =< C )"
   ]
  },
  {
   "cell_type": "markdown",
   "metadata": {},
   "source": [
    "<font color=blue>**i. Fixed**:</font>"
   ]
  },
  {
   "cell_type": "code",
   "execution_count": null,
   "metadata": {
    "collapsed": true,
    "scrolled": true
   },
   "outputs": [],
   "source": []
  },
  {
   "cell_type": "markdown",
   "metadata": {},
   "source": [
    "<font color = blue>**ii. Original**:</font>"
   ]
  },
  {
   "cell_type": "code",
   "execution_count": null,
   "metadata": {
    "collapsed": true
   },
   "outputs": [],
   "source": [
    "print( 'Is X equal to C?', X = C )"
   ]
  },
  {
   "cell_type": "markdown",
   "metadata": {},
   "source": [
    "<font color=blue>**ii. Fixed**:</font>"
   ]
  },
  {
   "cell_type": "code",
   "execution_count": null,
   "metadata": {
    "collapsed": true,
    "scrolled": true
   },
   "outputs": [],
   "source": []
  },
  {
   "cell_type": "markdown",
   "metadata": {},
   "source": [
    "## <font color=blue>EXERCISE 1b</font><br>\n",
    "<font color=blue>Add a comment to the code below to explain the outcome of each of the boolean expressions:</font>"
   ]
  },
  {
   "cell_type": "code",
   "execution_count": null,
   "metadata": {
    "collapsed": true
   },
   "outputs": [],
   "source": [
    "C = 41\n",
    "\n",
    "print( 'Case 1: ', C == 40 )\n",
    "# This is (True/False) because...\n",
    "\n",
    "print( 'Case 2: ', C != 40 and C < 41 )\n",
    "# This is (True/False) because...\n",
    "\n",
    "print( 'Case 3: ', C != 40 or C < 41 )\n",
    "# This is (True/False) because...\n",
    "\n",
    "print( 'Case 4: ', C <= 41 )\n",
    "# This is (True/False) because..."
   ]
  },
  {
   "cell_type": "markdown",
   "metadata": {},
   "source": [
    "## <font color=blue>EXERCISE 2a</font><br>\n",
    "\n",
    "<font color=blue>What kind of errors do you get if you mess up the syntax of an ```if``` statement? Try out each of the examples below without changing anything so you see the error message, then fix the error. Also add a comment explaining what the error was.</font>"
   ]
  },
  {
   "cell_type": "markdown",
   "metadata": {},
   "source": [
    "<font color = blue>**i. Original**:</font>"
   ]
  },
  {
   "cell_type": "code",
   "execution_count": null,
   "metadata": {
    "collapsed": true
   },
   "outputs": [],
   "source": [
    "Temp = 40.0\n",
    "\n",
    "if Temp > 35.0:\n",
    "print( 'It\\'s hot!' )"
   ]
  },
  {
   "cell_type": "markdown",
   "metadata": {},
   "source": [
    "<font color=blue>**i. Fixed**:</font>"
   ]
  },
  {
   "cell_type": "code",
   "execution_count": null,
   "metadata": {
    "collapsed": true,
    "scrolled": true
   },
   "outputs": [],
   "source": []
  },
  {
   "cell_type": "markdown",
   "metadata": {},
   "source": [
    "<font color = blue>**ii. Original**:</font>"
   ]
  },
  {
   "cell_type": "code",
   "execution_count": null,
   "metadata": {
    "collapsed": true
   },
   "outputs": [],
   "source": [
    "Temp = 40.0\n",
    "\n",
    "if Temp > 35.0\n",
    "    print( 'It\\'s hot!' )"
   ]
  },
  {
   "cell_type": "markdown",
   "metadata": {},
   "source": [
    "<font color=blue>**ii. Fixed**:</font>"
   ]
  },
  {
   "cell_type": "code",
   "execution_count": null,
   "metadata": {
    "collapsed": true,
    "scrolled": true
   },
   "outputs": [],
   "source": []
  },
  {
   "cell_type": "markdown",
   "metadata": {},
   "source": [
    "<font color = blue>**iii. Original**:</font>"
   ]
  },
  {
   "cell_type": "code",
   "execution_count": null,
   "metadata": {
    "collapsed": true
   },
   "outputs": [],
   "source": [
    "Temp = 40.0\n",
    "\n",
    "Temp > 35.0:\n",
    "    print( 'It\\'s hot!' )"
   ]
  },
  {
   "cell_type": "markdown",
   "metadata": {},
   "source": [
    "<font color=blue>**iii. Fixed**:</font>"
   ]
  },
  {
   "cell_type": "code",
   "execution_count": null,
   "metadata": {
    "collapsed": true,
    "scrolled": true
   },
   "outputs": [],
   "source": []
  },
  {
   "cell_type": "markdown",
   "metadata": {},
   "source": [
    "<font color = blue>**iv. Original**:</font>"
   ]
  },
  {
   "cell_type": "code",
   "execution_count": null,
   "metadata": {
    "collapsed": true
   },
   "outputs": [],
   "source": [
    "Temp = 40.0\n",
    "\n",
    "if Temp > 35.0:"
   ]
  },
  {
   "cell_type": "markdown",
   "metadata": {},
   "source": [
    "<font color=blue>**iv. Fixed**:</font>"
   ]
  },
  {
   "cell_type": "code",
   "execution_count": null,
   "metadata": {
    "collapsed": true,
    "scrolled": true
   },
   "outputs": [],
   "source": []
  },
  {
   "cell_type": "markdown",
   "metadata": {},
   "source": [
    "## <font color=blue>EXERCISE 2b</font>\n",
    "\n",
    "<font color=blue>Last week, you wrote a program that calculated the effective temperatures that Venus, Earth, and Mars would have in the absence of an atmosphere, and compared those to their actual temperatures. The difference between the two is the greenhouse effect: **515K for Venus, 33K for Earth, and 4K for Mars**.<br> \n",
    "\n",
    "Using the numbers above, finish the code below to answer the following question for Venus and then for Mars:<br>\n",
    "`Does this planet have a stronger greenhouse effect than Earth?`<br><br>\n",
    "\n",
    "Steps:<br>\n",
    "1. Define variables for the greenhouse effect on each planet. (You can use a single numpy array, or three separate variables.)<br>\n",
    "2. Use **`if`** and **`else`** to test whether the greenhouse effect on Venus is stronger than the greenhouse effect on Earth. If it is, print `Yes`. If not, print `No`.<br>\n",
    "3. Repeat step 2 for Mars.<br>\n",
    "\n",
    "If your program is working properly, you should see the following output when you run your program.<br><br></font>\n",
    "`Does Venus have a stronger greenhouse effect than Earth?\n",
    "Yes!\n",
    "Does Mars have a stronger greenhouse effect than Earth?\n",
    "No!`"
   ]
  },
  {
   "cell_type": "code",
   "execution_count": null,
   "metadata": {
    "collapsed": true
   },
   "outputs": [],
   "source": [
    "# Define variables (or a numpy array) for the greenhouse effects\n",
    "\n",
    "\n",
    "\n",
    "# Print a question to the screen for Venus\n",
    "print( 'Does Venus have a stronger greenhouse effect than Earth?' )\n",
    "\n",
    "# Add an if & else statement here for Venus\n",
    "\n",
    "\n",
    "\n",
    "\n",
    "# Print a question to the screen for Mars\n",
    "print( 'Does Mars have a stronger greenhouse effect than Earth?'     )\n",
    "    \n",
    "# Add an if & else statement here for Mars\n",
    "\n",
    "\n",
    "\n"
   ]
  },
  {
   "cell_type": "markdown",
   "metadata": {},
   "source": [
    "## <font color=blue>EXERCISE 3a</font><br>\n",
    "\n",
    "<font color=blue>Use `if`, `elif`, and `else` to write a program that tells you the best way to travel based on the distance from your destination. If you are travelling **less than 3 km** you should walk, if you are travelling **more than 500 km** you should fly, and **in between** you should take a bus, train, or car.<br><br>\n",
    "\n",
    "Test that your program works when the distance is 1.5 (walk), 253 (bus, train, or car), and 900 km (fly). **Note that you should have ONE if/elif/else block that works with all distances.** To test this just, change the value of *distance* at the top and re-run.<br><br>\n",
    "\n",
    "**Hint:** There are at least two different ways to solve this problem!</font>"
   ]
  },
  {
   "cell_type": "code",
   "execution_count": null,
   "metadata": {
    "collapsed": true
   },
   "outputs": [],
   "source": [
    "# Current distance in km\n",
    "distance = 1.5   # also test with 253, 900\n",
    "print( 'When distance=',distance )\n",
    "\n",
    "# Add your if-elif-else block here\n"
   ]
  },
  {
   "cell_type": "markdown",
   "metadata": {},
   "source": [
    "## <font color=blue>EXERCISE 3b</font><br>\n",
    "\n",
    "<font color=blue>Start from your solution to 3a and adapt it so that instead of printing something inside your ```if``` statement, you define a new variable called **```transport_method```** that gets set to one of the following strings:<br>\n",
    "-```'fly'```<br>\n",
    "-```'drive/bus/train'```<br>\n",
    "-```'walk'```<br><br>\n",
    "\n",
    "**After** you conclude your ```if/elif/else``` statement, print the value of ```transport_method``` to make sure it works properly for all the different cases.\n",
    "</font>"
   ]
  },
  {
   "cell_type": "code",
   "execution_count": null,
   "metadata": {
    "collapsed": true
   },
   "outputs": [],
   "source": [
    "# Current distance in km\n",
    "distance = 1.5   # also test with 253, 900\n",
    "\n",
    "# Add your if-elif-else block here\n",
    "\n",
    "    \n",
    "print( 'When distance=',distance,': ',transport_method )"
   ]
  },
  {
   "cell_type": "markdown",
   "metadata": {},
   "source": [
    "## <font color=blue>EXERCISE 4: BRINGING IT ALL TOGETHER</font>\n",
    "\n",
    "<font color=blue>This final exercise is designed to give you a chance to practice everything you have learned so far today (and in the last few weeks). Make sure to spend time thinking about what your answers **mean**.\n",
    "\n",
    "This week, we will continue developing an understanding of Daisyworld (look back to the Week 3-4 practicals and/or the textbook if you don't remember!). Last week, we made three separate plots that showed us how the fraction of the planet covered by daisies changes as temperature increases in three different regimes.<br><br>\n",
    "\n",
    "Recall from last week that the growth rate of the population of flowers (in units of *fraction of the planet covered by flowers / year*) as a function of the temperature T (in units of Kelvin) is defined as:<br>\n",
    "0 when `T < 282 K` <br>\n",
    "$1-0.005 \\times (295.5-T)^2$ when `282K <= T < 310K` <br>\n",
    "0 when `T >= 310 K` <br><br>\n",
    "\n",
    "This week, we are going to combine them by using `if`/`elif`/`else` statements WITHIN a `for` loop.<br><br>\n",
    "\n",
    "By the end of last week's lab, you should have created some code that looks something like this:</font>"
   ]
  },
  {
   "cell_type": "raw",
   "metadata": {},
   "source": [
    "# Program to start determining the coverage of daisies as a function of Temperature.\n",
    "\n",
    "# Define the arrays for temperature range in K.\n",
    "T1 = numpy.arange(265,282,1)\n",
    "T2 = numpy.arange(282,310,1)\n",
    "T3 = numpy.arange(310,316,1)\n",
    "\n",
    "# Use the temperature aray to define an array full of zeros for the growth rate\n",
    "growth_rate1 = numpy.zeros(len(T1))\n",
    "growth_rate2 = numpy.zeros(len(T2))\n",
    "growth_rate3 = numpy.zeros(len(T3))\n",
    "\n",
    "# Use three for loops to loop over all of the temperature values\n",
    "\n",
    "# temperature range 1\n",
    "for i in range(0,len(T1),1):\n",
    "    growth_rate1[i] = 0\n",
    "\n",
    "# temperature range 2\n",
    "for i in range(0,len(T2),1):\n",
    "    growth_rate2[i] = 1-0.005*(295.5-T2[i])**2\n",
    "    \n",
    "# temperature range 3\n",
    "for i in range(0,len(T3),1):\n",
    "    growth_rate3[i] = 0"
   ]
  },
  {
   "cell_type": "markdown",
   "metadata": {},
   "source": [
    "### <font color=blue>EXERCISE 4a</font><br>\n",
    "<font color=blue>Starting from the example code above, rewrite it so that there is just **one** temperature array, **one** growth rate array, and **one** `for` loop.<br><br>\n",
    "\n",
    "To do so, you will need to include an `if`/`elif`/`else` statement. The `if`/`elif`/`else` statement should check which of the above conditions is appropriate for the current temperature (is it less than or equal to 281, between 281 and 310, greater than or equal to 310?) and then set the growth rate accordingly.<br><br>\n",
    "\n",
    "**After** the loop, print the full growth rate array to check its values. They should all be between 0 and 1. <br><br>\n",
    "\n",
    "***Do not delete the <font face=courier>%reset</font> in the cell below*** (this makes sure your program isn't just \"remembering\" something you did before).</font>"
   ]
  },
  {
   "cell_type": "code",
   "execution_count": null,
   "metadata": {
    "collapsed": true
   },
   "outputs": [],
   "source": [
    "%reset -s -f\n",
    "import numpy\n",
    "import matplotlib.pyplot as pyplot\n",
    "%matplotlib inline\n",
    "\n",
    "# Start here\n",
    "\n"
   ]
  },
  {
   "cell_type": "markdown",
   "metadata": {},
   "source": [
    "### <font color=blue>EXERCISE 4b</font><br>\n",
    "\n",
    "<font color=blue>Plot the growth rate (y-axis) as a function of temperature in Kelvin (x-axis).</font>"
   ]
  },
  {
   "cell_type": "code",
   "execution_count": null,
   "metadata": {
    "collapsed": true
   },
   "outputs": [],
   "source": []
  },
  {
   "cell_type": "markdown",
   "metadata": {},
   "source": [
    "### <font color=blue>EXERCISE 4c</font><br>\n",
    "\n",
    "<font color=blue>The flowers die at a constant rate of 0.3 (fraction/year) that does not depend on temperature. The **net** growth rate is the difference between the growth rate and the death rate (e.g. growth rate - death rate). <br><br>\n",
    "\n",
    "Make a new plot that shows the **net** growth rate as a function of temperature.<br><br>\n",
    "\n",
    "**Note**: the net growth can be negative! This just means flowers are dying faster than they are growing.</font>"
   ]
  },
  {
   "cell_type": "code",
   "execution_count": null,
   "metadata": {
    "collapsed": true
   },
   "outputs": [],
   "source": []
  },
  {
   "cell_type": "markdown",
   "metadata": {},
   "source": [
    "### <font color=blue>EXERCISE 4d</font><br>\n",
    "\n",
    "<font color=blue>Think about the behaviour you see in the plot above and answer the following questions as comments in the next box:<br>\n",
    "1. Imagine the temperature is relatively cold but still within the daisy growth range (say, 283K = 10°C). Is the overall daisy population (i.e. the fraction of the planet covered by flowers) increasing, decreasing, or neither? Why?<br>\n",
    "2. If the temperature suddenly jumped to 20°C (293K), would the overall population size increase or decrease? Why?<br>\n",
    "3. If the temperature increased again to 35°C (308K), would the overall population size increase or decrease? Why?<br>\n",
    "4. Referring to the plot above, explain how an increase in temperature can have different impacts on the daisy population depending on the temperature the planet starts out with.</font>"
   ]
  },
  {
   "cell_type": "code",
   "execution_count": null,
   "metadata": {
    "collapsed": true
   },
   "outputs": [],
   "source": [
    "# Q1\n",
    "#---\n",
    "#\n",
    "#\n",
    "#\n",
    "\n",
    "# Q2\n",
    "#---\n",
    "#\n",
    "#\n",
    "#\n",
    "\n",
    "# Q3\n",
    "#---\n",
    "#\n",
    "#\n",
    "#\n",
    "\n",
    "# Q4\n",
    "#---\n",
    "#\n",
    "#\n",
    "#"
   ]
  }
 ],
 "metadata": {
  "anaconda-cloud": {},
  "kernelspec": {
   "display_name": "Python 3",
   "language": "python",
   "name": "python3"
  },
  "language_info": {
   "codemirror_mode": {
    "name": "ipython",
    "version": 3
   },
   "file_extension": ".py",
   "mimetype": "text/x-python",
   "name": "python",
   "nbconvert_exporter": "python",
   "pygments_lexer": "ipython3",
   "version": "3.5.4"
  }
 },
 "nbformat": 4,
 "nbformat_minor": 1
}
