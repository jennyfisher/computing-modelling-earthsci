{
 "cells": [
  {
   "cell_type": "markdown",
   "metadata": {},
   "source": [
    "# Daisyworld\n",
    "\n",
    "As in the previous practical, many of the details and parameters from this lab come from the STELLA version at: http://www3.geosc.psu.edu/~dmb53/DaveSTELLA/Daisyworld/daisyworld_model.htm"
   ]
  },
  {
   "cell_type": "markdown",
   "metadata": {},
   "source": [
    "# <font color=red>MAKE SURE TO EXECUTE THIS CELL BEFORE YOU START YOUR WORK!"
   ]
  },
  {
   "cell_type": "code",
   "execution_count": null,
   "metadata": {
    "collapsed": true
   },
   "outputs": [],
   "source": [
    "import numpy\n",
    "import matplotlib.pyplot as pyplot\n",
    "%matplotlib inline"
   ]
  },
  {
   "cell_type": "markdown",
   "metadata": {},
   "source": [
    "## <font color=blue>EXERCISE 1</font><br>\n",
    "\n",
    "<font color=blue>Copy the function `Daisyworld_Temp` here and modify it so that it has **two** input arguments:<br>\n",
    "1. the fraction of the planet covered by flowers (`frac_flower`)<br>\n",
    "2. the albedo of the flowers (`albedo_flower`)<br><br>\n",
    "\n",
    "Your function should still return just one output,`Te`.<br><br>\n",
    "\n",
    "To test that it is working, **call** (use) the function and print the temperature when `frac_flower=0.5` and:<br>\n",
    "a. the albedo of the flowers is 0.75.<br>\n",
    "b. the albedo of the flowers is 0.9.<br><br>\n",
    "\n",
    "**Hint:** if your function is working correctly, (a) should give you a temperature of 288.6 K and (b) should give you a temperature of 274.9 K.</font>"
   ]
  },
  {
   "cell_type": "code",
   "execution_count": null,
   "metadata": {
    "collapsed": true
   },
   "outputs": [],
   "source": [
    "# Define the function here\n"
   ]
  },
  {
   "cell_type": "code",
   "execution_count": null,
   "metadata": {
    "collapsed": true
   },
   "outputs": [],
   "source": [
    "# Call your function here\n",
    "\n"
   ]
  },
  {
   "cell_type": "markdown",
   "metadata": {},
   "source": [
    "## <font color=blue>EXERCISE 2</font><br>\n",
    "\n",
    "<font color=blue>Copy the function `Daisyworld_Growth` here. Test that it is working by calling (using) the function and printing the growth rate when:<br>\n",
    "a. the temperature is 288.6 K.<br>\n",
    "b. the temperature is 274.9 K.<br><br>\n",
    "\n",
    "Yes, this is as easy as it sounds!</font>"
   ]
  },
  {
   "cell_type": "code",
   "execution_count": null,
   "metadata": {
    "collapsed": true
   },
   "outputs": [],
   "source": [
    "# Define the function here\n"
   ]
  },
  {
   "cell_type": "code",
   "execution_count": null,
   "metadata": {
    "collapsed": true
   },
   "outputs": [],
   "source": [
    "# Call your function here\n"
   ]
  },
  {
   "cell_type": "markdown",
   "metadata": {},
   "source": [
    "## <font color=blue>EXERCISE 3a</font><br>\n",
    "\n",
    "<font color=blue>The cell below provides a shell for the Daisyworld model. Some important lines of code are missing. \n",
    "Fill in all the missing code.\n",
    "\n",
    "**For the initial conditions**:\n",
    "1. Assume that at the start, 50% of the planet is covered by flowers (i.e., the fraction is 0.5)\n",
    "2. What is the temperature of the planet at the start? (**Hint**: you can use your function from Exercise 1 to calculate `Te[0]` once you know `frac_flower[0]`. Make sure you when you use the function you include `albedo_flower`, which is one of your input arguments to Daisyworld!)\n",
    "\n",
    "**For the `for` loop**:\n",
    "1. the death rate of daisies is 0.3\n",
    "2. the **change** in daisies at any point is daisy \"births\" (i.e. new growth) - daisy \"deaths\"\n",
    "3. daisy \"births\" will be (the current growth rate) $\\times$ (the fraction of the planet previously covered by flowers) $\\times$ (1 - the fraction of the planet previously covered by flowers)\n",
    "4. daisy \"deaths\" will be (the death rate) $\\times$ (the fraction of the planet previously covered by flowers)\n",
    "\n",
    "In other words:<br>\n",
    "```births = growth_rate * frac_flower that existed one \"moment\" ago * (1 - frac_flower that existed one \"moment\" ago)```<br><br>\n",
    "```deaths = death_rate * frac_flower that existed one \"moment\" ago```<br><br>\n",
    "```frac_flower right now = frac_flower that existed one \"moment\" ago + births - deaths```<br>\n",
    "\n",
    "**Hint**: How do we represent \"right now\" in a loop? How do we represent \"one moment ago\"?"
   ]
  },
  {
   "cell_type": "code",
   "execution_count": null,
   "metadata": {
    "collapsed": true
   },
   "outputs": [],
   "source": [
    "def Daisyworld(Total_Time,albedo_flower = 0.75):\n",
    "    \n",
    "    # Constant: daisy death rate\n",
    "    death_rate = 0.3\n",
    "\n",
    "    # Set up a time array that starts at 0 and ends at Total_Time, specified as a function argument.\n",
    "    time = numpy.arange(0,Total_Time,1)\n",
    "\n",
    "    # Define arrays full of zeros to store the output variables\n",
    "    # fractional coverage of daisies\n",
    "    frac_flower = numpy.zeros(len(time))\n",
    "    \n",
    "    # surface temperature\n",
    "    Te = numpy.zeros(len(time))           \n",
    "    \n",
    "    # Set the initial condition for flowers\n",
    "    frac_flower[0] = #??? - FILL IN THIS LINE\n",
    "    \n",
    "    # Set the initial condition for temperature\n",
    "    # Calculate the original temperature based on the original flower coverage\n",
    "    Te[0] = #??? - FILL IN THIS LINE\n",
    "\n",
    "    # Loop over time steps - each time calculate growth rate, temperature, and flower cover\n",
    "    for i in range(1,len(time)):\n",
    "        \n",
    "        # Calculate the growth rate at the PREVIOUS temperature\n",
    "        growth_rate = #??? FILL IN THIS LINE\n",
    "        \n",
    "        # Calculate births = growth_rate * frac_flower that existed one \"moment\" ago * (1 - frac_flower that existed one \"moment\" ago)\n",
    "        births = #??? FILL IN THIS LINE\n",
    "\n",
    "        # Calculate deaths = death_rate * frac_flower that existed one \"moment\" ago\n",
    "        deaths = #??? FILL IN THIS LINE\n",
    "                \n",
    "        # Calculate frac_flower right now = frac_flower that existed one \"moment\" ago + births - deaths\n",
    "        frac_flower[i] = #??? FILL IN THIS LINE\n",
    "    \n",
    "        # Calculate the new temperature based on the new flower fraction\n",
    "        Te[i] = #??? FILL IN THIS LINE\n",
    "            \n",
    "    return time,frac_flower,Te"
   ]
  },
  {
   "cell_type": "markdown",
   "metadata": {},
   "source": [
    "## <font color=blue>EXERCISE 3b</font><br>\n",
    "\n",
    "<font color=blue> For the bathtub model, we used a \"time step\" of 1 second and a total run time of 60 seconds. Here, we want to run for a long time (this is a planet after all!). We will do this by breaking the total time down into shorter segments that each represent 10 million years (instead of each representing 1 second). In other words, we will assume each 1 incremement in our time array above (or each time around the loop) represents 10 million years.<br><br>\n",
    "\n",
    "Run your Daisyworld model with `Total_Time = 200` (remember, each time around the loop is 10 million years, so this is equivalent to a simulation of 2 billion years). ***Don't try to run your calculation 2 billion times!!!***<br><br>\n",
    "\n",
    "Make two plots:<br>\n",
    "1. daisy coverage (y-axis) vs. time (x-axis)<br>\n",
    "2. surface temperature (y-axis) vs. time (x-axis).</font><br><br>\n",
    "\n",
    "<font color=purple>**Extra**: For the second graph, instead of plotting surface temperature in Kelvin plot it in degrees C. You won't need to change the function at all, just the plotting variable.</font>"
   ]
  },
  {
   "cell_type": "code",
   "execution_count": null,
   "metadata": {
    "collapsed": true
   },
   "outputs": [],
   "source": [
    "# Run the model and plot the results\n"
   ]
  },
  {
   "cell_type": "markdown",
   "metadata": {},
   "source": [
    "## <font color=blue>EXERCISE 3c</font><br>\n",
    "\n",
    "<font color=blue>To get a better idea what's going on, make the same plots as in 2b, but use **`xlim`** to zoom in and only show the first 20 timesteps (=200 million years).</font>"
   ]
  },
  {
   "cell_type": "code",
   "execution_count": null,
   "metadata": {
    "collapsed": true
   },
   "outputs": [],
   "source": [
    "# Plot the results\n"
   ]
  },
  {
   "cell_type": "markdown",
   "metadata": {},
   "source": [
    "## <font color=blue>EXERCISE 3d</font><br>\n",
    "\n",
    "<font color=blue>Using your plots answer the following questions:<br>\n",
    "1. What are the approximate values of the daisy fraction and temperature at steady state?<br>\n",
    "2. Roughly how long does it take Daisyworld to reach a steady state? </font>"
   ]
  },
  {
   "cell_type": "code",
   "execution_count": null,
   "metadata": {
    "collapsed": true
   },
   "outputs": [],
   "source": [
    "# Answer the questions here\n",
    "\n",
    "# Q1\n",
    "#---\n",
    "# \n",
    "# \n",
    "\n",
    "# Q2\n",
    "#---\n",
    "# \n",
    "# "
   ]
  },
  {
   "cell_type": "markdown",
   "metadata": {},
   "source": [
    "## <font color=blue>EXERCISE 4a</font><br>\n",
    "\n",
    "<font color=blue>Remember that in Exercise 1, you made `albedo_flower` an **argument** to your function. In your Daisyworld model, you used the function from Exercise 1 to calculate `Te` at every time step.<br><br>\n",
    "\n",
    "In the Daisyworld model, `albedo_flower` was also an **argument**, with a default value of 0.75. This means we can change the value and see how Daisyworld responds.<br><br>\n",
    "\n",
    "Use your model from 3a to perform a **sensitivity analysis** using the following values for `albedo_flower`:<br>\n",
    "- 0.75 (our reference case, same as in Exercise 3)<br>\n",
    "- 0.82 (slightly brighter daisies)<br>\n",
    "- 0.95 (very bright white daisies)<br>\n",
    "- 0.4 (daisies that have the same albedo as the soil)<br><br>\n",
    "\n",
    "Make the same plots as in Exercise 3b, but show all three albedo values on the same plot. [**Hint**: use a **<font face=courier>for</font>** loop to loop over albedo values and call **<font face=courier>pyplot.plot</font>** within your **<font face=courier>for</font>** loop. Look at the end of the Bathtub prac if you don't remember how to do this.]<br><br>\n",
    "\n",
    "**Note**: You **do not** need to redefine **any** of your functions here at all. Just call the `Daisyworld` function with different input values and plot the results.\n",
    "</font>"
   ]
  },
  {
   "cell_type": "code",
   "execution_count": null,
   "metadata": {
    "collapsed": true
   },
   "outputs": [],
   "source": [
    "# Perform a sensitivity analysis and plot the results\n"
   ]
  },
  {
   "cell_type": "markdown",
   "metadata": {},
   "source": [
    "## <font color=blue>EXERCISE 4b</font><br>\n",
    "\n",
    "<font color=blue> Using comments in the cell below, describe the behaviour you see, thinking about how changing the flower albedo causes other changes in the system:<br>\n",
    "1. Does changing the flower albedo affect the time it takes to reach steady state?<br>\n",
    "2. Does it affect the value of temperature at steady state? What about daisy cover?<br>\n",
    "3. Is there evidence for positive or negative feedback? Explain.<br>\n",
    "4. When do you see Daisyworld turn into a \"dead\" planet, and why?</font>"
   ]
  },
  {
   "cell_type": "code",
   "execution_count": null,
   "metadata": {
    "collapsed": true
   },
   "outputs": [],
   "source": [
    "# Answer the questions here\n",
    "\n",
    "# Q1\n",
    "#---\n",
    "# \n",
    "# \n",
    "\n",
    "# Q2\n",
    "#---\n",
    "# \n",
    "# \n",
    "\n",
    "# Q3\n",
    "#---\n",
    "# \n",
    "# \n",
    "\n",
    "# Q4\n",
    "#---\n",
    "# \n",
    "# "
   ]
  },
  {
   "cell_type": "markdown",
   "metadata": {},
   "source": [
    "## <font color=purple>EXERCISE 5a (extra)</font><br>\n",
    "\n",
    "<font color=purple>The purpose of this final exercise is to see how temperature and daisy coverage evolve with this external forcing, and to understand what role the daisies play in modulating the climate (i.e., the temperature) of Daisyworld.\n",
    "\n",
    "First, adapt your function from Exercise 1 so that the solar flux varies with time, using the equation we defined in the main notebook. You will need to make time an input to the function."
   ]
  },
  {
   "cell_type": "code",
   "execution_count": null,
   "metadata": {
    "collapsed": true
   },
   "outputs": [],
   "source": [
    "# Define the function here\n"
   ]
  },
  {
   "cell_type": "markdown",
   "metadata": {},
   "source": [
    "## <font color=purple>EXERCISE 5b</font><br>\n",
    "\n",
    "<font color=purple>To understand the impact of the daisies, we need to compare the behaviour we see on Daisyworld to the behaviour we would see if Daisyworld were a \"dead\" planet -- in other words if there were no daisies at all. A simple way to simulate a dead planet with our model is to set the initial daisy coverage to 0 (remember that the daisy growth rate requires there to already be some daisies present to produce seeds, etc.). Modify your model so that the initial daisy coverage is an argument."
   ]
  },
  {
   "cell_type": "code",
   "execution_count": null,
   "metadata": {
    "collapsed": true
   },
   "outputs": [],
   "source": [
    "# Define the function here\n"
   ]
  },
  {
   "cell_type": "markdown",
   "metadata": {},
   "source": [
    "### <font color=purple>EXERCISE 5c</font><br>\n",
    "\n",
    "<font color=purple>Run the updated model with and without daisies (use the default value of 0.75 for `albedo_flower`). Plot the evolution of temperature and daisy cover with time.</font>"
   ]
  },
  {
   "cell_type": "code",
   "execution_count": null,
   "metadata": {
    "collapsed": true
   },
   "outputs": [],
   "source": [
    "# Call the function here and plot the results\n"
   ]
  },
  {
   "cell_type": "markdown",
   "metadata": {},
   "source": [
    "## <font color=purple>EXERCISE 5d</font><br>\n",
    "\n",
    "<font color=purple>\n",
    "1. How do temperature and daisies change with time on Daisyworld when daisies are present?<br>\n",
    "2 How does the changing solar flux change the results we saw earlier?<br>\n",
    "3. How do daisies change the temperature of the planet?</font>"
   ]
  },
  {
   "cell_type": "code",
   "execution_count": null,
   "metadata": {
    "collapsed": true
   },
   "outputs": [],
   "source": [
    "# Answer the questions here\n",
    "\n",
    "# Q1\n",
    "#---\n",
    "# \n",
    "# \n",
    "\n",
    "# Q2\n",
    "#---\n",
    "# \n",
    "# \n",
    "\n",
    "# Q3\n",
    "#---\n",
    "# \n",
    "# \n"
   ]
  }
 ],
 "metadata": {
  "anaconda-cloud": {},
  "kernelspec": {
   "display_name": "Python 3",
   "language": "python",
   "name": "python3"
  },
  "language_info": {
   "codemirror_mode": {
    "name": "ipython",
    "version": 3
   },
   "file_extension": ".py",
   "mimetype": "text/x-python",
   "name": "python",
   "nbconvert_exporter": "python",
   "pygments_lexer": "ipython3",
   "version": "3.5.4"
  }
 },
 "nbformat": 4,
 "nbformat_minor": 1
}
