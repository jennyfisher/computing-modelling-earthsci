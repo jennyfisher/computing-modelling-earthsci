{
 "cells": [
  {
   "cell_type": "markdown",
   "metadata": {},
   "source": [
    "# The Bathtub"
   ]
  },
  {
   "cell_type": "markdown",
   "metadata": {},
   "source": [
    "With this practical, we start our foray into modelling.\n",
    "\n",
    "The Bathtub model is one of the simplest, most intuitive models that exist. It is often used as a friendly intro to the concepts behind modelling.\n",
    "\n",
    "Much of this exercise is based on the example designed by Dave Bice for modelling using the STELLA software. His site is available here: \n",
    "http://www3.geosc.psu.edu/~dmb53/DaveSTELLA/modeling/ch2contents.html\n",
    "\n",
    "That site is full of excellent information about the whys and hows of modelling, and you are welcome (and encouraged) to peruse it.\n",
    "\n",
    "*Note: the site is built for modelling with STELLA, a software package that is more expensive, less intuitive, and much less versatile than python. If you ignore the details of the models being built, you can learn a lot from the general information provided.*"
   ]
  },
  {
   "cell_type": "markdown",
   "metadata": {},
   "source": [
    "# <font color=red>MAKE SURE TO EXECUTE THIS CELL BEFORE YOU START YOUR WORK!"
   ]
  },
  {
   "cell_type": "code",
   "execution_count": null,
   "metadata": {
    "collapsed": true
   },
   "outputs": [],
   "source": [
    "import numpy\n",
    "import matplotlib.pyplot as pyplot\n",
    "%matplotlib inline"
   ]
  },
  {
   "cell_type": "markdown",
   "metadata": {},
   "source": [
    "### <font color=blue>EXERCISE 1a</font><br>\n",
    "\n",
    "<font color=blue>Start from \"version 1\" of The Bathtub Model in the main notebook. Copy it here, and refine the function `bathtub_model()` so that you can easily change the total time of the experiment each time you call the function **without** having to modify the function itself.<br><br>\n",
    "\n",
    "In other words, make *total_time* an ***argument*** (input) of the function.<br><br>\n",
    "\n",
    "**Hint**: Make sure you remove the line inside the function that defines *total_time*, otherwise you will reset its value each time you go around the loop!</font>"
   ]
  },
  {
   "cell_type": "code",
   "execution_count": null,
   "metadata": {
    "collapsed": true
   },
   "outputs": [],
   "source": []
  },
  {
   "cell_type": "markdown",
   "metadata": {},
   "source": [
    "### <font color=blue>EXERCISE 1b</font><br>\n",
    "\n",
    "<font color=blue>Call your refined function with different values for `total_time` to determine how many seconds it would take to *remove* 2 litres of water from the bathtub (remember, your bathtub starts with 10 litres). Trial and error is fine for this, round to the nearest second.<br><br>\n",
    "\n",
    "**Hint**: If you change *total_time* but the water volume doesn't change you'll know something has gone wrong.</font>"
   ]
  },
  {
   "cell_type": "code",
   "execution_count": null,
   "metadata": {
    "collapsed": true
   },
   "outputs": [],
   "source": [
    "# Call the function with different values of total_time.\n",
    "\n"
   ]
  },
  {
   "cell_type": "code",
   "execution_count": null,
   "metadata": {
    "collapsed": true
   },
   "outputs": [],
   "source": [
    "# Answer the question here: how many seconds does it take\n",
    "# to remove 2 litres of water?\n",
    "#\n"
   ]
  },
  {
   "cell_type": "markdown",
   "metadata": {},
   "source": [
    "### <font color=blue>EXERCISE 1c</font><br>\n",
    "\n",
    "<font color=blue>With the current parameters, can the bathtub ever get empty? If so, when does that happen (rounded to the nearest second)? If not, what is the smallest amount of water left (rounded to the nearest 0.1 litre)? Explain.<br><br>\n",
    "\n",
    "**Hint**: You do NOT need to re-define the function. Just re-run it with different values. Again, trial and error is fine.</font>"
   ]
  },
  {
   "cell_type": "code",
   "execution_count": null,
   "metadata": {
    "collapsed": true,
    "scrolled": true
   },
   "outputs": [],
   "source": [
    "# Call the function with different values of total_time.\n",
    "\n"
   ]
  },
  {
   "cell_type": "code",
   "execution_count": null,
   "metadata": {
    "collapsed": true
   },
   "outputs": [],
   "source": [
    "# Answer the question here\n",
    "#\n"
   ]
  },
  {
   "cell_type": "markdown",
   "metadata": {},
   "source": [
    "### <font color=blue>EXERCISE 2a</font><br>\n",
    "\n",
    "<font color=blue>Start from \"version 2\" of The Bathtub Model in the main notebook. Copy it here, and refine the function `bathtub_model()` so that it includes *Flow_In* as an argument (input). If you like, you may also give it a default value. Remember to remove its definition in the program itself, or you will end up overwriting it!</font>"
   ]
  },
  {
   "cell_type": "code",
   "execution_count": null,
   "metadata": {
    "collapsed": true
   },
   "outputs": [],
   "source": [
    "\n"
   ]
  },
  {
   "cell_type": "markdown",
   "metadata": {},
   "source": [
    "### <font color=blue>EXERCISE 2b</font><br>\n",
    "\n",
    "<font color=blue>Use the updated model (e.g., call the function) with *Flow_In* is 0.1 L/s, and plot the resulting volume of water (*All_Water*) as a function of time (*All_Time*).<br><br>\n",
    "\n",
    "Make sure your plot has axes labels (including units) and a title. Show the individual points as well as a line connecting them, in **any color except blue**. (Check previous weeks' practicals if you need tips on plotting.)</font> "
   ]
  },
  {
   "cell_type": "code",
   "execution_count": null,
   "metadata": {
    "collapsed": true
   },
   "outputs": [],
   "source": [
    "# Call the function here (with Flow_In = 0.1 L/S)\n"
   ]
  },
  {
   "cell_type": "code",
   "execution_count": null,
   "metadata": {
    "collapsed": true
   },
   "outputs": [],
   "source": [
    "# Plot the output here\n"
   ]
  },
  {
   "cell_type": "markdown",
   "metadata": {},
   "source": [
    "### <font color=blue>EXERCISE 2c</font><br>\n",
    "\n",
    "<font color=blue>Right now, the system is losing water. Can you find a value for *Flow_In* that would cause the water to increase? Repeat your answer for 2b until you find a value for *Flow_In* that causes the water to **increase** from its initial value of 10 L.</font>"
   ]
  },
  {
   "cell_type": "code",
   "execution_count": null,
   "metadata": {
    "collapsed": true
   },
   "outputs": [],
   "source": [
    "# Run the model here - try out different values of Flow_In\n",
    "# and plot the output\n"
   ]
  },
  {
   "cell_type": "markdown",
   "metadata": {},
   "source": [
    "## <font color=blue>EXERCISE 3: BRINGING IT ALL TOGETHER</font><br>\n",
    "\n",
    "<font color=blue>This final exercise is designed to give you a chance to practice everything you have learned so far today (and in the last few weeks). Make sure to spend time thinking about what your answers **mean**.\n",
    "\n",
    "### EXERCISE 3a<br>\n",
    "Start from \"version 3\" of The Bathtub Model in the main notebook. Copy it here, and refine the function `bathtub_model()` so that the initial volume (`Initial_Water`) and the inflow rate (`Flow_In`) are **both** keyword arguments (inputs). Give them each a default value (10.0 for `Initial_Water` and 0.5 for `Flow_In`).\n",
    "\n",
    "***Do not delete the <font face=courier>%reset</font> in the cell below*** (this makes sure your program isn't just \"remembering\" something you did before)."
   ]
  },
  {
   "cell_type": "code",
   "execution_count": null,
   "metadata": {
    "collapsed": true
   },
   "outputs": [],
   "source": [
    "%reset -s -f\n",
    "import numpy\n",
    "import matplotlib.pyplot as pyplot\n",
    "%matplotlib inline\n",
    "\n"
   ]
  },
  {
   "cell_type": "markdown",
   "metadata": {},
   "source": [
    "### <font color=blue>EXERCISE 3b\n",
    "\n",
    "<font color=blue>Use your updated function to make a **single** plot showing a sensitivity analysis for the inflow rate. Test 5 values for `Flow_In`, and make sure you can find values that show behaviour on either side of steady state (e.g., in our example in the workbook, values &gt;5.0 L led to a decrease in water volume, while values &lt;5.0 L led to an increase in water volume).\n",
    "\n",
    "**Note**: When you perform the sensitivity analysis, keep all other parameters constant at their default value so that you can evaluate the change. In this case, you should keep `Initial_Water` fixed at 10.0 L."
   ]
  },
  {
   "cell_type": "code",
   "execution_count": null,
   "metadata": {
    "collapsed": true
   },
   "outputs": [],
   "source": [
    "\n"
   ]
  },
  {
   "cell_type": "markdown",
   "metadata": {},
   "source": [
    "### <font color=blue>EXERCISE 3c\n",
    "\n",
    "<font color=blue>Use the plot you created in Exercise 3b to explain what is happening in the bathtub in these different scenarios. Answer the following questions:<br>\n",
    "1. What happens to the water volume when the inflow rate is very large? Why?<br>\n",
    "2. What happens to the water volume when the inflow rate is very small? Why?<br>\n",
    "3. At what in-flow rate does the bathtub change from **losing** water to **gaining** water? Why? Can you relate that to any other parameters in the system?<br>\n",
    "4. What does it mean for the bathtub to be at steady state?"
   ]
  },
  {
   "cell_type": "code",
   "execution_count": null,
   "metadata": {
    "collapsed": true
   },
   "outputs": [],
   "source": [
    "# Answer the questions here\n",
    "\n",
    "# Q1\n",
    "#---\n",
    "# \n",
    "# \n",
    "\n",
    "# Q2\n",
    "#---\n",
    "# \n",
    "# \n",
    "\n",
    "# Q3\n",
    "#---\n",
    "# \n",
    "# \n",
    "\n",
    "# Q4\n",
    "#---\n",
    "# \n",
    "# "
   ]
  },
  {
   "cell_type": "markdown",
   "metadata": {},
   "source": [
    "### <font color=blue>EXERCISE 3d\n",
    "\n",
    "<font color=blue>Repeat the **same** sensitivity analysis you did in Exercise 3b, but this time use a different value for `Initial_Water`.\n",
    "\n",
    "**Note**: Your sensitivity test is still for the inflow rate, so you should still be showing **5 different values for `Flow_In`** and **1 value for `Initial_Water`** - just make sure that value is not 10.0!<br><br>\n",
    "\n",
    "When you change the initial volume, does the system respond the same way to the different inflow rates? Why or why not?"
   ]
  },
  {
   "cell_type": "code",
   "execution_count": null,
   "metadata": {
    "collapsed": true,
    "scrolled": true
   },
   "outputs": [],
   "source": [
    "\n"
   ]
  },
  {
   "cell_type": "code",
   "execution_count": null,
   "metadata": {
    "collapsed": true
   },
   "outputs": [],
   "source": [
    "# Answer the questions here\n"
   ]
  },
  {
   "cell_type": "markdown",
   "metadata": {},
   "source": [
    "### <font color=purple>EXERCISE 4a (extra)</font><br>\n",
    "\n",
    "<font color=purple>So far, we have been updating the water volume every second. Would we get a different answer if we updated every 2 seconds? Every 10 seconds? Every 0.2 seconds?<br><br>\n",
    "\n",
    "Test each of these options, using the default parameters from the original scenario (`Initial_Water` = 10.0L, `Flow_In` = 0.5 L/s). Plot them all on the same graph.<br><br>\n",
    "\n",
    "**Hint**: you should make `elapsed_time` an argument to `bathtub_model()`, and you will need to use it when you define your time array!</font>"
   ]
  },
  {
   "cell_type": "code",
   "execution_count": null,
   "metadata": {
    "collapsed": true
   },
   "outputs": [],
   "source": []
  },
  {
   "cell_type": "code",
   "execution_count": null,
   "metadata": {
    "collapsed": true
   },
   "outputs": [],
   "source": [
    "# Test different values for elapsed_time\n"
   ]
  },
  {
   "cell_type": "markdown",
   "metadata": {},
   "source": [
    "### <font color=purple>EXERCISE 4b (extra)</font><br>\n",
    "\n",
    "<font color=purple>Comment on the behaviour that you see. Using your graph (or better yet, a zoomed in version where behaviour is changing most), what would you say is an ***optimal*** value for `elapsed_time`? (By \"optimal\" we mean the largest value that is accurate. The larger the value, the faster the calculation).</font>"
   ]
  },
  {
   "cell_type": "code",
   "execution_count": null,
   "metadata": {
    "collapsed": true
   },
   "outputs": [],
   "source": []
  }
 ],
 "metadata": {
  "anaconda-cloud": {},
  "kernelspec": {
   "display_name": "Python 3",
   "language": "python",
   "name": "python3"
  },
  "language_info": {
   "codemirror_mode": {
    "name": "ipython",
    "version": 3
   },
   "file_extension": ".py",
   "mimetype": "text/x-python",
   "name": "python",
   "nbconvert_exporter": "python",
   "pygments_lexer": "ipython3",
   "version": "3.5.4"
  }
 },
 "nbformat": 4,
 "nbformat_minor": 1
}
