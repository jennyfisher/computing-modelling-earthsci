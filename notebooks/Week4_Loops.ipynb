{
 "cells": [
  {
   "cell_type": "markdown",
   "metadata": {},
   "source": [
    "# Introduction to Programming in Python: Loops\n",
    "\n",
    "This practical will build on the previous two to continue to introduce you to the basic ideas behind programming and how to use Python in simple ways. It is based on an almagamation of course and examples, including the following (which you are welcome to explore on your own!):\n",
    "1. Introduction to programming for Geoscientists (with Python) by Gerard Gorman and Christian Jacobs: http://ggorman.github.io/Introduction-to-programming-for-geoscientists/lecture_series/\n",
    "2. Introduction to scientific programming in Python by the UCL graduate school: http://www.cs.ucl.ac.uk/scipython/index.html\n",
    "3. Programming with Python by Software Carpentry: http://swcarpentry.github.io/python-novice-inflammation/\n",
    "4. CS For All: Introduction to Computer Science and Python Programming by HarveyMuddX at edX: https://www.edx.org/course/cs-all-introduction-computer-science-harveymuddx-cs005x-0\n",
    "\n",
    "**Recommended Reading**: *Scipy Lecture Notes*, Section[1.2.3.2](http://www.scipy-lectures.org/intro/language/control_flow.html#for-range)"
   ]
  },
  {
   "cell_type": "markdown",
   "metadata": {},
   "source": [
    "## Doing things over and over... and over... and over... (for loops)"
   ]
  },
  {
   "cell_type": "markdown",
   "metadata": {},
   "source": [
    "Much of the power of programming comes from preventing us having to do repetitive tasks that are boring and prone to human error. \n",
    "\n",
    "To make it clear what we are doing here, we are going to start with some very simple (boring) examples before we move on to something more interesting.\n",
    "\n",
    "Last time we wrote a program that used the known solar flux and albedo values at Venus, Earth, and Mars to calculate the effective temperatures:"
   ]
  },
  {
   "cell_type": "code",
   "execution_count": null,
   "metadata": {},
   "outputs": [],
   "source": [
    "# Program for computing the effective temperature of a planet\n",
    "import numpy\n",
    "\n",
    "# Set the Boltzmann Constant, in W/m^2/K^4\n",
    "sigma = 5.67e-8\n",
    "\n",
    "# Array of Venus, Earth, Mars albedos, unitless\n",
    "A_planets = numpy.array([0.8, 0.3, 0.2])\n",
    "\n",
    "# Array of Venus, Earth, Mars solar fluxes, in W/m2\n",
    "S_planets = numpy.array([2643.0, 1366.0, 593.0])\n",
    "\n",
    "# Perform the calculation for each planet, Te in K\n",
    "Te_planets = ((S_planets/(4*sigma))*(1-A_planets))**0.25\n",
    "\n",
    "# Print the output\n",
    "print( \"The effective temperature at differents planets, in order of Venus then Earth then Mars: \",Te_planets,\" (K)\" )"
   ]
  },
  {
   "cell_type": "code",
   "execution_count": null,
   "metadata": {},
   "outputs": [],
   "source": [
    "print(Te_planets[0])\n",
    "\n",
    "Te_planets[0]=3000\n",
    "\n",
    "print(Te_planets[0])\n",
    "\n",
    "print(Te_planets)"
   ]
  },
  {
   "cell_type": "code",
   "execution_count": null,
   "metadata": {},
   "outputs": [],
   "source": [
    "x=2\n",
    "print(x)\n",
    "x=5\n",
    "print(x)"
   ]
  },
  {
   "cell_type": "markdown",
   "metadata": {},
   "source": [
    "Suppose that instead of printing out all the values in one line, we wanted to print out a table with the albedo, solar flux, and effective temperature of each planet, like this:"
   ]
  },
  {
   "cell_type": "raw",
   "metadata": {},
   "source": [
    "Albedo  Solar_Flux_W/m2  Effective_Temperature_K\n",
    "0.8     2643.0           219.72072691\n",
    "0.3     1366.0           254.81584055\n",
    "0.2     593.0            213.85795398"
   ]
  },
  {
   "cell_type": "markdown",
   "metadata": {},
   "source": [
    "How do we write a program that prints out such a table? We know from last week how to index our arrays, so we could start with index=0 to make the first line in the table:"
   ]
  },
  {
   "cell_type": "code",
   "execution_count": null,
   "metadata": {},
   "outputs": [],
   "source": [
    "# print the title text first\n",
    "print( 'Albedo  Solar_Flux_W/m2  Effective_Temperature_K' )\n",
    "\n",
    "# I added some spaces between the numbers to make things line up\n",
    "print( A_planets[0], '   ',S_planets[0], '         ',Te_planets[0] )"
   ]
  },
  {
   "cell_type": "markdown",
   "metadata": {},
   "source": [
    "We can just repeat the last line multiple times, changing the index value each time:"
   ]
  },
  {
   "cell_type": "code",
   "execution_count": null,
   "metadata": {},
   "outputs": [],
   "source": [
    "# print the title text first\n",
    "print( 'Albedo  Solar_Flux_W/m2  Effective_Temperature_K' )\n",
    "\n",
    "# I added some spaces between the numbers to make things line up\n",
    "print( A_planets[0], '   ',S_planets[0], '         ',Te_planets[0] )\n",
    "print( A_planets[1], '   ',S_planets[1], '         ',Te_planets[1] )\n",
    "print( A_planets[2], '   ',S_planets[2], '         ',Te_planets[2] )"
   ]
  },
  {
   "cell_type": "markdown",
   "metadata": {},
   "source": [
    "So we can see that it works, but it's **very boring** to write and very easy to introduce a misprint. Can you imagine if you wanted to do this with 100 planets??\n",
    "\n",
    "**You really should not be doing boring repetitive tasks like this.** Spend some time instead looking for a smarter solution. When programming becomes boring, Python usually has a way to automate what you are doing. Computers are very good at performing repetitive tasks. For this purpose we use **<font face=\"courier\" color=green>for</font>** loops."
   ]
  },
  {
   "cell_type": "markdown",
   "metadata": {
    "collapsed": true
   },
   "source": [
    "### for loops\n",
    "\n",
    "**<font face=\"courier\" color=green>for</font>** loops allow us to repeat an action a given number of times.\n",
    "\n",
    "The syntax of a **<font face=\"courier\" color=green>for</font>** loop is:\n",
    "```\n",
    "for [variable] in [values]:\n",
    "    [do action]\n",
    "```\n",
    "\n",
    "Try not to overthink this too much - there is a specific syntax (grammar) to how we write `for` loops. We will repeat it lots of times, and you'll eventually get used to it! There are many ways to write and use **<font face=\"courier\" color=green>for</font>** loops in Python. For now we will focus on one simple form that we will use over and over in EESC102:"
   ]
  },
  {
   "cell_type": "code",
   "execution_count": null,
   "metadata": {},
   "outputs": [],
   "source": [
    "for i in range(0,10,1):\n",
    "    print( i )"
   ]
  },
  {
   "cell_type": "markdown",
   "metadata": {},
   "source": [
    "What is this loop doing? Let's break it down bit by bit. Here, <font face=\"courier\">i</font> is a variable that gets a new value each time we repeat the loop. The values that <font face=\"courier\">i</font> takes are specified in this loop by <font face=\"courier\" color=green>range(0,10,1)</font>. So the first thing we need to understand is the <font face=\"courier\" color=green>range()</font> function.\n",
    "\n",
    "<font face=\"courier\" color=green>range()</font> works just like ```numpy.arange``` from last time:\n",
    "```\n",
    "range(start,stop,step)\n",
    "```\n",
    "\n",
    "**<font color=blue>If you don't remember what `start`, `stop`, and `step` do, take a look back at last week's prac. Don't forget that `stop` means up to but *not including* the `stop` value!</font>**"
   ]
  },
  {
   "cell_type": "markdown",
   "metadata": {},
   "source": [
    "Now that we understand the range function, we can go back to looking at our simple **<font face=\"courier\" color=green>for</font>** loop example:"
   ]
  },
  {
   "cell_type": "code",
   "execution_count": null,
   "metadata": {},
   "outputs": [],
   "source": [
    "for i in range(0,10,1):\n",
    "    print( i )"
   ]
  },
  {
   "cell_type": "markdown",
   "metadata": {},
   "source": [
    "As we said above, `i` is a variable that gets a new value each time we repeat the loop. The values that `i` takes are specified by `range(0,10,1)`, or as we've seen above: 0, 1, 2, 3, 4, 5, 6, 7, 8, and 9.\n",
    "\n",
    "In other words, the first time through the loop, `i` takes the first value, 0, and uses this to execute the action (in this case, `print( i )`). Then the loop repeats, now giving `i` the second value, 1. This continues until we get through all of the values specified by range. Once that happens we exit the loop.<br><br>\n",
    "\n",
    "<font color=purple>**Want to know more?**<br>\n",
    "*Remember: text in purple is just some fun optional extras. If you love this stuff, read on! If you feel like this is already a LOT to take in, just skip anything in purple.*<br><br>\n",
    "\n",
    "Note that your variable doesn't have to be called ```i```. You can call it anything you want (```x```, ```t```, ```ted```, ```betsy```, ...). Try changing in one of the cells above if you want to test this out. Just make sure to change it everywhere - if you change it in the `for` line but not in the `print` line you might get some unexpected behaviour! (Any guesses why?)</font>"
   ]
  },
  {
   "cell_type": "markdown",
   "metadata": {},
   "source": [
    "## <font color=blue>Complete Exercise 1 now</font>"
   ]
  },
  {
   "cell_type": "markdown",
   "metadata": {},
   "source": [
    "In the previous example we just printed `i`. But we could also use `i` to do some form of computation. For example:"
   ]
  },
  {
   "cell_type": "code",
   "execution_count": null,
   "metadata": {},
   "outputs": [],
   "source": [
    "for i in range(0,10,1):\n",
    "    three_times_i = i*3\n",
    "    print( 'i = ',i,' and three_times_i = ',three_times_i )\n",
    "print('This line is not indented, so it only happens AFTER the loop finishes!')"
   ]
  },
  {
   "cell_type": "markdown",
   "metadata": {},
   "source": [
    "In this example, the first line is telling us the same thing as before. We will **start** the loop by setting `i` to equal `0`. With `i=0`, we will perform the **action** -- whatever we see on the indented lines. In this case, the action has two steps: first define a new variable called `three_times_i`, then print some text telling us the value of `i` and the value of `three_times_i`. The value of `three_times_i` is `i*3`. So the first time when we perform the action with `i=0`, we will set our new variable as `three_times_i = 0*3 = 0.`\n",
    "\n",
    "What happens next? Well, first Python will look at our `step` value - in this case `step=1`. So now `i` will increase by 1, which means instead of `i=0`, we now have `i=1`. Next it will check our `stop` value. Have we gotten to `stop` yet? In this case, `stop=10`, but we are only at `i=1`, so we haven't hit the `stop` and we should keep going. \n",
    "\n",
    "That means it's time to perform the action again, but this time with `i=1`. In other words, to Python, the action now looks like `three_times_i = 1*3 = 3`.\n",
    "\n",
    "What next? It's back to `step` - up by 1, so now `i=2`. Check `stop` - still less than 10, so keep going and perform the action again. Now the action looks like `three_times_i = 2*3 = 6`.\n",
    "\n",
    "And so on. This will keep going until we finish the action with `i=9`. Now when we `step` up by 1, `i=10`. Uh-oh, we've hit the `stop` value, so it's time to stop and move on to whatever happens **after** the loop. In this case, it's time to print some helpful text!"
   ]
  },
  {
   "cell_type": "markdown",
   "metadata": {},
   "source": [
    "## <font color=blue>Complete Exercise 2a now</font>"
   ]
  },
  {
   "cell_type": "markdown",
   "metadata": {},
   "source": [
    "### for loops with arrays: taking values *out*\n",
    "\n",
    "So far we have used `i` as a variable to print or to do computation. But we can also use `i` as an **index** to access specific elements of our numpy array. Remember that we use square brackets `[]` to pull values out of an array. What happens if we do this with a variable?\n",
    "\n",
    "To explain and test this idea, we are going to use our example code from last week again, where we calculated the effective temperature of different planets. Here's that code again in case you forgot to run the cell earlier."
   ]
  },
  {
   "cell_type": "code",
   "execution_count": null,
   "metadata": {},
   "outputs": [],
   "source": [
    "# Program for computing the effective temperature of a planet\n",
    "import numpy\n",
    "\n",
    "# Set the Boltzmann Constant, in W/m^2/K^4\n",
    "sigma = 5.67e-8\n",
    "\n",
    "# Array of Venus, Earth, Mars albedos, unitless\n",
    "A_planets = numpy.array([0.8, 0.3, 0.2])\n",
    "\n",
    "# Array of Venus, Earth, Mars solar fluxes, in W/m2\n",
    "S_planets = numpy.array([2643.0, 1366.0, 593.0])\n",
    "\n",
    "# Perform the calculation for each planet, Te in K\n",
    "Te_planets = ((S_planets/(4*sigma))*(1-A_planets))**0.25\n",
    "\n",
    "# Print the output\n",
    "print( \"The effective temperature at differents planets, in order of Venus then Earth then Mars: \",Te_planets,\" (K)\" )"
   ]
  },
  {
   "cell_type": "markdown",
   "metadata": {},
   "source": [
    "Let's start by just looking at the array `A_planets`. We know that if we print `A_planets[0]`, we will be extracting the FIRST value of `A_planets`. In this case, that first value is 0.8 (see the program above). So if we print `A_planets[0]`, we should see 0.8:"
   ]
  },
  {
   "cell_type": "code",
   "execution_count": null,
   "metadata": {},
   "outputs": [],
   "source": [
    "print( 'A_planets[0]=',A_planets[0] )"
   ]
  },
  {
   "cell_type": "markdown",
   "metadata": {},
   "source": [
    "Bingo! Now let's test what happens if instead of using 0 as our index, we use a **variable** (`i`) they we first set to have the **value** of 0 - in other words, `i=0`:"
   ]
  },
  {
   "cell_type": "code",
   "execution_count": null,
   "metadata": {},
   "outputs": [],
   "source": [
    "# Set variable i to have value 0\n",
    "i = 0\n",
    "\n",
    "# Use variable i to pull a value out of A_planets:\n",
    "print('A_planets[i]=',A_planets[i] )"
   ]
  },
  {
   "cell_type": "markdown",
   "metadata": {},
   "source": [
    "Same thing! As long as we have given `i` a value, we can use `i` as an index. Let's test this with a few more values of `i`:"
   ]
  },
  {
   "cell_type": "code",
   "execution_count": null,
   "metadata": {},
   "outputs": [],
   "source": [
    "i = 1\n",
    "print( 'When i=1...' )\n",
    "print( '  A_planets[i]=',A_planets[i] )\n",
    "\n",
    "i = 2\n",
    "print( 'When i=2...' )\n",
    "print( '  A_planets[i]=',A_planets[i] )"
   ]
  },
  {
   "cell_type": "markdown",
   "metadata": {},
   "source": [
    "So using ```variable[i]``` is just like using ```variable[0]``` or ```variable[1]``` or ```variable[25]``` (that one would cause an error here, because there are only 3 values in `A_planets`, but you get the idea) or any other index, as long as you first set the value of ```i```. This means one way to make our table would be:"
   ]
  },
  {
   "cell_type": "code",
   "execution_count": null,
   "metadata": {},
   "outputs": [],
   "source": [
    "# print the title text first\n",
    "print( 'i    Albedo  Solar_Flux_W/m2  Effective_Temperature_K' )\n",
    "\n",
    "i=0\n",
    "print( i, '  ', A_planets[i], '   ',S_planets[i], '         ',Te_planets[i] )\n",
    "\n",
    "\n",
    "i=1\n",
    "print( i, '  ', A_planets[i], '   ',S_planets[i], '         ',Te_planets[i] )\n",
    "\n",
    "\n",
    "i=2\n",
    "print( i, '  ', A_planets[i], '   ',S_planets[i], '         ',Te_planets[i] )"
   ]
  },
  {
   "cell_type": "markdown",
   "metadata": {},
   "source": [
    "You can see this works, but it isn't very efficient. But we now know we can use a **```for```** loop to make it easier:"
   ]
  },
  {
   "cell_type": "code",
   "execution_count": null,
   "metadata": {},
   "outputs": [],
   "source": [
    "# print the title text first\n",
    "print( 'i    Albedo  Solar_Flux_W/m2  Effective_Temperature_K' )\n",
    "\n",
    "# Use a for loop for the INDEX values\n",
    "# Here we want the index values to be 0, 1, and 2 (see example above)\n",
    "#  so range should go from start=0 to stop=3 (last value +1) with a step=1\n",
    "for i in range(0,3,1):\n",
    "    print( i, '  ', A_planets[i], '   ',S_planets[i], '         ',Te_planets[i] )"
   ]
  },
  {
   "cell_type": "markdown",
   "metadata": {},
   "source": [
    "This is exactly the same as above. Each time we go around the loop, `i` takes on a new value, specified in the `range` part (first time 0, second time 1, third time 2). Each time, we perform the action: Pulling a value out of the arrays and printing it on the screen. But this way is much better if we have a lot of values.\n",
    "\n",
    "**<font color=blue>The `for` loop concept is often confusing for students. If you find it confusing, don't despair! Please play around with the examples above (change values, delete stuff, see what happens) and try to understand what is happening. Don't just skip forward hoping it will make sense later. And ask us questions if you are still confused!</font>**"
   ]
  },
  {
   "cell_type": "markdown",
   "metadata": {},
   "source": [
    "If you look carefully at the program above, you will see that we had to specify ```stop``` was 3 - meaning we knew we had 3 planets. What if we didn't know beforehand how many planets we had?\n",
    "\n",
    "In that case we could just ask Python to tell us how many values there are in our array using the ```len``` function. If this doesn't seem familiar, look back at \"how big is it\" from the Week 3 practical."
   ]
  },
  {
   "cell_type": "code",
   "execution_count": null,
   "metadata": {},
   "outputs": [],
   "source": [
    "# print the title text first\n",
    "print( 'Albedo  Solar_Flux_W/m2  Effective_Temperature_K' )\n",
    "\n",
    "# Use a for loop for the INDEX values\n",
    "# If we don't know how many planets, we can use len() in the range function:\n",
    "for i in range(0,len(A_planets),1):\n",
    "    print( i, '  ', A_planets[i], '   ',S_planets[i], '         ',Te_planets[i] )"
   ]
  },
  {
   "cell_type": "markdown",
   "metadata": {},
   "source": [
    "## <font color=blue>Complete Exercise 2b now</font>"
   ]
  },
  {
   "cell_type": "markdown",
   "metadata": {},
   "source": [
    "### for loops with arrays: putting values *in*\n",
    "\n",
    "In these last steps, we have been using ```i``` to pull values **out** of an array. We can also use ```i``` to put values **into** an array.\n",
    "\n",
    "As a trivial example, we could use it to store the values of ```three_times_i``` from our example above that looked like this:"
   ]
  },
  {
   "cell_type": "raw",
   "metadata": {},
   "source": [
    "for i in range(0,10,1):\n",
    "    three_times_i = i*3\n",
    "    print( 'i = ',i,' and three_times_i = ',three_times_i )"
   ]
  },
  {
   "cell_type": "markdown",
   "metadata": {},
   "source": [
    "Here's the code we would need (we'll walk through it below):"
   ]
  },
  {
   "cell_type": "code",
   "execution_count": null,
   "metadata": {},
   "outputs": [],
   "source": [
    "three_times_i_saved = numpy.zeros(10)\n",
    "\n",
    "for i in range(0,10,1):\n",
    "    three_times_i = i*3\n",
    "    three_times_i_saved[i] = three_times_i\n",
    "    print( 'three_times_i = ',three_times_i,' stored in index ',i )\n",
    "    \n",
    "print( 'three_times_i_saved = ',three_times_i_saved )"
   ]
  },
  {
   "cell_type": "markdown",
   "metadata": {},
   "source": [
    "How does this work? First you'll notice we are using a new numpy function: **```numpy.zeros```**.\n",
    "\n",
    "```numpy.zeros``` just creates an array full of (you guessed it) zeros! You can think of this as creating a placeholder where you will eventually  store all of your values.\n",
    "\n",
    "The total number of zeros is specified by the number in brackets:"
   ]
  },
  {
   "cell_type": "code",
   "execution_count": null,
   "metadata": {},
   "outputs": [],
   "source": [
    "print( \"5 zeros: \",numpy.zeros(5) )\n",
    "print( \"2 zeros: \",numpy.zeros(2) )\n",
    "print( \"16 zeros: \",numpy.zeros(16) )"
   ]
  },
  {
   "cell_type": "markdown",
   "metadata": {},
   "source": [
    "Next, we go through our loop just as before. This time, however, we store our new variable in the array. Each time, we pick where in the array to store the variable using its index **```[i]```**. Because ```i``` changes each time we go around the loop, the slot where we store the variable also changes each time.\n",
    "\n",
    "Now, this is a pretty silly example, because we could create the same ```three_times_i_saved``` array just using numpy calculations. But we will eventually get to some more complicated ones."
   ]
  },
  {
   "cell_type": "markdown",
   "metadata": {},
   "source": [
    "Let's illustrate with an example that will let us plot the vertical profile of temperature in the atmosphere. We will use the \"International Standard Atmosphere\" (https://en.wikipedia.org/wiki/International_Standard_Atmosphere). \n",
    "\n",
    "The temperature is different in the lower atmosphere (troposphere, 0-11 km) than in the part of the atmosphere above it (stratosphere, 11-40 km), and temperature in degrees C can be roughly expressed as:\n",
    "\n",
    "**`Temperature = 15.0 - 6.5 * altitude`** (when altitude is less than 11 km)<br>\n",
    "**`Temperature = -56.5`** (when altitude is between 11 and 20 km)<br>\n",
    "**`Temperature = -76.5 + 1.0 * altitude`** (when altitude is between 20 and 32 km)<br>\n",
    "\n",
    "Here we're going to plot the first part, when the altitude is less than 11 km. In the exercises, you'll plot the other two."
   ]
  },
  {
   "cell_type": "code",
   "execution_count": null,
   "metadata": {},
   "outputs": [],
   "source": [
    "import numpy\n",
    "\n",
    "# altitude array in km, steps of 0.1km = 100m\n",
    "# For the lowest part of the atmosphere, we will start at 0 and end at 11.\n",
    "altitude=numpy.arange(0,11,.1)\n",
    "\n",
    "# set up an array for temperature\n",
    "Temperature=numpy.zeros(len(altitude))\n",
    "\n",
    "for i in range(0,len(Temperature),1):\n",
    "    Temperature[i] = 15.0 - 6.5*altitude[i]"
   ]
  },
  {
   "cell_type": "markdown",
   "metadata": {},
   "source": [
    "You'll see that we used the array index `[i]` to access a different value of `altitude` and `Temperature` each time we went around the loop.\n",
    "\n",
    "For example, the first time around, `i=0`, so we \"filled in\" the first space of the Temperature array, `Temperature[0]`, which we calculated using the value in the first space of the altitude array, `altitude[0]`. Then we did the same thing again, with `i=1` and so on. If that isn't clear, add a `print()` to the action in the loop above.\n",
    "\n",
    "Finally, we can practice one more thing that we learned last week: plotting. "
   ]
  },
  {
   "cell_type": "code",
   "execution_count": null,
   "metadata": {},
   "outputs": [],
   "source": [
    "import matplotlib.pyplot as pyplot\n",
    "%matplotlib inline\n",
    "\n",
    "# Set up the plot - we put altitude on the y-axis to represent it going \"up\"\n",
    "pyplot.plot(Temperature,altitude)\n",
    "pyplot.xlabel('Temperature (C)')\n",
    "pyplot.ylabel('Altitude (km)')\n",
    "pyplot.title('Change in temperature with altitude in the atmosphere')\n",
    "pyplot.show()"
   ]
  },
  {
   "cell_type": "markdown",
   "metadata": {},
   "source": [
    "## <font color=blue>Complete Exercise 3 now</font>"
   ]
  },
  {
   "cell_type": "markdown",
   "metadata": {},
   "source": [
    "## <font color=blue>Complete Exercise 4 now</font>"
   ]
  }
 ],
 "metadata": {
  "anaconda-cloud": {},
  "kernelspec": {
   "display_name": "Python 3",
   "language": "python",
   "name": "python3"
  },
  "language_info": {
   "codemirror_mode": {
    "name": "ipython",
    "version": 3
   },
   "file_extension": ".py",
   "mimetype": "text/x-python",
   "name": "python",
   "nbconvert_exporter": "python",
   "pygments_lexer": "ipython3",
   "version": "3.5.4"
  }
 },
 "nbformat": 4,
 "nbformat_minor": 1
}
