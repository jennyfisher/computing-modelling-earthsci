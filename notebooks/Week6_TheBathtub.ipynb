{
 "cells": [
  {
   "cell_type": "markdown",
   "metadata": {},
   "source": [
    "# The Bathtub"
   ]
  },
  {
   "cell_type": "markdown",
   "metadata": {},
   "source": [
    "With this practical, we start our foray into modelling.\n",
    "\n",
    "The Bathtub model is one of the simplest, most intuitive models that exist. It is often used as a friendly intro to the concepts behind modelling.\n",
    "\n",
    "Much of this exercise is based on the example designed by Dave Bice for modelling using the STELLA software. His site is available here: \n",
    "http://www3.geosc.psu.edu/~dmb53/DaveSTELLA/modeling/ch2contents.html\n",
    "\n",
    "That site is full of excellent information about the whys and hows of modelling, and you are welcome (and encouraged) to peruse it.\n",
    "\n",
    "*Note: the site is built for modelling with STELLA, a software package that is more expensive, less intuitive, and much less versatile than python. If you ignore the details of the models being built, you can learn a lot from the general information provided.*"
   ]
  },
  {
   "cell_type": "markdown",
   "metadata": {},
   "source": [
    "Let's start with a very simple system: water in a bathtub. The bathtub has one input: the faucet. It has one output: the drain. Intuitively, we know that the amount of water in the tub will depend on:\n",
    "1. The amount of water we start with\n",
    "2. The rate that water flows in from the faucet (i.e. how far we turn the faucet)\n",
    "3. The rate that water flows out through the drain (which itself depends on how much water is in the bathtub at any moment in time)"
   ]
  },
  {
   "cell_type": "markdown",
   "metadata": {},
   "source": [
    "We can draw this as a simple reservoir (box) with a single input (arrow in) and output (arrow out). \n",
    "\n",
    "![Bathtub Image](img/simplebathtub.png)\n",
    "*Image adapted from Arnott et al., ACCESS 46, 2015: http://www.accessmagazine.org/articles/spring-2015/a-bathtub-model-of-downtown-traffic-congestion/*\n",
    "\n",
    "Now we can use Python to translate this conceptual model into a quantitative model. The goal for our model is that we can determine how much water is in the bathtub at any given time. Throughout this practical, we will slowly build up a function that represents the bathtub model."
   ]
  },
  {
   "cell_type": "code",
   "execution_count": null,
   "metadata": {
    "collapsed": true
   },
   "outputs": [],
   "source": [
    "# We'll need this eventually\n",
    "import numpy\n",
    "\n",
    "def bathtub_model():\n",
    "    return"
   ]
  },
  {
   "cell_type": "markdown",
   "metadata": {},
   "source": [
    "## Variables\n",
    "\n",
    "First, we need to think about what the variables are involved in this system. In this case, we need variables that represent:\n",
    "- The amount of water in the bathtub at any given time\n",
    "- The *initial* amount of water in the bathtub \n",
    "- The rate at which water flows *into* the bathtub via the faucet\n",
    "- The rate at which water flows *out of* the bathtub via the drain\n",
    "- The amount of time since our bathtub filling/draining experiment began.\n",
    "\n",
    "As usual, it is important to give the variables logical names and use comments to explain what they are and what units they have. Because this function is going to get long and complicated, it's good practice to put all the variable information up at the top (in comments)."
   ]
  },
  {
   "cell_type": "code",
   "execution_count": null,
   "metadata": {
    "collapsed": true
   },
   "outputs": [],
   "source": [
    "def bathtub_model():\n",
    "    # Variables\n",
    "    # Total_Water (litres) - the amount of water in the bathtub at any given time\n",
    "    # Initial_Water (litres) - the amount of water in the bathtub when we start\n",
    "    # Flow_In (litres per second) - the rate at which water flows in via the faucet\n",
    "    # Flow_Out (litres per second) - the rate at which water flows out via the drain\n",
    "    # elapsed_time (seconds) - the amount of time that has passed in our experiment\n",
    "    \n",
    "    return"
   ]
  },
  {
   "cell_type": "markdown",
   "metadata": {},
   "source": [
    "Next we need to think about how to set up those variables. Let's start with the easy ones. *Total_Water* is going to depend on all the rest, so let's come back to this.\n",
    "\n",
    "*Initial_Water* is just a number, so we can define this one easily. Let's assume for now we start out with 10 litres of water in the tub."
   ]
  },
  {
   "cell_type": "code",
   "execution_count": null,
   "metadata": {
    "collapsed": true
   },
   "outputs": [],
   "source": [
    "def bathtub_model():\n",
    "    # Variables\n",
    "    # Total_Water (litres) - the amount of water in the bathtub at any given time\n",
    "    # Initial_Water (litres) - the amount of water in the bathtub when we start\n",
    "    # Flow_In (litres per second) - the rate at which water flows in via the faucet\n",
    "    # Flow_Out (litres per second) - the rate at which water flows out via the drain\n",
    "    # elapsed_time (seconds) - the amount of time that has passed in our experiment\n",
    "    \n",
    "    # define Initial_Water\n",
    "    Initial_Water = 10.0\n",
    "    \n",
    "    return"
   ]
  },
  {
   "cell_type": "markdown",
   "metadata": {},
   "source": [
    "*Flow_In* is also just a number - as humans, we can change it by opening or closing the faucet, but it is not dependent on any of the other variables. For now, we will assume we add 1/2 litre to the tub every second."
   ]
  },
  {
   "cell_type": "code",
   "execution_count": null,
   "metadata": {
    "collapsed": true
   },
   "outputs": [],
   "source": [
    "def bathtub_model():\n",
    "    # Variables\n",
    "    # Total_Water (litres) - the amount of water in the bathtub at any given time\n",
    "    # Initial_Water (litres) - the amount of water in the bathtub when we start\n",
    "    # Flow_In (litres per second) - the rate at which water flows in via the faucet\n",
    "    # Flow_Out (litres per second) - the rate at which water flows out via the drain\n",
    "    # elapsed_time (seconds) - the amount of time that has passed in our experiment\n",
    "    \n",
    "    # define Initial_Water (L)\n",
    "    Initial_Water = 10.0\n",
    "    \n",
    "    # define Flow_In (L/s)\n",
    "    Flow_In = 0.5\n",
    "    \n",
    "    return"
   ]
  },
  {
   "cell_type": "markdown",
   "metadata": {},
   "source": [
    "What about *Flow_Out*? This one is trickier. If there is more water in the tub, there will be more pressure on the drain, so the flow will be faster. This means that *Flow_Out* depends on *Total_Water*, or to put this into an equation:\n",
    "\n",
    "<center>*Flow_Out = 0.1 $\\times$ Total_Water*</center>\n",
    "\n",
    "But we can't add this to our function yet, because we haven't defined *Total_Water*."
   ]
  },
  {
   "cell_type": "markdown",
   "metadata": {},
   "source": [
    "What about *Total_Water*? Well, this will depend on *Initial_Water*, *Flow_In*, and *Flow_Out* - and how much time has passed (because our flows are **rates**). So, at some future *time*:\n",
    "\n",
    "<center>*Total_Water = Initial_Water + Flow_In $\\times$ time - Flow_Out $\\times$ elapsed_time*</center>"
   ]
  },
  {
   "cell_type": "markdown",
   "metadata": {},
   "source": [
    "So far so good, right? But we have a problem. *Total_Water* depends on *Flow_Out*, and *Flow_Out* depends on *Total_Water*!"
   ]
  },
  {
   "cell_type": "markdown",
   "metadata": {},
   "source": [
    "## Solving the equations"
   ]
  },
  {
   "cell_type": "markdown",
   "metadata": {},
   "source": [
    "Luckily, this is a really common problem - and we can use pretty simple standard numerical methods to solve it.\n",
    "\n",
    "\n",
    "<span style=\"color:Purple\"><b>Want to know more?</b> This is a differential equation. The method we'll describe to solve it is called the Euler method, and is the simplest way to do it. Other more accurate methods also exist and are used in complex models.</span>"
   ]
  },
  {
   "cell_type": "markdown",
   "metadata": {},
   "source": [
    "The problem isn't as hard as it seems. Let's think about what happens right at the start. We know the initial amount of *Total_Water* - this is *Initial_Water*. So we can also calculate the initial rate of *Flow_Out*:"
   ]
  },
  {
   "cell_type": "code",
   "execution_count": null,
   "metadata": {},
   "outputs": [],
   "source": [
    "def bathtub_model():\n",
    "    # Variables\n",
    "    # Total_Water (litres) - the amount of water in the bathtub at any given time\n",
    "    # Initial_Water (litres) - the amount of water in the bathtub when we start\n",
    "    # Flow_In (litres per second) - the rate at which water flows in via the faucet\n",
    "    # Flow_Out (litres per second) - the rate at which water flows out via the drain\n",
    "    # elapsed_time (seconds) - the amount of time that has passed in our experiment\n",
    "    \n",
    "    # define Initial_Water (L)\n",
    "    Initial_Water = 10.0\n",
    "    \n",
    "    # define Flow_In (L/s)\n",
    "    Flow_In = 0.5\n",
    "    \n",
    "    # define Flow_Out (L/S) at time=0 (the start of our experiment)\n",
    "    Flow_Out_0 = 0.1 * Initial_Water\n",
    "    \n",
    "    # Print this value to clarify behaviour\n",
    "    print \"Flow_Out at time=0 is: \", Flow_Out_0\n",
    "    \n",
    "    return"
   ]
  },
  {
   "cell_type": "code",
   "execution_count": null,
   "metadata": {},
   "outputs": [],
   "source": [
    "# Call the function\n",
    "bathtub_model()"
   ]
  },
  {
   "cell_type": "markdown",
   "metadata": {},
   "source": [
    "Now that we have an initial value for *Flow_Out*, we can calculate the value of *Total_Water* a short time later, let's say after 1 second:"
   ]
  },
  {
   "cell_type": "code",
   "execution_count": null,
   "metadata": {},
   "outputs": [],
   "source": [
    "def bathtub_model():\n",
    "    # Variables\n",
    "    # Total_Water (litres) - the amount of water in the bathtub at any given time\n",
    "    # Initial_Water (litres) - the amount of water in the bathtub when we start\n",
    "    # Flow_In (litres per second) - the rate at which water flows in via the faucet\n",
    "    # Flow_Out (litres per second) - the rate at which water flows out via the drain\n",
    "    # elapsed_time (seconds) - the amount of time that has passed in our experiment\n",
    "    \n",
    "    # define Initial_Water (L)\n",
    "    Initial_Water = 10.0\n",
    "    \n",
    "    # define Flow_In (L/s)\n",
    "    Flow_In = 0.5\n",
    "    \n",
    "    # define Flow_Out (L/S) at time=0 (the start of our experiment)\n",
    "    Flow_Out_0 = 0.1 * Initial_Water\n",
    "    \n",
    "    # Now let's see what happens 1 second later\n",
    "    elapsed_time = 1\n",
    "    Total_Water_1 = Initial_Water + Flow_In * elapsed_time - Flow_Out_0 * elapsed_time\n",
    "    \n",
    "    # Print this value to clarify behaviour\n",
    "    print \"Flow_Out at time=0 is: \", Flow_Out_0\n",
    "    print \"Total_Water_1 at time=1 is: \", Total_Water_1\n",
    "    \n",
    "    return"
   ]
  },
  {
   "cell_type": "code",
   "execution_count": null,
   "metadata": {},
   "outputs": [],
   "source": [
    "# Call the function\n",
    "bathtub_model()"
   ]
  },
  {
   "cell_type": "markdown",
   "metadata": {},
   "source": [
    "Because the amount of water (*Total_Water*) has changed, *Flow_Out* will also change:"
   ]
  },
  {
   "cell_type": "code",
   "execution_count": null,
   "metadata": {},
   "outputs": [],
   "source": [
    "def bathtub_model():\n",
    "    # Variables\n",
    "    # Total_Water (litres) - the amount of water in the bathtub at any given time\n",
    "    # Initial_Water (litres) - the amount of water in the bathtub when we start\n",
    "    # Flow_In (litres per second) - the rate at which water flows in via the faucet\n",
    "    # Flow_Out (litres per second) - the rate at which water flows out via the drain\n",
    "    # elapsed_time (seconds) - the amount of time that has passed in our experiment\n",
    "    \n",
    "    # define Initial_Water (L)\n",
    "    Initial_Water = 10.0\n",
    "    \n",
    "    # define Flow_In (L/s)\n",
    "    Flow_In = 0.5\n",
    "    \n",
    "    # define Flow_Out (L/S) at time=0 (the start of our experiment)\n",
    "    Flow_Out_0 = 0.1 * Initial_Water\n",
    "    \n",
    "    # Now let's see what happens 1 second later\n",
    "    elapsed_time = 1\n",
    "    Total_Water_1 = Initial_Water + Flow_In * elapsed_time - Flow_Out_0 * elapsed_time\n",
    "   \n",
    "    # We use the new value Total_Water_1 to update from Flow_Out_0 to Flow_Out_1\n",
    "    Flow_Out_1 = 0.1 * Total_Water_1\n",
    "\n",
    "    # Print this value to clarify behaviour\n",
    "    print \"Flow_Out at time=0 is: \", Flow_Out_0\n",
    "    print \"Total_Water_1 at time=1 is: \", Total_Water_1\n",
    "    print \"Flow_Out_1 at time=1 is: \", Flow_Out_1\n",
    "    \n",
    "    return"
   ]
  },
  {
   "cell_type": "code",
   "execution_count": null,
   "metadata": {},
   "outputs": [],
   "source": [
    "# Call the function\n",
    "bathtub_model()"
   ]
  },
  {
   "cell_type": "markdown",
   "metadata": {},
   "source": [
    "We could repeat the process 1 second further in the future (or 2 seconds since our experiment started) by now using the updated value of *Flow_Out*, *Flow_Out_1*:"
   ]
  },
  {
   "cell_type": "code",
   "execution_count": null,
   "metadata": {},
   "outputs": [],
   "source": [
    "def bathtub_model():\n",
    "    # Variables\n",
    "    # Total_Water (litres) - the amount of water in the bathtub at any given time\n",
    "    # Initial_Water (litres) - the amount of water in the bathtub when we start\n",
    "    # Flow_In (litres per second) - the rate at which water flows in via the faucet\n",
    "    # Flow_Out (litres per second) - the rate at which water flows out via the drain\n",
    "    # elapsed_time (seconds) - the amount of time that has passed in our experiment\n",
    "    \n",
    "    # define Initial_Water (L)\n",
    "    Initial_Water = 10.0\n",
    "    \n",
    "    # define Flow_In (L/s)\n",
    "    Flow_In = 0.5\n",
    "    \n",
    "    # define Flow_Out (L/S) at time=0 (the start of our experiment)\n",
    "    Flow_Out_0 = 0.1 * Initial_Water\n",
    "    \n",
    "    # Now let's see what happens 1 second later\n",
    "    elapsed_time = 1\n",
    "    Total_Water_1 = Initial_Water + Flow_In * elapsed_time - Flow_Out_0 * elapsed_time\n",
    "   \n",
    "    # We use the new value Total_Water_1 to update from Flow_Out_0 to Flow_Out_1\n",
    "    Flow_Out_1 = 0.1 * Total_Water_1\n",
    "\n",
    "    # 1 second has elapsed since we last updated Flow_Out and Total_Water,\n",
    "    # so we still use elapsed_time=1\n",
    "    Total_Water_2 = Total_Water_1 + Flow_In * elapsed_time - Flow_Out_1 * elapsed_time\n",
    "    \n",
    "    # Print this value to clarify behaviour\n",
    "    print \"Flow_Out at time=0 is: \", Flow_Out_0\n",
    "    print \"Total_Water_1 at time=1 is: \", Total_Water_1\n",
    "    print \"Flow_Out_1 at time=1 is: \", Flow_Out_1\n",
    "    print \"Total_Water_2 at time=2 is: \", Total_Water_2\n",
    "    \n",
    "    return"
   ]
  },
  {
   "cell_type": "code",
   "execution_count": null,
   "metadata": {},
   "outputs": [],
   "source": [
    "# Call the function\n",
    "bathtub_model()"
   ]
  },
  {
   "cell_type": "markdown",
   "metadata": {},
   "source": [
    "There is another way to look at what we have just done. Every second, we are solving this equation:<br>\n",
    "<center>*Total_Water_NOW = Total_Water_1_SECOND_AGO + (Flow_In $\\times$ 1 second) - (Flow_Out_1_SECOND_AGO $\\times$ 1 second)*</center>\n",
    "\n",
    "Or to put it more mathematically, if the time 1 second ago is *time* then:<br>\n",
    "<center>*Total_Water[time + 1 second] = Total_Water[time] + (Flow_In $\\times$ 1 second) - (Flow_Out[time] $\\times$ 1 second)*</center>"
   ]
  },
  {
   "cell_type": "markdown",
   "metadata": {},
   "source": [
    "To determine *Total_Water* at some arbitrary time in the future, we need to:\n",
    "1. Calculate *Flow_Out* at the current time\n",
    "2. Calculate *Total_Water* 1 second later, using the previous values of *Total_Water* and *Flow_Out* and assuming 1 second has passed\n",
    "3. Repeat until we get to our final time.\n",
    "\n",
    "This sounds like a good candidate for a loop!  Let's assume we want to know what happens after one minute (i.e. 60 seconds) has passed. We will set up a new variable called *total_time* equal to 60 seconds and use that to set up our loop:"
   ]
  },
  {
   "cell_type": "code",
   "execution_count": null,
   "metadata": {},
   "outputs": [],
   "source": [
    "def bathtub_model():\n",
    "    # Variables\n",
    "    # Total_Water (litres) - the amount of water in the bathtub at any given time\n",
    "    # Initial_Water (litres) - the amount of water in the bathtub when we start\n",
    "    # Flow_In (litres per second) - the rate at which water flows in via the faucet\n",
    "    # Flow_Out (litres per second) - the rate at which water flows out via the drain\n",
    "    # elapsed_time (seconds) - the amount of time that has passed in our experiment\n",
    "    \n",
    "    # define Initial_Water (L)\n",
    "    Initial_Water = 10.0\n",
    "    \n",
    "    # define Flow_In (L/s)\n",
    "    Flow_In = 0.5\n",
    "    \n",
    "    # At the beginning of the experiment (time=0), Initial_Water IS the total amount of water\n",
    "    Total_Water = Initial_Water\n",
    "    \n",
    "    # Each time we go around the loop, 1 second has passed.\n",
    "    # So each time, elapsed_time=1\n",
    "    elapsed_time = 1\n",
    "\n",
    "    # Let's look at one minute (60 seconds) to begin with.\n",
    "    total_time = 60\n",
    "\n",
    "    # Loop over the total number of seconds in our experiment.\n",
    "    for i in range(0,total_time,1):\n",
    "    \n",
    "        # First we update the rate of Flow_Out, using the current value of Total_Water\n",
    "        Flow_Out = 0.1 * Total_Water\n",
    "    \n",
    "        # Next we update Total_Water. Because we execute this command every second,\n",
    "        # the time that has elapsed each loop is elapsed_time (not the total time).\n",
    "        Total_Water = Total_Water + Flow_In * elapsed_time - Flow_Out * elapsed_time\n",
    "\n",
    "        # Print some values to clarify behaviour\n",
    "        print \"At time: \",i\n",
    "        print \"  Flow_Out is: \", Flow_Out\n",
    "        print \"  Total_Water is: \", Total_Water\n",
    "        \n",
    "    # We'll return the value of Total_Water since this is what we want to know\n",
    "    return Total_Water"
   ]
  },
  {
   "cell_type": "code",
   "execution_count": null,
   "metadata": {},
   "outputs": [],
   "source": [
    "# Call the function\n",
    "Final_Water = bathtub_model()\n",
    "\n",
    "# Print the final volume\n",
    "print \"The volume of water in the bathtub after 60 seconds is: \",Final_Water"
   ]
  },
  {
   "cell_type": "markdown",
   "metadata": {},
   "source": [
    "In other words, after 1 minute, the amount of water in the bathtub has decreased from 10 litres to just over 5 litres.<br><br>\n",
    "\n",
    "<font color=purple>We could further refine the solution by recognising that *Flow_Out* is a function of *Total_Water*. Then we wouldn't even need a variable for *Flow_Out* (it is a local variable, so it only ever exists inside the function anyway), and our equation could be solved each time around with a single line:</font>"
   ]
  },
  {
   "cell_type": "markdown",
   "metadata": {},
   "source": [
    "### <font color=blue>EXERCISE 1a</font><br>\n",
    "\n",
    "<font color=blue>Refine the function <font face=courier>bathtub_model()</font> so that you can easily change the total time of the experiment each time you call the function **without** having to modify the function itself. In other words, make *total_time* an ***argument*** of the function. Use your refined function to determine how many seconds it would take to remove 1 litre of water from the bathtub (trial and error is fine for this, round to the nearest second).<br><br>\n",
    "\n",
    "**Hint 1**: Make sure you remove the line inside the function that defines *total_time*, otherwise you will reset its value each time you go around the loop! If you change *total_time* but the water volume doesn't change you'll know something has gone wrong.<br><br>\n",
    "\n",
    "**Hint 2**: You probably want to remove all those print statements inside the function to make your output easier to see!</font>"
   ]
  },
  {
   "cell_type": "code",
   "execution_count": null,
   "metadata": {},
   "outputs": [],
   "source": [
    "# Define the function here\n"
   ]
  },
  {
   "cell_type": "code",
   "execution_count": null,
   "metadata": {},
   "outputs": [],
   "source": [
    "# Call the function here, using different values of total_time\n"
   ]
  },
  {
   "cell_type": "code",
   "execution_count": null,
   "metadata": {
    "collapsed": true
   },
   "outputs": [],
   "source": [
    "# Answer the question here\n"
   ]
  },
  {
   "cell_type": "markdown",
   "metadata": {},
   "source": [
    "### <font color=blue>EXERCISE 1b</font><br>\n",
    "\n",
    "<font color=blue>With the current parameters, can the bathtub ever get empty? If so, when does that happen (rounded to the nearest second)? If not, what is the smallest amount of water left (rounded to the nearest 0.1 litre)? Explain.</font>"
   ]
  },
  {
   "cell_type": "code",
   "execution_count": null,
   "metadata": {},
   "outputs": [],
   "source": [
    "# Call the function here\n"
   ]
  },
  {
   "cell_type": "code",
   "execution_count": null,
   "metadata": {
    "collapsed": true
   },
   "outputs": [],
   "source": [
    "# Answer the question here\n"
   ]
  },
  {
   "cell_type": "markdown",
   "metadata": {
    "collapsed": true
   },
   "source": [
    "## Saving values along the way"
   ]
  },
  {
   "cell_type": "markdown",
   "metadata": {},
   "source": [
    "Our current solution allows us to find the volume of water at the end of the experiment. But what if we want to know how this changes over time?\n",
    "\n",
    "Sometimes the most meaningful information is not the final value, but the shape and rate of the change. For this we need to save intermediate values, ideally each time we update the calculation. To do so requires adapting our function.\n",
    "\n",
    "Instead of looping over a set number of seconds, we can use the numpy function <font face=courier>numpy.arange(start,stop,step)</font> to first define an array that represents every second during our experiment. We'll use a <font face=courier>stop</font> value of 61 here, because we want to know what happens *after* 60 seconds of experiment."
   ]
  },
  {
   "cell_type": "code",
   "execution_count": null,
   "metadata": {},
   "outputs": [],
   "source": [
    "time = numpy.arange(0,61,1)\n",
    "print time"
   ]
  },
  {
   "cell_type": "markdown",
   "metadata": {},
   "source": [
    "How does this help us?\n",
    "\n",
    "We now have an array *time* representing every second of our experiment. If we make *Total_Water* an array with the same number of elements as *time*, then we can store the value of *Total_Water* at each second in our calculation.\n",
    "\n",
    "We can use <font face=courier>numpy.zeros(number)</font> to set up the *Total_Water* array before we know what values go into it:"
   ]
  },
  {
   "cell_type": "code",
   "execution_count": null,
   "metadata": {
    "collapsed": true
   },
   "outputs": [],
   "source": [
    "# Use 1-second spacing\n",
    "time = numpy.arange(0,61,1)\n",
    "\n",
    "# Define an array of zeros to store the values of Total_Water at every time.\n",
    "Total_Water = numpy.zeros(len(time))"
   ]
  },
  {
   "cell_type": "markdown",
   "metadata": {},
   "source": [
    "Let's now return to our function. Remember that we previously wrote our equation mathematically like this:\n",
    "<center>*Total_Water[time + 1 second] = Total_Water[time] + (Flow_In $\\times$ 1 second) - (0.1 $\\times$ Total_Water[time] $\\times$ 1 second)*</center>\n",
    "\n",
    "This is equivalent to:\n",
    "<center>*Total_Water[time] = Total_Water[time - 1 second] + (Flow_In $\\times$ 1 second) - (0.1 $\\times$ Total_Water[time - 1 second] $\\times$ 1 second)*</center>\n",
    "\n",
    "We now have a way of storing *Total_Water* at each time. This means we always know the value at *time - 1 second*, and we can use this in our function:"
   ]
  },
  {
   "cell_type": "code",
   "execution_count": null,
   "metadata": {},
   "outputs": [],
   "source": [
    "def bathtub_model():\n",
    "    # Variables\n",
    "    # Total_Water (litres) - the amount of water in the bathtub at any given time\n",
    "    # Initial_Water (litres) - the amount of water in the bathtub when we start\n",
    "    # Flow_In (litres per second) - the rate at which water flows in via the faucet\n",
    "    # Flow_Out (litres per second) - the rate at which water flows out via the drain\n",
    "    # elapsed_time (seconds) - the amount of time that has passed in our experiment\n",
    "    \n",
    "    # define Initial_Water (L)\n",
    "    Initial_Water = 10.0\n",
    "    \n",
    "    # define Flow_In (L/s)\n",
    "    Flow_In = 0.5\n",
    "    \n",
    "    # Use 1-second spacing\n",
    "    time = numpy.arange(0,61,1)\n",
    "\n",
    "    # Define an array of zeros to store the values of Total_Water at every time.\n",
    "    Total_Water = numpy.zeros(len(time))    \n",
    "    \n",
    "    # At the beginning of the experiment (time=0), Initial_Water IS the total amount of water\n",
    "    Total_Water[0] = Initial_Water\n",
    "    \n",
    "    # Each time we go around the loop, 1 second has passed.\n",
    "    # So each time, elapsed_time=1\n",
    "    elapsed_time = 1\n",
    "\n",
    "    # Loop over the total number of seconds in our experiment.\n",
    "    for i in range(1,len(time),1):\n",
    "    \n",
    "        # Replace Flow_Out above with 0.1 * Total_Water, and update Total_Water in one line.\n",
    "        Total_Water[i] = Total_Water[i-1] + ( Flow_In * elapsed_time -\n",
    "                                              0.1 * Total_Water[i-1] * elapsed_time )\n",
    "\n",
    "    # We'll return the full value of Total_Water since this is what we want to know\n",
    "    return Total_Water"
   ]
  },
  {
   "cell_type": "markdown",
   "metadata": {},
   "source": [
    "You should notice a few very important modifications to our model in the cell above. First, we added these lines:\n",
    "```\n",
    "    time = numpy.arange(0,61,1)\n",
    "    Total_Water = numpy.zeros(len(time))\n",
    "```\n",
    "These are the lines we described before, that set up both the *time* and the *Total_Water* arrays.\n",
    "\n",
    "Next, you should see that we changed:\n",
    "```\n",
    "    Total_Water = Initial_Water\n",
    "```\n",
    "to\n",
    "```\n",
    "    Total_Water[0] = Initial_Water\n",
    "```\n",
    "Before, *Total_Water* was a single value (a scalar) that we overwrote each time. Now, however, *Total_Water* is an array that represents the total volume of water at each second in our experiment. Only at second 0 is *Total_Water* equal to *Initial_Water*.\n",
    "\n",
    "Next, we changed\n",
    "```\n",
    "    for i in range(0,60,1):\n",
    "```\n",
    "to\n",
    "```\n",
    "    for i in range(1,len(time),1):\n",
    "```\n",
    "This is because we are going to ***index*** the *Total_Water* array with [i-1] (see next change). We want to start this calculation at *time=1* (when the previous second is *time=0*), not at *time=0*!\n",
    "\n",
    "Finally, our equation now indexes *Total_Water* with [i] and [i-1]:\n",
    "```\n",
    "Total_Water[i] = Total_Water[i-1] + ( Flow_In * elapsed_time -\n",
    "                                      0.1 * Total_Water[i-1] * elapsed_time )\n",
    "```\n",
    "If we look carefully at the indexing, we see that we are using *Total_Water[i-1]* (i.e. at the previous time) to calculate the value of *Total_Water[i]* (i.e., the value now).\n",
    "\n",
    "Let's test our updates:"
   ]
  },
  {
   "cell_type": "code",
   "execution_count": null,
   "metadata": {},
   "outputs": [],
   "source": [
    "# Call the function to test the model\n",
    "All_Water = bathtub_model()\n",
    "\n",
    "# Now final water is the last value of All_Water\n",
    "Final_Water = All_Water[-1]\n",
    "\n",
    "# Print the final volume\n",
    "print \"The volume of water in the bathtub after the experiment is: \", Final_Water"
   ]
  },
  {
   "cell_type": "markdown",
   "metadata": {},
   "source": [
    "Good news -- we get the same answer as before!\n",
    "\n",
    "But the value isn't in finding the answer, it's in looking at what happened along the way. For this we need to know the value of the water volume at every point in time (which we have), as well as the different values of time. This requires a small modification to our function: in addition to returning Total_Water at the end, we also return time."
   ]
  },
  {
   "cell_type": "code",
   "execution_count": null,
   "metadata": {},
   "outputs": [],
   "source": [
    "def bathtub_model():\n",
    "    # Variables\n",
    "    # Total_Water (litres) - the amount of water in the bathtub at any given time\n",
    "    # Initial_Water (litres) - the amount of water in the bathtub when we start\n",
    "    # Flow_In (litres per second) - the rate at which water flows in via the faucet\n",
    "    # Flow_Out (litres per second) - the rate at which water flows out via the drain\n",
    "    # elapsed_time (seconds) - the amount of time that has passed in our experiment\n",
    "    \n",
    "    # define Initial_Water (L)\n",
    "    Initial_Water = 10.0\n",
    "    \n",
    "    # define Flow_In (L/s)\n",
    "    Flow_In = 0.5\n",
    "    \n",
    "    # Use 1-second spacing\n",
    "    time = numpy.arange(0,61,1)\n",
    "\n",
    "    # Define an array of zeros to store the values of Total_Water at every time.\n",
    "    Total_Water = numpy.zeros(len(time))    \n",
    "    \n",
    "    # At the beginning of the experiment (time=0), Initial_Water IS the total amount of water\n",
    "    Total_Water[0] = Initial_Water\n",
    "    \n",
    "    # Each time we go around the loop, 1 second has passed.\n",
    "    # So each time, elapsed_time=1\n",
    "    elapsed_time = 1\n",
    "\n",
    "    # Loop over the total number of seconds in our experiment.\n",
    "    for i in range(1,len(time),1):\n",
    "    \n",
    "        # Replace Flow_Out above with 0.1 * Total_Water, and update Total_Water in one line.\n",
    "        Total_Water[i] = Total_Water[i-1] + ( Flow_In * elapsed_time - \n",
    "                                              0.1 * Total_Water[i-1] * elapsed_time)\n",
    "\n",
    "    # We'll return the full value of Total_Water since this is what we want to know\n",
    "    return time,Total_Water"
   ]
  },
  {
   "cell_type": "markdown",
   "metadata": {},
   "source": [
    "Now we can use the function to give us time and water volume."
   ]
  },
  {
   "cell_type": "code",
   "execution_count": null,
   "metadata": {},
   "outputs": [],
   "source": [
    "# Call the model and return both the time values and the volume values\n",
    "All_Time, All_Water = bathtub_model()\n",
    "print All_Time, All_Water"
   ]
  },
  {
   "cell_type": "markdown",
   "metadata": {},
   "source": [
    "Of course, printing the values really isn't very useful for understanding the behaviour. Instead, we want to plot them! For a brief reminder of how to make a plot in python:"
   ]
  },
  {
   "cell_type": "code",
   "execution_count": null,
   "metadata": {},
   "outputs": [],
   "source": [
    "# Set-up: only needed once\n",
    "import matplotlib.pyplot as pyplot\n",
    "% matplotlib inline\n",
    "\n",
    "# Plot with time on x-axis and water on y-axis\n",
    "pyplot.plot(All_Time,All_Water)\n",
    "\n",
    "# Add axis labels and units\n",
    "pyplot.xlabel('time (seconds)')\n",
    "pyplot.ylabel('Volume of water in bathtub (L)')\n",
    "pyplot.title('Change in water volume as a function of time')\n",
    "    \n",
    "# Show the plot\n",
    "pyplot.show()"
   ]
  },
  {
   "cell_type": "markdown",
   "metadata": {},
   "source": [
    "### <font color=blue>EXERCISE 2a</font><br>\n",
    "\n",
    "<font color=blue>Modify the version of the function above so that it includes *Flow_In* as an argument (ideally, you should also give it a default value). Remember to remove its definition in the program itself, or you will end up overwriting it!</font>"
   ]
  },
  {
   "cell_type": "code",
   "execution_count": null,
   "metadata": {
    "collapsed": true
   },
   "outputs": [],
   "source": [
    "# Define the function here \n"
   ]
  },
  {
   "cell_type": "markdown",
   "metadata": {},
   "source": [
    "### <font color=blue>EXERCISE 2b</font><br>\n",
    "\n",
    "<font color=blue>Use the updated model (e.g., call the function) with *Flow_In* is 0.1 L/s, and plot the resulting volume of water (*All_Water*) as a function of time (*All_Time*). Make sure your plot has axes labels (including units) and a title. Show the individual points as well as a line connecting them, in **any color except blue**. (Check previous weeks' practicals if you need tips on plotting.)</font> "
   ]
  },
  {
   "cell_type": "code",
   "execution_count": null,
   "metadata": {
    "collapsed": true
   },
   "outputs": [],
   "source": [
    "# Run the model here (with Flow_In = 0.1 L/S)\n"
   ]
  },
  {
   "cell_type": "code",
   "execution_count": null,
   "metadata": {},
   "outputs": [],
   "source": [
    "# Plot the output here\n"
   ]
  },
  {
   "cell_type": "markdown",
   "metadata": {},
   "source": [
    "### <font color=blue>EXERCISE 2c</font><br>\n",
    "\n",
    "<font color=blue>Right now, the system is losing water. Can you find a value for *Flow_In* that would cause the water to increase? Repeat your answer for 2b until you find a value for *Flow_In* that causes the water to increase from its initial value of 10 L.</font>"
   ]
  },
  {
   "cell_type": "code",
   "execution_count": null,
   "metadata": {},
   "outputs": [],
   "source": [
    "# Run the model here - try out different values of Flow_In\n",
    "\n",
    "\n",
    "\n",
    "# Plot the output here\n",
    "\n"
   ]
  },
  {
   "cell_type": "markdown",
   "metadata": {},
   "source": [
    "## Sensitivity analysis\n",
    "\n",
    "To answer Exercise 2(c), you probably had to use some trial and error until you found a value for *Flow_In* that worked (unless you were very clever, in which case - well done!).\n",
    "\n",
    "A better way to do this is to perform what's called a ***sensitivity analysis***. This is a way to find out how sensitive the system is to the different parameters we are using.\n",
    "\n",
    "For example, in every experiment, we have assumed the initial amount of water in the bathtub is 10.0 L. What happens as we increase or decrease this value? By running our model for a range of different values, we can quickly answer this question. This is sensitivity analysis.\n",
    "\n",
    "To do this, we first need to make *Initial_Water* an argument in our function (so that we can easily vary it)."
   ]
  },
  {
   "cell_type": "code",
   "execution_count": null,
   "metadata": {},
   "outputs": [],
   "source": [
    "def bathtub_model(Initial_Water = 10.0):\n",
    "    # Variables\n",
    "    # Total_Water (litres) - the amount of water in the bathtub at any given time\n",
    "    # Initial_Water (litres) - the amount of water in the bathtub when we start\n",
    "    # Flow_In (litres per second) - the rate at which water flows in via the faucet\n",
    "    # Flow_Out (litres per second) - the rate at which water flows out via the drain\n",
    "    # elapsed_time (seconds) - the amount of time that has passed in our experiment\n",
    "    \n",
    "    # define Flow_In (L/s)\n",
    "    Flow_In = 0.5\n",
    "    \n",
    "    # Use 1-second spacing\n",
    "    time = numpy.arange(0,61,1)\n",
    "\n",
    "    # Define an array of zeros to store the values of Total_Water at every time.\n",
    "    Total_Water = numpy.zeros(len(time))    \n",
    "    \n",
    "    # At the beginning of the experiment (time=0), Initial_Water IS the total amount of water\n",
    "    Total_Water[0] = Initial_Water\n",
    "    \n",
    "    # Each time we go around the loop, 1 second has passed.\n",
    "    # So each time, elapsed_time=1\n",
    "    elapsed_time = 1\n",
    "\n",
    "    # Loop over the total number of seconds in our experiment.\n",
    "    for i in range(1,len(time),1):\n",
    "    \n",
    "        # Replace Flow_Out above with 0.1 * Total_Water, and update Total_Water in one line.\n",
    "        Total_Water[i] = Total_Water[i-1] + ( Flow_In * elapsed_time - \n",
    "                                              0.1 * Total_Water[i-1] * elapsed_time )\n",
    "\n",
    "    # We'll return the full value of Total_Water since this is what we want to know\n",
    "    return time,Total_Water"
   ]
  },
  {
   "cell_type": "markdown",
   "metadata": {},
   "source": [
    "With our updated function, we can loop over different values for Initial_Water and then plot each one."
   ]
  },
  {
   "cell_type": "code",
   "execution_count": null,
   "metadata": {},
   "outputs": [],
   "source": [
    "# Set up an array of possible values for Initial_Water\n",
    "Test_Values = numpy.array([0.0, 5.0, 10.0, 15.0, 20.0])\n",
    "\n",
    "# Set up a loop over these values to call the model with each possible value\n",
    "for i in range(len(Test_Values)):\n",
    "    All_Time, All_Water = bathtub_model(Initial_Water=Test_Values[i])\n",
    "    pyplot.plot(All_Time,All_Water)\n",
    "\n",
    "    # Add axis labels and units\n",
    "    pyplot.xlabel('time (seconds)')\n",
    "    pyplot.ylabel('Volume of water in bathtub (L)')\n",
    "    pyplot.title('Change in water volume as a function of time and initial volume')\n",
    "\n",
    "    # Show the plot\n",
    "    pyplot.show()   "
   ]
  },
  {
   "cell_type": "markdown",
   "metadata": {},
   "source": [
    "## Adding multiple curves to one plot\n",
    "\n",
    "It is more informative to show all the curves in one plot. We can do this by calling the plot command in our loop, but not calling the show command until the loop is complete."
   ]
  },
  {
   "cell_type": "code",
   "execution_count": null,
   "metadata": {},
   "outputs": [],
   "source": [
    "# Set up an array of possible values for Initial_Water\n",
    "Test_Values = numpy.array([0.0, 5.0, 10.0, 15.0, 20.0])\n",
    "\n",
    "# Set up a loop over these values to call the model with each possible value\n",
    "# Each time, add a line to the plot\n",
    "for i in range(len(Test_Values)):\n",
    "    All_Time, All_Water = bathtub_model(Initial_Water=Test_Values[i])\n",
    "    pyplot.plot(All_Time,All_Water)\n",
    "\n",
    "# Add axis labels and units\n",
    "pyplot.xlabel('time (seconds)')\n",
    "pyplot.ylabel('Volume of water in bathtub (L)')\n",
    "pyplot.title('Change in water volume as a function of time and initial volume')\n",
    "\n",
    "# Show the plot\n",
    "pyplot.show()        "
   ]
  },
  {
   "cell_type": "markdown",
   "metadata": {},
   "source": [
    "That was easy! <font face=courier>pyplot</font> was even smart enough to use  different colours! Of course, we might like to know which one is which, and for that we need to add a ***legend*** to the plot. As with most things in <font face=courier>pyplot</font>, adding a legend is straightforward:"
   ]
  },
  {
   "cell_type": "code",
   "execution_count": null,
   "metadata": {},
   "outputs": [],
   "source": [
    "# Set up an array of possible values for Initial_Water\n",
    "Test_Values = numpy.array([0.0, 5.0, 10.0, 15.0, 20.0])\n",
    "\n",
    "# Set up a loop over these values to call the model with each possible value\n",
    "# Each time, add a line to the plot\n",
    "for i in range(len(Test_Values)):\n",
    "    All_Time, All_Water = bathtub_model(Initial_Water=Test_Values[i])\n",
    "    pyplot.plot(All_Time,All_Water,label=Test_Values[i])\n",
    "\n",
    "# Add axis labels and units\n",
    "pyplot.xlabel('time (seconds)')\n",
    "pyplot.ylabel('Volume of water in bathtub (L)')\n",
    "pyplot.title('Change in water volume as a function of time and initial volume')\n",
    "\n",
    "# Add legend\n",
    "pyplot.legend(title='Initial Volume (L)')\n",
    "    \n",
    "# Show the plot\n",
    "pyplot.show()        "
   ]
  },
  {
   "cell_type": "markdown",
   "metadata": {},
   "source": [
    "You should see two changes to our code above:\n",
    "1. We added <font face=courier>label='name for first line'</font> to each of the <font face=courier>pyplot.plot</font> commands. In this case, our label is the value of Initial_Water.\n",
    "2. We added a call to <font face=courier>pyplot.legend()</font> before calling <font face=courier>pyplot.show()</font>"
   ]
  },
  {
   "cell_type": "markdown",
   "metadata": {},
   "source": [
    "## <font color=blue>EXERCISE 3: BRINGING IT ALL TOGETHER</font><br>\n",
    "\n",
    "<font color=blue>This final exercise is designed to give you a chance to practice everything you have learned so far today (and in the last few weeks). Make sure to spend time thinking about what your answers **mean**.\n",
    "\n",
    "### EXERCISE 3a<br>\n",
    "Adapt the bathtub_model function so that the initial volume (*Initial_Water*) and the inflow rate (*Flow_In*) are **both** keyword arguments, and give them each a default value (10.0 for *Initial_Water* and 5.0 for *Flow_In*).\n",
    "\n",
    "***Do not delete the <font face=courier>%reset</font> in the cell below*** (this makes sure your program isn't just \"remembering\" something you did before). Each time you run you will see the message <font face=courier>Once deleted, variables cannot be recovered. Proceed (y/[n])?</font> - ***make sure to answer y.***"
   ]
  },
  {
   "cell_type": "code",
   "execution_count": null,
   "metadata": {},
   "outputs": [],
   "source": [
    "%reset\n",
    "import numpy\n",
    "import matplotlib.pyplot as pyplot\n",
    "% matplotlib inline\n",
    "\n",
    "# Define the function here\n"
   ]
  },
  {
   "cell_type": "markdown",
   "metadata": {},
   "source": [
    "### <font color=blue>EXERCISE 3b\n",
    "\n",
    "<font color=blue>Use your updated function to make a plot showing a sensitivity analysis for the inflow rate. Test 5 values for *Flow_In*, and make sure you can find values that show behaviour on either side of steady state (e.g., in our example above, values &gt;5.0 L led to a decrease in water volume, while values &lt;5.0 L led to an increase in water volume).\n",
    "\n",
    "Note: When you perform the sensitivity analysis, keep all other parameters constant at their default value so that you can evaluate the change. In this case, you should keep *Initial_Water* fixed at 10.0 L."
   ]
  },
  {
   "cell_type": "code",
   "execution_count": null,
   "metadata": {},
   "outputs": [],
   "source": [
    "# Set a range of test values here\n",
    "\n"
   ]
  },
  {
   "cell_type": "code",
   "execution_count": null,
   "metadata": {},
   "outputs": [],
   "source": [
    "# Call the function and make the plot here\n",
    "\n"
   ]
  },
  {
   "cell_type": "markdown",
   "metadata": {},
   "source": [
    "### <font color=blue>EXERCISE 3c\n",
    "\n",
    "<font color=blue>Use the plot you created in Exercise 3b to explain what is happening in the bathtub in these different scenarios. In your answer, include:<br>\n",
    "a. What happens to the water volume when the inflow rate is very large? Why?<br>\n",
    "b. What happens to the water volume when the inflow rate is very small? Why?<br>\n",
    "c. At what in-flow rate does the bathtub change from **losing** water to **gaining** water? Why? Can you relate that to any other parameters in the system?<br>\n",
    "d. What does it mean for the bathtub to be at steady state?"
   ]
  },
  {
   "cell_type": "code",
   "execution_count": null,
   "metadata": {
    "collapsed": true
   },
   "outputs": [],
   "source": [
    "# Answer the questions here\n",
    "\n"
   ]
  },
  {
   "cell_type": "markdown",
   "metadata": {},
   "source": [
    "### <font color=blue>EXERCISE 3d\n",
    "\n",
    "<font color=blue>Repeat Exercise 3b, but this time using a different value for *Initial_Water*. Does the system respond the same way to the different inflow rates? Why or why not?"
   ]
  },
  {
   "cell_type": "code",
   "execution_count": null,
   "metadata": {},
   "outputs": [],
   "source": [
    "# Set a range of test values here\n",
    "\n"
   ]
  },
  {
   "cell_type": "code",
   "execution_count": null,
   "metadata": {
    "scrolled": true
   },
   "outputs": [],
   "source": [
    "# Call the function and make the plot here\n",
    "\n"
   ]
  },
  {
   "cell_type": "code",
   "execution_count": null,
   "metadata": {
    "collapsed": true
   },
   "outputs": [],
   "source": [
    "# Answer the question here\n",
    "\n"
   ]
  },
  {
   "cell_type": "markdown",
   "metadata": {},
   "source": [
    "### <font color=purple>EXERCISE 4 -- EXTRA</font><br>\n",
    "\n",
    "<font color=purple>So far, we have been updating the water volume every second. Would we get a different answer if we updated every 2 second? Every 10 seconds? Every 0.2 seconds? Test each of these options, using the default parameters from the original scenario (Initial_Water = 10.0L, Flow_In = 0.5 L/s, Flow_Out_Coef = 0.1 1/s). Plot them all on the same graph. **Hint**: you should make elapsed_time a keyword, and you will need to use it when you define your time array!<br><br>\n",
    "\n",
    "Comment on the behaviour that you see. Using your graph (or better yet, a zoomed in version where behaviour is changing most), what would you say is an ***optimal*** value for elapsed_time? (By \"optimal\" we mean the largest value that is accurate. The larger the value, the faster the calculation)</font>"
   ]
  },
  {
   "cell_type": "code",
   "execution_count": null,
   "metadata": {
    "collapsed": true
   },
   "outputs": [],
   "source": [
    "# Define the function here\n"
   ]
  },
  {
   "cell_type": "code",
   "execution_count": null,
   "metadata": {},
   "outputs": [],
   "source": [
    "# Define values to use for elapsed_time, call the function, and plot\n",
    "\n"
   ]
  }
 ],
 "metadata": {
  "anaconda-cloud": {},
  "kernelspec": {
   "display_name": "Python 2",
   "language": "python",
   "name": "python2"
  },
  "language_info": {
   "codemirror_mode": {
    "name": "ipython",
    "version": 2
   },
   "file_extension": ".py",
   "mimetype": "text/x-python",
   "name": "python",
   "nbconvert_exporter": "python",
   "pygments_lexer": "ipython2",
   "version": "2.7.13"
  }
 },
 "nbformat": 4,
 "nbformat_minor": 1
}
