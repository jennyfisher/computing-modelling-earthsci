{
 "cells": [
  {
   "cell_type": "markdown",
   "metadata": {},
   "source": [
    "# Population modelling\n",
    "As in the previous practical, many of the details and parameters from this lab come from the STELLA version at: http://www3.geosc.psu.edu/~dmb53/DaveSTELLA/Population/pop_modeling.htm"
   ]
  },
  {
   "cell_type": "markdown",
   "metadata": {},
   "source": [
    "We are going to focus here on modelling change in the human population, since humans interactions with the environment have profound effects on both environmental and human processes. The \"anthroposphere\" is one of Earth's interconnected spheres!\n",
    "\n",
    "But you should also realise that many of the simple and general population models we explore can apply to any population, so (get excited biologists!) you could use similar models to explore the growth and pressures affecting populations of organisms.\n",
    "\n",
    "In each case, we greatly simplify things by assuming all individuals make up a single reservoir, without taking into account the fact that people in different age groups or geographical regions (for example) will be subject to different pressures."
   ]
  },
  {
   "cell_type": "markdown",
   "metadata": {},
   "source": [
    "## Simple exponential growth\n",
    "The simplest population model we can imagine consists of one reservoir representing all of the individuals of a population, with a flux in and a flux out. We are interested here in **global** population, so movement around the globe (e.g. immigration) doesn't change the size of the reservoir.\n",
    "\n",
    "This means the fluxes affecting the reservoir are:\n",
    "1. Births -- a flux in\n",
    "2. Deaths -- a flux out.\n",
    "\n",
    "Both of these will be a function of the total population (***why?***) as well as the birth and death rates (i.e. the percentage of the population being born or dying at any given time).\n",
    "\n",
    "So the population at any particular time will be the population at the previous time + the number of births that have occurred - the number of deaths that have occurred."
   ]
  },
  {
   "cell_type": "markdown",
   "metadata": {},
   "source": [
    "### Our Basic Population model\n",
    "\n",
    "Let's warm up our modelling muscles today by constructing this simple model. We are going to start from this and adapt throughout the practical, so **MAKE SURE YOU UNDERSTAND WHAT IT IS DOING BEFORE YOU MOVE ON!!**. Use your work from previous weeks to help you out! It would also be a good idea to draw a diagram for your model to get things going.\n",
    "\n",
    "First, we will define the model (function). For now we will assume the death rate is constant at 10%, but we will make  the birth rate an **argument (input)** to the function.\n",
    "\n",
    "The total number of births (births per year) will be the birth rate (births per person per year) multiplied by the population. Similarly, the total number of deaths (deaths per year) will be the death rate (deaths per person per year) multiplied by the population.\n",
    "\n",
    "We will also assume the following:\n",
    "- the initial population is 100 people\n",
    "- a time step of 1 year is sufficient\n",
    "- we are interested in the population change over 100 years\n",
    "\n",
    "Finally, we need to be a little bit careful at the end. The population can't ever be less than zero, so we make sure to add an <font face=courier color=green>if</font> statement to prevent negative people!"
   ]
  },
  {
   "cell_type": "code",
   "execution_count": null,
   "metadata": {
    "collapsed": true
   },
   "outputs": [],
   "source": [
    "import numpy\n",
    "import matplotlib.pyplot as pyplot\n",
    "%matplotlib inline\n",
    "\n",
    "# Define a simple population model\n",
    "def simple_population_model(Total_Time, birth_rate=0.15):\n",
    "    \n",
    "    # Variables\n",
    "    #-----------\n",
    "    # Total_Time - number of years to run the model\n",
    "    # birth_rate - rate of new births per year\n",
    "    # death_rate - rate of deaths per year\n",
    "    death_rate=0.10\n",
    "    \n",
    "    # Set up time array: Use spacing based on time step (1 year) and total run time\n",
    "    time = numpy.arange(0,Total_Time,step=1)\n",
    "    \n",
    "    # Set up population array to track change over time\n",
    "    Population = numpy.zeros(len(time))\n",
    "    \n",
    "    # Set initial condition - Population = 100\n",
    "    Population[0] = 100\n",
    "    \n",
    "    # Loop over time steps\n",
    "    for i in range(1,len(time)):\n",
    "        \n",
    "        # Calculate the number of births that happened over the last year\n",
    "        #   based on the population at the previous time [i-1]\n",
    "        Births = birth_rate * Population[i-1]\n",
    "        \n",
    "        # Calculate the number of deaths that happened over the last year\n",
    "        #   based on the population at the previous time [i-1]\n",
    "        Deaths = death_rate * Population[i-1]\n",
    "        \n",
    "        # At each time [i], calculate the population now (at time = i) based on the population\n",
    "        #   at the previous time [i-1] and how many births and deaths have occurred\n",
    "        Population[i] = Population[i-1] + Births - Deaths\n",
    "        \n",
    "        # Makes sure the population is never less than zero\n",
    "        if Population[i] < 0:\n",
    "            Population[i] = 0\n",
    "        \n",
    "    return time,Population"
   ]
  },
  {
   "cell_type": "markdown",
   "metadata": {},
   "source": [
    "## <font color=blue>EXERCISE 1</font>\n",
    "\n",
    "<font color=blue>Using the model above, perform a sensitivity study using different values of birth rates:<br><br>\n",
    "\n",
    "- birth rate = 15% (0.15)<br>\n",
    "- birth rate = 10% (0.10)<br>\n",
    "- birth rate = 5% (0.05)<br><br>\n",
    "\n",
    "For each pair, plot the population (y-axis) as a function of time (x-axis) - all on one graph.<br><br></font>\n",
    "\n",
    "<font color=purple>**Hint**: You won't be able to see much with a linear plot, so try making a second version of the plot where you show the logarithm of the population (use <font face=courier>numpy.log10(Population)</font>) or where you use a logarithmic y-axis (use <font face=courier>pyplot.yscale('log')</font>).</font>"
   ]
  },
  {
   "cell_type": "code",
   "execution_count": null,
   "metadata": {
    "collapsed": false
   },
   "outputs": [],
   "source": [
    "# Set birth rate scenarios\n",
    "\n",
    "\n",
    "# Loop over the pairs of birth rate values, run the model for 100 years, and plot the results\n",
    "for i in range(len(test_BR)):\n",
    "    time,Pop = simple_population_model(100,test_BR[i])\n",
    "    pyplot.plot(time,Pop,label=test_BR[i])\n",
    "\n",
    "    \n",
    "# If you have extra time, also plot on a log scale.\n",
    "\n"
   ]
  },
  {
   "cell_type": "markdown",
   "metadata": {},
   "source": [
    "## S-shaped growth and carrying capacity\n",
    "Not many populations grow exponentially for very long -- there are various limitations imposed by the world in which the population grows. In many cases, a population will reach what is called the carrying capacity of its ecosystem, and as this capacity is reached, the population dynamics change and approach a steady state (births = deaths). This kind of growth behavior is simpler than you might expect, and results from some basic assumptions.\n",
    "\n",
    "As an example, let's assume that as the population increases, the population density goes up (i.e., people live closer together), making it easier for diseases to spread, and also resulting in fewer resources per individual, which lowers the health of the average individual and makes them more susceptible to disease. The net effect is that as the population increases, the death rate increases.\n",
    "\n",
    "In our model, we can represent this by making the death rate a function of the population variable, rather than a constant value. For now, assume that the death rate increases **linearly** from 0 to 1 (100%) as the population increases from 0 to 10,000 people. In other words:<br><br>\n",
    "***If Population <= 10000***:\n",
    "$$death\\_rate = Population / 10000.0$$\n",
    "***Otherwise***:\n",
    "$$death\\_rate = 1.0$$"
   ]
  },
  {
   "cell_type": "markdown",
   "metadata": {},
   "source": [
    "## <font color=blue>EXERCISE 2a</font><br>\n",
    "\n",
    "<font color=blue>Adapt the model from above (copied below) to take into account the varying death rate. (Look for the section labeled MISSING CODE.)<br><br>\n",
    "\n",
    "**Hint**: Death rate will now be calculated **inside** your for loop, and it will need an if statement that checks what the Population was *one moment ago* (how do we represent that in python? `i`? `i-1`? `i+1?`).</font>"
   ]
  },
  {
   "cell_type": "code",
   "execution_count": null,
   "metadata": {
    "collapsed": true
   },
   "outputs": [],
   "source": [
    "# Define a new model that represents S-Shaped Population Growth\n",
    "def s_shaped_population_model(Total_Time, birth_rate=0.15):\n",
    "    \n",
    "    # Variables\n",
    "    #-----------\n",
    "    # Total_Time - number of years to run the model\n",
    "    # birth_rate - rate of new births per year\n",
    "    # death_rate - rate of deaths per year\n",
    "    \n",
    "    # Set up time array: Use spacing based on time step (1 year) and total run time\n",
    "    time = numpy.arange(0,Total_Time,step=1)\n",
    "    \n",
    "    # Set up population array to track change over time\n",
    "    Population = numpy.zeros(len(time))\n",
    "    \n",
    "    # Set initial condition - Population = 100\n",
    "    Population[0] = 100\n",
    "    \n",
    "    # Loop over time steps\n",
    "    for i in range(1,len(time)):\n",
    "        \n",
    "        # Calculate the number of births that happened over the last year\n",
    "        #   based on the population at the previous time [i-1]\n",
    "        Births = birth_rate * Population[i-1]\n",
    "        \n",
    "        # What is the death rate now?\n",
    "        # FILL IN MISSING CODE HERE\n",
    "        \n",
    "        # Calculate the number of deaths that happened over the last year\n",
    "        #   based on the population at the previous time [i-1]\n",
    "        Deaths = death_rate * Population[i-1]\n",
    "        \n",
    "        # At each time [i], calculate the population now (at time = i) based on the population\n",
    "        #   at the previous time [i-1] and how many births and deaths have occurred\n",
    "        Population[i] = Population[i-1] + Births - Deaths\n",
    "        \n",
    "        # Makes sure the population is never less than zero\n",
    "        if Population[i] < 0:\n",
    "            Population[i] = 0\n",
    "        \n",
    "    return time,Population"
   ]
  },
  {
   "cell_type": "markdown",
   "metadata": {},
   "source": [
    "## <font color=blue>EXERCISE 2b</font><br>\n",
    "\n",
    "<font color=blue>Use your updated model to perform a sensitivity test using the same birth rate scenarios as before (5%, 10%, 15%). Plot the population (y-axis) as a function of time (x-axis) - all on one graph. A linear scale is fine for this exercise. **Make sure you use the model called <font face=courier>s_shaped_population_model</font>, not <font face=courier>simple_population_model</font> from above.**"
   ]
  },
  {
   "cell_type": "code",
   "execution_count": null,
   "metadata": {
    "collapsed": false
   },
   "outputs": [],
   "source": [
    "# Define array of birth rate values\n",
    "\n",
    "\n",
    "\n",
    "# Calculate and plot results for different birth rates\n",
    "\n"
   ]
  },
  {
   "cell_type": "markdown",
   "metadata": {},
   "source": [
    "## <font color=blue>EXERCISE 2c</font><br>\n",
    "\n",
    "<font color=blue>\n",
    "- How is the system evolving *before* reaching steady state?<br>\n",
    "- Why do you think the population reaches a stable level?<br>\n",
    "- Can you make a guess about what the death rate might be at steady state? (Bonus: How could you test your guess?)</font>"
   ]
  },
  {
   "cell_type": "code",
   "execution_count": null,
   "metadata": {
    "collapsed": true
   },
   "outputs": [],
   "source": [
    "\n",
    "\n"
   ]
  },
  {
   "cell_type": "markdown",
   "metadata": {},
   "source": [
    "## Overshoot and collapse\n",
    "In the last model, the population found its steady state in a smooth manner; the rate of change decreased as the carrying capacity was approached. But this is not always the case; sometimes the population's growth rate does not decline fast enough as the carrying capacity is reached, leading to overshoot, which is usually followed by a collapse. One way of interpreting this is that the population does not process information about its condition fast enough to change its growth rate.\n",
    "\n",
    "A classic example comes from World War II. In short, the US Coast Guard introduced 29 reindeer to a small Arctic island to serve as a food source if needed. After the war, the island was abandoned. The reindeer had no predators but abundant food, and their population grew to 6,000 by 1963. However, the island was small and there wasn't enough food to sustain them. Over the next few years, there was a massive die-off, with only 42 reindeer left in 1966 and none by the 1980s. You can read the story in comic form here: http://www.stuartmcmillen.com/comics_en/st-matthew-island/#page-1\n",
    "\n",
    "To model this kind of system, we need to add a new **reservoir** to our model to represent the resources. Here we will keep this generic, but you can think of it as representing everything finite the population needs to survive (energy, fresh water, arable land for food production, ...). The size of the Resources reservoir will depend on the size of the Population reservoir, and vice versa.\n",
    "\n",
    "Before we construct the model, let's work through some important ideas and assumptions one by one.\n",
    "\n",
    "1. **Resources**: Resources will decline based on how many resources each person uses in a given year. Since Resources are generic for now, let's assume each person typically consumes 1 resource per year. We are assuming there are no new sources of resources. So:\n",
    "$$Resources\\_Used = 1 * Population$$\n",
    "\n",
    "2. **Resources per person**: The death rate will depend on the remaining resources per person. We can easily represent \"resources per person\" mathematically:\n",
    "$$resources\\_per\\_person = \\frac{Resources}{Population}$$\n",
    "\n",
    "3. **Death rate**: We can safely assume that when resources are abundant, the death rate is not affected by the amount of resources. In that state, we can assume death rate is a constant reflecting things like disease and old age. But once the amount of resources gets low, the death percent begins to increase, reflecting the idea that with fewer resources, living conditions will deteriorate, making survival more difficult. To simplify this relationship in our model, we will assume the death rate is 10% when there are at least 9 resources per person, and that below this the death rate increases linearly with decreasing resources according to the following equation. In other words:<br>\n",
    "**If resources per person are >=9, then**:\n",
    "$$death\\_rate = 0.10$$\n",
    "**Otherwise**:\n",
    "$$death\\_rate = -0.1 * resources\\_per\\_person + 1.0$$\n",
    "\n",
    "4. **Population**: As in our previous models, the population depends on the birth rate and the death rate. The death rate is now dependent on resource availability, but this complexity should be built into the equation for death rate so the equation for population won't need to change."
   ]
  },
  {
   "cell_type": "markdown",
   "metadata": {},
   "source": [
    "## <font color=blue>EXERCISE 3a</font><br>\n",
    "\n",
    "<font color=blue>With these assumptions in place, we will adapt the model from Exercise 2 and **give it a new name**: `overshoot_population_model`.<br><br>\n",
    "\n",
    "We will need to add a new reservoir for resources, and:<br>\n",
    "1. Initialise it as an array full of zeros (**`numpy.zeros(...)`**)<br>\n",
    "2. Set the intial condition (value in the first space, i.e. **`Resources[0]`**) - we will assume 5000.<br>\n",
    "3. Add a new variable called **`resources_per_person`** that is calculated using `Resources` and `Population` every time we go around the loop.<br>\n",
    "4. Use **`resources_per_person`** to calculate a new value for **`death_rate`** every time wego around the loop.<br>\n",
    "5. Update the value in **`Resources[i]`** every time we go around the loop.<br>\n",
    "6. Use an `if` statement to make sure the value of **`Resources` is never less than 0** (no negative resources)<br>\n",
    "7. Add `Resources` to the list of variables that are **returned** by the function.<br><br>\n",
    "\n",
    "Much of the necessary code is already in place below. Fill in the missing parts.</font>"
   ]
  },
  {
   "cell_type": "code",
   "execution_count": null,
   "metadata": {
    "collapsed": true
   },
   "outputs": [],
   "source": [
    "# Define a new model to represent the overshoot & collapse\n",
    "def overshoot_population_model(Total_Time, birth_rate=0.15):\n",
    "    \n",
    "    # Variables\n",
    "    #-----------\n",
    "    # Total_Time - number of years to run the model\n",
    "    # birth_rate - rate of new births per year\n",
    "    # death_rate - rate of deaths per year\n",
    "    \n",
    "    # Set up time array: Use spacing based on elapsed_time and Total_Time\n",
    "    time = numpy.arange(0,Total_Time,step=1)\n",
    "    \n",
    "    # Set up arrays to track change over time\n",
    "    Population = numpy.zeros(len(time))\n",
    "    \n",
    "    # Set up Resources array to track change over time\n",
    "    # FILL IN MISSING CODE (Hint: should look like Population code!)\n",
    "    \n",
    "    # Set initial condition - Population = 100\n",
    "    Population[0] = 100\n",
    "\n",
    "    # Set initial conditions - Resoures = 5000\n",
    "    # FILL IN MISSING CODE (Hint: should look like Population code!)\n",
    "    \n",
    "    # Loop over time steps\n",
    "    for i in range(1,len(time)):\n",
    "        \n",
    "        # Resources per person is the relationship between the two reservoirs\n",
    "        # one moment ago (at i-1)\n",
    "        resources_per_person = Resources[i-1]/Population[i-1]\n",
    "        \n",
    "        # death_rate now depends on the resources per person available\n",
    "        # FILL IN MISSING CODE - we will need an if statement here!\n",
    "        \n",
    "        # Calculate the number of births that happened over the last year\n",
    "        #   based on the population at the previous time [i-1]\n",
    "        Births = birth_rate * Population[i-1]\n",
    "        \n",
    "        # Calculate the number of deaths that happened over the last year\n",
    "        #   based on the population at the previous time [i-1]\n",
    "        Deaths = death_rate * Population[i-1]\n",
    "        \n",
    "        # Population at time t is population the year before, plus the births, minus the deaths\n",
    "        Population[i] = Population[i-1] + Births - Deaths\n",
    "        \n",
    "        # Population can't be less than zero!\n",
    "        if Population[i] < 0:\n",
    "            Population[i] = 0    \n",
    "\n",
    "        # How many resources were used up? 1 resource for each person\n",
    "        Resources_Used = 1.0 * Population[i-1]\n",
    "        \n",
    "        # Resources at time i is resources we had before minus the consumption\n",
    "        # FILL IN MISSING CODE HERE (Hint: this should look like the population code, \n",
    "                                         # except we have no \"Births\" and\n",
    "                                         # Resources_Used is just like \"Deaths\")\n",
    "        \n",
    "        # Resources can't be less than zero!\n",
    "        # FILL IN MISSING CODE (Hint: should look like Population code!)\n",
    "        \n",
    "        \n",
    "    return time,Population,Resources"
   ]
  },
  {
   "cell_type": "markdown",
   "metadata": {},
   "source": [
    "## <font color=blue>EXERCISE 3b</font><br>\n",
    "\n",
    "<font color=blue>Assuming a birth rate of 15%, run the updated model make three plots:<br>\n",
    "1. Population (y-axis) as a function of time(x-axis).<br>\n",
    "2. Resources (y-axis) as a function of time(x-axis).<br>\n",
    "2. Population (y-axis) as a function of Resources (x-axis).</font>"
   ]
  },
  {
   "cell_type": "code",
   "execution_count": null,
   "metadata": {
    "collapsed": false
   },
   "outputs": [],
   "source": [
    "# run the model\n",
    "\n",
    "\n",
    "# Plot the results\n",
    "\n",
    "\n"
   ]
  },
  {
   "cell_type": "markdown",
   "metadata": {},
   "source": [
    "## <font color=blue>EXERCISE 3c</font><br>\n",
    "\n",
    "<font color=blue>\n",
    "- How do population and resources change with time? How do they change with one another?<br>\n",
    "- What is the peak value of the population, and when does it occur? (roughly, just read the approximate year off the graph)<br>\n",
    "- Can you make a guess about when the death rate is higher than the birth rate, when it is equal, and when it is lower?</font><br><br>\n",
    "\n",
    "<font color=purple>If you want an exact answer for the second question, try using <font face=courier>numpy.max()</font> and <font face=courier>numpy.argmax()</font>. You can learn more about them in the purple section of the Week 4 practical.</font>"
   ]
  },
  {
   "cell_type": "code",
   "execution_count": null,
   "metadata": {
    "collapsed": false
   },
   "outputs": [],
   "source": [
    "\n",
    "\n"
   ]
  },
  {
   "cell_type": "markdown",
   "metadata": {},
   "source": [
    "### Replenishing resources\n",
    "Sticking with the overshoot model, we are going to explore some modifications.\n",
    "\n",
    "This scenario explores what happens if resources are not finite but instead there is some process that adds to the resources. This can represent the impacts of technology. For example, while there is a finite supply of oil available from fossil fuels, technology that converts biological materials into oil can increase the overall pool."
   ]
  },
  {
   "cell_type": "markdown",
   "metadata": {},
   "source": [
    "## <font color=blue>EXERCISE 4a</font><br>\n",
    "\n",
    "<font color=blue>Adapt your model to include replenishing resources. We will do this by adding a new flux into the `Resources` reservoir, called `Resource_Inputs`.<br><br>\n",
    "\n",
    "1. Copy your model from 3a here.<br>\n",
    "2. Make `Resource_Inputs` an input (argument) to your function, with default value = 0.<br>\n",
    "3. Updated the line starting `Resources[i] =`... to include `Resource_Inputs`.<br><br>\n",
    "\n",
    "**Hint**: You can think of `Resources_Used` as being equivalent to `Deaths` and `Resource_Inputs` as equivalent to `Births`.</font>"
   ]
  },
  {
   "cell_type": "code",
   "execution_count": null,
   "metadata": {
    "collapsed": false
   },
   "outputs": [],
   "source": [
    "# Copy the model here and adapt as described above.\n",
    "\n"
   ]
  },
  {
   "cell_type": "markdown",
   "metadata": {},
   "source": [
    "## <font color=blue>EXERCISE 4b</font><br>\n",
    "\n",
    "<font color=blue>Use your adapted model to run a sensitivity test with resource inputs of 0 (the same as our previous model) and 50. Just like last time, make three plots (each showing resource inputs of 0 and 50 on the same plot):<br>\n",
    "1. Population (y-axis) as a function of time(x-axis).<br>\n",
    "2. Resources (y-axis) as a function of time(x-axis).<br>\n",
    "2. Population (y-axis) as a function of Resources (x-axis).</font>"
   ]
  },
  {
   "cell_type": "code",
   "execution_count": null,
   "metadata": {
    "collapsed": false
   },
   "outputs": [],
   "source": [
    "# Run the model with 0 and 50 resource inputs per year\n",
    "\n",
    "\n",
    "# Plot the results\n",
    "\n"
   ]
  },
  {
   "cell_type": "markdown",
   "metadata": {},
   "source": [
    "## <font color=blue>EXERCISE 4c</font><br>\n",
    "\n",
    "<font color=blue>\n",
    "- What is different between the two scenarios?<br>\n",
    "- How does the maximum population and the year when it occurs change between these scenarios?</font>"
   ]
  },
  {
   "cell_type": "code",
   "execution_count": null,
   "metadata": {
    "collapsed": false
   },
   "outputs": [],
   "source": []
  },
  {
   "cell_type": "markdown",
   "metadata": {},
   "source": [
    "## <font color=purple>EXERCISE 5a</font><br>\n",
    "\n",
    "<font color=purple>**Recycling resources**<br>\n",
    "This scenario explores what happens if resources are recyled. Just like in the previous exercise, this process adds to the available resources, but with the complication that the flux into Resources is a function of the flux out. In other words, the flux into resources should be a function of the resources used up at each time period.<br><br>\n",
    "\n",
    "Adapt your model from Exercise 4 to include recycling of resources. Make the Recycling_Rate an argument (input) to the function.</font>"
   ]
  },
  {
   "cell_type": "code",
   "execution_count": null,
   "metadata": {
    "collapsed": false
   },
   "outputs": [],
   "source": [
    "\n"
   ]
  },
  {
   "cell_type": "markdown",
   "metadata": {},
   "source": [
    "## <font color=purple>EXERCISE 5b</font><br>\n",
    "\n",
    "<font color=purple>Run a sensitivity test with a recycling rate of 0 (same as in the previous exercises) and a recylcing rate of 25% (0.25). Make the same set of plots as in the previous exercises.</font>"
   ]
  },
  {
   "cell_type": "code",
   "execution_count": null,
   "metadata": {
    "collapsed": false
   },
   "outputs": [],
   "source": [
    "\n"
   ]
  },
  {
   "cell_type": "markdown",
   "metadata": {},
   "source": [
    "## <font color=purple>EXERCISE 5c</font><br>\n",
    "\n",
    "<font color=purple>\n",
    "- What is different between the two scenarios?<br>\n",
    "- How does the maximum population and the year when it occurs change between these scenarios?</font>"
   ]
  },
  {
   "cell_type": "code",
   "execution_count": null,
   "metadata": {
    "collapsed": false
   },
   "outputs": [],
   "source": [
    "\n"
   ]
  }
 ],
 "metadata": {
  "anaconda-cloud": {},
  "kernelspec": {
   "display_name": "Python 2",
   "language": "python",
   "name": "python2"
  },
  "language_info": {
   "codemirror_mode": {
    "name": "ipython",
    "version": 2
   },
   "file_extension": ".py",
   "mimetype": "text/x-python",
   "name": "python",
   "nbconvert_exporter": "python",
   "pygments_lexer": "ipython2",
   "version": "2.7.12"
  }
 },
 "nbformat": 4,
 "nbformat_minor": 0
}
