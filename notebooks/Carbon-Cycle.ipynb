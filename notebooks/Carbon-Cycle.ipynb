{
 "cells": [
  {
   "cell_type": "markdown",
   "metadata": {},
   "source": [
    "# Global atmosphere-ocean carbon cycle\n",
    "\n",
    "As in previous practicals, many of the details and parameters from this lab come from the STELLA version at: http://globalchange.umich.edu/globalchange1/current/labs/Lab12_GlobalCarbon/Carbon.htm\n",
    "\n",
    "This week we are finally going to connect some of the Earth's spheres! Our framework here is the short-term global carbon cycle. Our goal is to model changes in atmospheric carbon since 1958, when observational records began at Mauna Loa in Hawaii -- and then compare them to observations.\n",
    "\n",
    "This time you get to build much of the model yourselves. The information below will tell you all you need to know about the reservoirs and fluxes to include in your model. All reservoir sizes are in Gigatons of Carbon (Gt C), and all fluxes are in Gt C/yr."
   ]
  },
  {
   "cell_type": "markdown",
   "metadata": {},
   "source": [
    "## Fluxes and reservoirs\n",
    "\n",
    "### Fluxes of carbon INTO the atmosphere are:\n",
    "- Land plant and soil respiration and deforestation: 121.8 Gt C/yr\n",
    "- Fossil fuel combustion (average value):  5.0 Gt C/yr\n",
    "\n",
    "### Fluxes of carbon OUT OF the atmosphere are:\n",
    "- Land plant photosynthesis and soil uptake: 120.0 Gt C/yr\n",
    "- Uptake by the surface ocean (depends on the amount of carbon in the atmosphere and ocean)\\*\n",
    "\n",
    "\\* The flux between the atmosphere and the ocean is a somewhat complicated function. This has been done for you in the code.\n",
    "\n",
    "### Fluxes of carbon INTO the surface ocean are:\n",
    "- Net upwelling from the deep ocean (and some from rivers): 10.0 Gt C/yr\n",
    "- Uptake from the atmosphere (depends on the amount of carbon in the atmosphere and ocean)\\*\n",
    "\n",
    "\\* The flux between the atmosphere and the ocean is a somewhat complicated function. This has been done for you in the code.\n",
    "\n",
    "### Fluxes of carbon OUT OF the surface ocean are:\n",
    "- Net downwelling and sinking biota: 10.0 Gt C/yr\n",
    "\n",
    "\n",
    "### Initial conditions:\n",
    "We are assuming initial conditions representative of 1958:\n",
    "- Atmosphere:        720.0 Gt C\n",
    "- Ocean:             842.0 Gt C"
   ]
  },
  {
   "cell_type": "markdown",
   "metadata": {},
   "source": [
    "## <font color=blue>Complete all the exercises now</font>"
   ]
  }
 ],
 "metadata": {
  "anaconda-cloud": {},
  "kernelspec": {
   "display_name": "Python 3",
   "language": "python",
   "name": "python3"
  },
  "language_info": {
   "codemirror_mode": {
    "name": "ipython",
    "version": 3
   },
   "file_extension": ".py",
   "mimetype": "text/x-python",
   "name": "python",
   "nbconvert_exporter": "python",
   "pygments_lexer": "ipython3",
   "version": "3.5.4"
  }
 },
 "nbformat": 4,
 "nbformat_minor": 1
}
