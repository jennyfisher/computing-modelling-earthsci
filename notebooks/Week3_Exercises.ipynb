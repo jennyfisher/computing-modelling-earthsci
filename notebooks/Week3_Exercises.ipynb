{
 "cells": [
  {
   "cell_type": "markdown",
   "metadata": {},
   "source": [
    "# Introduction to Programming in Python: Arrays & Plots"
   ]
  },
  {
   "cell_type": "markdown",
   "metadata": {},
   "source": [
    "# <font color=red>MAKE SURE TO EXECUTE THIS CELL BEFORE YOU START YOUR WORK!"
   ]
  },
  {
   "cell_type": "code",
   "execution_count": 1,
   "metadata": {
    "collapsed": true
   },
   "outputs": [],
   "source": [
    "import numpy"
   ]
  },
  {
   "cell_type": "markdown",
   "metadata": {},
   "source": [
    "## <font color=blue>EXERCISE 1a</font><br>\n",
    "\n",
    "<font color = blue>What kind of errors do you get if the brackets are wrong? Try out each of the examples below without changing anything so you see the error message, then fix the error.</font>"
   ]
  },
  {
   "cell_type": "markdown",
   "metadata": {},
   "source": [
    "<font color = blue>**i. Original**:</font>"
   ]
  },
  {
   "cell_type": "code",
   "execution_count": null,
   "metadata": {
    "collapsed": true,
    "scrolled": true
   },
   "outputs": [],
   "source": [
    "# Brackets in the wrong order\n",
    "K = numpy.array[(201,202,203,204)]\n",
    "print( K )"
   ]
  },
  {
   "cell_type": "markdown",
   "metadata": {},
   "source": [
    "<font color=blue>**i. Fixed**:</font>"
   ]
  },
  {
   "cell_type": "code",
   "execution_count": null,
   "metadata": {
    "collapsed": true,
    "scrolled": false
   },
   "outputs": [],
   "source": []
  },
  {
   "cell_type": "markdown",
   "metadata": {},
   "source": [
    "<font color = blue>**ii. Original**:</font>"
   ]
  },
  {
   "cell_type": "code",
   "execution_count": null,
   "metadata": {
    "collapsed": true
   },
   "outputs": [],
   "source": [
    "# One bracket in the wrong order\n",
    "K = numpy.array([205,206,207,208)]\n",
    "print( K )"
   ]
  },
  {
   "cell_type": "markdown",
   "metadata": {},
   "source": [
    "<font color=blue>**ii. Fixed**:</font>"
   ]
  },
  {
   "cell_type": "code",
   "execution_count": null,
   "metadata": {
    "collapsed": true,
    "scrolled": false
   },
   "outputs": [],
   "source": []
  },
  {
   "cell_type": "markdown",
   "metadata": {},
   "source": [
    "<font color = blue>**iii. Original**:</font>"
   ]
  },
  {
   "cell_type": "code",
   "execution_count": null,
   "metadata": {
    "collapsed": true
   },
   "outputs": [],
   "source": [
    "# Square brackets missing\n",
    "K = numpy.array(209,210,211,212)\n",
    "print( K )"
   ]
  },
  {
   "cell_type": "markdown",
   "metadata": {},
   "source": [
    "<font color=blue>**iii. Fixed**:</font>"
   ]
  },
  {
   "cell_type": "code",
   "execution_count": null,
   "metadata": {
    "collapsed": true,
    "scrolled": false
   },
   "outputs": [],
   "source": []
  },
  {
   "cell_type": "markdown",
   "metadata": {},
   "source": [
    "<font color = blue>**iv. Original**:</font>"
   ]
  },
  {
   "cell_type": "code",
   "execution_count": null,
   "metadata": {
    "collapsed": true
   },
   "outputs": [],
   "source": [
    "# Normal brackets missing\n",
    "K = numpy.array[213,214,215,216]\n",
    "print( K )"
   ]
  },
  {
   "cell_type": "markdown",
   "metadata": {},
   "source": [
    "<font color=blue>**iv. Fixed**:</font>"
   ]
  },
  {
   "cell_type": "code",
   "execution_count": null,
   "metadata": {
    "collapsed": true,
    "scrolled": false
   },
   "outputs": [],
   "source": []
  },
  {
   "cell_type": "markdown",
   "metadata": {},
   "source": [
    "## <font color=blue>EXERCISE 1b</font><br>\n",
    "\n",
    "<font color = blue>As you can tell from the examples above, we can put ANY values into a numpy array (and any number of values).<br>\n",
    "1. Make a new array named `S_planets` that stores the values of the solar flux at Venus (2643.0 W/m$^2$), Earth  (1366.0 W/m$^2$), and Mars  (593.0 W/m$^2$).<br>\n",
    "2. Make another new array named `A_planets` that stores the values of the albedo at Venus (0.8), Earth  (0.3), and Mars  (0.2).<br>\n",
    "3. Print the values of `S_planets` and `A_planets` along with text for each explaining which order the values are in and providing the units (look back to last week if you don't remember how to do this!).</font>"
   ]
  },
  {
   "cell_type": "code",
   "execution_count": null,
   "metadata": {
    "collapsed": true,
    "scrolled": true
   },
   "outputs": [],
   "source": []
  },
  {
   "cell_type": "markdown",
   "metadata": {},
   "source": [
    "## <font color=blue>EXERCISE 2</font><br>\n",
    "\n",
    "<font color = blue>Last time, we calculated the effective temperatures of Venus, Earth, and Mars using a program that looked something like this:</font>\n",
    "\n",
    "```\n",
    "# Program for computing the effective temperature of a planet\n",
    "\n",
    "# Set the Boltzmann Constant, in W/m^2/K^4\n",
    "sigma = 5.67e-8\n",
    "\n",
    "# Values for solar flux, in W/m2\n",
    "S_Venus = 2643.0\n",
    "S_Earth = 1366.0\n",
    "S_Mars = 593.0\n",
    "\n",
    "# Values for albedo, unitless\n",
    "A_Venus = 0.8\n",
    "A_Earth = 0.3\n",
    "A_Mars = 0.2\n",
    "\n",
    "# Perform the calculation for each planet, Te in K\n",
    "Te_Venus = ((S_Venus/(4*sigma))*(1-A_Venus))**0.25\n",
    "Te_Earth = ((S_Earth/(4*sigma))*(1-A_Earth))**0.25\n",
    "Te_Mars  = ((S_Mars/(4*sigma))*(1-A_Mars))**0.25\n",
    "\n",
    "# Print the output\n",
    "print( \"Venus: \",Te_Venus,\" K\" )\n",
    "print( \"Earth: \",Te_Earth,\" K\" )\n",
    "print( \"Mars: \",Te_Mars,\" K\" )\n",
    "```"
   ]
  },
  {
   "cell_type": "markdown",
   "metadata": {},
   "source": [
    "<font color=blue>Write a modified version of this program that:<br>\n",
    "1. Uses the variables <font face=courier>**S_planets**</font> and <font face=courier>**A_planets**</font> from Exercise 1b (instead of the individual S_Venus, S_Earth, etc.)<br>\n",
    "2. Calculates the effective temperatures of all three and stores them in the variable <font face=courier>**Te_planets**</font> (this should only be one line, not three)<br>\n",
    "3. Prints the effective temperatures, specifying the order and the units (again, one line not three)</font>"
   ]
  },
  {
   "cell_type": "code",
   "execution_count": null,
   "metadata": {
    "collapsed": true
   },
   "outputs": [],
   "source": [
    "# Program for computing the effective temperature of a planet\n",
    "\n"
   ]
  },
  {
   "cell_type": "markdown",
   "metadata": {},
   "source": [
    "## <font color=blue>EXERCISE 3a</font><br>\n",
    "\n",
    "<font color = blue>To familiarise yourself with <font face=courier>numpy.arange</font>, first play around with the following examples. Make sure you understand what happens when you change start, stop, or step.<br><br>\n",
    "\n",
    "Can you change ONE parameter in each of them to end up printing\n",
    "```\n",
    "[1  3  5  7  9]\n",
    "```\n",
    "?</font>"
   ]
  },
  {
   "cell_type": "raw",
   "metadata": {},
   "source": [
    "x1 = numpy.arange(1,21,2)"
   ]
  },
  {
   "cell_type": "code",
   "execution_count": null,
   "metadata": {
    "collapsed": true
   },
   "outputs": [],
   "source": []
  },
  {
   "cell_type": "raw",
   "metadata": {},
   "source": [
    "x2 = numpy.arange(1,10,4)"
   ]
  },
  {
   "cell_type": "code",
   "execution_count": null,
   "metadata": {
    "collapsed": true
   },
   "outputs": [],
   "source": []
  },
  {
   "cell_type": "raw",
   "metadata": {},
   "source": [
    "x3 = numpy.arange(0,10,2)"
   ]
  },
  {
   "cell_type": "code",
   "execution_count": null,
   "metadata": {
    "collapsed": true
   },
   "outputs": [],
   "source": []
  },
  {
   "cell_type": "markdown",
   "metadata": {},
   "source": [
    "## <font color=blue>EXERCISE 3b</font>\n",
    "\n",
    "<font color = blue>Use `numpy.arange` to print:<br>\n",
    "1. multiples of 5 from 25 to 50 (inclusive)<br>\n",
    "2. value of 0 to 1 in intervals of 0.1 (**hint**: ```step``` can be a number smaller than 1!</font>"
   ]
  },
  {
   "cell_type": "code",
   "execution_count": null,
   "metadata": {
    "collapsed": true
   },
   "outputs": [],
   "source": []
  },
  {
   "cell_type": "markdown",
   "metadata": {},
   "source": [
    "## <font color=blue>EXERCISE 4a</font><br>\n",
    "\n",
    "<font color=blue>1. Define an array called `pi_values` that contains the following values:\n",
    "`3 1 4 1 5 9`<br>\n",
    "**Hint**: use `numpy.array`, not `numpy.arange`.<br><br>\n",
    "\n",
    "2. Use the appropriate index of `pi_values` to print the value 4 (in other words, the **output** of your program should be `4`).</font>"
   ]
  },
  {
   "cell_type": "code",
   "execution_count": null,
   "metadata": {
    "collapsed": true
   },
   "outputs": [],
   "source": []
  },
  {
   "cell_type": "markdown",
   "metadata": {},
   "source": [
    "## <font color=blue>EXERCISE 4b</font><br>\n",
    "<font color=blue>Use `len` to find and print the number of elements in `pi_values`.</font>"
   ]
  },
  {
   "cell_type": "code",
   "execution_count": null,
   "metadata": {
    "collapsed": true,
    "scrolled": true
   },
   "outputs": [],
   "source": []
  },
  {
   "cell_type": "markdown",
   "metadata": {},
   "source": [
    "## <font color=blue>EXERCISE 4c</font>\n",
    "<font color=blue>Use ***indexing*** of `pi_values` to change all of its values to 1. (Obviously there are smarter ways to do this, but this exercise will give you some practice changing arrays using indexing.) When you're done, it should look like this:</font>\n",
    "`[1 1 1 1 1 1]`"
   ]
  },
  {
   "cell_type": "code",
   "execution_count": null,
   "metadata": {
    "collapsed": true,
    "scrolled": true
   },
   "outputs": [],
   "source": []
  },
  {
   "cell_type": "markdown",
   "metadata": {},
   "source": [
    "## <font color=purple>OPTIONAL EXERCISE 4d</font><br>\n",
    "\n",
    "<font color=purple>Now use ***negative*** indexing of `pi_values` to print the value **4**.</font>"
   ]
  },
  {
   "cell_type": "code",
   "execution_count": null,
   "metadata": {
    "collapsed": true
   },
   "outputs": [],
   "source": []
  },
  {
   "cell_type": "markdown",
   "metadata": {},
   "source": [
    "## <font color=purple>OPTIONAL EXERCISE 4e</font><br>\n",
    "\n",
    "<font color=purple>Now use ***slicing*** of <font face=courier>pi_values</font> to print the values `1 4 1 5`.<br><br>\n",
    "\n",
    "Need an extra challenge? Find TWO DIFFERENT ways to do this.</font>"
   ]
  },
  {
   "cell_type": "code",
   "execution_count": null,
   "metadata": {
    "collapsed": true
   },
   "outputs": [],
   "source": []
  },
  {
   "cell_type": "markdown",
   "metadata": {},
   "source": [
    "## <font color=blue>EXERCISE 5: BRINGING IT ALL TOGETHER</font><br>\n",
    "\n",
    "<font color=blue>This final exercise is designed to give you a chance to practice everything you have learned so far today (and last week). Make sure to spend time thinking about what your answers **mean**.\n",
    "\n",
    "This week, we'll start developing an understanding of Daisyworld, a fictional planet that provides a great framework for understanding interconnections between life and climate. The Daisyworld climate system is described in detail in Chapter 2 of the textbook. Briefly, Daisyworld is a very simple planet with only one species of life on its surface: pure white daisies. The rest of the planet is covered by gray soil. The daisies receive energy from the sun and nutrients from the soil. The atmosphere has no clouds or greenhouse gases.<br><br>\n",
    "\n",
    "At any given time, daisies can cover anything between 0% and 100% of the surface of the planet. The rest of the planet is covered by soil.\n",
    "\n",
    "Today, we are going to determine how the temperature of the planet changes with the fraction of the planet covered by flowers.\n",
    "\n",
    "### EXERCISE 5a\n",
    "\n",
    "First we will define arrays that represent the possible values for the fraction of the planet covered by flowers and the fraction covered by soil.\n",
    "\n",
    "**For this exercise:**\n",
    "1. Define an array (using either `numpy.arange` OR `numpy.array`) that represents the fraction of the planet covered by flowers, ranging from 0.0 (0%) to 1.0 (100%) in steps of 0.1.\n",
    "2. Using the array you defined in step 1, define a new array that represents the fraction of the planet covered by soil. **Hint:** Any part of the surface that is not covered in flowers must be covered in soil, so the fraction covered by soil is always 1 - (fraction covered by flowers).\n",
    "3. Print the values of both arrays. If your program is working properly, the fraction covered by flowers should start at 0 end end at 1, while the fraction covered by soil should start at 1 and end at 0.\n",
    "\n",
    "***Do not delete the <font face=courier>%reset</font> in the cell below*** (this makes sure your program isn't just \"remembering\" something you did before)."
   ]
  },
  {
   "cell_type": "code",
   "execution_count": null,
   "metadata": {
    "collapsed": true
   },
   "outputs": [],
   "source": [
    "%reset -s -f\n",
    "import numpy\n",
    "import matplotlib.pyplot as pyplot\n",
    "%matplotlib inline\n",
    "\n",
    "# Program for defining the fraction of the planet covered by flowers and the fraction covered by soil\n",
    "# YOUR CODE STARTS HERE\n",
    "\n"
   ]
  },
  {
   "cell_type": "markdown",
   "metadata": {},
   "source": [
    "### <font color=blue>EXERCISE 5b</font>\n",
    "\n",
    "<font color=blue>Now we will work out the **albedo** of Daisyworld. *Remember that albedo is the fraction of incoming energy that is reflected.*\n",
    "\n",
    "On Daisyworld: \n",
    "* flowers have an albedo of 0.75\n",
    "* soil has an albedo of 0.4\n",
    "\n",
    "The overall albedo of the planet depends on how much of the planet is covered by flowers, and how much by bare soil. For example:\n",
    "* If 100% of the planet is bare soil, the planetary albedo would be $0.4$\n",
    "* If 100% of the planet is flowers, the planetary albedo would be $0.75$\n",
    "* If 50% of the planet is bare soil and 50% is flowers, the planetary albedo would be $0.50\\times0.4+0.50\\times0.75=0.58$\n",
    "* If 20% of the planet is bare soil and 80% is flowers, the planetary albedo would be $0.20\\times0.4+0.80\\times0.75=0.68$\n",
    "* etc.\n",
    "\n",
    "**For this exercise:**\n",
    "1. Use the arrays you created in Exercise 5a to define a new array that calculates the albedo of the planet.\n",
    "2. Print the total number of values in the new array.\n",
    "3. Print the first value in the new array.\n",
    "4. Print all the values of the new array.\n",
    "\n",
    "\n",
    "**Hint 1:** Before you try to write your program, use paper and pencil to write out the equation for albedo. Look at the examples above to help you here.<br>\n",
    "**Hint 2:** When your program is working properly, you should get the following values for the albedo:\n",
    "```\n",
    "[0.4   0.435 0.47  0.505 0.54  0.575 0.61  0.645 0.68  0.715 0.75 ]\n",
    "```"
   ]
  },
  {
   "cell_type": "code",
   "execution_count": null,
   "metadata": {
    "collapsed": true
   },
   "outputs": [],
   "source": []
  },
  {
   "cell_type": "markdown",
   "metadata": {},
   "source": [
    "### <font color=blue>EXERCISE 5c</font>\n",
    "\n",
    "<font color=blue>Remember from the lectures and the last practical (also Chapter 3 in the textbook) that the temperature of a planet without an atmosphere is called the *effective temperature* of a planet ($T_e$, in Kelvin) and can be calculated from the formula:\n",
    "$$T_e = \\left (\\dfrac{S}{4\\sigma}*(1-A) \\right )^{0.25}$$\n",
    "\n",
    "where:\n",
    "\n",
    "* $\\sigma$ is the Stefan-Boltzmann constant, equal to $5.67\\times 10^{-8}$ W/m$^2$/K$^4$\n",
    "* S is the solar flux reaching the surface of the planet, in W/m$^2$\n",
    "* A is the albedo.\n",
    "\n",
    "On Daisyworld:\n",
    "* the solar flux is 3700 W/m$^2$.\n",
    "\n",
    "**For this exercise**:\n",
    "1. Use the albedo array you created in Exercise 5b to define a new array for the effective temperature of the Daisyworld.\n",
    "2. **Plot** effective temperature as a function of the fraction of the planet covered by flowers (effective temperature should be on the y-axis).\n",
    "\n",
    "**Hint 1:** You may want to copy your solution from last week's practical to make this easier - just remember to update the solar flux!<br>\n",
    "**Hint 2:** Make sure your plot has a title and axes labels.<br>\n",
    "**Hint 3:** Think about whether your temperature values *make sense*. How warm or cold should a planet be? In our solar system, the effective temperatures of the inner planets range from 209 K (-64$^\\circ$C) to 437 K (163$^\\circ$C). If your Daisyworld temperatures are much hotter or much colder than that range, you probably have an error somewhere - check your brackets!!"
   ]
  },
  {
   "cell_type": "code",
   "execution_count": null,
   "metadata": {
    "collapsed": true,
    "scrolled": true
   },
   "outputs": [],
   "source": []
  },
  {
   "cell_type": "markdown",
   "metadata": {},
   "source": [
    "### <font color=blue>EXERCISE 5d</font>\n",
    "\n",
    "<font color=blue>Think about the behaviour you see in the plot above, and answer the following questions as comments in the next box:\n",
    "1. How does the temperature of a planet change as the number of flowers increases? Why?\n",
    "2. Imagine Daisyworld was completely covered by flowers until a plague struck, killing off all the flowers. Would the planet warm up or cool down?\n",
    "3. What if the flowers on Daisyworld were pure black instead of pure white? Would you see the same relationship between flower coverage and temperature? Why or why not?"
   ]
  },
  {
   "cell_type": "code",
   "execution_count": null,
   "metadata": {
    "collapsed": true
   },
   "outputs": [],
   "source": [
    "# Use as many lines as you need\n",
    "\n",
    "# Q1\n",
    "#---\n",
    "# \n",
    "# \n",
    "# \n",
    "\n",
    "# Q2\n",
    "#---\n",
    "# \n",
    "# \n",
    "# \n",
    "# \n",
    "# \n",
    "\n",
    "# Q3\n",
    "#---\n",
    "# \n",
    "# \n",
    "# \n",
    "# "
   ]
  },
  {
   "cell_type": "markdown",
   "metadata": {},
   "source": [
    "## <font color=purple>OPTIONAL EXERCISE 6</font>\n",
    "\n",
    "<font color=purple>Use the results from Exercise 5, combined with numpy functions, to find the maximum and minimum values of albedo and effective temperature, and the corresponding fraction of flowers."
   ]
  },
  {
   "cell_type": "code",
   "execution_count": null,
   "metadata": {
    "collapsed": true
   },
   "outputs": [],
   "source": []
  }
 ],
 "metadata": {
  "anaconda-cloud": {},
  "kernelspec": {
   "display_name": "Python [conda env:py3]",
   "language": "python",
   "name": "conda-env-py3-py"
  },
  "language_info": {
   "codemirror_mode": {
    "name": "ipython",
    "version": 3
   },
   "file_extension": ".py",
   "mimetype": "text/x-python",
   "name": "python",
   "nbconvert_exporter": "python",
   "pygments_lexer": "ipython3",
   "version": "3.5.4"
  }
 },
 "nbformat": 4,
 "nbformat_minor": 1
}
