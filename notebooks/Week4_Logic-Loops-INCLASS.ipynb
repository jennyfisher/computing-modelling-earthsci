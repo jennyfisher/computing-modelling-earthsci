{
 "cells": [
  {
   "cell_type": "markdown",
   "metadata": {},
   "source": [
    "# Introduction to Programming in Python: Logic & Loops\n",
    "\n",
    "This practical will build on the previous two to continue to introduce you to the basic ideas behind programming and how to use Python in simple ways. It is based on an almagamation of course and examples, including the following (which you are welcome to explore on your own!):\n",
    "1. Introduction to programming for Geoscientists (with Python) by Gerard Gorman and Christian Jacobs: http://ggorman.github.io/Introduction-to-programming-for-geoscientists/lecture_series/\n",
    "2. Introduction to scientific programming in Python by the UCL graduate school: http://www.cs.ucl.ac.uk/scipython/index.html\n",
    "3. Programming with Python by Software Carpentry: http://swcarpentry.github.io/python-novice-inflammation/\n",
    "4. CS For All: Introduction to Computer Science and Python Programming by HarveyMuddX at edX: https://www.edx.org/course/cs-all-introduction-computer-science-harveymuddx-cs005x-0\n",
    "\n",
    "**Recommended Reading**: *Think Python*, Sections [5.2](http://greenteapress.com/thinkpython/html/thinkpython006.html#toc53), [5.3](http://greenteapress.com/thinkpython/html/thinkpython006.html#toc54), [5.4](http://greenteapress.com/thinkpython/html/thinkpython006.html#toc55), [5.5](http://greenteapress.com/thinkpython/html/thinkpython006.html#toc56), [5.6](http://greenteapress.com/thinkpython/html/thinkpython006.html#toc57) and *Scipy Lecture Notes*, Sections [1.2.3.1](http://www.scipy-lectures.org/intro/language/control_flow.html#if-elif-else), [1.2.3.2](http://www.scipy-lectures.org/intro/language/control_flow.html#for-range), [1.2.3.4](http://www.scipy-lectures.org/intro/language/control_flow.html#conditional-expressions)"
   ]
  },
  {
   "cell_type": "markdown",
   "metadata": {
    "collapsed": true
   },
   "source": [
    "## Making comparisons\n",
    "\n",
    "Often we want to compare two values or variables. For example, last week you wrote a program to calculate the effective temperatures of Earth, Venus, and Mars. Imagine you wanted to know which planet was warmer. In this simple case, you could just tell python to print the values to the screen and you could compare them yourself. But this method (1) would be tedious if you needed to do it over and over, (2) wouldn't allow you to automatically choose one (for example the largest) for the next calculation you might need to do, and (3) is prone to human error (tired eyes, anyone?).\n",
    "\n",
    "Luckily, python has a built-in way to do this, using something called a ***boolean expression***. Boolean expressions are statements that output values that are either *True* or *False*. We use special ***relational operators*** to create boolean expressions that compare two values:\n",
    "\n",
    "| Operator | Example | Meaning |\n",
    "|:---------|:--------|:--------|\n",
    "|   <  | a < b | a is less than b|\n",
    "|   >  | a > b | a is greater than b|\n",
    "|   <=  | a <= b | a is less than or equal to b|\n",
    "|   >=  | a >= b | a is greater than or equal b|\n",
    "|   ==  | a == b | a is equal to b|\n",
    "|   !=  | a != b | a is not equal to b|\n",
    "\n",
    "The first four are the same as what you would write mathematically. Note that it is important to use the correct order (e.g. `>=` not `=>`) or you will get a syntax error. **Be very careful with the equality operator `==`.** If you forget and use a single equal sign `=` you are not checking whether two values are the same but instead assigning a new value to the variable on the left. For example, `C == 5` asks whether C has a value of 5, but `C=5` assigns the value of 5 to C from here on out.\n",
    "\n",
    "Let's test some example boolean expressions in Python. <font color=blue>**Play around with the examples below (using the operators in the table above) to get a feel for these**</font>."
   ]
  },
  {
   "cell_type": "code",
   "execution_count": null,
   "metadata": {
    "collapsed": false
   },
   "outputs": [],
   "source": [
    "C = 41\n",
    "print 'C is not equal to 40 (C != 40):', C != 40\n",
    "print 'C is less than 40 (C < 40): ', C < 40\n",
    "print 'C is equal to 41 (C == 41): ', C == 41"
   ]
  },
  {
   "cell_type": "code",
   "execution_count": null,
   "metadata": {
    "collapsed": false
   },
   "outputs": [],
   "source": [
    "X = C+3\n",
    "print 'The variables are C=',C,' and X=',X\n",
    "print 'C is not equal to X (C != X): ', C != X\n",
    "print 'C is less than X (C < X): ', C < X\n",
    "print 'C is equal to X (C == X): ', C == X"
   ]
  },
  {
   "cell_type": "markdown",
   "metadata": {},
   "source": [
    "## <font color=blue>EXERCISE 1a</font><br>\n",
    "\n",
    "<font color=blue>As usual, let's see what kind of errors we get when we make a mistake in the syntax. Try out each of the examples below without changing anything so you see the error message, then fix the error.</font>"
   ]
  },
  {
   "cell_type": "markdown",
   "metadata": {},
   "source": [
    "<font color = blue>**i. Original**:</font>"
   ]
  },
  {
   "cell_type": "code",
   "execution_count": null,
   "metadata": {
    "collapsed": false
   },
   "outputs": [],
   "source": [
    "print 'Is X less than or equal to C?', X =< C"
   ]
  },
  {
   "cell_type": "markdown",
   "metadata": {},
   "source": [
    "<font color=blue>**i. Fixed**:</font>"
   ]
  },
  {
   "cell_type": "code",
   "execution_count": null,
   "metadata": {
    "collapsed": false,
    "scrolled": true
   },
   "outputs": [],
   "source": []
  },
  {
   "cell_type": "markdown",
   "metadata": {},
   "source": [
    "<font color = blue>**ii. Original**:</font>"
   ]
  },
  {
   "cell_type": "code",
   "execution_count": null,
   "metadata": {
    "collapsed": false
   },
   "outputs": [],
   "source": [
    "print 'Is X equal to C?', X = C"
   ]
  },
  {
   "cell_type": "markdown",
   "metadata": {},
   "source": [
    "<font color=blue>**ii. Fixed**:</font>"
   ]
  },
  {
   "cell_type": "code",
   "execution_count": null,
   "metadata": {
    "collapsed": false,
    "scrolled": true
   },
   "outputs": [],
   "source": []
  },
  {
   "cell_type": "markdown",
   "metadata": {},
   "source": [
    "Python also has special ***logical operators***. The operators **`and`** and **`or`** let us combine several conditions into a single boolean expression.<br><br>\n",
    "\n",
    "<font color=purple>**Extra info:** There is another logical operator called **```not```** that works as an opposite, so ```not (a < b )``` is the same thing as ```(a >= b )```. We won't explicitly use it in EESC102, but you are welcome to try it out.</font>\n",
    "\n",
    "| Operator | Outcome | Example |\n",
    "|:---------|:--------|:--------|\n",
    "|   and  | True if **both** conditions are true | (a < b) and (a < c) |\n",
    "|   or  | True if **either** conditions is true | (a < b) or (a < c) |\n",
    "\n",
    "**<font color=blue>Again, test this out by playing around with the examples below.</font>**"
   ]
  },
  {
   "cell_type": "code",
   "execution_count": null,
   "metadata": {
    "collapsed": false
   },
   "outputs": [],
   "source": [
    "x = 0\n",
    "y = 1.2\n",
    "print 'x >= 0: ', x >= 0\n",
    "print 'y < 1: ', y < 1\n",
    "print '(x >= 0) and (y < 1): ', (x >= 0) and (y < 1)\n",
    "print '(x >= 0) or (y < 1): ', (x >= 0) or (y < 1)"
   ]
  },
  {
   "cell_type": "markdown",
   "metadata": {},
   "source": [
    "## <font color=blue>EXERCISE 1b</font><br>\n",
    "<font color=blue>Add a comment to the code below to explain the outcome of each of the boolean expressions:</font>"
   ]
  },
  {
   "cell_type": "code",
   "execution_count": null,
   "metadata": {
    "collapsed": false
   },
   "outputs": [],
   "source": [
    "C = 41\n",
    "\n",
    "print 'Case 1: ', C == 40\n",
    "print 'Case 2: ', C != 40 and C < 41\n",
    "print 'Case 3: ', C != 40 or C < 41\n",
    "print 'Case 4: ', C <= 41"
   ]
  },
  {
   "cell_type": "markdown",
   "metadata": {},
   "source": [
    "## Using logic (if)\n",
    "\n",
    "One of the most common things we do in programming is to check whether something is true or false, and then use the outcome of that check to do different things. We do this using ***conditional statements*** that first check whether a particular condition is true, and only follow the instructions if so. The basic construct for an **```if```** statment in python is very simple:\n",
    "```\n",
    "if [condition]:\n",
    "    [do action]\n",
    "```\n",
    "\n",
    "[condition] is a test that you want to make, like (a == b) or (T_Mars > T_Venus).<br>\n",
    "[do action] is a set of instructions you will give python for what to do if the condition is met.\n",
    "\n",
    "For example, imagine you want to determine whether it is hot outside, depending on the temperature. For the purposes of argument, we'll say that it's hot when the temperature is greater than 35$^\\circ$C.\n",
    "\n",
    "We can write the following conditional statement in Python:"
   ]
  },
  {
   "cell_type": "code",
   "execution_count": null,
   "metadata": {
    "collapsed": false
   },
   "outputs": [],
   "source": [
    "# Current temperature\n",
    "Temp = 40.0  # in degrees C\n",
    "\n",
    "if Temp > 35.0:\n",
    "    print 'It\\'s hot!'"
   ]
  },
  {
   "cell_type": "markdown",
   "metadata": {},
   "source": [
    "What happens if we set the current temperature to 22 instead?"
   ]
  },
  {
   "cell_type": "code",
   "execution_count": null,
   "metadata": {
    "collapsed": false
   },
   "outputs": [],
   "source": [
    "# Current temperature\n",
    "Temp = 22.0  # in degrees C\n",
    "\n",
    "if Temp > 35.0:\n",
    "    print 'It\\'s hot!'"
   ]
  },
  {
   "cell_type": "markdown",
   "metadata": {},
   "source": [
    "If you run the code above, you'll see that nothing happened! Why not? This is because the test **```Temp > 35.0```** *failed*. When the test fails, it doesn't execute any of the indented code. We have set the curent temperature to 22, and we know that 22 is not higher than 35, so this test should fail, and the code is behaving exactly as anticipated.<br><br>\n",
    "\n",
    "<font color=blue>**In the cell below, play around with setting the current temperature to different values. When is the condition met? When does it fail? Is it behaving how you would expect?**</font>"
   ]
  },
  {
   "cell_type": "code",
   "execution_count": null,
   "metadata": {
    "collapsed": false
   },
   "outputs": [],
   "source": [
    "# Current temperature in degrees C\n",
    "Temp = \n",
    "\n",
    "if Temp > 35.0:\n",
    "    print 'It\\'s hot!'"
   ]
  },
  {
   "cell_type": "markdown",
   "metadata": {},
   "source": [
    "Remember that Python is very pedantic, so you must format the if statements correctly. **This means that the first line must start with <font face='courier' color=green>if</font> and end with a colon (:)**.\n",
    "\n",
    "You will also notice that the code that the should be executed if the test is met (the action) **must be indented** (i.e. press 'tab' at the start of the line). This is a good time to talk about blank spaces.\n",
    "\n",
    "Blank spaces may or may not be important in Python programs! For example, these statements are all equivalent:"
   ]
  },
  {
   "cell_type": "code",
   "execution_count": null,
   "metadata": {
    "collapsed": true
   },
   "outputs": [],
   "source": [
    "Temp=40.0\n",
    "Temp   =   40.0\n",
    "Temp=  40.0\n",
    "# The computer does not care but this formatting style is\n",
    "# considered clearest for the human reader\n",
    "Temp = 40.0"
   ]
  },
  {
   "cell_type": "markdown",
   "metadata": {},
   "source": [
    "However, in special blocks of code, including **`if`** statements, blank spaces really do matter. These statements should have 4 blank spaces at the start of the line. In Jupyter notebooks, you can get the right amount of indentation using the 'tab' key -- this is equivalent to typing 4 blank spaces. If you need to remove an indent, you can do so using shift-tab."
   ]
  },
  {
   "cell_type": "markdown",
   "metadata": {},
   "source": [
    "## <font color=blue>EXERCISE 2a</font><br>\n",
    "\n",
    "<font color=blue>What kind of errors do you get if you mess up the syntax of an ```if``` statement? Try out each of the examples below without changing anything so you see the error message, then fix the error. Also add a comment explaining what the error was.</font>"
   ]
  },
  {
   "cell_type": "markdown",
   "metadata": {},
   "source": [
    "<font color = blue>**i. Original**:</font>"
   ]
  },
  {
   "cell_type": "code",
   "execution_count": null,
   "metadata": {
    "collapsed": false
   },
   "outputs": [],
   "source": [
    "Temp = 40.0\n",
    "\n",
    "if Temp > 35.0:\n",
    "print 'It\\'s hot!'"
   ]
  },
  {
   "cell_type": "markdown",
   "metadata": {},
   "source": [
    "<font color=blue>**i. Fixed**:</font>"
   ]
  },
  {
   "cell_type": "code",
   "execution_count": null,
   "metadata": {
    "collapsed": false,
    "scrolled": true
   },
   "outputs": [],
   "source": []
  },
  {
   "cell_type": "markdown",
   "metadata": {},
   "source": [
    "<font color = blue>**ii. Original**:</font>"
   ]
  },
  {
   "cell_type": "code",
   "execution_count": null,
   "metadata": {
    "collapsed": false
   },
   "outputs": [],
   "source": [
    "Temp = 40.0\n",
    "\n",
    "if Temp > 35.0\n",
    "    print 'It\\'s hot!'"
   ]
  },
  {
   "cell_type": "markdown",
   "metadata": {},
   "source": [
    "<font color=blue>**ii. Fixed**:</font>"
   ]
  },
  {
   "cell_type": "code",
   "execution_count": null,
   "metadata": {
    "collapsed": false,
    "scrolled": true
   },
   "outputs": [],
   "source": []
  },
  {
   "cell_type": "markdown",
   "metadata": {},
   "source": [
    "<font color = blue>**iii. Original**:</font>"
   ]
  },
  {
   "cell_type": "code",
   "execution_count": null,
   "metadata": {
    "collapsed": false
   },
   "outputs": [],
   "source": [
    "Temp = 40.0\n",
    "\n",
    "Temp > 35.0:\n",
    "    print 'It\\'s hot!'"
   ]
  },
  {
   "cell_type": "markdown",
   "metadata": {},
   "source": [
    "<font color=blue>**iii. Fixed**:</font>"
   ]
  },
  {
   "cell_type": "code",
   "execution_count": null,
   "metadata": {
    "collapsed": false,
    "scrolled": true
   },
   "outputs": [],
   "source": []
  },
  {
   "cell_type": "markdown",
   "metadata": {},
   "source": [
    "<font color = blue>**iv. Original**:</font>"
   ]
  },
  {
   "cell_type": "code",
   "execution_count": null,
   "metadata": {
    "collapsed": false
   },
   "outputs": [],
   "source": [
    "Temp = 40.0\n",
    "\n",
    "if Temp > 35.0:"
   ]
  },
  {
   "cell_type": "markdown",
   "metadata": {},
   "source": [
    "<font color=blue>**iv. Fixed**:</font>"
   ]
  },
  {
   "cell_type": "code",
   "execution_count": null,
   "metadata": {
    "collapsed": false,
    "scrolled": true
   },
   "outputs": [],
   "source": []
  },
  {
   "cell_type": "markdown",
   "metadata": {},
   "source": [
    "## <font color=blue>EXERCISE 2b</font>\n",
    "\n",
    "<font color=blue>Last week, you wrote a program that calculated the effective temperatures that Venus, Earth, and Mars would have in the absence of an atmosphere: 220K for Venus, 255K for Earth, and 214K for Mars.<br>\n",
    "\n",
    "We can define the **greenhouse effect** as the difference between a planet's effective temperature and its actual surface temperature. The actual average surface temperatures are approximately: 735K for Venus, 288K for Earth, and 218K for Mars.<br><br>\n",
    "\n",
    "Fill in the missing components of the following program to:<br>\n",
    "1. Define numpy arrays for effective and actual temperature\n",
    "2. Calculate the greenhouse effect for each planet\n",
    "3. Use **```if```** to compare the greenhouse effect on Earth to the greenhouse effect on Venus.\n",
    "3. Use **```if```** to compare the greenhouse effect on Earth to the greenhouse effect on Mars.<br><br>\n",
    "\n",
    "For hints about using numpy arrays in your calculation and extracting values from numpy arrays, look back at last week's practical. **Don't forget to start with ```import numpy```!**"
   ]
  },
  {
   "cell_type": "code",
   "execution_count": null,
   "metadata": {
    "collapsed": false
   },
   "outputs": [],
   "source": [
    "# First import numpy\n",
    "\n",
    "\n",
    "# Define arrays for the effective temperatures and the surface temperature\n",
    "\n",
    "\n",
    "# Calculate the greenhouse effect for each planet\n",
    "\n",
    "\n",
    "# Print a question to the screen\n",
    "print 'Does Venus have a stronger greenhouse effect than Earth?'\n",
    "\n",
    "# Use an if statement to compare the greenhouse on Venus with the greenhouse on Earth, and \n",
    "# print Yes! if the greenhouse on Venus is stronger than on Earth\n",
    "\n",
    "    \n",
    "# Use another if statement to compare the greenhouse on Venus with the greenhouse on Earth, and \n",
    "# print No! if the greenhouse on Venus is NOT stronger than on Earth\n",
    "\n",
    "    \n",
    "# Repeat the question for Mars\n",
    "print 'Does Mars have a stronger greenhouse effect than Earth?'\n",
    "\n",
    "# Repeat the solution for Mars\n"
   ]
  },
  {
   "cell_type": "markdown",
   "metadata": {},
   "source": [
    "## On the other hand... (else)\n",
    "\n",
    "Let's take another look at our temperature test from above:"
   ]
  },
  {
   "cell_type": "code",
   "execution_count": null,
   "metadata": {
    "collapsed": true
   },
   "outputs": [],
   "source": [
    "# Current temperature\n",
    "Temp = 22.0  # in degrees C\n",
    "\n",
    "if Temp > 35.0:\n",
    "    print 'It\\'s hot!'"
   ]
  },
  {
   "cell_type": "markdown",
   "metadata": {},
   "source": [
    "Remember that when the temperature is NOT greater than 35 (i.e. the condition fails), nothing happens. What if we want to do something else if it's not hot? We could do this using two if statements:"
   ]
  },
  {
   "cell_type": "code",
   "execution_count": null,
   "metadata": {
    "collapsed": false
   },
   "outputs": [],
   "source": [
    "# Current temperature\n",
    "Temp = 22.0  # in degrees C\n",
    "\n",
    "if Temp > 35.0:\n",
    "    print 'It\\'s hot!'\n",
    "if Temp < 35.0:\n",
    "    print 'It\\'s not hot!'"
   ]
  },
  {
   "cell_type": "markdown",
   "metadata": {},
   "source": [
    "But there's a better way! (as there usually is in Python...). We can use another type of conditional statement that starts with **<font face='courier' color=green>else</font>**. **<font face='courier' color=green>else</font>** is always combined with **<font face='courier' color=green>if</font>**, and it tells the code to perform some action if the test fails:\n",
    "```\n",
    "if [condition]:\n",
    "    [do action 1]\n",
    "else:\n",
    "    [do action 2]\n",
    "```\n",
    "\n",
    "For our example above:"
   ]
  },
  {
   "cell_type": "code",
   "execution_count": null,
   "metadata": {
    "collapsed": false
   },
   "outputs": [],
   "source": [
    "# Current temperature\n",
    "Temp = 22.0  # in degrees C\n",
    "\n",
    "if Temp > 35.0:\n",
    "    print 'It\\'s hot!'\n",
    "else:\n",
    "    print 'It\\'s not hot!'"
   ]
  },
  {
   "cell_type": "markdown",
   "metadata": {},
   "source": [
    "Again, pay attention to syntax. The **<font face='courier' color=green>else</font>** must be at the start of the line (lined up with the **<font face='courier' color=green>if</font>**) and must be followed by a colon, and the instructions must be indented."
   ]
  },
  {
   "cell_type": "markdown",
   "metadata": {},
   "source": [
    "## <font color=blue>EXERCISE 2c</font>\n",
    "\n",
    "<font color=blue>Copy your program for Exercise 2b here and modify it so that it uses an **```if```** and an **```else```** to answer the question with 'Yes!' or 'No!' for each planet (instead of two ```if``` statements)."
   ]
  },
  {
   "cell_type": "code",
   "execution_count": null,
   "metadata": {
    "collapsed": false
   },
   "outputs": [],
   "source": []
  },
  {
   "cell_type": "markdown",
   "metadata": {},
   "source": [
    "## If not that, how about this? (elif)\n",
    "\n",
    "Let's go back to our temperature example one more time. When we last left it we had this:"
   ]
  },
  {
   "cell_type": "code",
   "execution_count": null,
   "metadata": {
    "collapsed": false
   },
   "outputs": [],
   "source": [
    "# Current temperature\n",
    "Temp = 22.0  # in degrees C\n",
    "\n",
    "if Temp > 35.0:\n",
    "    print 'It\\'s hot!'\n",
    "else:\n",
    "    print 'It\\'s not hot!'"
   ]
  },
  {
   "cell_type": "markdown",
   "metadata": {},
   "source": [
    "What if we want to be more specific and classify other temperatures as well? For example it might be hot, warm, cold, freezing... not just 'hot' or 'not hot'.\n",
    "\n",
    "For this we use a third type of conditional statement, **<font face='courier' color=green>elif</font>**. **<font face='courier' color=green>elif</font>** is a combination of the 'else' and 'if'. It means that if the first **<font face='courier' color=green>if</font>** fails, try this one. The syntax is very similar to **<font face='courier' color=green>if</font>** and **<font face='courier' color=green>else</font>**:\n",
    "```\n",
    "if [condition 1]:\n",
    "    [do action 1]\n",
    "elif [condition 2]:\n",
    "    [do action 2]\n",
    "else:\n",
    "    [do action 3]\n",
    "```\n",
    "\n",
    "Let's edit our example to include other temperature ranges:"
   ]
  },
  {
   "cell_type": "code",
   "execution_count": null,
   "metadata": {
    "collapsed": false,
    "scrolled": true
   },
   "outputs": [],
   "source": [
    "# Current temperature\n",
    "Temp = 22.0  # in degrees C\n",
    "\n",
    "if Temp > 35.0:\n",
    "    print 'It\\'s hot!'\n",
    "elif Temp > 20.0:\n",
    "    print 'It\\'s warm'\n",
    "else:\n",
    "    print 'It\\'s cool!'"
   ]
  },
  {
   "cell_type": "markdown",
   "metadata": {},
   "source": [
    "We can combine as many **<font face='courier' color=green>elif</font>** statements as we want:"
   ]
  },
  {
   "cell_type": "code",
   "execution_count": null,
   "metadata": {
    "collapsed": false
   },
   "outputs": [],
   "source": [
    "# Current temperature\n",
    "Temp = 22.0  # in degrees C\n",
    "\n",
    "if Temp > 35.0:\n",
    "    print 'It\\'s hot!'\n",
    "elif Temp > 20.0:\n",
    "    print 'It\\'s warm'\n",
    "elif Temp > 5.0:\n",
    "    print 'It\\'s cool'\n",
    "else:\n",
    "    print 'Brrrr!'"
   ]
  },
  {
   "cell_type": "markdown",
   "metadata": {},
   "source": [
    "Any action with an **<font face='courier' color=green>if</font>**, **<font face='courier' color=green>elif</font>**, or **<font face='courier' color=green>else</font>** can consist of multiple lines of code, provided they are all indented properly. For example:"
   ]
  },
  {
   "cell_type": "code",
   "execution_count": null,
   "metadata": {
    "collapsed": false
   },
   "outputs": [],
   "source": [
    "# Current temperature\n",
    "Temp = 40.0  # in degrees C\n",
    "\n",
    "if Temp > 35.0:\n",
    "    print 'It\\'s hot!'\n",
    "    better_Temp = Temp - 35.0\n",
    "    print 'It would be nicer if it were at least ',better_Temp,' degrees cooler!'\n",
    "elif Temp > 20.0:\n",
    "    print 'It\\'s warm'\n",
    "elif Temp > 5.0:\n",
    "    print 'It\\'s cool'\n",
    "else:\n",
    "    print 'Brrrr!'"
   ]
  },
  {
   "cell_type": "markdown",
   "metadata": {},
   "source": [
    "## Getting the order right\n",
    "\n",
    "It's very important to recognise that if-elif-else conditional statements operate in a sequential order, from top to bottom. If we take another look at the generic example:\n",
    "```\n",
    "if [condition 1]:\n",
    "    [do action 1]\n",
    "elif [condition 2]:\n",
    "    [do action 2]\n",
    "else:\n",
    "    [do action 3]\n",
    "```\n",
    "Here is what python does:\n",
    "1. Check condition 1.\n",
    "    1. If condition 1 is True, do action 1 and ignore everything else\n",
    "    2. If condition 1 is False, check condition 2\n",
    "        1. If condition 2 is True, do action 2 and ignore everything else\n",
    "        2. If condition 2 is False, do action 3\n",
    "        \n",
    "So what happens if condition 1 is True **and** condition 2 is True? **Only action 1.** The program will never even check condition 2 because condition 1 was True. So only action 1 will be performed.\n",
    "\n",
    "Let's look at example to make this clearer. What if we instead wrote our previous program like this:"
   ]
  },
  {
   "cell_type": "code",
   "execution_count": null,
   "metadata": {
    "collapsed": false
   },
   "outputs": [],
   "source": [
    "# Current temperature\n",
    "Temp = 22.0  # in degrees C\n",
    "\n",
    "if Temp > -5.0:\n",
    "    print 'Brrr!'\n",
    "elif Temp > 5.0:\n",
    "    print 'It\\'s cool'\n",
    "elif Temp > 20.0:\n",
    "    print 'It\\'s warm'\n",
    "else:\n",
    "    print 'It\\'s hot!'"
   ]
  },
  {
   "cell_type": "markdown",
   "metadata": {},
   "source": [
    "The program failed! This is because it first checked whether the temperature was higher than -5$^\\circ$C. That condition was true, so it executed the first action (<font face=\"courier\">print 'Brrr!'</font>) and ignored all the rest.\n",
    "\n",
    "There's another way this program could go wrong. What happens if we try to run it for a very cold temperature, like -15$^\\circ$C?"
   ]
  },
  {
   "cell_type": "code",
   "execution_count": null,
   "metadata": {
    "collapsed": false
   },
   "outputs": [],
   "source": [
    "# Current temperature\n",
    "Temp = -15.0  # in degrees C\n",
    "\n",
    "if Temp > -5.0:\n",
    "    print 'Brrr!'\n",
    "elif Temp > 5.0:\n",
    "    print 'It\\'s cool'\n",
    "elif Temp > 20.0:\n",
    "    print 'It\\'s warm'\n",
    "else:\n",
    "    print 'It\\'s hot!'"
   ]
  },
  {
   "cell_type": "markdown",
   "metadata": {},
   "source": [
    "It failed again, this time because it didn't pass any of the conditions (Temp > -5.0, Temp > 5.0, Temp > 20.0) and so executed the action following the **<font face='courier' color=green>else</font>** statement.\n",
    "\n",
    "Does that mean we can only write this program starting from hot temperatures and working our way down? Of course not!"
   ]
  },
  {
   "cell_type": "markdown",
   "metadata": {},
   "source": [
    "## <font color=blue>EXERCISE 3</font><br>\n",
    "\n",
    "<font color=blue>Fix the program above so that it functions properly, but still uses the same actions. In other words, you want to change each **condition** but not the **action** so that:<br>\n",
    "- the first **```if```** prints Brrr!<br>\n",
    "- the first **```elif```** prints It's cool<br>\n",
    "- the second **```elif```** prints It's warm<br>\n",
    "- the **```else```** prints It's hot.<br><br>\n",
    "\n",
    "Test that your program works when the temperature is -15 (Brrr!), 22 (It's warm), and 40$^\\circ$C (It's hot!). *For this just change the value of Temp at the top and re-run.*</font>"
   ]
  },
  {
   "cell_type": "code",
   "execution_count": null,
   "metadata": {
    "collapsed": false
   },
   "outputs": [],
   "source": []
  },
  {
   "cell_type": "markdown",
   "metadata": {},
   "source": [
    "## Doing things over and over... and over... and over... (for loops)"
   ]
  },
  {
   "cell_type": "markdown",
   "metadata": {},
   "source": [
    "Much of the power of programming comes from preventing us having to do repetitive tasks that are boring and prone to human error. \n",
    "\n",
    "To make it clear what we are doing here, we are going to start with some very simple (boring) examples before we move on to something more interesting.\n",
    "\n",
    "Last time we wrote a program that used the known solar flux and albedo values at Venus, Earth, and Mars to calculate the effective temperatures:"
   ]
  },
  {
   "cell_type": "code",
   "execution_count": null,
   "metadata": {
    "collapsed": false
   },
   "outputs": [],
   "source": [
    "# Program for computing the effective temperature of a planet\n",
    "\n",
    "# Set the Boltzmann Constant, in W/m^2/K^4\n",
    "sigma = 5.67e-8\n",
    "\n",
    "# Array of Venus, Earth, Mars albedos, unitless\n",
    "A_planets = numpy.array([0.8, 0.3, 0.2])\n",
    "\n",
    "# Array of Venus, Earth, Mars solar fluxes, in W/m2\n",
    "S_planets = numpy.array([2643.0, 1366.0, 593.0])\n",
    "\n",
    "# Perform the calculation for each planet, Te in K\n",
    "Te_planets = ((S_planets/(4*sigma))*(1-A_planets))**0.25\n",
    "\n",
    "# Print the output\n",
    "print \"The effective temperature at differents planets, in order of Venus then Earth then Mars: \",Te_planets,\" (K)\""
   ]
  },
  {
   "cell_type": "markdown",
   "metadata": {},
   "source": [
    "Suppose that instead of printing out all the values in one line, we wanted to print out a table with the albedo, solar flux, and effective temperature of each planet, like this:"
   ]
  },
  {
   "cell_type": "raw",
   "metadata": {},
   "source": [
    "Albedo  Solar_Flux_W/m2  Effective_Temperature_K\n",
    "0.8     2643.0           219.72072691\n",
    "0.3     1366.0           254.81584055\n",
    "0.2     593.0            213.85795398"
   ]
  },
  {
   "cell_type": "markdown",
   "metadata": {},
   "source": [
    "How do we write a program that prints out such a table? ￼ We know from last week how to index our arrays, so we could start with index=0 to make the first line in the table:"
   ]
  },
  {
   "cell_type": "code",
   "execution_count": null,
   "metadata": {
    "collapsed": false
   },
   "outputs": [],
   "source": [
    "# print the title text first\n",
    "print 'Albedo  Solar_Flux_W/m2  Effective_Temperature_K'\n",
    "\n",
    "# I added some spaces between the numbers to make things line up\n",
    "print A_planets[0], '   ',S_planets[0], '         ',Te_planets[0]"
   ]
  },
  {
   "cell_type": "markdown",
   "metadata": {},
   "source": [
    "We can just repeat the last line multiple times, changing the index value each time:"
   ]
  },
  {
   "cell_type": "code",
   "execution_count": null,
   "metadata": {
    "collapsed": false
   },
   "outputs": [],
   "source": [
    "# print the title text first\n",
    "print 'Albedo  Solar_Flux_W/m2  Effective_Temperature_K'\n",
    "\n",
    "# I added some spaces between the numbers to make things line up\n",
    "print A_planets[0], '   ',S_planets[0], '         ',Te_planets[0]\n",
    "print A_planets[1], '   ',S_planets[1], '         ',Te_planets[1]\n",
    "print A_planets[2], '   ',S_planets[2], '         ',Te_planets[2]"
   ]
  },
  {
   "cell_type": "markdown",
   "metadata": {},
   "source": [
    "So we can see that it works, but it's **very boring** to write and very easy to introduce a misprint. Can you imagine if you wanted to do this with 100 planets??\n",
    "\n",
    "**You really should not be doing boring repetitive tasks like this.** Spend some time instead looking for a smarter solution. When programming becomes boring, Python usually has a way to automate what you are doing. Computers are very good at performing repetitive tasks. For this purpose we use **<font face=\"courier\" color=green>for</font>** loops."
   ]
  },
  {
   "cell_type": "markdown",
   "metadata": {
    "collapsed": true
   },
   "source": [
    "### for loops\n",
    "\n",
    "**<font face=\"courier\" color=green>for</font>** loops allow us to repeat an action a given number of times.\n",
    "\n",
    "The syntax of a **<font face=\"courier\" color=green>for</font>** loop is:\n",
    "```\n",
    "for [variable] in [values]:\n",
    "    [do action]\n",
    "```\n",
    "\n",
    "There are many ways to write and use **<font face=\"courier\" color=green>for</font>** loops in python. For now we will focus on one simple form that we will use over and over in EESC102:"
   ]
  },
  {
   "cell_type": "code",
   "execution_count": null,
   "metadata": {
    "collapsed": false
   },
   "outputs": [],
   "source": [
    "for i in range(0,10,1):\n",
    "    print i"
   ]
  },
  {
   "cell_type": "markdown",
   "metadata": {},
   "source": [
    "What is this loop doing? Let's break it down bit by bit. Here, <font face=\"courier\">i</font> is a variable that gets a new value each time we repeat the loop. The values that <font face=\"courier\">i</font> takes are specified in this loop by <font face=\"courier\" color=green>range(0,10,1)</font>. So the first thing we need to understand is the <font face=\"courier\" color=green>range()</font> function.\n",
    "\n",
    "<font face=\"courier\" color=green>range()</font> works just like ```numpy.arange``` from last time:\n",
    "```\n",
    "range(start,stop,step)\n",
    "```\n",
    "\n",
    "**<font color=blue>If you don't remember what ```start```, ```stop```, and ```step``` do, take a look back at last week's prac and/or play around with a few examples below.</font>**"
   ]
  },
  {
   "cell_type": "code",
   "execution_count": null,
   "metadata": {
    "collapsed": false
   },
   "outputs": [],
   "source": [
    "print range(0,10,1)\n",
    "print range(5,20,1)\n",
    "print range(8,80,5)"
   ]
  },
  {
   "cell_type": "markdown",
   "metadata": {},
   "source": [
    "Now that we understand the range function, we can go back to looking at our simple **<font face=\"courier\" color=green>for</font>** loop example:"
   ]
  },
  {
   "cell_type": "code",
   "execution_count": null,
   "metadata": {
    "collapsed": false
   },
   "outputs": [],
   "source": [
    "for i in range(0,10,1):\n",
    "    print i"
   ]
  },
  {
   "cell_type": "markdown",
   "metadata": {},
   "source": [
    "As we said above, ```i``` is a variable that gets a new value each time we repeat the loop. The values that ```i``` takes are specified by ```range(0,10,1)```, or as we've seen above, ```[0, 1, 2, 3, 4, 5, 6, 7, 8, 9]```.\n",
    "\n",
    "In other words, the first time through the loop, ```i``` takes the first value, 0, and uses this to execute the action (in this case, ```print i```). Then the loop repeats, now giving ```i``` the second value, 1. This continues until we get through all of the values specified by range. Once that happens we exit the loop.\n",
    "\n",
    "<br><font color=purple>Note that your variable doesn't have to be called ```i```. You can call it anything you want (```x```, ```t```, ```ted```, ```betsy```, ...). Try changing in one of the cells above if you want to test this out.</font>\n",
    "\n",
    "In the previous example we just printed ```i```. But we could also use ```i``` to do some form of computation. For example:"
   ]
  },
  {
   "cell_type": "code",
   "execution_count": null,
   "metadata": {
    "collapsed": false
   },
   "outputs": [],
   "source": [
    "for i in range(0,10,1):\n",
    "    new_variable = i*3\n",
    "    print 'i = ',i,' and new_variable = ',new_variable"
   ]
  },
  {
   "cell_type": "markdown",
   "metadata": {},
   "source": [
    "## <font color=blue>EXERCISE 4a</font><br>\n",
    "\n",
    "<font color=blue>Write a ```for``` loop to print **odd** numbers from 1 to 21 and their squares (```i```$^2$).</font>"
   ]
  },
  {
   "cell_type": "code",
   "execution_count": null,
   "metadata": {
    "collapsed": false
   },
   "outputs": [],
   "source": []
  },
  {
   "cell_type": "markdown",
   "metadata": {},
   "source": [
    "### for loops with arrays: taking values *out*\n",
    "\n",
    "So far we have used ```i``` as a variable to print or to do computation. But we can also use ```i``` as an **index** to access specific elements of our numpy array. For example, we can create the table of temperatures above much more simply:"
   ]
  },
  {
   "cell_type": "code",
   "execution_count": null,
   "metadata": {
    "collapsed": false
   },
   "outputs": [],
   "source": [
    "# print the title text first\n",
    "print 'Albedo  Solar_Flux_W/m2  Effective_Temperature_K'\n",
    "\n",
    "# Use a for loop for the INDEX values\n",
    "# Here we want the index values to be 0, 1, and 2 (see example above)\n",
    "#  so range should go from start=0 to stop=3 (last value +1) with a step=1\n",
    "for i in range(0,3,1):\n",
    "    print A_planets[i], '   ',S_planets[i], '         ',Te_planets[i]"
   ]
  },
  {
   "cell_type": "markdown",
   "metadata": {},
   "source": [
    "Looks just the same as above, right? But much better if we had a lot of values."
   ]
  },
  {
   "cell_type": "markdown",
   "metadata": {},
   "source": [
    "If you look carefully at the program above, you will see that we had to specify ```stop``` was 3 - meaning we knew we had 3 planets. What if we didn't know beforehand how many planets we had?\n",
    "\n",
    "In that case we could just ask Python to tell us how many values there are in our array using the ```len``` function. If this doesn't seem familiar, look back at \"how big is it\" from the Week 3 practical."
   ]
  },
  {
   "cell_type": "code",
   "execution_count": null,
   "metadata": {
    "collapsed": false
   },
   "outputs": [],
   "source": [
    "# print the title text first\n",
    "print 'Albedo  Solar_Flux_W/m2  Effective_Temperature_K'\n",
    "\n",
    "# Use a for loop for the INDEX values\n",
    "# If we don't know how many planets, we can use len() in the range function:\n",
    "for i in range(0,len(A_planets),1):\n",
    "    print A_planets[i], '   ',S_planets[i], '         ',Te_planets[i]"
   ]
  },
  {
   "cell_type": "markdown",
   "metadata": {},
   "source": [
    "## <font color=blue>EXERCISE 4b</font><br>\n",
    "\n",
    "<font color=blue>Recall that we can convert from temperature $F$ in degrees Fahrenheit to temperature $C$ in degrees Celsius using:\n",
    "$$ C = {5\\over9}(F - 32) $$\n",
    "\n",
    "Write a program that:<br>\n",
    "1. Uses **```numpy.arange```** to make an array of Fahrenheit values called F, with F = 0, 10, ..., 100<br>\n",
    "2. Uses this F array and the equation above to calculate an array of Celsius values called C<br>\n",
    "3. Uses a **```for```** loop to print out a table with values of F in the first column and C in the second column.<br><br>\n",
    "\n",
    "**Hint**: If you don't remember \"the perils of division\", take a look back at the Week 2 practical.</font>"
   ]
  },
  {
   "cell_type": "code",
   "execution_count": null,
   "metadata": {
    "collapsed": false
   },
   "outputs": [],
   "source": []
  },
  {
   "cell_type": "markdown",
   "metadata": {},
   "source": [
    "### for loops with arrays: putting values *in*\n",
    "\n",
    "In these last steps, we have been using ```i``` to pull values **out** of an array. We can also use ```i``` to put values **into** an array.\n",
    "\n",
    "As a trivial example, we could use it to store the values of ```new_variable``` from our example above that looked like this:"
   ]
  },
  {
   "cell_type": "raw",
   "metadata": {},
   "source": [
    "for i in range(0,10,1):\n",
    "    new_variable = i*3\n",
    "    print 'i = ',i,' and new_variable = ',new_variable"
   ]
  },
  {
   "cell_type": "markdown",
   "metadata": {},
   "source": [
    "Here's the code we would need (we'll walk through it below):"
   ]
  },
  {
   "cell_type": "code",
   "execution_count": null,
   "metadata": {
    "collapsed": false
   },
   "outputs": [],
   "source": [
    "new_variable_saved = numpy.zeros(10)\n",
    "\n",
    "for i in range(0,10,1):\n",
    "    new_variable = i*3\n",
    "    new_variable_saved[i] = new_variable\n",
    "    print 'new_variable = ',new_variable,' stored in index ',i\n",
    "    \n",
    "print 'new_variable_saved = ',new_variable_saved"
   ]
  },
  {
   "cell_type": "markdown",
   "metadata": {},
   "source": [
    "How does this work? First you'll notice we are using a new numpy function: **```numpy.zeros```**.\n",
    "\n",
    "```numpy.zeros``` just creates an array full of (you guessed it) zeros! You can think of this as creating a placeholder where you will eventually  store all of your values.\n",
    "\n",
    "The total number of zeros is specified by the number in brackets:"
   ]
  },
  {
   "cell_type": "code",
   "execution_count": null,
   "metadata": {
    "collapsed": false
   },
   "outputs": [],
   "source": [
    "print \"5 zeros: \",numpy.zeros(5)\n",
    "print \"2 zeros: \",numpy.zeros(2)\n",
    "print \"16 zeros: \",numpy.zeros(16)"
   ]
  },
  {
   "cell_type": "markdown",
   "metadata": {},
   "source": [
    "Next, we go through our loop just as before. This time, however, we store our new variable in the array. Each time, we pick where in the array to store the variable using its index **```[i]```**. Because ```i``` changes each time we go around the loop, the slot where we store the variable also changes each time.\n",
    "\n",
    "Now, this is a pretty silly example, because we could create the same ```new_variable_saved``` array just using numpy calculations:"
   ]
  },
  {
   "cell_type": "code",
   "execution_count": null,
   "metadata": {
    "collapsed": false
   },
   "outputs": [],
   "source": [
    "i = numpy.arange(0,10,1)\n",
    "new_variable_saved = i*3\n",
    "print 'new_variable_saved = ',new_variable_saved"
   ]
  },
  {
   "cell_type": "markdown",
   "metadata": {},
   "source": [
    "But sometimes it can come in very handy. A great example is your bank account! Suppose you open an account with a generous 5% interest rate and a deposit of \\$100 on 1 January. One year later, you will have $\\$105 + 0.05\\times\\$100 =  \\$105$. The next year, you will have $\\$105 + 0.05\\times\\$105 =  \\$110.25$. Etc.\n",
    "\n",
    "Using a ```for``` loop, we can easily calculate how much money you would have after 20 years:"
   ]
  },
  {
   "cell_type": "code",
   "execution_count": null,
   "metadata": {
    "collapsed": false
   },
   "outputs": [],
   "source": [
    "account_value=100.\n",
    "\n",
    "# Note that we start our loop at i=1, because i=0 is the day you made the deposit!\n",
    "for i in range(1,20,1):\n",
    "    account_value = account_value + 0.05*account_value\n",
    "    \n",
    "print \"Final account value: $\",account_value"
   ]
  },
  {
   "cell_type": "markdown",
   "metadata": {},
   "source": [
    "And adding in array indexing, we can also keep track of exactly how much money you have every year:"
   ]
  },
  {
   "cell_type": "code",
   "execution_count": null,
   "metadata": {
    "collapsed": false
   },
   "outputs": [],
   "source": [
    "account_value=100.\n",
    "yearly_value = numpy.zeros(20)\n",
    "\n",
    "# Note that we start our loop at i=1, because i=0 is the day you made the deposit!\n",
    "for i in range(1,20,1):\n",
    "    account_value = account_value + 0.05*account_value\n",
    "    yearly_value[i] = account_value\n",
    "    \n",
    "print \"Final account value: $\",account_value\n",
    "print \"Yearly account value: $\", yearly_value"
   ]
  },
  {
   "cell_type": "markdown",
   "metadata": {},
   "source": [
    "But wait! This says that on Day 1 (the day we made our deposit) we had $0! Remember that we started our loop at ```i```=1 -- so we never stored anything in index=0. But we know how much was there on the first day, because that was our deposit. We can \"fill that in\" before we start. This is known as setting up our **initial condition** and we will use it a lot in the next few weeks."
   ]
  },
  {
   "cell_type": "code",
   "execution_count": null,
   "metadata": {
    "collapsed": false
   },
   "outputs": [],
   "source": [
    "account_value=100.\n",
    "yearly_value = numpy.zeros(20)\n",
    "\n",
    "# Set the \"initial condition\" for Day 0\n",
    "yearly_value[0] = account_value\n",
    "\n",
    "# Note that we start our loop at i=1, because i=0 is the day you made the deposit!\n",
    "for i in range(1,20,1):\n",
    "    account_value = account_value + 0.05*account_value\n",
    "    yearly_value[i] = account_value\n",
    "    \n",
    "print \"Final account value: $\", account_value\n",
    "print \"Yearly account value: $\", yearly_value"
   ]
  },
  {
   "cell_type": "markdown",
   "metadata": {},
   "source": [
    "Finally, we can practice one more thing that we learned last week: plotting. If we add an array for the year, then we can plot how the account value changes over time:"
   ]
  },
  {
   "cell_type": "code",
   "execution_count": null,
   "metadata": {
    "collapsed": false
   },
   "outputs": [],
   "source": [
    "account_value=100.\n",
    "yearly_value = numpy.zeros(20)\n",
    "\n",
    "# Set the \"initial condition\" for Day 0\n",
    "yearly_value[0] = account_value\n",
    "\n",
    "# Note that we start our loop at i=1, because i=0 is the day you made the deposit!\n",
    "for i in range(1,20,1):\n",
    "    account_value = account_value + 0.05*account_value\n",
    "    yearly_value[i] = account_value\n",
    "    \n",
    "# Add an array for the years\n",
    "years = numpy.arange(0,20,1)\n",
    "\n",
    "# Set up the plot\n",
    "import matplotlib.pyplot as pyplot\n",
    "% matplotlib inline\n",
    "pyplot.plot(years,yearly_value)\n",
    "pyplot.xlabel('Years account has been open')\n",
    "pyplot.ylabel('Account value ($)')\n",
    "pyplot.title('Change in bank account value over time')\n",
    "pyplot.show()"
   ]
  },
  {
   "cell_type": "markdown",
   "metadata": {},
   "source": [
    "## <font color=blue>EXERCISE 4c</font><br>\n",
    "\n",
    "<font color=blue>Imagine you didn't read the fine print properly and it turns out your new account was a scam, with an interest rate of **-10%** (so you are losing money!). Unfortunately, you put \\$1000 into the account.<br><br>\n",
    "\n",
    "Adapt the program above to plot the change in account value over the course of **50 years** in this new, scam account. Roughly when would your account balance drop below $10?</font>"
   ]
  },
  {
   "cell_type": "code",
   "execution_count": null,
   "metadata": {
    "collapsed": false
   },
   "outputs": [],
   "source": []
  },
  {
   "cell_type": "markdown",
   "metadata": {},
   "source": [
    "## Combining logic and loops\n",
    "\n",
    "An **<font face=\"courier\" color=green>if</font>** statement inside a **<font face=\"courier\" color=green>for</font>** loop - is that really possible? **YES it is!**\n",
    "\n",
    "\n",
    "Let's test it by combining some of our examples from above:"
   ]
  },
  {
   "cell_type": "code",
   "execution_count": 1,
   "metadata": {
    "collapsed": false
   },
   "outputs": [
    {
     "name": "stdout",
     "output_type": "stream",
     "text": [
      "planet temperature:  219.72072691\n",
      "  Brrrr!\n",
      "planet temperature:  254.815840548\n",
      "  Brrrr!\n",
      "planet temperature:  213.857953982\n",
      "  Brrrr!\n"
     ]
    }
   ],
   "source": [
    "import numpy\n",
    "\n",
    "# Set the Boltzmann Constant, in W/m^2/K^4\n",
    "sigma = 5.67e-8\n",
    "\n",
    "# Array of Venus, Earth, Mars albedos, unitless\n",
    "A_planets = numpy.array([0.8, 0.3, 0.2])\n",
    "\n",
    "# Array of Venus, Earth, Mars solar fluxes, in W/m2\n",
    "S_planets = numpy.array([2643.0, 1366.0, 593.0])\n",
    "\n",
    "# Calculate the effective for each planet, Te in K\n",
    "Te_planets = ((S_planets/(4*sigma))*(1-A_planets))**0.25\n",
    "\n",
    "# Convert the effective temperature to Celsius\n",
    "Te_planets_C = Te_planets - 273.15\n",
    "\n",
    "# Use a for loop for the INDEX values\n",
    "# If we don't know how many planets, we can use len() in the range function:\n",
    "for i in range(0,len(A_planets),1):\n",
    "    print 'planet temperature: ',Te_planets[i]\n",
    "\n",
    "    if Te_planets_C[i] > 35.0:          # use the calculated value (temperature in Celsius)\n",
    "        print '  It\\'s hot!'            #    to decide what statement to print\n",
    "    elif Te_planets_C[i] > 20.0:\n",
    "        print '  It\\'s warm'\n",
    "    elif Te_planets_C[i] > 5.0:\n",
    "        print '  It\\'s cool'\n",
    "    else:\n",
    "        print '  Brrrr!'"
   ]
  },
  {
   "cell_type": "markdown",
   "metadata": {},
   "source": [
    "You'll see that because we added an extra indentation (extra space) in front of the **<font face=\"courier\" color=green>if</font>** statement, we checked the conditions every time we went around the loop."
   ]
  },
  {
   "cell_type": "markdown",
   "metadata": {},
   "source": [
    "## <font color=blue>EXERCISE 5: BRINGING IT ALL TOGETHER</font><br>\n",
    "\n",
    "<font color=blue>This final exercise is designed to give you a chance to practice everything you have learned so far today (and in the last few weeks). Make sure to spend time thinking about what your answers **mean**.\n",
    "\n",
    "This week, we will continue developing an understanding of Daisyworld (look back to the Week 3 practical and/or the textbook if you don't remember!). Last week, we made a plot that showed us how the temperature of the Daisyworld planet changed as the number of daisies increased.<br><br>\n",
    "\n",
    "This time we are going to determine how the fraction of the planet covered by daisies changes as temperature increases.<br><br>\n",
    "\n",
    "### EXERCISE 5a<br>\n",
    "First we will define an array that represents the possible temperature of the planet and another, for now filled with zeros, that will eventually track daisy growth rate.\n",
    "\n",
    "**For this exercise:**\n",
    "1. Define an array that represents the temperature of the planet in K, ranging from 263K (-10°C) to 323 K (50°C) in steps of 1K.\n",
    "2. Define a second array that will eventually hold the daisy growth rate but for now is filled with zeros and has the same *length* (number of elements) as the temperature array.\n",
    "3. Print the values in the temperature array in both Kelvin (K) and degrees C.\n",
    "\n",
    "**Hint:** If you're stuck on Part 2, look back at the ** `len()` ** function.\n",
    "\n",
    "***Do not delete the <font face=courier>%reset</font> in the cell below*** (this makes sure your program isn't just \"remembering\" something you did before). Each time you run you will see the message <font face=courier>Once deleted, variables cannot be recovered. Proceed (y/[n])?</font> - ***make sure to answer y.***"
   ]
  },
  {
   "cell_type": "code",
   "execution_count": 2,
   "metadata": {
    "collapsed": false
   },
   "outputs": [
    {
     "name": "stdout",
     "output_type": "stream",
     "text": [
      "Once deleted, variables cannot be recovered. Proceed (y/[n])? y\n",
      "[263 264 265 266 267 268 269 270 271 272 273 274 275 276 277 278 279 280\n",
      " 281 282 283 284 285 286 287 288 289 290 291 292 293 294 295 296 297 298\n",
      " 299 300 301 302 303 304 305 306 307 308 309 310 311 312 313 314 315 316\n",
      " 317 318 319 320 321 322 323]\n",
      "[-10  -9  -8  -7  -6  -5  -4  -3  -2  -1   0   1   2   3   4   5   6   7\n",
      "   8   9  10  11  12  13  14  15  16  17  18  19  20  21  22  23  24  25\n",
      "  26  27  28  29  30  31  32  33  34  35  36  37  38  39  40  41  42  43\n",
      "  44  45  46  47  48  49  50]\n",
      "[ 0.  0.  0.  0.  0.  0.  0.  0.  0.  0.  0.  0.  0.  0.  0.  0.  0.  0.\n",
      "  0.  0.  0.  0.  0.  0.  0.  0.  0.  0.  0.  0.  0.  0.  0.  0.  0.  0.\n",
      "  0.  0.  0.  0.  0.  0.  0.  0.  0.  0.  0.  0.  0.  0.  0.  0.  0.  0.\n",
      "  0.  0.  0.  0.  0.  0.  0.]\n"
     ]
    }
   ],
   "source": [
    "%reset\n",
    "import numpy\n",
    "import matplotlib.pyplot as pyplot\n",
    "% matplotlib inline\n",
    "\n",
    "T = numpy.arange(263,324,1)\n",
    "D = numpy.zeros(len(T))\n",
    "\n",
    "print T\n",
    "print T-273\n",
    "print D"
   ]
  },
  {
   "cell_type": "markdown",
   "metadata": {},
   "source": [
    "### <font color=blue>EXERCISE 5b</font><br>\n",
    "\n",
    "<font color=blue>Now we will calculate how fast the flowers grow at each temperature (their \"growth rate\"). Based on what we know about real plants, we can expect that the daisies on Daisyworld can only grow within a certain temperature range. If it's too cold or too hot, the daisies will die. We can also expect that there is a temperature somewhere at which they grow best (their optimum).\n",
    "\n",
    "On Daisyworld:\n",
    "- flowers don't grow below 281 K (8°C)\n",
    "- flowers don't grow above 310 K (37°C)\n",
    "- flower growth peaks at 295.5 K (22.5°C)\n",
    "\n",
    "We can represent this situation as a parabola, where the growth rate of the ***population*** of flowers (in units of *fraction of the planet covered by flowers / year*) is defined as:\n",
    "$$1-0.005 \\times (295.5-T)^2$$\n",
    "\n",
    "The growth rate **can never be below zero** (this would represent daisy death, which we will deal with separately).\n",
    "\n",
    "**For this exercise:**\n",
    "1. Use a **`for`** loop to calculate the growth rate at every value of T in your array from above, and store the growth rate in the array you filled with zeros.\n",
    "2. Use an **`if`** statement inside your for loop to make sure the growth rate is never less than zero.\n",
    "3. Plot growth rate as a function of temperature, in degrees C (growth rate should be on the y-axis).\n",
    "\n",
    "**Hint 1:** Every time you go around the loop you will need to take a value OUT of the temperature array and put a new value IN the growth rate array.<br>\n",
    "**Hint 2:** The maximum growth rate should be 1 and the minimum zero. If your growth rate doesn't look like an arch, then something has gone wrong!"
   ]
  },
  {
   "cell_type": "code",
   "execution_count": 8,
   "metadata": {
    "collapsed": false
   },
   "outputs": [
    {
     "name": "stdout",
     "output_type": "stream",
     "text": [
      "too cold!\n",
      "too cold!\n",
      "too cold!\n",
      "too cold!\n",
      "too cold!\n",
      "too cold!\n",
      "too cold!\n",
      "too cold!\n",
      "too cold!\n",
      "too cold!\n",
      "too cold!\n",
      "too cold!\n",
      "too cold!\n",
      "too cold!\n",
      "too cold!\n",
      "too cold!\n",
      "too cold!\n",
      "too cold!\n",
      "too cold!\n"
     ]
    },
    {
     "ename": "NameError",
     "evalue": "name 'F' is not defined",
     "output_type": "error",
     "traceback": [
      "\u001b[0;31m---------------------------------------------------------------------------\u001b[0m",
      "\u001b[0;31mNameError\u001b[0m                                 Traceback (most recent call last)",
      "\u001b[0;32m<ipython-input-8-869a793e6c0c>\u001b[0m in \u001b[0;36m<module>\u001b[0;34m()\u001b[0m\n\u001b[1;32m      6\u001b[0m     \u001b[0;32melse\u001b[0m\u001b[0;34m:\u001b[0m\u001b[0;34m\u001b[0m\u001b[0m\n\u001b[1;32m      7\u001b[0m         \u001b[0mD\u001b[0m\u001b[0;34m[\u001b[0m\u001b[0mi\u001b[0m\u001b[0;34m]\u001b[0m \u001b[0;34m=\u001b[0m \u001b[0;36m1\u001b[0m \u001b[0;34m-\u001b[0m \u001b[0;36m0.005\u001b[0m \u001b[0;34m*\u001b[0m \u001b[0;34m(\u001b[0m\u001b[0;36m295.5\u001b[0m\u001b[0;34m-\u001b[0m\u001b[0mT\u001b[0m\u001b[0;34m[\u001b[0m\u001b[0;34m[\u001b[0m\u001b[0mi\u001b[0m\u001b[0;34m]\u001b[0m\u001b[0;34m]\u001b[0m\u001b[0;34m)\u001b[0m\u001b[0;34m**\u001b[0m\u001b[0;36m2\u001b[0m\u001b[0;34m\u001b[0m\u001b[0m\n\u001b[0;32m----> 8\u001b[0;31m         \u001b[0mF\u001b[0m\u001b[0;34m[\u001b[0m\u001b[0mi\u001b[0m\u001b[0;34m]\u001b[0m \u001b[0;34m=\u001b[0m \u001b[0;36m1\u001b[0m \u001b[0;34m-\u001b[0m \u001b[0;36m0.005\u001b[0m \u001b[0;34m*\u001b[0m \u001b[0;34m(\u001b[0m\u001b[0;36m295.5\u001b[0m\u001b[0;34m-\u001b[0m\u001b[0mT\u001b[0m\u001b[0;34m[\u001b[0m\u001b[0;34m[\u001b[0m\u001b[0mi\u001b[0m\u001b[0;34m]\u001b[0m\u001b[0;34m]\u001b[0m\u001b[0;34m)\u001b[0m\u001b[0;34m**\u001b[0m\u001b[0;36m2\u001b[0m\u001b[0;34m\u001b[0m\u001b[0m\n\u001b[0m\u001b[1;32m      9\u001b[0m \u001b[0;34m\u001b[0m\u001b[0m\n\u001b[1;32m     10\u001b[0m \u001b[0;32mprint\u001b[0m \u001b[0mD\u001b[0m\u001b[0;34m\u001b[0m\u001b[0m\n",
      "\u001b[0;31mNameError\u001b[0m: name 'F' is not defined"
     ]
    }
   ],
   "source": [
    "for i in range(0,len(T),1):\n",
    "    if T[i] <= 281:\n",
    "        print 'too cold!'\n",
    "    elif T[i] >= 310:\n",
    "        print 'too hot!'\n",
    "    else:\n",
    "        D[i] = 1 - 0.005 * (295.5-T[[i]])**2\n",
    "        F[i] = 1 - 0.005 * (295.5-T[[i]])**2\n",
    "        \n",
    "print D\n",
    "\n",
    "\n",
    "\n",
    "D = 1 - 0.005 * (295.5-T)**2\n",
    "print D\n",
    "\n",
    "for i in range(0,len(T),1):\n",
    "    if D[i] < 0:\n",
    "        D[i] = 0\n",
    "        \n",
    "print D"
   ]
  },
  {
   "cell_type": "markdown",
   "metadata": {},
   "source": [
    "### <font color=blue>EXERCISE 5c</font><br>\n",
    "\n",
    "<font color=blue>Assume for now that the flowers die at a constant rate of 0.3 (fraction/year) that does not depend on temperature. Think about the behaviour you see in the plot above and answer the following questions as comments in the next box:\n",
    "1. Imagine the temperature is relatively cold but still within the daisy growth range (say, 10°C). Are individual flowers growing, dying, or both? Is the overall daisy population (i.e. the fraction of the planet covered by flowers) increasing, decreasing, or neither? Why?\n",
    "2. If the temperature suddenly jumped to 20°C, would the overall population size increase or decrease? Why?\n",
    "3. If the temperature increased again to 35°C, would the overall population size increase or decrease? Why?\n",
    "4. Referring to the plot above, explain how an increase in temperature can have different impacts on the daisy population depending on the temperature the planet starts out with."
   ]
  },
  {
   "cell_type": "code",
   "execution_count": null,
   "metadata": {
    "collapsed": true
   },
   "outputs": [],
   "source": []
  }
 ],
 "metadata": {
  "anaconda-cloud": {},
  "kernelspec": {
   "display_name": "Python [default]",
   "language": "python",
   "name": "python2"
  },
  "language_info": {
   "codemirror_mode": {
    "name": "ipython",
    "version": 2
   },
   "file_extension": ".py",
   "mimetype": "text/x-python",
   "name": "python",
   "nbconvert_exporter": "python",
   "pygments_lexer": "ipython2",
   "version": "2.7.12"
  }
 },
 "nbformat": 4,
 "nbformat_minor": 0
}
