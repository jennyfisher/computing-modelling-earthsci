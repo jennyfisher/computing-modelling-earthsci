{
 "cells": [
  {
   "cell_type": "markdown",
   "metadata": {},
   "source": [
    "# Introduction to Programming in Python: Functions\n",
    "\n",
    "This practical is the final one in our exploration of basic concepts in programming. It builds on the previous 3. It is based on an almagamation of course and examples, including the following (which you are welcome to explore on your own!):\n",
    "1. Introduction to programming for Geoscientists (with Python) by Gerard Gorman and Christian Jacobs: http://ggorman.github.io/Introduction-to-programming-for-geoscientists/lecture_series/\n",
    "2. Introduction to scientific programming in Python by the UCL graduate school: http://www.cs.ucl.ac.uk/scipython/index.html\n",
    "3. Programming with Python by Software Carpentry: http://swcarpentry.github.io/python-novice-inflammation/\n",
    "4. CS For All: Introduction to Computer Science and Python Programming by HarveyMuddX at edX: https://www.edx.org/course/cs-all-introduction-computer-science-harveymuddx-cs005x-0\n",
    "\n",
    "**Recommended Reading**: *Think Python*, Sections [3.1](http://greenteapress.com/thinkpython/html/thinkpython004.html#toc24), [3.5](http://greenteapress.com/thinkpython/html/thinkpython004.html#toc28)-[3.9](http://greenteapress.com/thinkpython/html/thinkpython004.html#toc32), [6.1](http://greenteapress.com/thinkpython/html/thinkpython007.html#toc66) and *SciPy Lecture Notes*, Sections [1.2.4.1](http://www.scipy-lectures.org/intro/language/functions.html#function-definition)-[1.2.4.3](http://www.scipy-lectures.org/intro/language/functions.html#parameters)"
   ]
  },
  {
   "cell_type": "markdown",
   "metadata": {},
   "source": [
    "## Functions\n",
    "\n",
    "Up to this point, we have used a few equations over and over again (temperature conversion, solar flux calculation...). So far this has involved copying and pasting the equation each time we need it. This is ok (although prone to human error!) when the code we are repeating is short, but as we start to build longer code, copying and pasting becomes inefficient and repetitive. Instead, we use ***functions*** to package pieces of code that we may want to execute more than once.\n",
    "\n",
    "We have already used a few built-in functions, for example the `range()` function:"
   ]
  },
  {
   "cell_type": "code",
   "execution_count": null,
   "metadata": {},
   "outputs": [],
   "source": [
    "print( range(0,10,1) )"
   ]
  },
  {
   "cell_type": "markdown",
   "metadata": {},
   "source": [
    "We can also define our own functions. Let's start for example with our function to convert a temperature from degrees Fahrenheit to degrees Celsius.\n",
    "\n",
    "Functions start with **<font face=courier color=green>def</font>**, then the name you want to give your function (here **<font face=courier color=blue>F_to_C</font>**), then a list of ***arguments*** (here **<font face=courier>Temp_in_F</font>**). This is referred to as the function header. Inside the function there is a block of statements called the ***function body***.\n",
    "\n",
    "Notice that the function body is indented. As was the case for the <font face=courier color=green>for</font> loops and <font face=courier color=green>if</font> statements, the indentation indicates where the function ends. The function ends with a **<font face=courier color=green>return</font>** statement that sends back the ***return value*** (here **<font face=courier>Temp_in_C</font>**).\n",
    "\n",
    "![Function Image](function.png) *Image modified from Software Carpentry.*\n",
    "\n",
    "What happens if you execute the cell below?"
   ]
  },
  {
   "cell_type": "code",
   "execution_count": null,
   "metadata": {},
   "outputs": [],
   "source": [
    "def F_to_C(Temp_in_F):\n",
    "    Temp_in_C = (5.0/9.0)*(Temp_in_F-32)\n",
    "    return Temp_in_C"
   ]
  },
  {
   "cell_type": "markdown",
   "metadata": {
    "collapsed": true
   },
   "source": [
    "Nothing happened, right?\n",
    "\n",
    "**With functions, there are two steps that you must remember to do:**\n",
    "1. ***Define*** the function (i.e., tell Python what it will do).\n",
    "2. ***Call*** the function (i.e., tell Python to use it).\n",
    "\n",
    "So far, all we have done is define our function. Python now knows it exists.\n",
    "\n",
    "If we want to use our function, we need to call it. This means we have to tell Python what to use for the input argument, `Temp_in_F`. In other words, what temperature are we converting from F to C?\n",
    "\n",
    "We can do that in a few different ways. The easiest is to just put a number directly into the function as an input argument:"
   ]
  },
  {
   "cell_type": "code",
   "execution_count": null,
   "metadata": {},
   "outputs": [],
   "source": [
    "# Example: call the function when the temperature is 100 F.\n",
    "print( F_to_C(100.) )\n",
    "\n",
    "# Example: call the function when the temperature is 22 F.\n",
    "print( F_to_C(22.) )"
   ]
  },
  {
   "cell_type": "markdown",
   "metadata": {},
   "source": [
    "We can also use a variable to provide the input. This is good practice, because we can re-use our function call by just changing the variable:"
   ]
  },
  {
   "cell_type": "code",
   "execution_count": null,
   "metadata": {},
   "outputs": [],
   "source": [
    "# Example: call the function when the temperature is 100 F.\n",
    "Temp_in_F = 100.\n",
    "print( F_to_C(Temp_in_F) )\n",
    "\n",
    "# Example: call the function when the temperature is 100 F.\n",
    "Temp_in_F = 22.\n",
    "print( F_to_C(Temp_in_F) )"
   ]
  },
  {
   "cell_type": "markdown",
   "metadata": {},
   "source": [
    "You'll see in the example above that we called our input variable `Temp_in_F` - the same name as the argument in our function definition. While it does make things clearer, you **don't** have to use the same name (and sometimes it can lead to confusion). For example:"
   ]
  },
  {
   "cell_type": "code",
   "execution_count": null,
   "metadata": {},
   "outputs": [],
   "source": [
    "# These examples should all give the same result.\n",
    "Temp_in_F = 100.\n",
    "print( F_to_C(Temp_in_F) )\n",
    "\n",
    "F = 100.\n",
    "print( F_to_C(F) )\n",
    "\n",
    "RandomVariable = 100.\n",
    "print( F_to_C(RandomVariable) )\n",
    "\n",
    "IsThisPracNearlyOver = 100.\n",
    "print( F_to_C(IsThisPracNearlyOver) )"
   ]
  },
  {
   "cell_type": "markdown",
   "metadata": {},
   "source": [
    "You'll notice that by now we have used our function `F_to_C` many times, but we only had to define it once! Cool, right?\n",
    "\n",
    "**This is an important take-home message.** Once you have defined a function and it does what you want it to do, you can use it as many times as you like. You do **not** need to redefine it every time you use it.\n",
    "\n",
    "Of course, if you want to change how it behaves, then you do need to redefine it."
   ]
  },
  {
   "cell_type": "markdown",
   "metadata": {},
   "source": [
    "### just like functions in maths\n",
    "\n",
    "You've probably seen functions before in maths classes that look something like this:\n",
    "$$f(x)=x^2$$\n",
    "\n",
    "Functions in Python are exactly the same! To turn that maths function into a Python function, it would look something like this:"
   ]
  },
  {
   "cell_type": "code",
   "execution_count": null,
   "metadata": {},
   "outputs": [],
   "source": [
    "def f(x):\n",
    "    output = x**2\n",
    "    return output"
   ]
  },
  {
   "cell_type": "markdown",
   "metadata": {},
   "source": [
    "Now we can call `f(x)` as many times as we like:"
   ]
  },
  {
   "cell_type": "code",
   "execution_count": null,
   "metadata": {},
   "outputs": [],
   "source": [
    "print( f(2) )"
   ]
  },
  {
   "cell_type": "code",
   "execution_count": null,
   "metadata": {},
   "outputs": [],
   "source": [
    "print( f(3) )"
   ]
  },
  {
   "cell_type": "code",
   "execution_count": null,
   "metadata": {},
   "outputs": [],
   "source": [
    "print( f(10) )"
   ]
  },
  {
   "cell_type": "markdown",
   "metadata": {},
   "source": [
    "## <font color=blue>Complete Exercise 1 now</font>"
   ]
  },
  {
   "cell_type": "markdown",
   "metadata": {
    "collapsed": true
   },
   "source": [
    "### local variables: hidden from the world\n",
    "\n",
    "**This is a key point, and one that students often find confusing, so read carefully and ask question!**\n",
    "\n",
    "To understand the idea of local variables, let's define a new function that is similar to, but slightly different from, the previous example. (We are using different variable names to make it extra clear what is happening.)"
   ]
  },
  {
   "cell_type": "code",
   "execution_count": null,
   "metadata": {},
   "outputs": [],
   "source": [
    "# Define a function that converts a temperature in Fahrenheit to its value in Kelvin\n",
    "def F_to_K(F_Temp):\n",
    "    C_Temp = (5.0/9)*(F_Temp-32)\n",
    "    K_Temp = C_Temp + 273.15\n",
    "    return K_Temp\n",
    "\n",
    "# Call the function when F_Temp = 100 and print the result\n",
    "print( F_to_K(100.) )"
   ]
  },
  {
   "cell_type": "markdown",
   "metadata": {},
   "source": [
    "If we take a close look inside our function, we see that we defined two variables. First, we defined `C_Temp`:\n",
    "```\n",
    "    C_Temp = (5.0/9)*(F_Temp-32)\n",
    "```\n",
    "\n",
    "Then we defined `K_Temp`:\n",
    "```\n",
    "    K_Temp = C_Temp + 273.15\n",
    "```\n",
    "\n",
    "These variables that are defined **inside** a function are said to be ***local***. They **only** exist inside that function - in other words, they are completely invisible as far as the rest of the program is concerned.\n",
    "\n",
    "We can see exactly what that means if we try to print out some of the local variables from **outside** the function (e.g. after we call it):"
   ]
  },
  {
   "cell_type": "code",
   "execution_count": null,
   "metadata": {},
   "outputs": [],
   "source": [
    "# Call the function when F_Temp = 100 and print the result\n",
    "print( F_to_K(100.) )\n",
    "\n",
    "# Try to print a local variable\n",
    "print( C_Temp )"
   ]
  },
  {
   "cell_type": "markdown",
   "metadata": {},
   "source": [
    "`C_Temp` was only defined inside the function, so it is invisible to the rest of Python.\n",
    "\n",
    "You might be tempted to think that `K_Temp` is exempt, because that's the variable we return, right? Let's check:"
   ]
  },
  {
   "cell_type": "code",
   "execution_count": null,
   "metadata": {},
   "outputs": [],
   "source": [
    "# Call the function when F_Temp = 100 and print the result\n",
    "print( F_to_K(100.) )\n",
    "\n",
    "# Try to print a local variable\n",
    "print( K_Temp )"
   ]
  },
  {
   "cell_type": "markdown",
   "metadata": {},
   "source": [
    "Nope! `K_Temp` is also a local variable, defined within the function. We return its ***value*** but not its name, so the rest of Python doesn't know it exists.\n",
    "\n",
    "This takes some getting used to. Until you are really comfortable with this concept, it is a good idea to use **different** variable names in your function and in the rest of your code so that you can keep track of exactly what your variables refer to."
   ]
  },
  {
   "cell_type": "markdown",
   "metadata": {},
   "source": [
    "### Saving and using function output\n",
    "\n",
    "So far we have just been printing the output of functions. But we can instead save the value in a variable (just like we can with any other mathematical expression). For example:"
   ]
  },
  {
   "cell_type": "code",
   "execution_count": null,
   "metadata": {},
   "outputs": [],
   "source": [
    "C = F_to_C(100.)\n",
    "print( \"When F = 100., C = \",C )\n",
    "\n",
    "C = F_to_C(10.)\n",
    "print( \"When F = 10., C = \",C )"
   ]
  },
  {
   "cell_type": "markdown",
   "metadata": {},
   "source": [
    "You can see that this is no different from assigning a variable using an equation, like we were doing before we knew about functions:"
   ]
  },
  {
   "cell_type": "code",
   "execution_count": null,
   "metadata": {},
   "outputs": [],
   "source": [
    "F = 100.\n",
    "C = (5.0/9.0)*(F-32)\n",
    "print( \"When F = 10., C = \",C )"
   ]
  },
  {
   "cell_type": "markdown",
   "metadata": {},
   "source": [
    "### Functions with arrays\n",
    "\n",
    "You may be wondering at this point what you would do if you had 50 or 100 temperature values to convert. By now, we know a few ways to do this:\n",
    "1. You could calculate each value, one by one (a bad way, and one that is prone to error)\n",
    "2. You could use a function to define the conversion, and a for loop to repeat the conversion for every value\n",
    "3. Even better, you can run your function with an array of values as input - and you will get an array of values as output!\n",
    "\n",
    "The example below illustrates this (if the numpy commands don't look familiar to you, brush up using materials from prior weeks):"
   ]
  },
  {
   "cell_type": "code",
   "execution_count": null,
   "metadata": {},
   "outputs": [],
   "source": [
    "import numpy\n",
    "\n",
    "# Make an array of temperatures to convert\n",
    "F_values=numpy.arange(-5,20.1,.5)\n",
    "\n",
    "# Use the function to convert the values to Celsius\n",
    "C_values = F_to_C(F_values)"
   ]
  },
  {
   "cell_type": "markdown",
   "metadata": {},
   "source": [
    "Rather than print the values, let's dust off our plotting skills and plot the relationship between F and C."
   ]
  },
  {
   "cell_type": "code",
   "execution_count": null,
   "metadata": {},
   "outputs": [],
   "source": [
    "import matplotlib.pyplot as pyplot\n",
    "%matplotlib inline\n",
    "\n",
    "pyplot.plot(F_values,C_values)\n",
    "pyplot.title(\"Temperature Conversion\")\n",
    "pyplot.xlabel(\"Temperature in degrees F\")\n",
    "pyplot.ylabel(\"Temperature in degrees C\")\n",
    "pyplot.show()"
   ]
  },
  {
   "cell_type": "markdown",
   "metadata": {},
   "source": [
    "## functions: another example"
   ]
  },
  {
   "cell_type": "markdown",
   "metadata": {},
   "source": [
    "Let's look at another example. Recall that the solar flux $S$ in W/m$^2$ can be calculated at a given distance from the sun $r$ in AU using:\n",
    "$$S(r) = S_0\\left (\\frac{r_0}{r}\\right )^2$$\n",
    "where $S_0$=1366 W/m$^2$ is the known solar flux at the distance of Earth, $r_0$ = 1.0 AU.\n",
    "\n",
    "We can define a function called <font face=courier>solar_flux</font> that takes $r$ as **input** and returns $S$ as **output**:"
   ]
  },
  {
   "cell_type": "code",
   "execution_count": null,
   "metadata": {},
   "outputs": [],
   "source": [
    "# Function to compute the solar flux at a given distance\n",
    "def solar_flux(r):\n",
    "\n",
    "    # Define constant variables\n",
    "    r0 = 1.00  # Distance from sun to Earth in AU\n",
    "    S0 = 1366  # Solar flux at Earth\n",
    "\n",
    "    # Use the equation to calculate the solar flux\n",
    "    S = S0*(r0/r)**2\n",
    "    \n",
    "    # return solar flux S\n",
    "    return S"
   ]
  },
  {
   "cell_type": "markdown",
   "metadata": {},
   "source": [
    "**Make sure you understand the syntax of the function.** On the first line, we have (r) in brackets - this means that r is an ***input*** we are going to provide to the function every time we use it. On the last line we have \"return S\" - this means that S is the ***output*** that we want the function to calculate for us when we give it a value for r.\n",
    "\n",
    "So far we have only **defined** the function, remember that to use it we need to **call** it! Let's try it out for an input distance of 15 AU:"
   ]
  },
  {
   "cell_type": "code",
   "execution_count": null,
   "metadata": {},
   "outputs": [],
   "source": [
    "# As an example, call our function when the distance is 15 AU\n",
    "\n",
    "# This is our INPUT and we'll call it input_r\n",
    "input_r = 15.0\n",
    "\n",
    "# We call the function when the input value is input_r,\n",
    "# and get an OUTPUT, which we'll call output_S\n",
    "output_S = solar_flux(input_r)\n",
    "\n",
    "\n",
    "# Print input and output values\n",
    "print( \"For r = \",input_r,\" S = \",output_S )"
   ]
  },
  {
   "cell_type": "markdown",
   "metadata": {},
   "source": [
    "Remember that if we want to calculate the solar flux (S) at a different distance (r), we don't have to define the function again, or copy and paste the code. We can just call the function with a different value of r!\n",
    "\n",
    "Let's do it with a whole array of r values, and plot the result."
   ]
  },
  {
   "cell_type": "code",
   "execution_count": null,
   "metadata": {},
   "outputs": [],
   "source": [
    "# As an example, call our function when the distance is 15 AU\n",
    "\n",
    "# input values in AU\n",
    "input_r = numpy.arange(1,21,1)\n",
    "\n",
    "# output values in W/m2\n",
    "output_S = solar_flux(input_r)\n",
    "\n",
    "# Plot OUTPUT as a function of INPUT; add purple dots+line\n",
    "pyplot.plot(input_r,output_S)\n",
    "\n",
    "# labels!\n",
    "pyplot.title('Solar flux as a function of distance')\n",
    "pyplot.xlabel('Distance (AU)')\n",
    "pyplot.ylabel('Solar Flux (W/m2)')\n",
    "\n",
    "# show the plot\n",
    "pyplot.show()"
   ]
  },
  {
   "cell_type": "markdown",
   "metadata": {},
   "source": [
    "## <font color=blue>Complete Exercise 2a now</font>"
   ]
  },
  {
   "cell_type": "markdown",
   "metadata": {},
   "source": [
    "### returning multiple output values\n",
    "\n",
    "Functions can also return multiple output values. The syntax for this is:\n",
    "```\n",
    "def function_name(argument):\n",
    "    statements to execute\n",
    "    return value1, value2, etc.\n",
    "```\n",
    "\n",
    "For example, we can adapt our `F_to_K` function used early to return the temperature values in both Celsius and Kelvin:"
   ]
  },
  {
   "cell_type": "code",
   "execution_count": null,
   "metadata": {},
   "outputs": [],
   "source": [
    "# Define a function that converts a temperature in Fahrenheit to its value in Kelvin and Celsius\n",
    "# Notice that there are now two values on the last line!\n",
    "def F_to_K(F_Temp):\n",
    "    C_Temp = (5.0/9)*(F_Temp-32)\n",
    "    K_Temp = C_Temp + 273.15\n",
    "    return K_Temp, C_Temp\n",
    "\n",
    "\n",
    "# Call the function when F_Temp = 100 and print the result\n",
    "print( F_to_K(100.) )"
   ]
  },
  {
   "cell_type": "markdown",
   "metadata": {},
   "source": [
    "Now the function returns **two** values. How do we know which is which? Easy - they are returned in the **same order as they appear on the return line** (in this case, first `K_Temp`, then `C_Temp`)."
   ]
  },
  {
   "cell_type": "markdown",
   "metadata": {},
   "source": [
    "We saw above that it is easy to ***store*** the output from a function in a variable. Remember this?\n",
    "```\n",
    "C = F_to_C(100.)\n",
    "```\n",
    "\n",
    "What happens now that our function has **two** output values? Easy again, we just need **two** variable names to assign the output to:"
   ]
  },
  {
   "cell_type": "code",
   "execution_count": null,
   "metadata": {},
   "outputs": [],
   "source": [
    "# Call the function when F_Temp = 100 and store the result\n",
    "K, C = F_to_K(100.)\n",
    "print( \"K = \",K,\" and C = \", C )"
   ]
  },
  {
   "cell_type": "markdown",
   "metadata": {},
   "source": [
    "We could do this for **any** number of output values on the return line. Just remember that you need:\n",
    "1. The **same number** of variable names on the left of the equal sign (=) as you have on the return line\n",
    "2. The variables should appear in the **same order** in both places."
   ]
  },
  {
   "cell_type": "markdown",
   "metadata": {},
   "source": [
    "## <font color=blue>Complete Exercise 2b now</font>"
   ]
  },
  {
   "cell_type": "markdown",
   "metadata": {},
   "source": [
    "### providing multiple input arguments\n",
    "\n",
    "So far we have only defined functions with one argument, but functions can take multiple arguments. For example, think about `numpy.arange(start,stop,step)`. Here, `start`, `stop`, `step` are all arguments (inputs) to the function.\n",
    "\n",
    "To add extra inputs, we don't need to do anything fancy. All we do is add them to the first line of the function definition:\n",
    "```\n",
    "def function_name(argument1, argument2, ...):\n",
    "```\n",
    "\n",
    "When we call the function, we need to make sure we provide values for all of the arguments:\n",
    "```\n",
    "print( function_name(value1, value2, ...). )\n",
    "```\n",
    "\n",
    "As an example, we could modify the `solar_flux` function so that the reference distance ($r0$) and reference solar flux ($S0$) are arguments in the function:"
   ]
  },
  {
   "cell_type": "code",
   "execution_count": null,
   "metadata": {},
   "outputs": [],
   "source": [
    "# Function to compute the solar flux at a given distance\n",
    "def solar_flux(r, r0, S0):\n",
    "\n",
    "    # These are now provided as arguments -- so we don't define them here\n",
    "    # Define constant variables\n",
    "    #r0 = 1.00  # Distance from sun to Earth in AU\n",
    "    #S0 = 1366  # Solar flux at Earth\n",
    "\n",
    "    # Use the equation to calculate the solar flux\n",
    "    S = S0*(r0/r)**2\n",
    "    \n",
    "    # return solar flux S\n",
    "    return S\n",
    "\n",
    "# Call the function specifying r, r0, and S0\n",
    "print( solar_flux(5.0, 2.0, 341.5) )"
   ]
  },
  {
   "cell_type": "markdown",
   "metadata": {},
   "source": [
    "## <font color=blue>Complete Exercise 2c now</font>"
   ]
  },
  {
   "cell_type": "markdown",
   "metadata": {},
   "source": [
    "### defining default values\n",
    "\n",
    "We can also give arguments ***default values*** that will be used if we don't specify the value when we call it. For example, what is `step` when we don't specify it?."
   ]
  },
  {
   "cell_type": "code",
   "execution_count": null,
   "metadata": {},
   "outputs": [],
   "source": [
    "print( range(2,8) )   # Here 2 is start and 8 is stop, but what is step?"
   ]
  },
  {
   "cell_type": "markdown",
   "metadata": {},
   "source": [
    "The syntax looks like this:\n",
    "```\n",
    "def function_name(argument1, argument2=default_value):\n",
    "    statements to execute\n",
    "    return values\n",
    "```\n",
    "For example:"
   ]
  },
  {
   "cell_type": "code",
   "execution_count": null,
   "metadata": {},
   "outputs": [],
   "source": [
    "def rate_subject(subject,score=10):\n",
    "    message=\"I think \"+subject+\" deserves a score of \"+str(score)+\" out of 10!\"\n",
    "    return message"
   ]
  },
  {
   "cell_type": "markdown",
   "metadata": {},
   "source": [
    "When I am ready to call (use) the function <font color=blue face=courier>rate_subject</font>, I have a few options. I can tell you exactly what value to use for the argument (input) <font face=courier>score</font>:"
   ]
  },
  {
   "cell_type": "code",
   "execution_count": null,
   "metadata": {},
   "outputs": [],
   "source": [
    "# call 1: specify value for argument 'score' is 8\n",
    "print( rate_subject(\"EESC102\",score=9) )\n",
    "\n",
    "# call 2: specify value for argument 'score' is 7\n",
    "print( rate_subject(\"EESC102\",score=7) )"
   ]
  },
  {
   "cell_type": "markdown",
   "metadata": {},
   "source": [
    "However, if I **don't** specify, then the function will automatically use the default value I specified when I wrote the function (in this case, I wrote \"score=10\" in the function definition, which means the default value is 10):"
   ]
  },
  {
   "cell_type": "code",
   "execution_count": null,
   "metadata": {},
   "outputs": [],
   "source": [
    "# call 3: don't specify a value for 'score'; instead use default value\n",
    "print( rate_subject(\"EESC102\") )"
   ]
  },
  {
   "cell_type": "markdown",
   "metadata": {},
   "source": [
    "Let's return to our `solar_flux` example. Last time, we made `r0` and `S0` arguments, which makes the program flexible. But in reality, we know that most of the time we want  `r0 = 1.0` and `S0 = 1366.0`. So we'll make these defaults:"
   ]
  },
  {
   "cell_type": "code",
   "execution_count": null,
   "metadata": {},
   "outputs": [],
   "source": [
    "# Function to compute the solar flux at a given distance\n",
    "def solar_flux(r, r0=1.0, S0=1366.0):\n",
    "\n",
    "    # These are now provided as arguments -- so we don't define them here\n",
    "    #   but we do now provide their default values!\n",
    "    # Define constant variables\n",
    "    #r0 = 1.00  # Distance from sun to Earth in AU\n",
    "    #S0 = 1366  # Solar flux at Earth\n",
    "\n",
    "    # Use the equation to calculate the solar flux\n",
    "    S = S0*(r0/r)**2\n",
    "    \n",
    "    # return solar flux S\n",
    "    return S\n",
    "\n",
    "# Call the function specifying r, r0, and S0\n",
    "print( solar_flux(5.0, r0=1.0, S0=1366.0) )\n",
    "\n",
    "# Call the function without specifying r0 and S0\n",
    "print( solar_flux(5.0) )"
   ]
  },
  {
   "cell_type": "markdown",
   "metadata": {},
   "source": [
    "<font color=purple>Notice that I used the variable names in the call:<br>\n",
    "```\n",
    "print( solar_flux(5.0, r0=1.0, S0=1366.0) )\n",
    "```\n",
    "<br><br>\n",
    "It would still have worked if I hadn't, as long as the arguments were in the right order:<br>\n",
    "```print( solar_flux(5.0, 1.0, 1366.0) )```<br>\n",
    "However, because default arguments are optional, it is safest when there are default arguments (especially when there are multiple) to specify which value belongs to which argument. This also makes sure you don't get yourself too confused!</font>\n",
    "\n",
    "**Important note**: when you specify the variable names when you call the function, they need to be the same as used in the function definition (confusing, I know!). So, this works:"
   ]
  },
  {
   "cell_type": "code",
   "execution_count": null,
   "metadata": {},
   "outputs": [],
   "source": [
    "input_r0 = 1.0\n",
    "print( solar_flux(5.0, r0 = input_r0) )"
   ]
  },
  {
   "cell_type": "markdown",
   "metadata": {},
   "source": [
    "But this doesn't:"
   ]
  },
  {
   "cell_type": "code",
   "execution_count": null,
   "metadata": {},
   "outputs": [],
   "source": [
    "input_r0 = 1.0\n",
    "print( solar_flux(5.0, input_r0 = input_r0) )"
   ]
  },
  {
   "cell_type": "markdown",
   "metadata": {},
   "source": [
    "## <font color=blue>Complete Exercise 2d now</font>"
   ]
  },
  {
   "cell_type": "markdown",
   "metadata": {},
   "source": [
    "## Side Note: Making plots pretty\n",
    "\n",
    "Now is a good time to take a little aside and learn some easy ways to make plots look a bit nicer. Here are a few options (more available via Google!).\n",
    "\n",
    "Let's re-use our `F_to_C` function so we have something simple to work with:"
   ]
  },
  {
   "cell_type": "code",
   "execution_count": null,
   "metadata": {},
   "outputs": [],
   "source": [
    "# Define the function\n",
    "def F_to_C(Temp_in_F):\n",
    "    Temp_in_C = (5.0/9.0)*(Temp_in_F-32)\n",
    "    return Temp_in_C\n",
    "\n",
    "# Make an array of temperatures to convert\n",
    "F_values=numpy.arange(-5,20.1,2)\n",
    "\n",
    "# Use the function to convert the values to Celsius\n",
    "C_values = F_to_C(F_values)"
   ]
  },
  {
   "cell_type": "markdown",
   "metadata": {},
   "source": [
    "### points vs. lines\n",
    "\n",
    "Sometimes you will want to plot **discrete points** rather than automatically joining the points together with a line. To do this, we add an extra argument to the plot command where we specify that instead of a line we want to plot circles ('o'):"
   ]
  },
  {
   "cell_type": "code",
   "execution_count": null,
   "metadata": {},
   "outputs": [],
   "source": [
    "pyplot.plot(F_values,C_values,'o') # note the addition of 'o' here\n",
    "pyplot.title(\"Temperature Conversion\")\n",
    "pyplot.xlabel(\"Temperature in degrees F\")\n",
    "pyplot.ylabel(\"Temperature in degrees C\")\n",
    "pyplot.show()"
   ]
  },
  {
   "cell_type": "markdown",
   "metadata": {},
   "source": [
    "And if we want to show the discrete points, but also connect them with a line, we can do that by specifying that we want both circles ('o') and lines ('-'):"
   ]
  },
  {
   "cell_type": "code",
   "execution_count": null,
   "metadata": {},
   "outputs": [],
   "source": [
    "pyplot.plot(F_values,C_values,'-o') # note the addition of '-o' here\n",
    "pyplot.title(\"Temperature Conversion\")\n",
    "pyplot.xlabel(\"Temperature in degrees F\")\n",
    "pyplot.ylabel(\"Temperature in degrees C\")\n",
    "pyplot.show()"
   ]
  },
  {
   "cell_type": "markdown",
   "metadata": {},
   "source": [
    "### colour\n",
    "\n",
    "We can even choose what colour to use in our plot. This is as easy as adding **<font face=courier>color='red'</font>** to the plot command. **Note: this command uses the American spelling of color!**\n",
    "\n",
    "Use the cell below to play around with different colours for the plot."
   ]
  },
  {
   "cell_type": "code",
   "execution_count": null,
   "metadata": {},
   "outputs": [],
   "source": [
    "pyplot.plot(F_values,C_values,'o',color='red') # note the addition of 'red' here - try changing it!\n",
    "pyplot.title(\"Temperature Conversion\")\n",
    "pyplot.xlabel(\"Temperature in degrees F\")\n",
    "pyplot.ylabel(\"Temperature in degrees C\")\n",
    "pyplot.show()"
   ]
  },
  {
   "cell_type": "markdown",
   "metadata": {},
   "source": [
    "### axes limits\n",
    "\n",
    "We can also \"zoom in\" to look at a particular region by setting limits on the value of the axes.\n",
    "\n",
    "To do this, we use a couple of extra lines:\n",
    "```\n",
    "pyplot.xlim([minimum,maximum])\n",
    "pyplot.ylim([minimum,maximum])\n",
    "```\n",
    "\n",
    "See the cell below for an example, and play around with different limits."
   ]
  },
  {
   "cell_type": "code",
   "execution_count": null,
   "metadata": {},
   "outputs": [],
   "source": [
    "pyplot.plot(F_values,C_values,'o',color='red')\n",
    "pyplot.title(\"Temperature Conversion\")\n",
    "pyplot.xlabel(\"Temperature in degrees F\")\n",
    "pyplot.ylabel(\"Temperature in degrees C\")\n",
    "\n",
    "# Set the axis limits\n",
    "pyplot.xlim([0,10])\n",
    "pyplot.ylim([-20,-10])\n",
    "\n",
    "pyplot.show()"
   ]
  },
  {
   "cell_type": "markdown",
   "metadata": {},
   "source": [
    "It is also possible to use only `xlim` or only `ylim` (in other words you don't have to use them both together):"
   ]
  },
  {
   "cell_type": "code",
   "execution_count": null,
   "metadata": {
    "scrolled": true
   },
   "outputs": [],
   "source": [
    "pyplot.plot(F_values,C_values,'o',color='red')\n",
    "pyplot.title(\"Temperature Conversion\")\n",
    "pyplot.xlabel(\"Temperature in degrees F\")\n",
    "pyplot.ylabel(\"Temperature in degrees C\")\n",
    "\n",
    "# Set the axis limits\n",
    "pyplot.xlim([0,10])\n",
    "\n",
    "pyplot.show()"
   ]
  },
  {
   "cell_type": "markdown",
   "metadata": {},
   "source": [
    "## <font color=blue>Complete Exercise 2e now</font>"
   ]
  },
  {
   "cell_type": "markdown",
   "metadata": {},
   "source": [
    "## <font color=blue>Complete Exercise 3 now</font>"
   ]
  }
 ],
 "metadata": {
  "anaconda-cloud": {},
  "kernelspec": {
   "display_name": "Python 3",
   "language": "python",
   "name": "python3"
  },
  "language_info": {
   "codemirror_mode": {
    "name": "ipython",
    "version": 3
   },
   "file_extension": ".py",
   "mimetype": "text/x-python",
   "name": "python",
   "nbconvert_exporter": "python",
   "pygments_lexer": "ipython3",
   "version": "3.5.4"
  }
 },
 "nbformat": 4,
 "nbformat_minor": 1
}
