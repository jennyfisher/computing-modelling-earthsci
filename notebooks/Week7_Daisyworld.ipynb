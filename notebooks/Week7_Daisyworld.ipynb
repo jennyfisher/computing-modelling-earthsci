{
 "cells": [
  {
   "cell_type": "markdown",
   "metadata": {},
   "source": [
    "# Daisyworld\n",
    "\n",
    "As in the previous practical, many of the details and parameters from this lab come from the STELLA version at: http://www3.geosc.psu.edu/~dmb53/DaveSTELLA/Daisyworld/daisyworld_model.htm"
   ]
  },
  {
   "cell_type": "markdown",
   "metadata": {},
   "source": [
    "Daisyworld was first conceived by James Lovelock and Andrew Watson. It is a very simple planet  that has only one species of life on its surface -- pure white daisies. The rest of the planet is covered by gray soil. The daisies receive energy from the sun and water and nutrients from the soil. The atmosphere is very simple, with no clouds and no greenhouse gases. You can read more about Daisyworld in Chapter 2 of the textbook.\n",
    "\n",
    "We are interested here in modelling how the surface temperature of Daisyworld changes in response to the coverage of daisies, and how the coverage of daisies changes in response to the temperature. These each affect one another in different ways, which we will explore below."
   ]
  },
  {
   "cell_type": "markdown",
   "metadata": {},
   "source": [
    "## The effect of daisies on surface temperature\n",
    "\n",
    "Recall from the lectures, textbook, and previous problem that when incoming energy from the sun arrives at the surface of Daisyworld (or any planet), some fraction is reflected back to space and the rest is absorbed by the surface. That  fraction of incoming energy that is reflected is known as the **albedo**. \n",
    "\n",
    "In the Week 3 practical, we learned that the only things on Daisyworld are flowers and soil. So if $f_{flower}$ represents the fraction of the planet covered by flowers, the rest will be soil:\n",
    "\n",
    "$$f_{soil} = 1 - f_{flower}$$\n",
    "\n",
    "We also learned that on Daisyworld soil has an albedo of $A_{soil}=0.4$. For now we will assume flowers have an albedo of $A_{flower}=0.75$, but this will change later in the exercises.\n",
    "\n",
    "We also worked out in Week 3 that we can express the overall planetary albedo as:\n",
    "\n",
    "$$A = A_{flower}*f_{flower} + A_{soil}*f_{soil}$$\n",
    "\n",
    "Finally, we applied our favourite equation to calculate the effective temperature of a planet, knowing that the solar flux at Daisyworld is 3700 W m$^{-2}$:\n",
    "\n",
    "$$T_e = \\left (\\dfrac{S}{(4*\\sigma)}*(1-A) \\right )^{0.25}$$\n",
    "\n",
    "Putting all of this together we can write the following code to calculate the temperature of Daisyworld **for a given value of $f_{flower}$**:"
   ]
  },
  {
   "cell_type": "markdown",
   "metadata": {},
   "source": [
    "```\n",
    "# If we know frac_flower and albedo_flower....\n",
    "\n",
    "# The fraction covered by soil is the rest of the planet, or 1.0 - the fraction covered by flowers\n",
    "frac_soil = 1.0 - frac_flower\n",
    "\n",
    "# Define the albedos of soil (unitless)\n",
    "albedo_soil   = 0.4\n",
    "\n",
    "# The albedo is the sum of the two albedos after each has been multiplied by its fractional coverage.\n",
    "albedo = frac_soil * albedo_soil + frac_flower * albedo_flower\n",
    "\n",
    "# Define the solar flux on Daisyworld, in W/m2\n",
    "S = 3700.0\n",
    "\n",
    "# Define the Stefan-Boltzmann constant, in W/m2/K4\n",
    "sigma = 5.67e-8\n",
    "\n",
    "# Finally, calculate the temperature as a function of the albedo\n",
    "Te = ((S*(1-albedo))/(4*sigma))**0.25\n",
    "```"
   ]
  },
  {
   "cell_type": "markdown",
   "metadata": {},
   "source": [
    "## <font color=blue>EXERCISE 1</font><br>\n",
    "\n",
    "<font color=blue>Write a **function** to calculate the temperature of Daisyworld (`Te`). Make sure you give your function a descriptive name.<br><br>\n",
    "\n",
    "Your function should have two **input arguments** (no default values):<br>\n",
    "1. the fraction of the planet covered by flowers (```frac_flower```)<br>\n",
    "2. the albedo of the flowers (```albedo_flower```)<br><br>\n",
    "\n",
    "Your function should **returns as output** the temperature of Daisyworld (`Te`).<br><br>\n",
    "\n",
    "**HINT**: 95% of the function is already written for you above. You really just need to add the first and last lines.<br><br>\n",
    "\n",
    "To test that it is working, **call** (use) the function and print the temperature when `albedo_flower=0.75` and:<br>\n",
    "a. the fraction covered by flowers is 0.5 (50% of the planet).<br>\n",
    "b. the fraction covered by flowers is 0.8 (80% of the planet).<br><br>\n",
    "\n",
    "**Hint:** if your function is working correctly, (a) should give you a temperature of 288.6 K and (b) should give you a temperature of 268.8 K.</font>"
   ]
  },
  {
   "cell_type": "code",
   "execution_count": null,
   "metadata": {
    "collapsed": false
   },
   "outputs": [],
   "source": [
    "import numpy\n",
    "import matplotlib.pyplot as pyplot\n",
    "% matplotlib inline\n",
    "\n",
    "# Define your function here\n",
    "\n"
   ]
  },
  {
   "cell_type": "code",
   "execution_count": null,
   "metadata": {
    "collapsed": false
   },
   "outputs": [],
   "source": [
    "# Call your function here\n",
    "\n",
    "# First for frac_flower = 0.5\n",
    "\n",
    "\n",
    "# Then for frac_flower = 0.8\n",
    "\n"
   ]
  },
  {
   "cell_type": "markdown",
   "metadata": {},
   "source": [
    "## The effect of surface temperature on daisies\n",
    "\n",
    "We learned in Week 4 that the growth rate of the population of flowers (in units of *fraction of the planet covered by flowers / year*) is defined as:\n",
    "$$1-0.005*(295.5-T_e)^2$$\n",
    "\n",
    "We also learned that the growth rate **can never be below zero** (this would represent daisy death, which we will deal with separately) - instead, any value that would be negative should instead be zero."
   ]
  },
  {
   "cell_type": "markdown",
   "metadata": {},
   "source": [
    "```\n",
    "# If we know Te, in K....\n",
    "\n",
    "# Use the growth rate equation to calculate current growth rate.\n",
    "growth_rate = 1-0.005*(295.5-Te)**2\n",
    "\n",
    "# Test to whether the current growth rate is negative.\n",
    "# If it is, change it to zero (no growth)\n",
    "if growth_rate < 0:\n",
    "    growth_rate = 0\n",
    "```"
   ]
  },
  {
   "cell_type": "markdown",
   "metadata": {},
   "source": [
    "## <font color=blue>EXERCISE 2</font><br>\n",
    "\n",
    "<font color=blue>Write a **function** that takes as **input argument** the temperature of Daisyworld (```Te```) and **returns as output** the growth rate of flowers (give it a good variable name!). Make sure you give your function a descriptive name **that is different from the name of your function in Exercise 1**. <br><br>\n",
    "\n",
    "**HINT**: 95% of the function is already written for you above. You really just need to add the first and last lines.<br><br>\n",
    "\n",
    "To test that it is working, **call** (use) the function and print the growth rate when:<br>\n",
    "a. the temperature is 288.6 K.<br>\n",
    "b. the temperature is 268.8 K.</font>"
   ]
  },
  {
   "cell_type": "code",
   "execution_count": null,
   "metadata": {
    "collapsed": false
   },
   "outputs": [],
   "source": [
    "# Define your function here\n",
    "\n",
    "\n"
   ]
  },
  {
   "cell_type": "code",
   "execution_count": null,
   "metadata": {
    "collapsed": false
   },
   "outputs": [],
   "source": [
    "# Call your function here\n",
    "\n",
    "# First for Te = 288.6\n",
    "\n",
    "\n",
    "\n",
    "# Then for Te = 268.8\n",
    "\n",
    "\n"
   ]
  },
  {
   "cell_type": "markdown",
   "metadata": {},
   "source": [
    "## Building a model for Daisyworld\n",
    "\n",
    "At this stage, we know how temperature changes due to daisy coverage and we know how daisy growth changes due to temperature. All we need now is to put these things together!\n",
    "\n",
    "We want to create a new function that represents Daisyworld. Our function should have the following inputs:\n",
    "- the total time for our experiment\n",
    "- the albedo of flowers, default = 0.75\n",
    "\n",
    "So our first line will look something like this:"
   ]
  },
  {
   "cell_type": "raw",
   "metadata": {},
   "source": [
    "def Daisyworld(Total_Time, albedo_flower = 0.75):"
   ]
  },
  {
   "cell_type": "markdown",
   "metadata": {},
   "source": [
    "At the end, we want to return\n",
    "- time\n",
    "- flower fraction\n",
    "- temperature\n",
    "\n",
    "So our final line will look something like this:<br>"
   ]
  },
  {
   "cell_type": "raw",
   "metadata": {},
   "source": [
    "    return time,frac_flower,Te"
   ]
  },
  {
   "cell_type": "markdown",
   "metadata": {},
   "source": [
    "Now we can think about what goes on in the function...\n",
    "\n",
    "At the start of our program, we need to set up:\n",
    "1. an array for the time counter, based on the `Total_Time` variable that we set as argument.\n",
    "2. arrays full of zeros for `frac_flower` and `Te` that we will eventually fill with values.\n",
    "3. the initial conditions for both the fraction of the planet covered by flowers (our `frac_flower[0]`) as well as the effective temperature (`Te[0]`). More details on how to do that in the exercise."
   ]
  },
  {
   "cell_type": "raw",
   "metadata": {},
   "source": [
    "    # Set up a time array that starts at 0 and ends at Total_Time, specified as a function argument.\n",
    "    time = numpy.arange(0,Total_Time,1)\n",
    "\n",
    "    # Define arrays full of zeros to store the output variables\n",
    "    # fractional coverage of daisies\n",
    "    frac_flower = numpy.zeros(len(time))\n",
    "    \n",
    "    # surface temperature\n",
    "    Te = numpy.zeros(len(time))           \n",
    "    \n",
    "    # Set the initial condition for flowers\n",
    "    frac_flower[0] = #???\n",
    "    \n",
    "    # Set the initial condition for temperature\n",
    "    Te[0] = #???"
   ]
  },
  {
   "cell_type": "markdown",
   "metadata": {},
   "source": [
    "After the initial conditions, we need to think about how `frac_flower` and `Te` are changing. If the fraction covered by flowers changes, this will change the albedo, which will change the temperature. But if the temperature changes, this will change the growth rate of daisies, which will change the fraction covered by flowers.\n",
    "\n",
    "So we will represent this with a loop over time, where at each moment in time we:\n",
    "1. calculate the current fraction of the planet covered by flowers, using the previous temperature to calculate a growth rate and then\n",
    "2. calculate the new temperature using the new value of the fraction covered by flowers."
   ]
  },
  {
   "cell_type": "markdown",
   "metadata": {},
   "source": [
    "## <font color=blue>EXERCISE 3a</font><br>\n",
    "\n",
    "<font color=blue>The cell below provides a shell for the Daisyworld model. Some important lines of code are missing. \n",
    "Fill in all the missing code.\n",
    "\n",
    "**For the initial conditions**:\n",
    "1. Assume that at the start, 50% of the planet is covered by flowers (i.e., the fraction is 0.5)\n",
    "2. What is the temperature of the planet at the start? (**Hint**: you can use your function from Exercise 1 to calculate `Te[0]` once you know `frac_flower[0]`. Make sure you when you use the function you include `albedo_flower`, which is one of your input arguments to Daisyworld!)\n",
    "\n",
    "**For the for loop**:\n",
    "1. the death rate of daisies is 0.3\n",
    "2. the **change** in daisies at any point is daisy \"births\" (i.e. new growth) - daisy \"deaths\"\n",
    "3. daisy \"births\" will be (the current growth rate) $\\times$ (the fraction of the planet previously covered by flowers) $\\times$ (1 - the fraction of the planet previously covered by flowers)\n",
    "4. daisy \"deaths\" will be (the death rate) $\\times$ (the fraction of the planet previously covered by flowers)\n",
    "\n",
    "In other words:<br>\n",
    "```births = growth_rate * frac_flower that existed one \"moment\" ago * (1 - frac_flower that existed one \"moment\" ago)```<br>\n",
    "```deaths = death_rate * frac_flower that existed one \"moment\" ago```<br>\n",
    "```frac_flower right now = frac_flower that existed one \"moment\" ago + births - deaths```<br>\n",
    "\n",
    "**Hint**: How do we represent \"right now\" in a loop? How do we represent \"one moment ago\"?"
   ]
  },
  {
   "cell_type": "code",
   "execution_count": null,
   "metadata": {
    "collapsed": false
   },
   "outputs": [],
   "source": [
    "def Daisyworld(Total_Time,albedo_flower = 0.75):\n",
    "    \n",
    "    # Constant: daisy death rate\n",
    "    death_rate = 0.3\n",
    "\n",
    "    # Set up a time array that starts at 0 and ends at Total_Time, specified as a function argument.\n",
    "    time = numpy.arange(0,Total_Time,1)\n",
    "\n",
    "    # Define arrays full of zeros to store the output variables\n",
    "    # fractional coverage of daisies\n",
    "    frac_flower = numpy.zeros(len(time))\n",
    "    \n",
    "    # surface temperature\n",
    "    Te = numpy.zeros(len(time))           \n",
    "    \n",
    "    # Set the initial condition for flowers\n",
    "    frac_flower[0] = #??? - FILL IN THIS LINE\n",
    "    \n",
    "    # Set the initial condition for temperature\n",
    "    # Calculate the original temperature based on the original flower coverage\n",
    "    Te[0] = #??? - FILL IN THIS LINE\n",
    "\n",
    "    # Loop over time steps - each time calculate growth rate, temperature, and flower cover\n",
    "    for i in range(1,len(time)):\n",
    "        \n",
    "        # Calculate the growth rate at the PREVIOUS temperature\n",
    "        growth_rate = #??? FILL IN THIS LINE\n",
    "        \n",
    "        # Calculate births = growth_rate * frac_flower that existed one \"moment\" ago * (1 - frac_flower that existed one \"moment\" ago)\n",
    "        births = #??? FILL IN THIS LINE\n",
    "\n",
    "        # Calculate deaths = death_rate * frac_flower that existed one \"moment\" ago\n",
    "        deaths = #??? FILL IN THIS LINE\n",
    "                \n",
    "        # Calculate frac_flower right now = frac_flower that existed one \"moment\" ago + births - deaths\n",
    "        frac_flower[i] = #??? FILL IN THIS LINE\n",
    "    \n",
    "        # Calculate the new temperature based on the new flower fraction\n",
    "        Te[i] = #??? FILL IN THIS LINE\n",
    "            \n",
    "    return time,frac_flower,Te"
   ]
  },
  {
   "cell_type": "markdown",
   "metadata": {},
   "source": [
    "## <font color=blue>EXERCISE 3b</font><br>\n",
    "\n",
    "<font color=blue> For the bathtub model, we used a \"time step\" of 1 second and a total run time of 60 seconds. Here, we want to run for a long time (this is a planet after all!). We will do this by breaking the total time down into shorter segments that each represent 10 million years (instead of each representing 1 second). In other words, we will assume each 1 incremement in our time array above (or each time around the loop) represents 10 million years.<br><br>\n",
    "\n",
    "Run your Daisyworld model with Total_Time = 200 (remember, each time around the loop is 10 million years, so this is equivalent to a simulation of 2 billion years). ***Don't try to run your calculation 2 billion times!!!***<br><br>\n",
    "\n",
    "Plot daisy coverage (y-axis) vs. time (x-axis) and surface temperature (y-axis) vs. time (x-axis).</font><br><br>\n",
    "\n",
    "<font color=purple>**Extra**: For the second graph, instead of plotting surface temperature in Kelvin plot it in degrees C. You won't need to change the function at all, just the plotting variable.</font>"
   ]
  },
  {
   "cell_type": "code",
   "execution_count": null,
   "metadata": {
    "collapsed": false
   },
   "outputs": [],
   "source": [
    "# Run the model for 200 time steps = 2 billion years\n",
    "\n",
    "\n",
    "# Plot the results\n",
    "\n"
   ]
  },
  {
   "cell_type": "markdown",
   "metadata": {},
   "source": [
    "## <font color=blue>EXERCISE 3c</font><br>\n",
    "\n",
    "<font color=blue>To get a better idea what's going on, make the same plots as in 2b, but use **`xlim`** to zoom in and only show the first 20 timesteps (=200 million years).</font>"
   ]
  },
  {
   "cell_type": "code",
   "execution_count": null,
   "metadata": {
    "collapsed": false
   },
   "outputs": [],
   "source": [
    "# Updated plots - no need to rerun the model\n",
    "\n"
   ]
  },
  {
   "cell_type": "markdown",
   "metadata": {},
   "source": [
    "## <font color=blue>EXERCISE 3d</font><br>\n",
    "\n",
    "<font color=blue>Using your plots answer the following questions:<br>\n",
    "- What are the approximate values of the daisy fraction and temperature at steady state?<br>\n",
    "- Roughly how long does it take Daisyworld to reach a steady state? </font>"
   ]
  },
  {
   "cell_type": "code",
   "execution_count": null,
   "metadata": {
    "collapsed": false
   },
   "outputs": [],
   "source": [
    "\n"
   ]
  },
  {
   "cell_type": "markdown",
   "metadata": {},
   "source": [
    "## Testing the sensitivity of the model to different parameters\n",
    "\n",
    "You should have found in the previous exercise that our model as designed currently reaches steady state quickly. In the next exercise, we will test the sensitivity of that finding to daisy albedo using **sensitivity analysis**."
   ]
  },
  {
   "cell_type": "markdown",
   "metadata": {},
   "source": [
    "## <font color=blue>EXERCISE 4a</font><br>\n",
    "\n",
    "<font color=blue>Remember that in Exercise 1, you made `albedo_flower` an **argument** to your function. In your Daisyworld model, you used the function from Exercise 1 to calculate `Te` at every time step.<br><br>\n",
    "\n",
    "In the Daisyworld model, `albedo_flower` was also an **argument**, with a default value of 0.75. This means we can change the value and see how Daisyworld responds.<br><br>\n",
    "\n",
    "Use your model from 3a to perform a **sensitivity analysis** using the following values for `albedo_flower`:<br>\n",
    "- 0.75 (our reference case, same as in Exercise 3)<br>\n",
    "- 0.82 (slightly brighter daisies)<br>\n",
    "- 0.95 (very bright white daisies)<br>\n",
    "- 0.4 (daisies that have the same albedo as the soil)<br><br>\n",
    "\n",
    "Make the same plots as in Exercise 3b, but show all three albedo values on the same plot. [**Hint**: use a **<font face=courier>for</font>** loop to loop over albedo values and call **<font face=courier>pyplot.plot</font>** within your **<font face=courier>for</font>** loop. Look at the end of the Bathtub prac if you don't remember how to do this.]<br><br>\n",
    "\n",
    "**Note**: You don't need to redefine your functions here at all. Just call the function and plot the results.\n",
    "</font>"
   ]
  },
  {
   "cell_type": "code",
   "execution_count": null,
   "metadata": {
    "collapsed": false
   },
   "outputs": [],
   "source": [
    "# Set up an array with the values of albedo we want to test\n",
    "\n",
    "\n",
    "# Use a for loop to loop over these test values to plot them all on the same plot\n",
    "\n",
    "\n",
    "    \n",
    "# Repeat for temperature plot\n",
    "\n"
   ]
  },
  {
   "cell_type": "markdown",
   "metadata": {},
   "source": [
    "## <font color=blue>EXERCISE 4b</font><br>\n",
    "\n",
    "<font color=blue> Using comments in the cell below, describe the behaviour you see, thinking about how changing the flower albedo causes other changes in the system:<br>\n",
    "- Does changing albedo change the time to reach steady state?<br>\n",
    "- Does it change the values of temperature at steady state? What about daisy cover?<br>\n",
    "- Is there evidence for positive or negative feedback? Explain.<br>\n",
    "- When do you see Daisyworld turn into a \"dead\" planet, and why?</font>"
   ]
  },
  {
   "cell_type": "code",
   "execution_count": null,
   "metadata": {
    "collapsed": true
   },
   "outputs": [],
   "source": [
    "\n",
    "\n"
   ]
  },
  {
   "cell_type": "markdown",
   "metadata": {},
   "source": [
    "## <font color=purple> The impact of external forcing: changing solar flux</font><br>\n",
    "\n",
    "<font color=purple>So far, we have only investigated changes that are **internal** to the system. We have assumed any **external forcing** (here, the amount of solar energy the planet receives) has stayed constant. Now we will investigate the impact of changing the external forcing using solar flux.<br><br>\n",
    "\n",
    "Daisyworld's sun begins it life with a diminished solar flux ($S$ (like all suns) and grows steadily hotter and hotter, producing more and more energy. At the beginning of Daisyworld time, its sun provides 2200 W/m$^2$, and 2 billion years later, its sun gives off 4400 W/m$^2$. A star like our Sun will take something like 10 billion years to run through its life cycle, but we have compressed things a bit to make our model runs shorter.<br><br>\n",
    "\n",
    "In our model, we will use a simple equation for a line to describe this behaviour (over a period of 200 time units = 2 billion years):<br><br>\n",
    "\n",
    "<center>*$S$ = 2200 + time $\\times$ (4400/200)*</center><br><br>\n",
    "\n",
    "We can test that this equation behaves as expected by plotting $S$ over our entire time period:</font>"
   ]
  },
  {
   "cell_type": "code",
   "execution_count": null,
   "metadata": {
    "collapsed": false
   },
   "outputs": [],
   "source": [
    "time = numpy.arange(0,200,step=1)\n",
    "S = 2200 + time * (4400./200)\n",
    "pyplot.plot(time,S)\n",
    "pyplot.xlabel('time (10 million years)')\n",
    "pyplot.ylabel('Solar flux (W/m2)')\n",
    "pyplot.title('Solar flux at Daisyworld')\n",
    "pyplot.show()"
   ]
  },
  {
   "cell_type": "markdown",
   "metadata": {},
   "source": [
    "## <font color=purple>EXERCISE 5a</font><br>\n",
    "\n",
    "<font color=purple>The purpose of this final exercise is to see how temperature and daisy coverage evolve with this external forcing, and to understand what role the daisies play in modulating the climate (i.e., the temperature) of Daisyworld.\n",
    "\n",
    "First, adapt your function from Exercise 1 so that the solar flux varies with time, using the equation we defined above. You will need to make time an input to the function."
   ]
  },
  {
   "cell_type": "code",
   "execution_count": null,
   "metadata": {
    "collapsed": true
   },
   "outputs": [],
   "source": [
    "# Modified function from Exercise 1 here\n",
    "\n"
   ]
  },
  {
   "cell_type": "markdown",
   "metadata": {},
   "source": [
    "## <font color=purple>EXERCISE 5b</font><br>\n",
    "\n",
    "<font color=purple>To understand the impact of the daisies, we need to compare the behaviour we see on Daisyworld to the behaviour we would see if Daisyworld were a \"dead\" planet -- in other words if there were no daisies at all. A simple way to simulate a dead planet with our model is to set the initial daisy coverage to 0 (remember that the daisy growth rate requires there to already be some daisies present to produce seeds, etc.). Modify your model so that the initial daisy coverage is an argument."
   ]
  },
  {
   "cell_type": "code",
   "execution_count": null,
   "metadata": {
    "collapsed": true
   },
   "outputs": [],
   "source": [
    "# Modified Daisyworld model here\n"
   ]
  },
  {
   "cell_type": "markdown",
   "metadata": {},
   "source": [
    "### <font color=purple>EXERCISE 5c</font><br>\n",
    "\n",
    "<font color=purple>Run the updated model with (initial=0.5) and without (initial cover = 0.0) daisies (use the default value of 0.75 for `albedo_flower`). Plot the evolution of temperature and daisy cover with time.</font>"
   ]
  },
  {
   "cell_type": "code",
   "execution_count": null,
   "metadata": {
    "collapsed": false
   },
   "outputs": [],
   "source": [
    "# Define initial daisy coverage values\n",
    "\n",
    "\n",
    "# Loop over the two values & make the plots\n",
    "\n"
   ]
  },
  {
   "cell_type": "markdown",
   "metadata": {},
   "source": [
    "## <font color=purple>EXERCISE 5d</font><br>\n",
    "\n",
    "<font color=purple>\n",
    "- How do temperature and daisies change with time on Daisyworld when daisies are present?<br>\n",
    "- How does the changing solar flux change the results we saw earlier?<br>\n",
    "- How do daisies change the temperature of the planet?</font>"
   ]
  },
  {
   "cell_type": "code",
   "execution_count": null,
   "metadata": {
    "collapsed": true
   },
   "outputs": [],
   "source": []
  }
 ],
 "metadata": {
  "anaconda-cloud": {},
  "kernelspec": {
   "display_name": "Python [default]",
   "language": "python",
   "name": "python2"
  },
  "language_info": {
   "codemirror_mode": {
    "name": "ipython",
    "version": 2
   },
   "file_extension": ".py",
   "mimetype": "text/x-python",
   "name": "python",
   "nbconvert_exporter": "python",
   "pygments_lexer": "ipython2",
   "version": "2.7.12"
  }
 },
 "nbformat": 4,
 "nbformat_minor": 0
}
