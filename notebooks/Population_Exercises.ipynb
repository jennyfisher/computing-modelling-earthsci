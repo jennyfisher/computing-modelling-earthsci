{
 "cells": [
  {
   "cell_type": "markdown",
   "metadata": {},
   "source": [
    "# Population modelling\n",
    "As in the previous practical, many of the details and parameters from this lab come from the STELLA version at: http://www3.geosc.psu.edu/~dmb53/DaveSTELLA/Population/pop_modeling.htm"
   ]
  },
  {
   "cell_type": "markdown",
   "metadata": {},
   "source": [
    "# <font color=red>MAKE SURE TO EXECUTE THIS CELL BEFORE YOU START YOUR WORK!"
   ]
  },
  {
   "cell_type": "code",
   "execution_count": null,
   "metadata": {
    "collapsed": true
   },
   "outputs": [],
   "source": [
    "import numpy\n",
    "import matplotlib.pyplot as pyplot\n",
    "%matplotlib inline"
   ]
  },
  {
   "cell_type": "markdown",
   "metadata": {},
   "source": [
    "## <font color=blue>EXERCISE 1</font><br>\n",
    "\n",
    "<font color=blue>The code below is the `simple_population_model`, copied from the practical notebook. Make sure to run it in this notebook before you do anything else.</font>"
   ]
  },
  {
   "cell_type": "code",
   "execution_count": null,
   "metadata": {
    "collapsed": true
   },
   "outputs": [],
   "source": [
    "# Define a simple population model\n",
    "def simple_population_model(Total_Time, birth_rate=0.15):\n",
    "    \n",
    "    # Variables\n",
    "    #-----------\n",
    "    # Total_Time - number of years to run the model\n",
    "    # birth_rate - rate of new births per year\n",
    "    # death_rate - rate of deaths per year\n",
    "    death_rate=0.10\n",
    "    \n",
    "    # Set up time array: Use spacing based on time step (1 year) and total run time\n",
    "    time = numpy.arange(0,Total_Time,step=1)\n",
    "    \n",
    "    # Set up population array to track change over time\n",
    "    Population = numpy.zeros(len(time))\n",
    "    \n",
    "    # Set initial condition - Population = 100\n",
    "    Population[0] = 100\n",
    "    \n",
    "    # Loop over time steps\n",
    "    for i in range(1,len(time)):\n",
    "        \n",
    "        # Calculate the number of births that happened over the last year\n",
    "        #   based on the population at the previous time [i-1]\n",
    "        Births = birth_rate * Population[i-1]\n",
    "        \n",
    "        # Calculate the number of deaths that happened over the last year\n",
    "        #   based on the population at the previous time [i-1]\n",
    "        Deaths = death_rate * Population[i-1]\n",
    "        \n",
    "        # At each time [i], calculate the population now (at time = i) based on the population\n",
    "        #   at the previous time [i-1] and how many births and deaths have occurred\n",
    "        Population[i] = Population[i-1] + Births - Deaths\n",
    "        \n",
    "        # Makes sure the population is never less than zero\n",
    "        if Population[i] < 0:\n",
    "            Population[i] = 0\n",
    "        \n",
    "    return time,Population"
   ]
  },
  {
   "cell_type": "markdown",
   "metadata": {},
   "source": [
    "<font color=blue>Using the `simple_population_model` from above, perform a sensitivity study using different values of birth rates:<br><br>\n",
    "\n",
    "- birth rate = 15% (0.15)<br>\n",
    "- birth rate = 10% (0.10)<br>\n",
    "- birth rate = 5% (0.05)<br><br>\n",
    "\n",
    "For each pair, plot the population (y-axis) as a function of time (x-axis) - all on one graph.<br><br></font>\n",
    "\n",
    "<font color=purple>**Hint**: You won't be able to see much with a linear plot, so try making a second version of the plot where you show the logarithm of the population (use <font face=courier>numpy.log10(Population)</font>) or where you use a logarithmic y-axis (use <font face=courier>pyplot.yscale('log')</font>).</font>"
   ]
  },
  {
   "cell_type": "code",
   "execution_count": null,
   "metadata": {
    "collapsed": true
   },
   "outputs": [],
   "source": [
    "# Set birth rate scenarios\n",
    "\n",
    "\n",
    "# Loop over the birth rate values, run the model for 100 years, \n",
    "# and plot the results\n",
    "\n",
    "    \n",
    "# If you have extra time, also plot on a log scale.\n",
    "\n"
   ]
  },
  {
   "cell_type": "markdown",
   "metadata": {},
   "source": [
    "## <font color=blue>EXERCISE 2a</font><br>\n",
    "\n",
    "<font color=blue>Adapt the model from above (copied below **but with a new name**) to take into account the varying death rate characteristic of an S-shaped population model. (Look for the section labeled MISSING CODE.)<br><br>\n",
    "\n",
    "**Hint**: Death rate will now be calculated **inside** your for loop, and it will need an if statement that checks what the Population was *one moment ago* (how do we represent that in python? `i`? `i-1`? `i+1?`).</font>"
   ]
  },
  {
   "cell_type": "code",
   "execution_count": null,
   "metadata": {
    "collapsed": true
   },
   "outputs": [],
   "source": [
    "# Define a new model that represents S-Shaped Population Growth\n",
    "def s_shaped_population_model(Total_Time, birth_rate=0.15):\n",
    "    \n",
    "    # Variables\n",
    "    #-----------\n",
    "    # Total_Time - number of years to run the model\n",
    "    # birth_rate - rate of new births per year\n",
    "    # death_rate - rate of deaths per year\n",
    "    \n",
    "    # Set up time array: Use spacing based on time step (1 year) and total run time\n",
    "    time = numpy.arange(0,Total_Time,step=1)\n",
    "    \n",
    "    # Set up population array to track change over time\n",
    "    Population = numpy.zeros(len(time))\n",
    "    \n",
    "    # Set initial condition - Population = 100\n",
    "    Population[0] = 100\n",
    "    \n",
    "    # Loop over time steps\n",
    "    for i in range(1,len(time)):\n",
    "        \n",
    "        # Calculate the number of births that happened over the last year\n",
    "        #   based on the population at the previous time [i-1]\n",
    "        Births = birth_rate * Population[i-1]\n",
    "        \n",
    "        # What is the death rate now?\n",
    "        # FILL IN MISSING CODE HERE\n",
    "        \n",
    "        # Calculate the number of deaths that happened over the last year\n",
    "        #   based on the population at the previous time [i-1]\n",
    "        Deaths = death_rate * Population[i-1]\n",
    "        \n",
    "        # At each time [i], calculate the population now (at time = i) based on the population\n",
    "        #   at the previous time [i-1] and how many births and deaths have occurred\n",
    "        Population[i] = Population[i-1] + Births - Deaths\n",
    "        \n",
    "        # Makes sure the population is never less than zero\n",
    "        if Population[i] < 0:\n",
    "            Population[i] = 0\n",
    "        \n",
    "    return time,Population"
   ]
  },
  {
   "cell_type": "markdown",
   "metadata": {},
   "source": [
    "## <font color=blue>EXERCISE 2b</font><br>\n",
    "\n",
    "<font color=blue>Use your updated model to perform a sensitivity test using the same birth rate scenarios as before (5%, 10%, 15%). Plot the population (y-axis) as a function of time (x-axis) - all on one graph. A linear scale is fine for this exercise. **Make sure you use the model called <font face=courier>s_shaped_population_model</font>, not <font face=courier>simple_population_model</font> from above.**"
   ]
  },
  {
   "cell_type": "code",
   "execution_count": null,
   "metadata": {
    "collapsed": true
   },
   "outputs": [],
   "source": [
    "# Define array of birth rate values\n",
    "\n",
    "\n",
    "\n",
    "# Calculate and plot results for different birth rates\n",
    "\n"
   ]
  },
  {
   "cell_type": "markdown",
   "metadata": {},
   "source": [
    "## <font color=blue>EXERCISE 2c</font><br>\n",
    "\n",
    "<font color=blue>\n",
    "- How is the system evolving *before* reaching steady state?<br>\n",
    "- Why do you think the population reaches a stable level?<br>\n",
    "- Can you make a guess about what the death rate might be at steady state? (Bonus: How could you test your guess?)</font>"
   ]
  },
  {
   "cell_type": "code",
   "execution_count": null,
   "metadata": {
    "collapsed": true
   },
   "outputs": [],
   "source": [
    "\n",
    "\n"
   ]
  },
  {
   "cell_type": "markdown",
   "metadata": {},
   "source": [
    "## <font color=blue>EXERCISE 3a</font><br>\n",
    "\n",
    "<font color=blue>With these assumptions in place, we will adapt the model from Exercise 2 and **give it a new name**: `overshoot_population_model`.<br><br>\n",
    "\n",
    "We will need to add a new reservoir for resources, and:<br>\n",
    "1. Initialise it as an array full of zeros (**`numpy.zeros(...)`**)<br>\n",
    "2. Set the intial condition (value in the first space, i.e. **`Resources[0]`**) - we will assume 5000.<br>\n",
    "3. Add a new variable called **`resources_per_person`** that is calculated using `Resources` and `Population` every time we go around the loop.<br>\n",
    "4. Use **`resources_per_person`** to calculate a new value for **`death_rate`** every time wego around the loop.<br>\n",
    "5. Update the value in **`Resources[i]`** every time we go around the loop.<br>\n",
    "6. Use an `if` statement to make sure the value of **`Resources` is never less than 0** (no negative resources)<br>\n",
    "7. Add `Resources` to the list of variables that are **returned** by the function.<br><br>\n",
    "\n",
    "Much of the necessary code is already in place below. Fill in the missing parts.</font>"
   ]
  },
  {
   "cell_type": "code",
   "execution_count": null,
   "metadata": {
    "collapsed": true
   },
   "outputs": [],
   "source": [
    "# Define a new model to represent the overshoot & collapse\n",
    "def overshoot_population_model(Total_Time, birth_rate=0.15):\n",
    "    \n",
    "    # Variables\n",
    "    #-----------\n",
    "    # Total_Time - number of years to run the model\n",
    "    # birth_rate - rate of new births per year\n",
    "    # death_rate - rate of deaths per year\n",
    "    \n",
    "    # Set up time array: Use spacing based on elapsed_time and Total_Time\n",
    "    time = numpy.arange(0,Total_Time,step=1)\n",
    "    \n",
    "    # Set up arrays to track change over time\n",
    "    Population = numpy.zeros(len(time))\n",
    "    \n",
    "    # Set up Resources array to track change over time\n",
    "    # FILL IN MISSING CODE (Hint: should look like Population code!)\n",
    "    \n",
    "    # Set initial condition - Population = 100\n",
    "    Population[0] = 100\n",
    "\n",
    "    # Set initial conditions - Resoures = 5000\n",
    "    # FILL IN MISSING CODE (Hint: should look like Population code!)\n",
    "    \n",
    "    # Loop over time steps\n",
    "    for i in range(1,len(time)):\n",
    "        \n",
    "        # Resources per person is the relationship between the two reservoirs\n",
    "        # one moment ago (at i-1)\n",
    "        resources_per_person = Resources[i-1]/Population[i-1]\n",
    "        \n",
    "        # death_rate now depends on the resources per person available\n",
    "        # FILL IN MISSING CODE - we will need an if statement here!\n",
    "        \n",
    "        # Calculate the number of births that happened over the last year\n",
    "        #   based on the population at the previous time [i-1]\n",
    "        Births = birth_rate * Population[i-1]\n",
    "        \n",
    "        # Calculate the number of deaths that happened over the last year\n",
    "        #   based on the population at the previous time [i-1]\n",
    "        Deaths = death_rate * Population[i-1]\n",
    "        \n",
    "        # Population at time t is population the year before, plus the births, minus the deaths\n",
    "        Population[i] = Population[i-1] + Births - Deaths\n",
    "        \n",
    "        # Population can't be less than zero!\n",
    "        if Population[i] < 0:\n",
    "            Population[i] = 0    \n",
    "\n",
    "        # How many resources were used up? 1 resource for each person\n",
    "        Resources_Used = 1.0 * Population[i-1]\n",
    "        \n",
    "        # Resources at time i is resources we had before minus the consumption\n",
    "        # FILL IN MISSING CODE HERE (Hint: this should look like the population code, \n",
    "                                         # except we have no \"Births\" and\n",
    "                                         # Resources_Used is just like \"Deaths\")\n",
    "        \n",
    "        # Resources can't be less than zero!\n",
    "        # FILL IN MISSING CODE (Hint: should look like Population code!)\n",
    "        \n",
    "        \n",
    "    return time,Population,Resources"
   ]
  },
  {
   "cell_type": "markdown",
   "metadata": {},
   "source": [
    "## <font color=blue>EXERCISE 3b</font><br>\n",
    "\n",
    "<font color=blue>Assuming a birth rate of 15%, run the updated model make three plots:<br>\n",
    "1. Population (y-axis) as a function of time(x-axis).<br>\n",
    "2. Resources (y-axis) as a function of time(x-axis).<br>\n",
    "3. Population (y-axis) as a function of Resources (x-axis).</font>"
   ]
  },
  {
   "cell_type": "code",
   "execution_count": null,
   "metadata": {
    "collapsed": true
   },
   "outputs": [],
   "source": [
    "# run the model\n",
    "\n",
    "\n",
    "# Plot the results\n",
    "\n",
    "\n"
   ]
  },
  {
   "cell_type": "markdown",
   "metadata": {},
   "source": [
    "## <font color=blue>EXERCISE 3c</font><br>\n",
    "\n",
    "<font color=blue>\n",
    "- How do population and resources change with time? How do they change with one another?<br>\n",
    "- What is the peak value of the population, and when does it occur? (roughly, just read the approximate year off the graph)<br>\n",
    "- Can you make a guess about when the death rate is higher than the birth rate, when it is equal, and when it is lower?</font><br><br>\n",
    "\n",
    "<font color=purple>If you want an exact answer for the second question, try using <font face=courier>numpy.max()</font> and <font face=courier>numpy.argmax()</font>. You can learn more about them in the purple section of the Week 3 practical.</font>"
   ]
  },
  {
   "cell_type": "code",
   "execution_count": null,
   "metadata": {
    "collapsed": true
   },
   "outputs": [],
   "source": [
    "\n",
    "\n"
   ]
  },
  {
   "cell_type": "markdown",
   "metadata": {},
   "source": [
    "## <font color=blue>EXERCISE 4a</font><br>\n",
    "\n",
    "<font color=blue>Adapt your model to include replenishing resources. We will do this by adding a new flux into the `Resources` reservoir, called `Resource_Inputs`.<br><br>\n",
    "\n",
    "1. Copy your model from 3a here.<br>\n",
    "2. Make `Resource_Inputs` an input (argument) to your function, with default value = 0.<br>\n",
    "3. Updated the line starting `Resources[i] =`... to include `Resource_Inputs`.<br><br>\n",
    "\n",
    "**Hint**: You can think of `Resources_Used` as being equivalent to `Deaths` and `Resource_Inputs` as equivalent to `Births`.</font>"
   ]
  },
  {
   "cell_type": "code",
   "execution_count": null,
   "metadata": {
    "collapsed": true
   },
   "outputs": [],
   "source": [
    "# Copy the model here and adapt as described above.\n",
    "\n"
   ]
  },
  {
   "cell_type": "markdown",
   "metadata": {},
   "source": [
    "## <font color=blue>EXERCISE 4b</font><br>\n",
    "\n",
    "<font color=blue>Use your adapted model to run a sensitivity test with resource inputs of 0 (the same as our previous model) and 50. Just like last time, make three plots (each showing resource inputs of 0 and 50 on the same plot):<br>\n",
    "1. Population (y-axis) as a function of time(x-axis).<br>\n",
    "2. Resources (y-axis) as a function of time(x-axis).<br>\n",
    "2. Population (y-axis) as a function of Resources (x-axis).</font>"
   ]
  },
  {
   "cell_type": "code",
   "execution_count": null,
   "metadata": {
    "collapsed": true
   },
   "outputs": [],
   "source": [
    "# Run the model with 0 and 50 resource inputs per year\n",
    "\n",
    "\n",
    "# Plot the results\n",
    "\n"
   ]
  },
  {
   "cell_type": "markdown",
   "metadata": {},
   "source": [
    "## <font color=blue>EXERCISE 4c</font><br>\n",
    "\n",
    "<font color=blue>\n",
    "- What is different between the two scenarios?<br>\n",
    "- How does the maximum population and the year when it occurs change between these scenarios?</font>"
   ]
  },
  {
   "cell_type": "code",
   "execution_count": null,
   "metadata": {
    "collapsed": true
   },
   "outputs": [],
   "source": []
  },
  {
   "cell_type": "markdown",
   "metadata": {},
   "source": [
    "## <font color=purple>EXERCISE 5a</font><br>\n",
    "\n",
    "<font color=purple>**Recycling resources**<br>\n",
    "This scenario explores what happens if resources are recyled. Just like in the previous exercise, this process adds to the available resources, but with the complication that the flux into Resources is a function of the flux out. In other words, the flux into resources should be a function of the resources used up at each time period.<br><br>\n",
    "\n",
    "Adapt your model from Exercise 4 to include recycling of resources. Make the Recycling_Rate an argument (input) to the function.</font>"
   ]
  },
  {
   "cell_type": "code",
   "execution_count": null,
   "metadata": {
    "collapsed": true
   },
   "outputs": [],
   "source": [
    "\n"
   ]
  },
  {
   "cell_type": "markdown",
   "metadata": {},
   "source": [
    "## <font color=purple>EXERCISE 5b</font><br>\n",
    "\n",
    "<font color=purple>Run a sensitivity test with a recycling rate of 0 (same as in the previous exercises) and a recylcing rate of 25% (0.25). Make the same set of plots as in the previous exercises.</font>"
   ]
  },
  {
   "cell_type": "code",
   "execution_count": null,
   "metadata": {
    "collapsed": true
   },
   "outputs": [],
   "source": [
    "\n"
   ]
  },
  {
   "cell_type": "markdown",
   "metadata": {},
   "source": [
    "## <font color=purple>EXERCISE 5c</font><br>\n",
    "\n",
    "<font color=purple>\n",
    "- What is different between the two scenarios?<br>\n",
    "- How does the maximum population and the year when it occurs change between these scenarios?</font>"
   ]
  },
  {
   "cell_type": "code",
   "execution_count": null,
   "metadata": {
    "collapsed": true
   },
   "outputs": [],
   "source": [
    "\n"
   ]
  }
 ],
 "metadata": {
  "anaconda-cloud": {},
  "kernelspec": {
   "display_name": "Python [conda env:py3]",
   "language": "python",
   "name": "conda-env-py3-py"
  },
  "language_info": {
   "codemirror_mode": {
    "name": "ipython",
    "version": 3
   },
   "file_extension": ".py",
   "mimetype": "text/x-python",
   "name": "python",
   "nbconvert_exporter": "python",
   "pygments_lexer": "ipython3",
   "version": "3.5.4"
  }
 },
 "nbformat": 4,
 "nbformat_minor": 1
}
