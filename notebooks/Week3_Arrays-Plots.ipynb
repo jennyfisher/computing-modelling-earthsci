{
 "cells": [
  {
   "cell_type": "markdown",
   "metadata": {},
   "source": [
    "# Introduction to Programming in Python: Arrays & Plots\n",
    "\n",
    "This practical will build on the previous one to continue to introduce you to the basic ideas behind programming and how to use Python in simple ways. It is based on an almagamation of courses and examples, including the following (which you are welcome to explore on your own!):\n",
    "1. Introduction to programming for Geoscientists (with Python) by Gerard Gorman and Christian Jacobs: http://ggorman.github.io/Introduction-to-programming-for-geoscientists/lecture_series/\n",
    "2. Introduction to scientific programming in Python by the UCL graduate school: http://www.cs.ucl.ac.uk/scipython/index.html\n",
    "3. Programming with Python by Software Carpentry: http://swcarpentry.github.io/python-novice-inflammation/\n",
    "\n",
    "**Recommended Reading**: *Scipy Lecture Notes*, Sections [1.3.1.2](http://www.scipy-lectures.org/intro/numpy/array_object.html#creating-arrays), [1.3.1.4](http://www.scipy-lectures.org/intro/numpy/array_object.html#basic-visualization), [1.3.1.5](http://www.scipy-lectures.org/intro/numpy/array_object.html#indexing-and-slicing)"
   ]
  },
  {
   "cell_type": "markdown",
   "metadata": {},
   "source": [
    "## Keeping track of many values at once\n",
    "\n",
    "Last week, we introduced ***variables*** as a way to keep track of values. For example, when we needed to know the solar flux at 3 different planets so that we could calculate their effective temperatures, we had to define 3 different variables:"
   ]
  },
  {
   "cell_type": "code",
   "execution_count": null,
   "metadata": {
    "collapsed": true
   },
   "outputs": [],
   "source": [
    "S_Venus = 2643.0\n",
    "S_Earth = 1366.0\n",
    "S_Mars = 593.0"
   ]
  },
  {
   "cell_type": "markdown",
   "metadata": {},
   "source": [
    "In this example and everything we have done so far, one variable has always referred to one number.\n",
    "\n",
    "Often, we will instead have a collection of values and we would like to store them all together. This is especially useful when we are going to perform the same mathematical operation on each number.\n",
    "\n",
    "Let's start with an example. Suppose we want to convert a bunch of temperatures in degrees Kelvin (often used in scientific computations) to degrees Celsius, which are more relatable.\n",
    "\n",
    "One way to do that in a computer program would be to have one variable per value and perform the calculation over and over:"
   ]
  },
  {
   "cell_type": "code",
   "execution_count": null,
   "metadata": {},
   "outputs": [],
   "source": [
    "# Values in Kelvin\n",
    "K1 = 250\n",
    "K2 = 275\n",
    "K3 = 300\n",
    "K4 = 325\n",
    "\n",
    "# Values in Celsius\n",
    "C1 = K1 - 273.15\n",
    "C2 = K2 - 273.15\n",
    "C3 = K3 - 273.15\n",
    "C4 = K4 - 273.15\n",
    "\n",
    "print( \"Values in Kelvin: \", K1, K2, K3, K4 )\n",
    "print( \"Values in Celsius:\", C1, C2, C3, C4 )"
   ]
  },
  {
   "cell_type": "markdown",
   "metadata": {},
   "source": [
    "While this works, it would clearly be a terrible solution if we had many values (and it is even tedious with just 4!). * **Remember:** programming is about saving you time. If something seems repetitive then there must be a better way to do it!*\n",
    "\n",
    "In Python, there are lots of ways to collect multiple values together. The one we will use in EESC102 is called a ***NumPy array***. NumPy is short for Numerical Python, an add-on package that makes it much easier to do mathematical operations."
   ]
  },
  {
   "cell_type": "markdown",
   "metadata": {},
   "source": [
    "<font color=purple>**Want to know more?**<br>\n",
    "\n",
    "*Remember: text in purple is just some fun optional extras. If you love this stuff, read on! If you feel like this is already a LOT to take in, just skip anything in purple.*<br><br>\n",
    "\n",
    "`numpy` is one of many extra packages that make python orders of magnitude more useful than it would be on its own. If you download python using Anaconda (which is what we recommend, and what we use in the class), it will come with a bunch of default packages, a few of which we will use in class. If you want to install extra packages that you find out about, this can be done very easily by following the instructions in the Anaconda documentation (google *Anaconda install packages*).</font>"
   ]
  },
  {
   "cell_type": "markdown",
   "metadata": {},
   "source": [
    "## Making simple arrays from a list of numbers\n",
    "\n",
    "The easiest way to create a single variable that stores multiple values looks like this (using our example from above):"
   ]
  },
  {
   "cell_type": "code",
   "execution_count": null,
   "metadata": {},
   "outputs": [],
   "source": [
    "import numpy\n",
    "K = numpy.array([250,275,300,325])\n",
    "print( K )"
   ]
  },
  {
   "cell_type": "markdown",
   "metadata": {},
   "source": [
    "Let's unpack that syntax (remember ***syntax*** is just a fancy word for the grammar that Python uses).\n",
    "\n",
    "The first line you see is critical:\n",
    "```\n",
    "import numpy\n",
    "```\n",
    "\n",
    "This tells Python that we are going to use some of the extra functionality available in the NumPy package.  If you look at other code and examples online, you will see this written in different ways:\n",
    "```\n",
    "import numpy\n",
    "from numpy import *\n",
    "import numpy as np\n",
    "```\n",
    "\n",
    "In EESC102 we will always use <font face=courier>import numpy</font> because it makes it more obvious when we are using a function from numpy (and hopefully helps reduce bugs in your code).\n",
    "\n",
    "**Before we use anything from <font face=courier>numpy</font>, we must import it -- but this only needs to be done once per session.** (By \"session\" here, we mean anytime you close Jupyter notebook and re-start it from scratch, or anytime you open a new Jupyter notebook, like the exercises. If you take a break and leave your Jupyter notebook open, you won't need to re-do this).\n",
    "\n",
    "**Handy hint:** If you forget to import numpy, you will get an error that looks like this:"
   ]
  },
  {
   "cell_type": "raw",
   "metadata": {},
   "source": [
    "---------------------------------------------------------------------------\n",
    "NameError                                 Traceback (most recent call last)\n",
    "<ipython-input-1-8df7a183ffae> in <module>()\n",
    "----> 1 C = numpy.array([-20, -15, -10, -5, 0, 5, 10, 15, 20, 25, 30, 35, 40])\n",
    "\n",
    "NameError: name 'numpy' is not defined"
   ]
  },
  {
   "cell_type": "markdown",
   "metadata": {},
   "source": [
    "Now take a look at the second line:\n",
    "```\n",
    "K = numpy.array([250,275,300,325])\n",
    "```\n",
    "\n",
    "<font face=courier>numpy.array</font> is the name of a function that tells Python to collect values into a single array. To use it, all we need to do is specify the specific values to use:\n",
    "```\n",
    "variable = numpy.array([value1,value2,value3,...,valueN])\n",
    "```\n",
    "\n",
    "Note that the values are surrounded by square brackets **[ ]** and the square brackets are surrounded by normal brackets **( )**. Make sure you include both and in the right order every time."
   ]
  },
  {
   "cell_type": "markdown",
   "metadata": {},
   "source": [
    "## <font color=blue>Complete Exercise 1 now</font>"
   ]
  },
  {
   "cell_type": "markdown",
   "metadata": {},
   "source": [
    "## Using arrays to do stuff\n",
    "\n",
    "We got to this point by wondering how we could save time doing some sort of calculation on a large number of values. In our example, we wanted to convert temperatures from Kelvin to Celsius.\n",
    "\n",
    "With numpy arrays this is incredibly easy - we can perform the same mathematical operation on a variable that stores multiple values (an array) as we would on a variable that stores only one value (like we had last week).\n",
    "\n",
    "**When you perform mathematical functions on numpy arrays, the same operation is performed on every element.** For example:"
   ]
  },
  {
   "cell_type": "code",
   "execution_count": null,
   "metadata": {
    "collapsed": true
   },
   "outputs": [],
   "source": [
    "K = numpy.array([250,275,300,325])\n",
    "print( K )\n",
    "print( K+1 )      # add 1 to every element\n",
    "print( K**2 )     # square every element\n",
    "print( K/5.0 )    # divide every element by 5.0\n",
    "print( K - K/2. ) # perform multiple operations on every element of C"
   ]
  },
  {
   "cell_type": "markdown",
   "metadata": {},
   "source": [
    "We can also use multiple different variables in a single calculation (as long as they are the same length). For example:"
   ]
  },
  {
   "cell_type": "code",
   "execution_count": null,
   "metadata": {
    "collapsed": true
   },
   "outputs": [],
   "source": [
    "x = numpy.array([2,38,7])\n",
    "y = numpy.array([5,0,2])\n",
    "z = numpy.array([2,2,1])\n",
    "\n",
    "print( x**y + z )"
   ]
  },
  {
   "cell_type": "markdown",
   "metadata": {},
   "source": [
    "Now let's solve our original problem: converting K from Kelvin to Celsius:"
   ]
  },
  {
   "cell_type": "code",
   "execution_count": null,
   "metadata": {
    "collapsed": true
   },
   "outputs": [],
   "source": [
    "K = numpy.array([250,275,300,325])\n",
    "C = K - 273.15\n",
    "\n",
    "print( \"Values in Kelvin: \", K )\n",
    "print( \"Values in Celsius:\", C )"
   ]
  },
  {
   "cell_type": "markdown",
   "metadata": {},
   "source": [
    "## <font color=blue>Complete Exercise 2 now</font>"
   ]
  },
  {
   "cell_type": "markdown",
   "metadata": {},
   "source": [
    "## The lazy person's guide to making arrays\n",
    "\n",
    "Sometimes we don't want to put in a lot of numbers by hand. For example, imagine we wanted to convert every temperature in the range 200-400K from Kelvin to Celsius. It would get pretty tedious to do this by typing values in <font face=courier>numpy.array</font>:\n",
    "```\n",
    "K = numpy.array([200, 201, 202, 203, ..., 400])\n",
    "```\n",
    "(except that insteading of ... you would have to type every single number to make this work).\n",
    "\n",
    "Remember our mantra: if it seems tedious or repetitive then there must be a better way to do it!\n",
    "\n",
    "The answer is a function that we will be using a TON: **<font face=courier>numpy.arange</font>**.\n",
    "\n",
    "As usual, let's start with an example then explain how it works:"
   ]
  },
  {
   "cell_type": "code",
   "execution_count": null,
   "metadata": {},
   "outputs": [],
   "source": [
    "K = numpy.arange(200,401,1)\n",
    "print( K )"
   ]
  },
  {
   "cell_type": "markdown",
   "metadata": {},
   "source": [
    "Wow! That was so much easier then typing 100 different numbers and hoping you didn't make a mistake!\n",
    "\n",
    "Let's take a closer look at the syntax, and how it is different from <font face=courier>numpy.array</font>.\n",
    "\n",
    "```\n",
    "K = numpy.arange(200,401,1)\n",
    "```\n",
    "\n",
    "The first thing to be careful of is spelling: before, we were using **<font face=courier>array</font>** (double r), whereas this function is **<font face=courier>arange</font>** (single r). The best way to remember this is that you are trying to create A RANGE of numbers.\n",
    "\n",
    "Next notice the brackets. In this case, we just need one set of normal brackets **( )**. *In fact, as we'll cover next week, most of the time you use a function in Python you only need normal brackets - numpy.array is a little special.*\n",
    "\n",
    "Finally we have a few numbers inside those brackets. In our example:\n",
    "- 200 is the first value of our array, which we'll call **<font face=courier>start</font>**\n",
    "- 401 is the final value of our array **plus one**, which we'll call **<font face=courier>stop</font>**\n",
    "- 1 is how much bigger each value in our array is than the previous value, which we'll call **<font face=courier>step</font>**.\n",
    "\n",
    "The general way to use <font face=courier>numpy.arange</font> is:\n",
    "```\n",
    "variable = numpy.arange(start, stop, step)\n",
    "```\n",
    "\n",
    "**Be careful with <font face=courier>stop</font>**. As you can see in our example, we wanted the last value to be 400, so we had to use <font face=courier>stop</font>=401. **Always make <font face=courier>stop</font> larger than your your final value.**"
   ]
  },
  {
   "cell_type": "markdown",
   "metadata": {},
   "source": [
    "## <font color=blue>Complete Exercise 3 now</font>"
   ]
  },
  {
   "cell_type": "markdown",
   "metadata": {},
   "source": [
    "<font color=purple>**Want to know more?**<br>\n",
    "\n",
    "*Remember: text in purple is just some fun optional extras. If you love this stuff, read on! If you feel like this is already a LOT to take in, just skip anything in purple.*<br><br>\n",
    "\n",
    "Handy hint: `numpy.arange` has a couple of default values to make life easier for you:<br>\n",
    "- If you don't specify `step`, Python will always assume it is 1.<br>\n",
    "- If you **also** don't specify `start`, Python will assume it is 0.<br><br>\n",
    "\n",
    "Note that you can't specify only `stop` and `step` because python will assume you mean `start` and `stop`. You must **always** specify `stop`.<br><br>\n",
    "\n",
    "Here are a few examples to play with:</font>"
   ]
  },
  {
   "cell_type": "code",
   "execution_count": null,
   "metadata": {
    "collapsed": true
   },
   "outputs": [],
   "source": [
    "# with only one value, Python assumes start=0 and step=1\n",
    "print( numpy.arange(11) )\n",
    "\n",
    "# with only two values, Python assumes step=1\n",
    "print( numpy.arange(1,11)  )\n",
    "\n",
    "# doesn't work if you try to only include stop and step because Python assumes this is start and stop\n",
    "# but it is impossible to start at 11 and stop at 2!\n",
    "print( numpy.arange(11,2)  )"
   ]
  },
  {
   "cell_type": "markdown",
   "metadata": {},
   "source": [
    "## Help! Get me out of here!\n",
    "\n",
    "It's great to be able to keep all our values in one place, especially if we're doing some sort of calculation with them. But at the end of the day, sometimes we might want to extract just one value from our big array.\n",
    "\n",
    "Luckily, this is easy to do using its ***index***.\n",
    "\n",
    "Let's go back to our temperature example one more time:"
   ]
  },
  {
   "cell_type": "code",
   "execution_count": null,
   "metadata": {},
   "outputs": [],
   "source": [
    "import numpy\n",
    "K = numpy.array([250,275,300,325])\n",
    "C = K - 273.15\n",
    "\n",
    "print( \"Values in Kelvin: \", K )\n",
    "print( \"Values in Celsius:\", C )"
   ]
  },
  {
   "cell_type": "markdown",
   "metadata": {},
   "source": [
    "Maybe this time I just want to print the 3rd value of C (in other words, the value of C when K=300). This is how I'd do it:"
   ]
  },
  {
   "cell_type": "code",
   "execution_count": null,
   "metadata": {},
   "outputs": [],
   "source": [
    "print( \"Value in Celsius when K=300:\", C[2] )"
   ]
  },
  {
   "cell_type": "markdown",
   "metadata": {},
   "source": [
    "What's going on here? If we want the 3rd value, shouldn't there be a 3 somewhere? Nope! Here's why:\n",
    "\n",
    "**In Python, counting starts at 0!** That means the 1st value has index=0, the 2nd value has index=1, the 3rd value has index=2, and so on.\n",
    "\n",
    "We can verify this by printing all the values of K, first together and then separately:"
   ]
  },
  {
   "cell_type": "code",
   "execution_count": null,
   "metadata": {},
   "outputs": [],
   "source": [
    "print( K )\n",
    "print( K[0] )\n",
    "print( K[1] )\n",
    "print( K[2] )\n",
    "print( K[3] )"
   ]
  },
  {
   "cell_type": "markdown",
   "metadata": {},
   "source": [
    "The general syntax for pulling out one element is:\n",
    "```\n",
    "array_name[index]\n",
    "```\n",
    "where <font face=courier>array_name</font> is whatever you have called your array, and <font face=courier>index</font> is the number of the value you want.\n",
    "\n",
    "Note that when we are pulling out one element we use square brackets **[ ]**."
   ]
  },
  {
   "cell_type": "markdown",
   "metadata": {},
   "source": [
    "## <font color=blue>Complete Exercise 4a now</font>"
   ]
  },
  {
   "cell_type": "markdown",
   "metadata": {},
   "source": [
    "### out of bounds!\n",
    "\n",
    "What happens if you try to use an index that doesn't exist? Let's see!"
   ]
  },
  {
   "cell_type": "code",
   "execution_count": null,
   "metadata": {},
   "outputs": [],
   "source": [
    "print(K)\n",
    "print( K[4] )"
   ]
  },
  {
   "cell_type": "markdown",
   "metadata": {},
   "source": [
    "Oops! That didn't work! But at least Python gave us a very helpful error:\n",
    "```\n",
    "IndexError: index 4 is out of bounds for axis 0 with size 4\n",
    "```\n",
    "\n",
    "*Translated to English*: you asked for the value with index=4, but your array only has 4 values (meaning the last one has index=3), so I can't give you a value!\n",
    "\n",
    "If you see that one, it means you tried to pull out an element that doesn't exist!"
   ]
  },
  {
   "cell_type": "markdown",
   "metadata": {},
   "source": [
    "### how big is it?\n",
    "\n",
    "Finding the total number of values in an array - called the array's ***length*** - is really easy in Python:"
   ]
  },
  {
   "cell_type": "code",
   "execution_count": null,
   "metadata": {
    "collapsed": true
   },
   "outputs": [],
   "source": [
    "print( len(K) )"
   ]
  },
  {
   "cell_type": "markdown",
   "metadata": {},
   "source": [
    "This can come in handy when we have a really big array. For example:"
   ]
  },
  {
   "cell_type": "code",
   "execution_count": null,
   "metadata": {
    "collapsed": true
   },
   "outputs": [],
   "source": [
    "x = numpy.arange(33,1054,3)\n",
    "print( len(x) )"
   ]
  },
  {
   "cell_type": "markdown",
   "metadata": {},
   "source": [
    "## <font color=blue>Complete Exercise 4b now</font>"
   ]
  },
  {
   "cell_type": "markdown",
   "metadata": {},
   "source": [
    "### It's time to make a change\n",
    "\n",
    "We don't just have to take values OUT of an array. We can also use the ***index*** to change the values that are in our array.\n",
    "\n",
    "Remember that we can assign a ***value*** to a ***variable*** just using the equal sign (=):"
   ]
  },
  {
   "cell_type": "code",
   "execution_count": null,
   "metadata": {
    "collapsed": true
   },
   "outputs": [],
   "source": [
    "z = 25\n",
    "print( z )"
   ]
  },
  {
   "cell_type": "markdown",
   "metadata": {},
   "source": [
    "We can also change the value of that variable with the equal sign by just giving it a new value:"
   ]
  },
  {
   "cell_type": "code",
   "execution_count": null,
   "metadata": {
    "collapsed": true
   },
   "outputs": [],
   "source": [
    "z = 25\n",
    "print( z )\n",
    "\n",
    "# Change the value of z\n",
    "z=33\n",
    "print( z )"
   ]
  },
  {
   "cell_type": "markdown",
   "metadata": {},
   "source": [
    "We can do the same thing to change values inside an array. While we could change the whole array at once, sometimes we just want to change one number. We can do that using the same type of indexing we used before. For example, let's play with an array called `z_array`:"
   ]
  },
  {
   "cell_type": "code",
   "execution_count": null,
   "metadata": {
    "collapsed": true
   },
   "outputs": [],
   "source": [
    "z_array = numpy.array([25,32,17,8])\n",
    "print( \"Original z_array:\",z_array )"
   ]
  },
  {
   "cell_type": "markdown",
   "metadata": {},
   "source": [
    "Maybe we just want to change the FIRST value in `z_array`. That value has index 0. So just like we could use `z=33` to change the value of `z`, we can use `z_array[0]=33` to change just the first value of `z_array`:"
   ]
  },
  {
   "cell_type": "code",
   "execution_count": null,
   "metadata": {
    "collapsed": true
   },
   "outputs": [],
   "source": [
    "# Change the first value of z\n",
    "z_array[0] = 33\n",
    "print( \"After changing the 1st value:\",z_array )"
   ]
  },
  {
   "cell_type": "markdown",
   "metadata": {
    "collapsed": true
   },
   "source": [
    "We can see that the first value of `z_array`, which used to be 25, is now 33! We can do the same with any of the values in `z_array`. As one more example, let's change that last value from 8 to 30. The last value has index=3 (remember, we count up from 0, so 0-1-2-3), so we'll change space 3 in `z_array`:"
   ]
  },
  {
   "cell_type": "code",
   "execution_count": null,
   "metadata": {
    "collapsed": true
   },
   "outputs": [],
   "source": [
    "# Change the last value of z\n",
    "z_array[3] = 30\n",
    "print( \"After changing the 1st value:\",z_array )"
   ]
  },
  {
   "cell_type": "markdown",
   "metadata": {},
   "source": [
    "## <font color=blue>Complete Exercise 4c now</font>"
   ]
  },
  {
   "cell_type": "markdown",
   "metadata": {},
   "source": [
    "### <font color=purple>Want to know more?</font><br>\n",
    "\n",
    "<font color=purple>*Remember: text in purple is just some fun optional extras. If you love this stuff, read on! If you feel like this is already a LOT to take in, just skip anything in purple.*<br><br>\n",
    "\n",
    "**going negative**<br>\n",
    "Python also allows us to pull out a value using a ***negative index***. Negative indices start at the *end* of the list and work backwards. In other words, -1 is the index for the last element, -2 is the index for the second-to-last element, etc. For example:</font>"
   ]
  },
  {
   "cell_type": "code",
   "execution_count": null,
   "metadata": {
    "collapsed": true
   },
   "outputs": [],
   "source": [
    "print( K[-1] )    # -1 is the last value\n",
    "print( K[-2] )    # -2 is the second to last value\n",
    "print( K[-3] )    # etc."
   ]
  },
  {
   "cell_type": "markdown",
   "metadata": {},
   "source": [
    "<font color=purple>**Complete OPTIONAL Exercise 4d now**</font>"
   ]
  },
  {
   "cell_type": "markdown",
   "metadata": {},
   "source": [
    "<font color=purple>**taking a few at once**<br>\n",
    "Sometimes we want to extract a few values at once. As always, there is an easy way to do this. It's called ***slicing***. Let's use it to grab the first two elements of K:</font>"
   ]
  },
  {
   "cell_type": "code",
   "execution_count": null,
   "metadata": {
    "collapsed": true
   },
   "outputs": [],
   "source": [
    "print( K[0:2] )"
   ]
  },
  {
   "cell_type": "markdown",
   "metadata": {},
   "source": [
    "<font color=purple>This might look a little funny. If we wanted to print them one at a time, we would have specified ```K[0]``` (1st element of K, index=0) and ```K[1]``` (2nd element of K, index=2). But when we used slicing, we had to specify 0:**2**.<br>\n",
    "\n",
    "Where did the 2 come from?<br><br>\n",
    "\n",
    "This is a counterintuitive feature of Python: when a range of indices is specified, it means \"go up to but don't include\" the last value. This is something to watch out for! The general syntax is:\n",
    "```\n",
    "array_name[start:stop]\n",
    "```\n",
    "\n",
    "Just like with ```numpy.arange```, ```stop``` should be **one more than** the last index you want.<br>\n",
    "\n",
    "We can slice an array using any combination of indices we like. Play around with the examples below to get more comfortable with array indexing and slicing:<font>"
   ]
  },
  {
   "cell_type": "code",
   "execution_count": null,
   "metadata": {
    "collapsed": true
   },
   "outputs": [],
   "source": [
    "print( K )       # print all the values of K, so we remember what it looks like.\n",
    "print( K[0:3] )  # print elements 0,1,2\n",
    "print( K[2:4] )  # print element 2,3\n",
    "print( K[1:-1] ) # print all elements starting from 1 and going up to the second-to-last"
   ]
  },
  {
   "cell_type": "markdown",
   "metadata": {},
   "source": [
    "<font color=purple>**handy hints**:<br>\n",
    "If we leave out the first number (<font face=\"courier\">start</font>), it will automatically start at the beginning (index=0):</font>"
   ]
  },
  {
   "cell_type": "code",
   "execution_count": null,
   "metadata": {
    "collapsed": true
   },
   "outputs": [],
   "source": [
    "print( K[:3] )"
   ]
  },
  {
   "cell_type": "markdown",
   "metadata": {},
   "source": [
    "<font color=purple>If we leave out the second number (<font face=\"courier\">stop</font>), it will automatically go to the end:</font>"
   ]
  },
  {
   "cell_type": "code",
   "execution_count": null,
   "metadata": {
    "collapsed": true
   },
   "outputs": [],
   "source": [
    "print( K[1:] )"
   ]
  },
  {
   "cell_type": "markdown",
   "metadata": {},
   "source": [
    "<font color=purple>If we leave out both, we get the whole list:</font>"
   ]
  },
  {
   "cell_type": "code",
   "execution_count": null,
   "metadata": {
    "collapsed": true
   },
   "outputs": [],
   "source": [
    "print( K[:] )"
   ]
  },
  {
   "cell_type": "markdown",
   "metadata": {},
   "source": [
    "<font color=purple>**Complete OPTIONAL Exercise 4e now**</font>"
   ]
  },
  {
   "cell_type": "markdown",
   "metadata": {},
   "source": [
    "## Plotting variables\n",
    "\n",
    "Now that we have know how to store a large number of values in a single variable (numpy arrays) and how to perform calculations with them, it's time to plot them! Plots are usually much better for interpreting behaviour than lists of numbers.\n",
    "\n",
    "For now, we'll just worry about the basics, but in future pracs we will delve into how to make our plots beautiful.\n",
    "\n",
    "We are going to use a special package called **pyplot** that is part of the **matplotlib** module. We first need to import it:"
   ]
  },
  {
   "cell_type": "code",
   "execution_count": null,
   "metadata": {
    "collapsed": true
   },
   "outputs": [],
   "source": [
    "import matplotlib.pyplot as pyplot"
   ]
  },
  {
   "cell_type": "markdown",
   "metadata": {},
   "source": [
    "<font color=purple>If you're paying attention, you might have noticed that this looks a little bit different from before. The addition of **<font face=courier>as pyplot</font>** is just a little shortcut. This means every time we want to use a function from pyplot, we don't have to type \"matplotlib.pyplot.function\"; we can simply type \"pyplot.function\".</font>\n",
    "\n",
    "Before we can get going, we need a little bit of magic -- because we are using Jupyter notebook, we want the plots to appear in the notebook, rather than popping up as separate windows. To do that, we use this command:"
   ]
  },
  {
   "cell_type": "code",
   "execution_count": null,
   "metadata": {
    "collapsed": true
   },
   "outputs": [],
   "source": [
    "%matplotlib inline"
   ]
  },
  {
   "cell_type": "markdown",
   "metadata": {},
   "source": [
    "Like import, this line only needs to be executed once at the start of any notebook / session.<br><br>\n",
    "\n",
    "<font color=purple>The <font face=courier>%</font> is something called an iPython magic function, and it only works in the notebook environment.</font>\n",
    "\n",
    "Using pyplot, it's now very easy to make a basic plot! Let's go back to our example of converting every temperature in the range 200-400K from Kelvin to Celsius."
   ]
  },
  {
   "cell_type": "code",
   "execution_count": null,
   "metadata": {
    "collapsed": true
   },
   "outputs": [],
   "source": [
    "K = numpy.arange(200,401,1)\n",
    "C = K - 273.15"
   ]
  },
  {
   "cell_type": "markdown",
   "metadata": {},
   "source": [
    "Instead of printing the values of C, we will plot them versus K:"
   ]
  },
  {
   "cell_type": "code",
   "execution_count": null,
   "metadata": {
    "collapsed": true
   },
   "outputs": [],
   "source": [
    "pyplot.plot(K,C)\n",
    "pyplot.show()"
   ]
  },
  {
   "cell_type": "markdown",
   "metadata": {},
   "source": [
    "The syntax for basic plotting is simple:\n",
    "```\n",
    "import matplotlib.pyplot as pyplot      # once per notebook\n",
    "%matplotlib inline                     # once per notebook\n",
    "pyplot.plot(x_variable,y_variable)\n",
    "pyplot.show()\n",
    "```\n",
    "In the command ```pyplot.plot(x_variable,y_variable)```, ```x_variable``` is the independent variable (plotted on the x-axis) and ```y_variable``` is the dependent variable (plotted on the y-axis).\n",
    "\n",
    "```pyplot.show()``` is always called at the end of the plotting commands, and it tells python to actually show us the plot."
   ]
  },
  {
   "cell_type": "markdown",
   "metadata": {},
   "source": [
    "### labels and titles\n",
    "\n",
    "You have probably learned by now that plots should **always** have **axes labels** and **titles**. These are very easy to add:"
   ]
  },
  {
   "cell_type": "code",
   "execution_count": null,
   "metadata": {
    "collapsed": true
   },
   "outputs": [],
   "source": [
    "pyplot.plot(K,C)\n",
    "pyplot.xlabel('Temperature in Kelvin')\n",
    "pyplot.ylabel('Temperature in Celsius')\n",
    "pyplot.title('Relationship between Kelvin and Celsius')\n",
    "pyplot.show()"
   ]
  },
  {
   "cell_type": "markdown",
   "metadata": {},
   "source": [
    "## <font color=blue>Complete Exercise 5 now</font>"
   ]
  },
  {
   "cell_type": "markdown",
   "metadata": {},
   "source": [
    "## <font color=purple>Want to know more? Locating values with NumPy</font>\n",
    "\n",
    "<font color=purple>*Remember: text in purple is just some fun optional extras. If you love this stuff, read on! If you feel like this is already a LOT to take in, just skip anything in purple.*</font>\n",
    "\n",
    "### <font color=purple>finding extremes</font><br>\n",
    "\n",
    "<font color=purple>Sometimes we want to figure out the extreme values (e.g., minimum and maximum) of a given array. Take for example the annual mean distribution of incoming solar energy at the top of the atmosphere ($F$) as a function of latitude ($\\lambda$), which can be roughly calculated as:<br><br>\n",
    "$$F(\\lambda)=\\frac{90}{4}\\left (5-3sin\\left (\\lambda\\cdot\\frac{\\pi}{180}\\right )^2\\right )$$<br><br>\n",
    "\n",
    "We might want to know the minimum and maximum values of the solar energy. We could start by implementing this equation in Python and plotting the values:</font>"
   ]
  },
  {
   "cell_type": "code",
   "execution_count": null,
   "metadata": {
    "collapsed": true
   },
   "outputs": [],
   "source": [
    "# math is just another package that stores useful things, like pi\n",
    "from math import pi\n",
    "\n",
    "# function to calculate F for each latitude\n",
    "# Don't worry about this for now. We will learn about the syntax of functions in Week 5.\n",
    "# For now, you can just ignore this part of the code and \n",
    "#   know that it will give you the flux for a given latitude.\n",
    "def incoming_flux(latitude):\n",
    "    flux = 90.*0.25 * (5 - 3*(numpy.sin(latitude*pi/180.))**2)\n",
    "    return flux\n",
    "\n",
    "# array of latitudes\n",
    "lat=numpy.arange(-90,91,1)\n",
    "\n",
    "# calculate F\n",
    "F = incoming_flux(lat)\n",
    "\n",
    "# make the plot\n",
    "pyplot.plot(lat,F)\n",
    "pyplot.xlabel('latitude')\n",
    "pyplot.ylabel('Flux (W/m2)')\n",
    "pyplot.title('Solar flux as a function of latitude')\n",
    "pyplot.show()"
   ]
  },
  {
   "cell_type": "markdown",
   "metadata": {},
   "source": [
    "<font color=purple>From here, we could try to read the values from the graph (or we could print them out): the maximum is ~112, and the minimum is ~45.0.<br><br>\n",
    "\n",
    "But this is Python -- there must be a more sensible solution.<br><br>\n",
    "\n",
    "To find extremes (minimum and maximum), numpy has two very useful functions: <font face=courier>numpy.min()</font> and <font face=courier>numpy.max()</font>. These work exactly as you would expect them to:</font>"
   ]
  },
  {
   "cell_type": "code",
   "execution_count": null,
   "metadata": {
    "collapsed": true
   },
   "outputs": [],
   "source": [
    "minval = numpy.min(F)\n",
    "maxval = numpy.max(F)\n",
    "print( \"The minimum value of F is \",minval )\n",
    "print( \"The maximum value of F is \",maxval )"
   ]
  },
  {
   "cell_type": "markdown",
   "metadata": {},
   "source": [
    "<font color=purple>We can also figure out exactly where those values occur using the related functions <font face=courier>numpy.argmin()</font> and <font face=courier>numpy.argmax()</font>. These will give as output the ***index*** associated with the minimum or maximum value. For example:</font>"
   ]
  },
  {
   "cell_type": "code",
   "execution_count": null,
   "metadata": {
    "collapsed": true
   },
   "outputs": [],
   "source": [
    "maxloc = numpy.argmax(F)\n",
    "print( \"The maximum value of F occurs at \",maxloc )"
   ]
  },
  {
   "cell_type": "markdown",
   "metadata": {},
   "source": [
    "<font color=purple>While this information might not seem that useful on its own, it can be really useful when we want to know about related arrays. For example, what we might really be interested in is the *latitude* when the flux is at its maximum. For that we can use <font face=courier>numpy.argmax()</font> to first find the index, then use that index to pull out the associated element from the latitude array:</font>"
   ]
  },
  {
   "cell_type": "code",
   "execution_count": null,
   "metadata": {
    "collapsed": true
   },
   "outputs": [],
   "source": [
    "maxloc = numpy.argmax(F)\n",
    "maxlat = lat[maxloc]\n",
    "print( \"The maximum value of F occurs at latitude \",maxlat,\" degrees\" )"
   ]
  },
  {
   "cell_type": "markdown",
   "metadata": {},
   "source": [
    "<font color=purple>We could do the same thing for the minimum F values:</font>"
   ]
  },
  {
   "cell_type": "code",
   "execution_count": null,
   "metadata": {
    "collapsed": true
   },
   "outputs": [],
   "source": [
    "minloc = numpy.argmin(F)\n",
    "minlat = lat[minloc]\n",
    "print( \"The minimum value of F occurs at latitude \",minlat,\" degrees\" )"
   ]
  },
  {
   "cell_type": "markdown",
   "metadata": {},
   "source": [
    "<font color=purple>There's a problem! If we look back at the graph or our table of values, we will see that the statement above is true, but that the minimum value **also** occurs at latitude +90.0 degrees.<br><br>\n",
    "\n",
    "**<font face=courier>numpy.argmin()</font> and <font face=courier>numpy.argmax()</font> will only report the FIRST instance of an extreme value.** To find **all** the places where an array hits an extreme value (or really, any value) we need to use a few other tricks, which we will get to next time.</font>"
   ]
  },
  {
   "cell_type": "markdown",
   "metadata": {},
   "source": [
    "## <font color=purple>If you have extra time, complete Optional Exercise 6</font>"
   ]
  },
  {
   "cell_type": "code",
   "execution_count": null,
   "metadata": {
    "collapsed": true
   },
   "outputs": [],
   "source": []
  }
 ],
 "metadata": {
  "anaconda-cloud": {},
  "kernelspec": {
   "display_name": "Python [conda env:py3]",
   "language": "python",
   "name": "conda-env-py3-py"
  },
  "language_info": {
   "codemirror_mode": {
    "name": "ipython",
    "version": 3
   },
   "file_extension": ".py",
   "mimetype": "text/x-python",
   "name": "python",
   "nbconvert_exporter": "python",
   "pygments_lexer": "ipython3",
   "version": "3.5.4"
  }
 },
 "nbformat": 4,
 "nbformat_minor": 1
}
