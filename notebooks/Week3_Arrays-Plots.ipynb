{
 "cells": [
  {
   "cell_type": "markdown",
   "metadata": {},
   "source": [
    "# Introduction to Programming in Python: Arrays & Plots\n",
    "\n",
    "This practical will build on the previous one to continue to introduce you to the basic ideas behind programming and how to use Python in simple ways. It is based on an almagamation of courses and examples, including the following (which you are welcome to explore on your own!):\n",
    "1. Introduction to programming for Geoscientists (with Python) by Gerard Gorman and Christian Jacobs: http://ggorman.github.io/Introduction-to-programming-for-geoscientists/lecture_series/\n",
    "2. Introduction to scientific programming in Python by the UCL graduate school: http://www.cs.ucl.ac.uk/scipython/index.html\n",
    "3. Programming with Python by Software Carpentry: http://swcarpentry.github.io/python-novice-inflammation/\n",
    "\n",
    "**Recommended Reading**: *Scipy Lecture Notes*, Sections [1.3.1.2](http://www.scipy-lectures.org/intro/numpy/array_object.html#creating-arrays), [1.3.1.4](http://www.scipy-lectures.org/intro/numpy/array_object.html#basic-visualization), [1.3.1.5](http://www.scipy-lectures.org/intro/numpy/array_object.html#indexing-and-slicing)"
   ]
  },
  {
   "cell_type": "markdown",
   "metadata": {},
   "source": [
    "## Keeping track of many values at once\n",
    "\n",
    "Last week, we introduced ***variables*** as a way to keep track of values. For example, when we needed to know the solar flux at 3 different planets so that we could calculate their effective temperatures, we had to define 3 different variables:"
   ]
  },
  {
   "cell_type": "code",
   "execution_count": null,
   "metadata": {
    "collapsed": true
   },
   "outputs": [],
   "source": [
    "S_Venus = 2643.0\n",
    "S_Earth = 1366.0\n",
    "S_Mars = 593.0"
   ]
  },
  {
   "cell_type": "markdown",
   "metadata": {},
   "source": [
    "In this example and everything we have done so far, one variable has always referred to one number.\n",
    "\n",
    "Often, we will instead have a collection of values and we would like to store them all together. This is especially useful when we are going to perform the same mathematical operation on each number.\n",
    "\n",
    "Let's start with an example. Suppose we want to convert a bunch of temperatures in degrees Kelvin (often used in scientific computations) to degrees Celsius, which are more relatable.\n",
    "\n",
    "One way to do that in a computer program would be to have one variable per value and perform the calculation over and over:"
   ]
  },
  {
   "cell_type": "code",
   "execution_count": null,
   "metadata": {
    "collapsed": false
   },
   "outputs": [],
   "source": [
    "# Values in Kelvin\n",
    "K1 = 250\n",
    "K2 = 275\n",
    "K3 = 300\n",
    "K4 = 325\n",
    "\n",
    "# Values in Celsius\n",
    "C1 = K1 - 273.15\n",
    "C2 = K2 - 273.15\n",
    "C3 = K3 - 273.15\n",
    "C4 = K4 - 273.15\n",
    "\n",
    "print \"Values in Kelvin: \", K1, K2, K3, K4\n",
    "print \"Values in Celsius:\", C1, C2, C3, C4"
   ]
  },
  {
   "cell_type": "markdown",
   "metadata": {},
   "source": [
    "While this works, it would clearly be a terrible solution if we had many values (and it is even tedious with just 4!). * **Remember:** programming is about saving you time. If something seems repetitive then there must be a better way to do it!*\n",
    "\n",
    "In Python, there are lots of ways to collect multiple values together. The one we will use in EESC102 is called a ***NumPy array***. NumPy is short for Numerical Python, an add-on that makes it much easier to do mathematical operations.\n",
    "\n",
    "## Making simple arrays from a list of numbers\n",
    "\n",
    "The easiest way to create a single variable that stores multiple values looks like this (using our example from above):"
   ]
  },
  {
   "cell_type": "code",
   "execution_count": null,
   "metadata": {
    "collapsed": false
   },
   "outputs": [],
   "source": [
    "import numpy\n",
    "K = numpy.array([250,275,300,325])\n",
    "print K"
   ]
  },
  {
   "cell_type": "markdown",
   "metadata": {},
   "source": [
    "Let's unpack that syntax (remember ***syntax*** is just a fancy word for the grammar that Python uses).\n",
    "\n",
    "The first line you see is critical:\n",
    "```\n",
    "import numpy\n",
    "```\n",
    "\n",
    "This tells Python that we are going to use some of the extra functionality available in the NumPy package.  If you look at other code and examples online, you will see this written in different ways:\n",
    "```\n",
    "import numpy\n",
    "from numpy import *\n",
    "import numpy as np\n",
    "```\n",
    "\n",
    "In EESC102 we will always use <font face=courier>import numpy</font> because it makes it more obvious when we are using a function from numpy (and hopefully helps reduce bugs in your code).\n",
    "\n",
    "**Before we use anything from <font face=courier>numpy</font>, we must import it -- but this only needs to be done once per session.**\n",
    "\n",
    "**Handy hint:** If you forget to import numpy, you will get an error that looks like this:"
   ]
  },
  {
   "cell_type": "raw",
   "metadata": {},
   "source": [
    "---------------------------------------------------------------------------\n",
    "NameError                                 Traceback (most recent call last)\n",
    "<ipython-input-1-8df7a183ffae> in <module>()\n",
    "----> 1 C = numpy.array([-20, -15, -10, -5, 0, 5, 10, 15, 20, 25, 30, 35, 40])\n",
    "\n",
    "NameError: name 'numpy' is not defined"
   ]
  },
  {
   "cell_type": "markdown",
   "metadata": {},
   "source": [
    "Now take a look at the second line:\n",
    "```\n",
    "K = numpy.array([250,275,300,325])\n",
    "```\n",
    "\n",
    "<font face=courier>numpy.array</font> is the name of a function that tells Python to collect values into a single array. To use it, all we need to do is specify the specific values to use:\n",
    "```\n",
    "variable = numpy.array([value1,value2,value3,...,valueN])\n",
    "```\n",
    "\n",
    "Note that the values are surrounded by square brackets **[ ]** and the square brackets are surrounded by normal brackets **( )**. Make sure you include both and in the right order every time."
   ]
  },
  {
   "cell_type": "markdown",
   "metadata": {},
   "source": [
    "## <font color=blue>EXERCISE 1a</font><br>\n",
    "\n",
    "<font color = blue>What kind of errors do you get if the brackets are wrong? Try out each of the examples below without changing anything so you see the error message, then fix the error.</font>"
   ]
  },
  {
   "cell_type": "markdown",
   "metadata": {},
   "source": [
    "<font color = blue>**i. Original**:</font>"
   ]
  },
  {
   "cell_type": "code",
   "execution_count": null,
   "metadata": {
    "collapsed": false,
    "scrolled": true
   },
   "outputs": [],
   "source": [
    "# Brackets in the wrong order\n",
    "K = numpy.array[(201,202,203,204)]\n",
    "print K"
   ]
  },
  {
   "cell_type": "markdown",
   "metadata": {},
   "source": [
    "<font color=blue>**i. Fixed**:</font>"
   ]
  },
  {
   "cell_type": "code",
   "execution_count": null,
   "metadata": {
    "collapsed": false,
    "scrolled": false
   },
   "outputs": [],
   "source": []
  },
  {
   "cell_type": "markdown",
   "metadata": {},
   "source": [
    "<font color = blue>**ii. Original**:</font>"
   ]
  },
  {
   "cell_type": "code",
   "execution_count": null,
   "metadata": {
    "collapsed": false
   },
   "outputs": [],
   "source": [
    "# One bracket in the wrong order\n",
    "K = numpy.array([205,206,207,208)]\n",
    "print K"
   ]
  },
  {
   "cell_type": "markdown",
   "metadata": {},
   "source": [
    "<font color=blue>**ii. Fixed**:</font>"
   ]
  },
  {
   "cell_type": "code",
   "execution_count": null,
   "metadata": {
    "collapsed": false,
    "scrolled": false
   },
   "outputs": [],
   "source": []
  },
  {
   "cell_type": "markdown",
   "metadata": {},
   "source": [
    "<font color = blue>**iii. Original**:</font>"
   ]
  },
  {
   "cell_type": "code",
   "execution_count": null,
   "metadata": {
    "collapsed": false
   },
   "outputs": [],
   "source": [
    "# Square brackets missing\n",
    "K = numpy.array(209,210,211,212)\n",
    "print K"
   ]
  },
  {
   "cell_type": "markdown",
   "metadata": {},
   "source": [
    "<font color=blue>**iii. Fixed**:</font>"
   ]
  },
  {
   "cell_type": "code",
   "execution_count": null,
   "metadata": {
    "collapsed": false,
    "scrolled": false
   },
   "outputs": [],
   "source": []
  },
  {
   "cell_type": "markdown",
   "metadata": {},
   "source": [
    "<font color = blue>**iv. Original**:</font>"
   ]
  },
  {
   "cell_type": "code",
   "execution_count": null,
   "metadata": {
    "collapsed": false
   },
   "outputs": [],
   "source": [
    "# Normal brackets missing\n",
    "K = numpy.array[213,214,215,216]\n",
    "print K"
   ]
  },
  {
   "cell_type": "markdown",
   "metadata": {},
   "source": [
    "<font color=blue>**iv. Fixed**:</font>"
   ]
  },
  {
   "cell_type": "code",
   "execution_count": null,
   "metadata": {
    "collapsed": false,
    "scrolled": false
   },
   "outputs": [],
   "source": []
  },
  {
   "cell_type": "markdown",
   "metadata": {},
   "source": [
    "## <font color=blue>EXERCISE 1b</font><br>\n",
    "\n",
    "<font color = blue>As you can tell from the examples above, we can put ANY values into a numpy array (and any number of values).<br>\n",
    "1. Make a new array named <font face=courier>S_planets</font> that stores the values of the solar flux at Venus (2643.0 W/m$^2$), Earth  (1366.0 W/m$^2$), and Mars  (593.0 W/m$^2$).<br>\n",
    "2. Make another new array named <font face=courier>A_planets</font> that stores the values of the albedo at Venus (0.8), Earth  (0.3), and Mars  (0.2).<br>\n",
    "3. Print the values of <font face=courier>S_planets</font> and <font face=courier>A_planets</font> along with text for each explaining which order the values are in and providing the units (look back to last week if you don't remember how to do this!).</font>"
   ]
  },
  {
   "cell_type": "markdown",
   "metadata": {},
   "source": [
    "# <font color=red>SOLUTION 1b</font>"
   ]
  },
  {
   "cell_type": "code",
   "execution_count": null,
   "metadata": {
    "collapsed": false,
    "scrolled": true
   },
   "outputs": [],
   "source": []
  },
  {
   "cell_type": "markdown",
   "metadata": {},
   "source": [
    "## Using arrays to do stuff\n",
    "\n",
    "We got to this point by wondering how we could save time doing some sort of calculation on a large number of values. In our example, we wanted to convert temperatures from Kelvin to Celsius.\n",
    "\n",
    "With numpy arrays this is incredibly easy - we can perform the same mathematical operation on a variable that stores multiple values (an array) as we would on a variable that stores only one value (like we had last week).\n",
    "\n",
    "**When you perform mathematical functions on numpy arrays, the same operation is performed on every element.** For example:"
   ]
  },
  {
   "cell_type": "code",
   "execution_count": null,
   "metadata": {
    "collapsed": false
   },
   "outputs": [],
   "source": [
    "K = numpy.array([250,275,300,325])\n",
    "print K\n",
    "print K+1   # add 1 to every element\n",
    "print K**2  # square every element\n",
    "print K/5.0 # divide every element by 5.0\n",
    "print K - K/2. # perform multiple operations on every element of C"
   ]
  },
  {
   "cell_type": "markdown",
   "metadata": {},
   "source": [
    "We can also use multiple different variables in a single calculation (as long as they are the same length). For example:"
   ]
  },
  {
   "cell_type": "code",
   "execution_count": null,
   "metadata": {
    "collapsed": false
   },
   "outputs": [],
   "source": [
    "x = numpy.array([2,38,7])\n",
    "y = numpy.array([5,0,2])\n",
    "z = numpy.array([2,2,1])\n",
    "\n",
    "print x**y + z"
   ]
  },
  {
   "cell_type": "markdown",
   "metadata": {},
   "source": [
    "Now let's solve our original problem: converting K from Kelvin to Celsius:"
   ]
  },
  {
   "cell_type": "code",
   "execution_count": null,
   "metadata": {
    "collapsed": false
   },
   "outputs": [],
   "source": [
    "K = numpy.array([250,275,300,325])\n",
    "C = K - 273.15\n",
    "\n",
    "print \"Values in Kelvin: \", K\n",
    "print \"Values in Celsius:\", C"
   ]
  },
  {
   "cell_type": "markdown",
   "metadata": {},
   "source": [
    "## <font color=blue>EXERCISE 2</font><br>\n",
    "\n",
    "<font color = blue>Last time, we calculated the effective temperatures of Venus, Earth, and Mars using a program that looked something like this:</font>\n",
    "\n",
    "```\n",
    "# Program for computing the effective temperature of a planet\n",
    "\n",
    "# Set the Boltzmann Constant, in W/m^2/K^4\n",
    "sigma = 5.67e-8\n",
    "\n",
    "# Values for solar flux, in W/m2\n",
    "S_Venus = 2643.0\n",
    "S_Earth = 1366.0\n",
    "S_Mars = 593.0\n",
    "\n",
    "# Values for albedo, unitless\n",
    "A_Venus = 0.8\n",
    "A_Earth = 0.3\n",
    "A_Mars = 0.2\n",
    "\n",
    "# Perform the calculation for each planet, Te in K\n",
    "Te_Venus = ((S_Venus/(4*sigma))*(1-A_Venus))**0.25\n",
    "Te_Earth = ((S_Earth/(4*sigma))*(1-A_Earth))**0.25\n",
    "Te_Mars  = ((S_Mars/(4*sigma))*(1-A_Mars))**0.25\n",
    "\n",
    "# Print the output\n",
    "print \"Venus: \",Te_Venus,\" K\"\n",
    "print \"Earth: \",Te_Earth,\" K\"\n",
    "print \"Mars: \",Te_Mars,\" K\"\n",
    "```"
   ]
  },
  {
   "cell_type": "markdown",
   "metadata": {},
   "source": [
    "<font color=blue>Write a modified version of this program that:<br>\n",
    "1. Uses the variables <font face=courier>**S_planets**</font> and <font face=courier>**A_planets**</font> from Exercise 1b (instead of the individual S_Venus, S_Earth, etc.)<br>\n",
    "2. Calculates the effective temperatures of all three and stores them in the variable <font face=courier>**Te_planets**</font> (this should only be one line, not three)<br>\n",
    "3. Prints the effective temperatures, specifying the order and the units (again, one line not three)</font>"
   ]
  },
  {
   "cell_type": "code",
   "execution_count": null,
   "metadata": {
    "collapsed": false
   },
   "outputs": [],
   "source": []
  },
  {
   "cell_type": "markdown",
   "metadata": {},
   "source": [
    "## The lazy person's guide to making arrays\n",
    "\n",
    "Sometimes we don't want to put in a lot of numbers by hand. For example, imagine we wanted to convert every temperature in the range 200-400K from Kelvin to Celsius. It would get pretty tedious to do this by typing values in <font face=courier>numpy.array</font>:\n",
    "```\n",
    "K = numpy.array([200, 201, 202, 203, ..., 400])\n",
    "```\n",
    "(except that insteading of ... you would have to type every single number to make this work).\n",
    "\n",
    "Remember our mantra: if it seems tedious or repetitive then there must be a better way to do it!\n",
    "\n",
    "The answer is a function that we will be using a TON: **<font face=courier>numpy.arange</font>**.\n",
    "\n",
    "As usual, let's start with an example then explain how it works:"
   ]
  },
  {
   "cell_type": "code",
   "execution_count": null,
   "metadata": {
    "collapsed": false
   },
   "outputs": [],
   "source": [
    "K = numpy.arange(200,401,1)\n",
    "print K"
   ]
  },
  {
   "cell_type": "markdown",
   "metadata": {},
   "source": [
    "Wow! That was so much easier then typing 100 different numbers and hoping you didn't make a mistake!\n",
    "\n",
    "Let's take a closer look at the syntax, and how it is different from <font face=courier>numpy.array</font>.\n",
    "\n",
    "```\n",
    "K = numpy.arange(200,401,1)\n",
    "```\n",
    "\n",
    "The first thing to be careful of is spelling: before, we were using **<font face=courier>array</font>** (double r), whereas this function is **<font face=courier>arange</font>** (single r). The best way to remember this is that you are trying to create A RANGE of numbers.\n",
    "\n",
    "Next notice the brackets. In this case, we just need one set of normal brackets **( )**. *In fact, as we'll cover next week, most of the time you use a function in Python you only need normal brackets - numpy.array is a little special.*\n",
    "\n",
    "Finally we have a few numbers inside those brackets. In our example:\n",
    "- 200 is the first value of our array, which we'll call **<font face=courier>start</font>**\n",
    "- 401 is the final value of our array **plus one**, which we'll call **<font face=courier>stop</font>**\n",
    "- 1 is how much bigger each value in our array is than the previous value, which we'll call **<font face=courier>step</font>**.\n",
    "\n",
    "The general way to use <font face=courier>numpy.arange</font> is:\n",
    "```\n",
    "variable = numpy.arange(start, stop, step)\n",
    "```\n",
    "\n",
    "**Be careful with <font face=courier>stop</font>**. As you can see in our example, we wanted the last value to be 400, so we had to use <font face=courier>stop</font>=401. **Always make <font face=courier>stop</font> larger than your your final value.**"
   ]
  },
  {
   "cell_type": "markdown",
   "metadata": {},
   "source": [
    "## <font color=blue>EXERCISE 3a</font><br>\n",
    "\n",
    "<font color = blue>To familiarise yourself with <font face=courier>numpy.arange</font>, first play around with the following examples. Make sure you understand what happens when you change start, stop, or step.<br><br>\n",
    "\n",
    "Can you change ONE parameter in each of them to end up printing\n",
    "```\n",
    "[1  3  5  7  9]\n",
    "```\n",
    "?</font>"
   ]
  },
  {
   "cell_type": "raw",
   "metadata": {},
   "source": [
    "x1 = numpy.arange(1,21,2)"
   ]
  },
  {
   "cell_type": "code",
   "execution_count": null,
   "metadata": {
    "collapsed": false
   },
   "outputs": [],
   "source": [
    "# Play around with this version\n",
    "x1 = numpy.arange(1,21,2)\n",
    "print x1"
   ]
  },
  {
   "cell_type": "raw",
   "metadata": {},
   "source": [
    "x2 = numpy.arange(1,10,4)"
   ]
  },
  {
   "cell_type": "code",
   "execution_count": null,
   "metadata": {
    "collapsed": false
   },
   "outputs": [],
   "source": [
    "# Play around with this version\n",
    "x2 = numpy.arange(1,10,4)\n",
    "print x2"
   ]
  },
  {
   "cell_type": "raw",
   "metadata": {},
   "source": [
    "x3 = numpy.arange(0,10,2)"
   ]
  },
  {
   "cell_type": "code",
   "execution_count": null,
   "metadata": {
    "collapsed": false
   },
   "outputs": [],
   "source": [
    "# Play around with this version\n",
    "x3 = numpy.arange(0,10,2)\n",
    "print x3"
   ]
  },
  {
   "cell_type": "markdown",
   "metadata": {},
   "source": [
    "## <font color=blue>EXERCISE 3b</font><br>\n",
    "\n",
    "<font color = blue>Use <font face=courier>numpy.arange</font> to print:<br>\n",
    "1. multiples of 5 from 25 to 50 (inclusive)<br>\n",
    "2. value of 0 to 1 in intervals of 0.1 (**hint**: ```step``` can be a number smaller than 1!</font>"
   ]
  },
  {
   "cell_type": "code",
   "execution_count": null,
   "metadata": {
    "collapsed": false
   },
   "outputs": [],
   "source": []
  },
  {
   "cell_type": "markdown",
   "metadata": {},
   "source": [
    "<font color=purple>\n",
    "Remember, **purple** means extra stuff -- just do this if you have the time and want to learn more.<br><br>\n",
    "\n",
    "**Handy hint:** <font face=courier>numpy.arange</font> has a couple of default values to make life easier for you:<br>\n",
    "- If you don't specify <font face=\"courier\">step</font>, Python will always assume it is 1.<br>\n",
    "- If you **also** don't specify <font face=\"courier\">start</font>, Python will assume it is 0.<br><br>\n",
    "\n",
    "Note that you can't specify only <font face=\"courier\">stop</font> and <font face=\"courier\">step</font> because python will assume you mean <font face=\"courier\">start</font> and <font face=\"courier\">stop</font>.<br><br>\n",
    "\n",
    "You must **always** specify <font face=\"courier\">stop</font>.<br><br>\n",
    "\n",
    "Here are a few examples to play with:</font>"
   ]
  },
  {
   "cell_type": "code",
   "execution_count": null,
   "metadata": {
    "collapsed": false
   },
   "outputs": [],
   "source": [
    "# with only one value, Python assumes start=0 and step=1\n",
    "print numpy.arange(11)\n",
    "\n",
    "# with only two values, Python assumes step=1\n",
    "print numpy.arange(1,11) \n",
    "\n",
    "# doesn't work if you try to only include stop and step because Python assumes this is start and stop\n",
    "# but it is impossible to start at 11 and stop at 2!\n",
    "print numpy.arange(11,2) "
   ]
  },
  {
   "cell_type": "markdown",
   "metadata": {},
   "source": [
    "## Help! Get me out of here!\n",
    "\n",
    "It's great to be able to keep all our values in one place, especially if we're doing some sort of calculation with them. But at the end of the day, sometimes we might want to extract just one value from our big array.\n",
    "\n",
    "Luckily, this is easy to do using its ***index***.\n",
    "\n",
    "Let's go back to our temperature example one more time:"
   ]
  },
  {
   "cell_type": "code",
   "execution_count": null,
   "metadata": {
    "collapsed": false
   },
   "outputs": [],
   "source": [
    "K = numpy.array([250,275,300,325])\n",
    "C = K - 273.15\n",
    "\n",
    "print \"Values in Kelvin: \", K\n",
    "print \"Values in Celsius:\", C"
   ]
  },
  {
   "cell_type": "markdown",
   "metadata": {},
   "source": [
    "Maybe this time I just want to print the 3rd value of C (in other words, the value of C when K=300). This is how I'd do it:"
   ]
  },
  {
   "cell_type": "code",
   "execution_count": null,
   "metadata": {
    "collapsed": false
   },
   "outputs": [],
   "source": [
    "print \"Value in Celsius when K=300:\", C[2]"
   ]
  },
  {
   "cell_type": "markdown",
   "metadata": {},
   "source": [
    "What's going on here? If we want the 3rd value, shouldn't there be a 3 somewhere? Nope! Here's why:\n",
    "\n",
    "**In Python, counting starts at 0!** That means the 1st value has index=0, the 2nd value has index=1, the 3rd value has index=2, and so on.\n",
    "\n",
    "We can verify this by printing all the values of K, first together and then separately:"
   ]
  },
  {
   "cell_type": "code",
   "execution_count": null,
   "metadata": {
    "collapsed": false
   },
   "outputs": [],
   "source": [
    "print K\n",
    "print K[0]\n",
    "print K[1]\n",
    "print K[2]\n",
    "print K[3]"
   ]
  },
  {
   "cell_type": "markdown",
   "metadata": {},
   "source": [
    "The general syntax for pulling out one element is:\n",
    "```\n",
    "array_name[index]\n",
    "```\n",
    "where <font face=courier>array_name</font> is whatever you have called your array, and <font face=courier>index</font> is the number of the value you want.\n",
    "\n",
    "Note that when we are pulling out one element we use square brackets **[ ]**."
   ]
  },
  {
   "cell_type": "markdown",
   "metadata": {},
   "source": [
    "## <font color=blue>EXERCISE 4a</font><br>\n",
    "\n",
    "<font color=blue>\n",
    "1. Define the following array:<br>\n",
    "```\n",
    "pi_values = [3 1 4 1 5 9]\n",
    "```\n",
    "**Hint**: use <font face=courier>numpy.array</font>, not <font face=courier>numpy.arange</font>.<br><br>\n",
    "\n",
    "2. Use the appropriate index of pi_values to print the value **4**."
   ]
  },
  {
   "cell_type": "code",
   "execution_count": null,
   "metadata": {
    "collapsed": false
   },
   "outputs": [],
   "source": []
  },
  {
   "cell_type": "markdown",
   "metadata": {},
   "source": [
    "### out of bounds!\n",
    "\n",
    "What happens if you try to use an index that doesn't exist? Let's see!"
   ]
  },
  {
   "cell_type": "code",
   "execution_count": null,
   "metadata": {
    "collapsed": false
   },
   "outputs": [],
   "source": [
    "print K[4]"
   ]
  },
  {
   "cell_type": "markdown",
   "metadata": {},
   "source": [
    "Oops! That didn't work! But at least Python gave us a very helpful error:\n",
    "```\n",
    "IndexError: index 4 is out of bounds for axis 0 with size 4\n",
    "```\n",
    "\n",
    "*Translated to English*: you asked for the value with index=4, but your array only has 4 values (meaning the last one has index=3), so I can't give you a value!\n",
    "\n",
    "If you see that one, it means you tried to pull out an value that doesn't exist!"
   ]
  },
  {
   "cell_type": "markdown",
   "metadata": {},
   "source": [
    "### going negative\n",
    "\n",
    "Python also allows us to pull out a value using a ***negative index***. Negative indices start at the *end* of the list and work backwards. In other words, -1 is the index for the last element, -2 is the index for the second-to-last element, etc. For example:"
   ]
  },
  {
   "cell_type": "code",
   "execution_count": null,
   "metadata": {
    "collapsed": false
   },
   "outputs": [],
   "source": [
    "print K[-1]   # -1 is the last value\n",
    "print K[-2]   # -2 is the second to last value\n",
    "print K[-3]   # etc."
   ]
  },
  {
   "cell_type": "markdown",
   "metadata": {},
   "source": [
    "## <font color=blue>EXERCISE 4b</font><br>\n",
    "\n",
    "<font color=blue>Now use ***negative*** indexing of <font face=courier>pi_values</font> to print the value **4**.</font>"
   ]
  },
  {
   "cell_type": "code",
   "execution_count": null,
   "metadata": {
    "collapsed": false
   },
   "outputs": [],
   "source": []
  },
  {
   "cell_type": "markdown",
   "metadata": {},
   "source": [
    "### taking a few at once\n",
    "\n",
    "Sometimes we want to extract a few values at once. As always, there is an easy way to do this. It's called ***slicing***. Let's use it to grab the first two elements of K:"
   ]
  },
  {
   "cell_type": "code",
   "execution_count": null,
   "metadata": {
    "collapsed": false
   },
   "outputs": [],
   "source": [
    "print K[0:2]"
   ]
  },
  {
   "cell_type": "markdown",
   "metadata": {},
   "source": [
    "This might look a little funny. If we wanted to print them one at a time, we would have specified ```K[0]``` (1st element of K, index=0) and ```K[1]``` (2nd element of K, index=2). But when we used slicing, we had to specify 0:**2**.\n",
    "\n",
    "Where did the 2 come from?\n",
    "\n",
    "This is a counterintuitive feature of Python: when a range of indices is specified, it means \"go up to but don't include\" the last value. This is something to watch out for! The general syntax is:\n",
    "```\n",
    "array_name[start:stop]\n",
    "```\n",
    "\n",
    "Just like with ```numpy.arange```, ```stop``` should be **one more than** the last index you want.\n",
    "\n",
    "We can slice an array using any combination of indices we like. Play around with the examples below to get more comfortable with array indexing and slicing:"
   ]
  },
  {
   "cell_type": "code",
   "execution_count": null,
   "metadata": {
    "collapsed": false
   },
   "outputs": [],
   "source": [
    "print K       # print all the values of K, so we remember what it looks like.\n",
    "print K[0:3]  # print elements 0,1,2\n",
    "print K[2:4]  # print element 2,3\n",
    "print K[1:-1] # print all elements starting from 1 and going up to the second-to-last"
   ]
  },
  {
   "cell_type": "markdown",
   "metadata": {},
   "source": [
    "<font color=purple>**Handy hints**:<br>\n",
    "If we leave out the first number (<font face=\"courier\">start</font>), it will automatically start at the beginning (index=0):</font>"
   ]
  },
  {
   "cell_type": "code",
   "execution_count": null,
   "metadata": {
    "collapsed": false
   },
   "outputs": [],
   "source": [
    "print K[:3]"
   ]
  },
  {
   "cell_type": "markdown",
   "metadata": {},
   "source": [
    "<font color=purple>If we leave out the second number (<font face=\"courier\">stop</font>), it will automatically go to the end:</font>"
   ]
  },
  {
   "cell_type": "code",
   "execution_count": null,
   "metadata": {
    "collapsed": false
   },
   "outputs": [],
   "source": [
    "print K[1:]"
   ]
  },
  {
   "cell_type": "markdown",
   "metadata": {},
   "source": [
    "<font color=purple>If we leave out both, we get the whole list:</font>"
   ]
  },
  {
   "cell_type": "code",
   "execution_count": null,
   "metadata": {
    "collapsed": false
   },
   "outputs": [],
   "source": [
    "print K[:]"
   ]
  },
  {
   "cell_type": "markdown",
   "metadata": {},
   "source": [
    "## <font color=blue>EXERCISE 4c</font><br>\n",
    "\n",
    "<font color=blue>Now use list ***slicing*** of <font face=courier>pi_values</font> to print the values **1, 4, 1, 5**.</font><br><br>\n",
    "\n",
    "<font color=purple>Need an extra challenge? Find TWO DIFFERENT ways to do this.</font>"
   ]
  },
  {
   "cell_type": "code",
   "execution_count": null,
   "metadata": {
    "collapsed": false
   },
   "outputs": [],
   "source": []
  },
  {
   "cell_type": "markdown",
   "metadata": {},
   "source": [
    "### how big is it?\n",
    "\n",
    "Finding the total number of values in an array - called the array's ***length*** - is really easy in Python:"
   ]
  },
  {
   "cell_type": "code",
   "execution_count": null,
   "metadata": {
    "collapsed": false
   },
   "outputs": [],
   "source": [
    "print len(K)"
   ]
  },
  {
   "cell_type": "markdown",
   "metadata": {},
   "source": [
    "This can come in handy when we have a really big array. For example:"
   ]
  },
  {
   "cell_type": "code",
   "execution_count": null,
   "metadata": {
    "collapsed": false
   },
   "outputs": [],
   "source": [
    "x = numpy.arange(33,1054,3)\n",
    "print len(x)"
   ]
  },
  {
   "cell_type": "markdown",
   "metadata": {},
   "source": [
    "## <font color=blue>EXERCISE 4d</font><br>\n",
    "<font color=blue>Use <font face=courier>len</font> to find and print the number of elements in <font face=courier>pi_values</font>.</font>"
   ]
  },
  {
   "cell_type": "code",
   "execution_count": null,
   "metadata": {
    "collapsed": false
   },
   "outputs": [],
   "source": []
  },
  {
   "cell_type": "markdown",
   "metadata": {},
   "source": [
    "## Plotting variables\n",
    "\n",
    "Now that we have know how to store a large number of values in a single variable (numpy arrays) and how to perform calculations with them, it's time to plot them! Plots are usually much better for interpreting behaviour than lists of numbers.\n",
    "\n",
    "For now, we'll just worry about the basics, but in future pracs we will delve into how to make our plots beautiful.\n",
    "\n",
    "We are going to use a special package called **pyplot** that is part of the **matplotlib** module. We first need to import it:"
   ]
  },
  {
   "cell_type": "code",
   "execution_count": null,
   "metadata": {
    "collapsed": false
   },
   "outputs": [],
   "source": [
    "import matplotlib.pyplot as pyplot"
   ]
  },
  {
   "cell_type": "markdown",
   "metadata": {},
   "source": [
    "<font color=purple>If you're paying attention, you might have noticed that this looks a little bit different from before. The addition of **<font face=courier>as pyplot</font>** is just a little shortcut. This means every time we want to use a function from pyplot, we don't have to type \"matplotlib.pyplot.function\"; we can simply type \"pyplot.function\".</font>\n",
    "\n",
    "Before we can get going, we need a little bit of magic -- because we are using Jupyter notebook, we want the plots to appear in the notebook, rather than popping up as separate windows. To do that, we use this command:"
   ]
  },
  {
   "cell_type": "code",
   "execution_count": null,
   "metadata": {
    "collapsed": false
   },
   "outputs": [],
   "source": [
    "% matplotlib inline"
   ]
  },
  {
   "cell_type": "markdown",
   "metadata": {},
   "source": [
    "Like import, this line only needs to be executed once at the start of any notebook / session.<br><br>\n",
    "\n",
    "<font color=purple>The <font face=courier>%</font> is something called an iPython magic function, and it only works in the notebook environment.</font>\n",
    "\n",
    "Using pyplot, it's now very easy to make a basic plot! Let's go back to our example of converting every temperature in the range 200-400K from Kelvin to Celsius."
   ]
  },
  {
   "cell_type": "code",
   "execution_count": null,
   "metadata": {
    "collapsed": false
   },
   "outputs": [],
   "source": [
    "K = numpy.arange(200,401,1)\n",
    "C = K - 273.15"
   ]
  },
  {
   "cell_type": "markdown",
   "metadata": {},
   "source": [
    "Instead of printing the values of C, we will plot them versus K:"
   ]
  },
  {
   "cell_type": "code",
   "execution_count": null,
   "metadata": {
    "collapsed": false
   },
   "outputs": [],
   "source": [
    "pyplot.plot(K,C)\n",
    "pyplot.show()"
   ]
  },
  {
   "cell_type": "markdown",
   "metadata": {},
   "source": [
    "The syntax for basic plotting is simple:\n",
    "```\n",
    "import matplotlib.pyplot as pyplot      # once per notebook\n",
    "% matplotlib inline                     # once per notebook\n",
    "pyplot.plot(x_variable,y_variable)\n",
    "pyplot.show()\n",
    "```\n",
    "In the command ```pyplot.plot(x_variable,y_variable)```, ```x_variable``` is the independent variable (plotted on the x-axis) and ```y_variable``` is the dependent variable (plotted on the y-axis).\n",
    "\n",
    "```pyplot.show()``` is always called at the end of the plotting commands, and it tells python to actually show us the plot."
   ]
  },
  {
   "cell_type": "markdown",
   "metadata": {},
   "source": [
    "### labels and titles\n",
    "\n",
    "You have probably learned by now that plots should **always** have **axes labels** and **titles**. These are very easy to add:"
   ]
  },
  {
   "cell_type": "code",
   "execution_count": null,
   "metadata": {
    "collapsed": false
   },
   "outputs": [],
   "source": [
    "pyplot.plot(K,C)\n",
    "pyplot.xlabel('Temperature in Kelvin')\n",
    "pyplot.ylabel('Temperature in Celsius')\n",
    "pyplot.title('Relationship between Kelvin and Celsius')\n",
    "pyplot.show()"
   ]
  },
  {
   "cell_type": "markdown",
   "metadata": {},
   "source": [
    "## <font color=blue>EXERCISE 5: BRINGING IT ALL TOGETHER</font><br>\n",
    "\n",
    "<font color=blue>This final exercise is designed to give you a chance to practice everything you have learned so far today (and last week). Make sure to spend time thinking about what your answers **mean**.\n",
    "\n",
    "This week, we'll start developing an understanding of Daisyworld, a fictional planet that provides a great framework for understanding interconnections between life and climate. The Daisyworld climate system is described in detail in Chapter 2 of the textbook. Briefly, Daisyworld is a very simple planet with only one species of life on its surface: pure white daisies. The rest of the planet is covered by gray soil. The daisies receive energy from the sun and nutrients from the soil. The atmosphere has no clouds or greenhouse gases.<br><br>\n",
    "\n",
    "At any given time, daisies can cover anything between 0% and 100% of the surface of the planet. The rest of the planet is covered by soil.\n",
    "\n",
    "Today, we are going to determine how the temperature of the planet changes with the fraction of the planet covered by flowers.\n",
    "\n",
    "### EXERCISE 5a\n",
    "\n",
    "First we will define arrays that represent the possible values for the fraction of the planet covered by flowers and the fraction covered by soil.\n",
    "\n",
    "**For this exercise:**\n",
    "1. Define an array that represents the fraction of the planet covered by flowers, ranging from 0.0 (0%) to 1.0 (100%) in steps of 0.1\n",
    "2. Using that array, define a new array that represents the fraction of the planet covered by soil.\n",
    "3. Print the values of both arrays.\n",
    "\n",
    "**Hint:** Any part of the surface that is not covered in flowers must be covered in soil, so the fraction covered by soil is always 1 - (fraction covered by flowers).\n",
    "\n",
    "***Do not delete the <font face=courier>%reset</font> in the cell below*** (this makes sure your program isn't just \"remembering\" something you did before). Each time you run you will see the message <font face=courier>Once deleted, variables cannot be recovered. Proceed (y/[n])?</font> - ***make sure to answer y.***"
   ]
  },
  {
   "cell_type": "code",
   "execution_count": null,
   "metadata": {
    "collapsed": false
   },
   "outputs": [],
   "source": [
    "%reset\n",
    "import numpy\n",
    "import matplotlib.pyplot as pyplot\n",
    "% matplotlib inline\n",
    "\n",
    "# Start your program here\n"
   ]
  },
  {
   "cell_type": "markdown",
   "metadata": {},
   "source": [
    "### <font color=blue>EXERCISE 5b</font>\n",
    "\n",
    "<font color=blue>Now we will work out the **albedo** of Daisyworld. *Remember that albedo is the fraction of incoming energy that is reflected.*\n",
    "\n",
    "On Daisyworld: \n",
    "* flowers have an albedo of 0.75\n",
    "* soil has an albedo of 0.4\n",
    "\n",
    "The overall albedo of the planet depends on how much of the planet is covered by flowers, and how much by bare soil. For example:\n",
    "* If 100% of the planet is bare soil, the planetary albedo would be $0.4$\n",
    "* If 100% of the planet is flowers, the planetary albedo would be $0.75$\n",
    "* If 50% of the planet is bare soil and 50% is flowers, the planetary albedo would be $0.5\\times0.4+0.5\\times0.75=0.58$\n",
    "* If 25% of the planet is bare soil and 75% is flowers, the planetary albedo would be $0.25\\times0.4+0.75\\times0.75=0.66$\n",
    "* etc.\n",
    "\n",
    "**For this exercise:**\n",
    "1. Use the arrays you created in Exercise 5a to define a new array that calculates the albedo of the planet.\n",
    "2. Print the values of the new array.\n",
    "\n",
    "**Hint:** Before you try to write your program, use paper and pencil to write out the equation for albedo. Look at the examples above to help you here."
   ]
  },
  {
   "cell_type": "code",
   "execution_count": null,
   "metadata": {
    "collapsed": false
   },
   "outputs": [],
   "source": []
  },
  {
   "cell_type": "markdown",
   "metadata": {},
   "source": [
    "### <font color=blue>EXERCISE 5c</font>\n",
    "\n",
    "<font color=blue>Remember from the lectures and the last practical (also Chapter 3 in the textbook) that the temperature of a planet without an atmosphere is called the *effective temperature* of a planet ($T_e$, in Kelvin) and can be calculated from the formula:\n",
    "$$T_e = \\left [\\dfrac{S}{4\\sigma}*(1-A) \\right ]^{0.25}$$\n",
    "\n",
    "where:\n",
    "\n",
    "* $\\sigma$ is the Stefan-Boltzmann constant, equal to $5.67\\cdot 10^{-8}$ W/m$^2$/K$^4$\n",
    "* S is the solar flux reaching the surface of the planet, in W/m$^2$\n",
    "* A is the albedo.\n",
    "\n",
    "On Daisyworld:\n",
    "* the solar flux is 3700 W/m$^2$.\n",
    "\n",
    "**For this exercise**:\n",
    "1. Use the albedo array you created in Exercise 5b to define a new array for the effective temperature of the Daisyworld.\n",
    "2. **Plot** effective temperature as a function of the fraction of the planet covered by flowers (effective temperature should be on the y-axis).\n",
    "\n",
    "**Hint 1:** You may want to copy your solution from last week's practical to make this easier - just remember to update the solar flux!<br>\n",
    "**Hint 2:** Make sure your plot has a title and axes labels."
   ]
  },
  {
   "cell_type": "code",
   "execution_count": null,
   "metadata": {
    "collapsed": false,
    "scrolled": true
   },
   "outputs": [],
   "source": []
  },
  {
   "cell_type": "markdown",
   "metadata": {},
   "source": [
    "### <font color=blue>EXERCISE 5d</font>\n",
    "\n",
    "<font color=blue>Think about the behaviour you see in the plot above, and answer the following questions as comments in the next box:\n",
    "1. How does the temperature of a planet change as the number of flowers increases? Why?\n",
    "2. Imagine Daisyworld was completely covered by flowers until a plague struck, killing off all the flowers. Would the planet warm up or cool down?\n",
    "3. What if the flowers on Daisyworld were pure black instead of pure white? Would you see the same relationship between flower coverage and temperature? Why or why not?"
   ]
  },
  {
   "cell_type": "code",
   "execution_count": null,
   "metadata": {
    "collapsed": false
   },
   "outputs": [],
   "source": []
  },
  {
   "cell_type": "markdown",
   "metadata": {},
   "source": [
    "## <font color=purple>Locating values with NumPy</font><br>\n",
    "\n",
    "### <font color=purple>finding extremes</font><br>\n",
    "\n",
    "<font color=purple>Sometimes we want to figure out the extreme values (e.g., minimum and maximum) of a given array. Take for example the annual mean distribution of incoming solar energy at the top of the atmosphere ($F$) as a function of latitude ($\\lambda$), which can be roughly calculated as:<br><br>\n",
    "$$F(\\lambda)=\\frac{90}{4}\\left (5-3sin\\left (\\lambda\\cdot\\frac{\\pi}{180}\\right )^2\\right )$$<br><br>\n",
    "\n",
    "We might want to know the minimum and maximum values of the solar energy. We could start by implementing this equation in Python and plotting the values:</font>"
   ]
  },
  {
   "cell_type": "code",
   "execution_count": null,
   "metadata": {
    "collapsed": false
   },
   "outputs": [],
   "source": [
    "# math is just another package that stores useful things, like pi\n",
    "from math import pi\n",
    "\n",
    "# function to calculate F for each latitude\n",
    "def incoming_flux(latitude):\n",
    "    flux = 90.*0.25 * (5 - 3*(numpy.sin(latitude*pi/180.))**2)\n",
    "    return flux\n",
    "\n",
    "# array of latitudes\n",
    "lat=numpy.arange(-90,91,1)\n",
    "\n",
    "# calculate F\n",
    "F = incoming_flux(lat)\n",
    "\n",
    "# make the plot\n",
    "pyplot.plot(lat,F)\n",
    "pyplot.xlabel('latitude')\n",
    "pyplot.ylabel('Flux (W/m2)')\n",
    "pyplot.title('Solar flux as a function of latitude')\n",
    "pyplot.show()"
   ]
  },
  {
   "cell_type": "markdown",
   "metadata": {},
   "source": [
    "<font color=purple>From here, we could try to read the values from the graph (or we could print them out): the maximum is ~112, and the minimum is ~45.0.<br><br>\n",
    "\n",
    "But this is Python -- there must be a more sensible solution.<br><br>\n",
    "\n",
    "To find extremes (minimum and maximum), numpy has two very useful functions: <font face=courier>numpy.min()</font> and <font face=courier>numpy.max()</font>. These work exactly as you would expect them to:</font>"
   ]
  },
  {
   "cell_type": "code",
   "execution_count": null,
   "metadata": {
    "collapsed": false
   },
   "outputs": [],
   "source": [
    "minval = numpy.min(F)\n",
    "maxval = numpy.max(F)\n",
    "print \"The minimum value of F is \",minval\n",
    "print \"The maximum value of F is \",maxval"
   ]
  },
  {
   "cell_type": "markdown",
   "metadata": {},
   "source": [
    "<font color=purple>We can also figure out exactly where those values occur using the related functions <font face=courier>numpy.argmin()</font> and <font face=courier>numpy.argmax()</font>. These will give as output the ***index*** associated with the minimum or maximum value. For example:</font>"
   ]
  },
  {
   "cell_type": "code",
   "execution_count": null,
   "metadata": {
    "collapsed": false
   },
   "outputs": [],
   "source": [
    "maxloc = numpy.argmax(F)\n",
    "print \"The maximum value of F occurs at \",maxloc"
   ]
  },
  {
   "cell_type": "markdown",
   "metadata": {},
   "source": [
    "<font color=purple>While this information might not seem that useful on its own, it can be really useful when we want to know about related arrays. For example, what we might really be interested in is the *latitude* when the flux is at its maximum. For that we can use <font face=courier>numpy.argmax()</font> to first find the index, then use that index to pull out the associated element from the latitude array:</font>"
   ]
  },
  {
   "cell_type": "code",
   "execution_count": null,
   "metadata": {
    "collapsed": false
   },
   "outputs": [],
   "source": [
    "maxloc = numpy.argmax(F)\n",
    "maxlat = lat[maxloc]\n",
    "print \"The maximum value of F occurs at latitude \",maxlat,\" degrees\""
   ]
  },
  {
   "cell_type": "markdown",
   "metadata": {},
   "source": [
    "<font color=purple>We could do the same thing for the minimum F values:</font>"
   ]
  },
  {
   "cell_type": "code",
   "execution_count": null,
   "metadata": {
    "collapsed": false
   },
   "outputs": [],
   "source": [
    "minloc = numpy.argmin(F)\n",
    "minlat = lat[minloc]\n",
    "print \"The minimum value of F occurs at latitude \",minlat,\" degrees\""
   ]
  },
  {
   "cell_type": "markdown",
   "metadata": {},
   "source": [
    "<font color=purple>There's a problem! If we look back at the graph or our table of values, we will see that the statement above is true, but that the minimum value **also** occurs at latitude +90.0 degrees.<br><br>\n",
    "\n",
    "**<font face=courier>numpy.argmin()</font> and <font face=courier>numpy.argmax()</font> will only report the FIRST instance of an extreme value.** To find **all** the places where an array hits an extreme value (or really, any value) we need to use a few other tricks, which we will get to next time.</font>"
   ]
  },
  {
   "cell_type": "markdown",
   "metadata": {},
   "source": [
    "## <font color=purple>EXERCISE 6 (extra)</font>\n",
    "\n",
    "<font color=purple>Use the results from Exercise 5, combined with numpy functions, to find the maximum and minimum values of albedo and effective temperature, and the corresponding fraction of flowers."
   ]
  },
  {
   "cell_type": "code",
   "execution_count": null,
   "metadata": {
    "collapsed": false
   },
   "outputs": [],
   "source": []
  }
 ],
 "metadata": {
  "anaconda-cloud": {},
  "kernelspec": {
   "display_name": "Python [default]",
   "language": "python",
   "name": "python2"
  },
  "language_info": {
   "codemirror_mode": {
    "name": "ipython",
    "version": 2
   },
   "file_extension": ".py",
   "mimetype": "text/x-python",
   "name": "python",
   "nbconvert_exporter": "python",
   "pygments_lexer": "ipython2",
   "version": "2.7.12"
  }
 },
 "nbformat": 4,
 "nbformat_minor": 0
}
