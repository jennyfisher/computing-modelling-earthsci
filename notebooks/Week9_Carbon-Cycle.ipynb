{
 "cells": [
  {
   "cell_type": "markdown",
   "metadata": {},
   "source": [
    "# Global atmosphere-ocean carbon cycle\n",
    "\n",
    "As in previous practicals, many of the details and parameters from this lab come from the STELLA version at: http://globalchange.umich.edu/globalchange1/current/labs/Lab12_GlobalCarbon/Carbon.htm\n",
    "\n",
    "This week we are finally going to connect some of the Earth's spheres! Our framework here is the short-term global carbon cycle. Our goal is to model changes in atmospheric carbon since 1958, when observational records began at Mauna Loa in Hawaii -- and then compare them to observations.\n",
    "\n",
    "This time you get to build much of the model yourselves. The information below will tell you all you need to know about the reservoirs and fluxes to include in your model. All reservoir sizes are in Gigatons of Carbon (Gt C), and all fluxes are in Gt C/yr.\n",
    "\n",
    "**Hints:**\n",
    "1. Start by drawing a diagram! This will make it much easier to determine which fluxes are inputs/outputs to which reservoirs.\n",
    "2. Use what you have done in previous weeks! You should basically never have to write a program from a completely blank page. Much of the code you need exists in your previous models."
   ]
  },
  {
   "cell_type": "markdown",
   "metadata": {},
   "source": [
    "## Fluxes and reservoirs\n",
    "\n",
    "### Fluxes of carbon INTO the atmosphere are:\n",
    "- Land plant and soil respiration and deforestation: 121.8 Gt C/yr\n",
    "- Fossil fuel combustion (average value):  5.0 Gt C/yr\n",
    "\n",
    "### Fluxes of carbon OUT OF the atmosphere are:\n",
    "- Land plant photosynthesis and soil uptake: 120.0 Gt C/yr\n",
    "- Uptake by the surface ocean (depends on the amount of carbon in the atmosphere and ocean)\\*\n",
    "\n",
    "\\* The flux between the atmosphere and the ocean is a somewhat complicated function. This has been done for you in the code below.\n",
    "\n",
    "### Fluxes of carbon INTO the surface ocean are:\n",
    "- Net upwelling from the deep ocean (and some from rivers): 10.0 Gt C/yr\n",
    "- Uptake from the atmosphere (depends on the amount of carbon in the atmosphere and ocean)\\*\n",
    "\n",
    "\\* The flux between the atmosphere and the ocean is a somewhat complicated function. This has been done for you in the code below.\n",
    "\n",
    "### Fluxes of carbon OUT OF the surface ocean are:\n",
    "- Net downwelling and sinking biota: 10.0 Gt C/yr\n",
    "\n",
    "\n",
    "### Initial conditions:\n",
    "We are assuming initial conditions representative of 1958:\n",
    "- Atmosphere:        720.0 Gt C\n",
    "- Ocean:             842.0 Gt C"
   ]
  },
  {
   "cell_type": "markdown",
   "metadata": {},
   "source": [
    "## <font color=blue>EXERCISE 1a</font><br>\n",
    "\n",
    "<font color=blue>Using the framework below, construct a model that tracks the amount of carbon in both the ocean and the atmosphere reservoirs over time.<br><br>\n",
    "\n",
    "**Hint:** Don't forget to add the `Atmos_to_Ocean` term in the fluxes below. Is it a flux INTO or OUT of the atmosphere? What about INTO or OUT of the ocean?</font>"
   ]
  },
  {
   "cell_type": "code",
   "execution_count": null,
   "metadata": {
    "collapsed": true
   },
   "outputs": [],
   "source": [
    "import numpy\n",
    "import matplotlib.pyplot as pyplot\n",
    "% matplotlib inline\n",
    "\n",
    "def carbon_cycle(Total_Years):\n",
    "    \n",
    "    # Set up time array\n",
    "    # We are going to use an elapsed_time of much less than 1 year here\n",
    "    #   so that we can look at seasonal variation\n",
    "    elapsed_time=0.05\n",
    "    time = numpy.arange(0,Total_Years,step=elapsed_time)\n",
    "    \n",
    "    # Our start time (time=0) is actually the year 1958. So we will\n",
    "    # have a separate array, called year, that contains the real year\n",
    "    # of the simulation.\n",
    "    year = time + 1958\n",
    "\n",
    "    # Set up reservoir arrays\n",
    "    Atmos = numpy.zeros(len(time))\n",
    "    Ocean = numpy.zeros(len(time))\n",
    "    \n",
    "    # Define initial conditions (Gt C) for the atmosphere and ocean\n",
    "    ????\n",
    "    \n",
    "    \n",
    "    # Loop over full time period, starting from i=1\n",
    "    for i in range(1,len(time)):\n",
    "        \n",
    "        # We need to calculate the flux from the atmosphere to the ocean\n",
    "        Atmos_to_Ocean = -1.24 + 0.0022*Atmos[i-1]\n",
    "\n",
    "        # Now we can calculate the flow into and out of both reservoirs\n",
    "        # What fluxes go INTO the atmosphere? OUT of the atmosphere?\n",
    "        # What are the units?\n",
    "        Flow_In_Atmos  = ????\n",
    "        Flow_Out_Atmos = ????\n",
    "     \n",
    "        # What fluxes go INTO the ocean? OUT of the ocean?\n",
    "        # What are the units??    \n",
    "        Flow_In_Ocean = ????\n",
    "        Flow_Out_Ocean = ????\n",
    "\n",
    "        # For each resevoir, amount is amount in previous step, plus inputs minus outputs\n",
    "        Atmos[i] = Atmos[i-1] + elapsed_time*(Flow_In_Atmos - Flow_Out_Atmos)\n",
    "        Ocean[i] = Ocean[i-1] + elapsed_time*(Flow_In_Ocean - Flow_Out_Ocean)\n",
    "        \n",
    "    # Return year and all reservoir values\n",
    "    return year,Atmos,Ocean"
   ]
  },
  {
   "cell_type": "markdown",
   "metadata": {},
   "source": [
    "## <font color=blue>EXERCISE 1b</font><br>\n",
    "\n",
    "<font color=blue>Run the model for 57 years (i.e. from 1958-2015) and plot the amount of carbon in each reservoir as a function of time. Use `xlim` to limit your x-axis to only show 1958-2015.</font>"
   ]
  },
  {
   "cell_type": "code",
   "execution_count": null,
   "metadata": {
    "collapsed": false
   },
   "outputs": [],
   "source": [
    "# Run the model for 57 years (1958-2016) and plot the result\n",
    "\n",
    "\n"
   ]
  },
  {
   "cell_type": "markdown",
   "metadata": {},
   "source": [
    "## <font color=blue>EXERCISE 1c</font><br>\n",
    "<font color=blue>Which reservoirs show increasing carbon? Where does the extra carbon come from? Should we be concerned?</font>"
   ]
  },
  {
   "cell_type": "code",
   "execution_count": null,
   "metadata": {
    "collapsed": true
   },
   "outputs": [],
   "source": [
    "# Answer the questions here\n",
    "\n",
    "\n"
   ]
  },
  {
   "cell_type": "markdown",
   "metadata": {},
   "source": [
    "## <font color=blue>Exercise 2: Comparing to Observations</font><br>\n",
    "\n",
    "<font color=blue>The figure below shows the longest record of observed atmospheric CO$_2$, measured at Mauna Loa Observatory in Hawaii. The data and updated versions of the figure are available online at http://www.esrl.noaa.gov/gmd/ccgg/trends/full.html\n",
    "\n",
    "![Mauna Loa CO2 Image](img/co2_data_mlo.png)\n",
    "\n",
    "To compare the model output to these data, we need to first convert the atmospheric carbon reservoir from units of Gton C to units of parts per million CO$_2$ (a relative measure that related the number of CO$_2$ molecules to the number of air molecules). To do so, we can use the following relationship for CO$_2$ at Mauna Loa (based on known values in 1958):\n",
    "\n",
    "<center>*CO2_ppm = 310 $\\times$ (Atmospheric_Carbon / 720 )*</center>"
   ]
  },
  {
   "cell_type": "markdown",
   "metadata": {},
   "source": [
    "## <font color=blue>EXERCISE 2a</font><br>\n",
    "<font color=blue>Using the relationship above, plot the modelled time series of atmospheric CO$_2$ from 1958 to 2015. Describe the main differences from the observations.<br><br>\n",
    "\n",
    "**Hint**: You don't have to change your function! Just make a new variable (based on the `Atmos` variable that is output by your model) and plot the new one.</font><br><br>\n",
    "\n",
    "<font color=purple>If you want your plot axis to show CO$_2$ rather than CO2, use 'CO\\$_2\\$'</font>"
   ]
  },
  {
   "cell_type": "code",
   "execution_count": null,
   "metadata": {
    "collapsed": false
   },
   "outputs": [],
   "source": [
    "# Convert atmospheric carbon reservoir to ppm CO2 and plot the result\n",
    "\n",
    "\n"
   ]
  },
  {
   "cell_type": "markdown",
   "metadata": {},
   "source": [
    "## <font color=blue>EXERCISE 2b</font><br>\n",
    "\n",
    "<font color=blue>Describe the main differences between your model output and the observations.</font>"
   ]
  },
  {
   "cell_type": "code",
   "execution_count": null,
   "metadata": {
    "collapsed": true
   },
   "outputs": [],
   "source": [
    "# Describe the differences here\n",
    "\n"
   ]
  },
  {
   "cell_type": "markdown",
   "metadata": {},
   "source": [
    "## <font color=blue>Exercise 3: The \"missing\" sink</font><br>\n",
    "\n",
    "<font color=blue>You should have found in the previous exercise that modelled CO$_2$ is rising faster than the observations.<br><br>\n",
    "\n",
    "Scientists have good measured constraints on the amount of CO$_2$ in the atmosphere, the inputs from fossil fuels and deforestation, the exchange with the ocean, and a reasonable understanding of photosynthesis and respiration of the terrestrial biosphere. However, combining all the known information (called a *mass balance* calculation) shows that there is a \"missing\" carbon sink of about 2.2 Gt C/yr out of the atmosphere.<br><br>\n",
    "\n",
    "It's not *really* missing, in that we are reasonably certain the excess CO$_2$ is being taken up by the terrestrial biosphere and accumulating in plants and soils. However, the processes responsible are not yet understood.</font>"
   ]
  },
  {
   "cell_type": "markdown",
   "metadata": {},
   "source": [
    "## <font color=blue>EXERCISE 3a</font><br>\n",
    "\n",
    "<font color=blue>\n",
    "1.  Copy your model from Exercise 1a here.<br>\n",
    "2. Adapt your model to include a new **input (argument)** that represents so-called \"missing sink\", with a default value of 2.2 (this is the value we think the missing sink has).<br>\n",
    "3. Think about where in your function this missing sink belongs, make the relevant change. (**Hint**: it represents a flux FROM the atmosphere to the land.)</font>"
   ]
  },
  {
   "cell_type": "code",
   "execution_count": null,
   "metadata": {
    "collapsed": true
   },
   "outputs": [],
   "source": [
    "# Copy your model here and adapt it\n",
    "\n"
   ]
  },
  {
   "cell_type": "markdown",
   "metadata": {},
   "source": [
    "## <font color=blue>EXERCISE 3b</font><br>\n",
    "\n",
    "<font color=blue>\n",
    "1. Run sensitivity simulations here to compare the 1958-2015 atmospheric CO$_2$:<br>\n",
    "- without the missing sink (i.e. with its value set to 0), and<br>\n",
    "- with the missing sink (i.e. with its value set to 2.2 Gt C/yr.<br>\n",
    "\n",
    "2. Plot the results on the same plot. Make sure you have converted the atmospheric carbon to **CO$_2$** (in ppm) for your plot!</font>"
   ]
  },
  {
   "cell_type": "code",
   "execution_count": null,
   "metadata": {
    "collapsed": false
   },
   "outputs": [],
   "source": [
    "# Run the model for 57 years (1958-2016) with and without the missing sink, and plot the result\n",
    "\n",
    "\n"
   ]
  },
  {
   "cell_type": "markdown",
   "metadata": {},
   "source": [
    "## <font color=blue>EXERCISE 3c</font><br>\n",
    "\n",
    "<font color=blue>Does the missing sink improve your model's ability to match the observations?</font>"
   ]
  },
  {
   "cell_type": "code",
   "execution_count": null,
   "metadata": {
    "collapsed": true
   },
   "outputs": [],
   "source": [
    "# Answer the question here"
   ]
  },
  {
   "cell_type": "markdown",
   "metadata": {},
   "source": [
    "## <font color=blue>Exercise 4: Varying Fossil Fuels</font><br>\n",
    "\n",
    "<font color=blue>If you look carefully at the model results above and the observations, you will see that the model doesn't accurately reproduce the **shape** of the 1958-2015 change in atmospheric CO$_2$.<br><br>\n",
    "\n",
    "We have made many simplifying assumptions in our model, and one of the biggest is that we have assumed constant fossil fuel inputs from 1958 until today. In fact, carbon emissions from fossil fuels have changed significantly over the past several decades, as can clearly be seen in the following plot: <br><br>\n",
    "\n",
    "![Emissions Image](img/global_fossil_carbon_emissions_google_chart2.jpg)</font>"
   ]
  },
  {
   "cell_type": "markdown",
   "metadata": {},
   "source": [
    "## <font color=blue>EXERCISE 4a: Varying Fossil Fuels</font><br>\n",
    "\n",
    "<font color=blue>Could more realistic fossil fuel inputs improve our simulation?<br><br>\n",
    "Let's start by writing a function that picks a new value for fossil fuels based on the year. To keep things simple, we will just use one value for each decade.\n",
    "\n",
    "The function has been started for you below. You need to pick an appropriate value of fossil fuel emissions to use for each decade. You can find realistic values for fossil fuel carbon emissions from the website of the Carbon Dioxide Information Analysis Center:  http://cdiac.ornl.gov/trends/emis/glo_2010.html.<br><br>\n",
    "\n",
    "**Hint**:  The model fluxes are in units of Gton C / year (1 Gton = 1 billion metric tons) but the CDIAC values are in million metric tons. Make sure you convert units! Your fluxes should be $<$10 Gton C/year.</font>"
   ]
  },
  {
   "cell_type": "code",
   "execution_count": null,
   "metadata": {
    "collapsed": false
   },
   "outputs": [],
   "source": [
    "def get_fossil_fuels(year):\n",
    "    \n",
    "    # Use an if statement to see which decade we are in\n",
    "    if year < 1960:\n",
    "        fossil_fuels= ????\n",
    "    elif year < 1970:\n",
    "        fossil_fuels= ????\n",
    "    elif year < 1980:\n",
    "        fossil_fuels= ????\n",
    "    elif year < 1990:\n",
    "        fossil_fuels= ????\n",
    "    elif year < 2000:\n",
    "        fossil_fuels= ????\n",
    "    elif year < 2010:\n",
    "        fossil_fuels= ????\n",
    "    else:\n",
    "        fossil_fuels= ????\n",
    "\n",
    "    return fossil_fuels"
   ]
  },
  {
   "cell_type": "markdown",
   "metadata": {},
   "source": [
    "## <font color=blue>EXERCISE 4b</font><br>\n",
    "\n",
    "<font color=blue>\n",
    "1. Copy your model from Exercise 3a here.<br>\n",
    "2. Adapt the model so that instead of using constant fossil fuels you **call the new function above** to calculate the fossil fuels at every point in time.<br><br>\n",
    "\n",
    "**Hint:** The function above needs as input the **current year**. Remember that at `time=0`, `year=1958`. So the input to your `get_fossil_fuels` function should be `year right now` (not `time right now`).</font>"
   ]
  },
  {
   "cell_type": "code",
   "execution_count": null,
   "metadata": {
    "collapsed": true
   },
   "outputs": [],
   "source": [
    "# Copy your model here and adapt it\n",
    "\n",
    "\n",
    "\n"
   ]
  },
  {
   "cell_type": "markdown",
   "metadata": {},
   "source": [
    "## <font color=blue>EXERCISE 4c</font><br>\n",
    "\n",
    "<font color=blue>\n",
    "1. Run the new version of the model for the 1958-2015 period (no sensitivity simulation required, but make sure you are including the Missing Sink).<br>\n",
    "2. Convert the result to atmospheric CO$_2$ (in ppm)<br>\n",
    "3. Plot the results.</font>"
   ]
  },
  {
   "cell_type": "code",
   "execution_count": null,
   "metadata": {
    "collapsed": false
   },
   "outputs": [],
   "source": [
    "# Run the model for 57 years (1958-2016) and plot the results\n",
    "\n"
   ]
  },
  {
   "cell_type": "markdown",
   "metadata": {},
   "source": [
    "## <font color=blue>EXERCISE 4d</font><br>\n",
    "\n",
    "<font color=blue>How does the new output compare to the observations? What is fixed, and what is still different? What are some of the simplifications we have made in our model?</font>"
   ]
  },
  {
   "cell_type": "code",
   "execution_count": null,
   "metadata": {
    "collapsed": true
   },
   "outputs": [],
   "source": [
    "# Answer the questions here\n",
    "\n",
    "\n"
   ]
  },
  {
   "cell_type": "markdown",
   "metadata": {},
   "source": [
    "## <font color=purple>Exercise 5: The seasonal cycle</font><br>\n",
    "\n",
    "<font color=purple>The most obvious difference between the model and the observations is the large oscillations in observed CO$_2$ that are missing in the model. The observed oscillations represent a **seasonal cycle** in one or more of the fluxes into the atmosphere.<br><br>\n",
    "\n",
    "We can create a function that represent a seasonal cycle using the following code (add print statements if you don't understand what each line is doing):"
   ]
  },
  {
   "cell_type": "code",
   "execution_count": null,
   "metadata": {
    "collapsed": false
   },
   "outputs": [],
   "source": [
    "def season_function(time):\n",
    "\n",
    "    # create a variable describing the year from the start of the simulation,\n",
    "    # without worrying about partial years (e.g. time=20.05 gives base_year=20, etc.)\n",
    "    base_year = numpy.floor(time)\n",
    "\n",
    "    # determine the season as a fraction of the year\n",
    "    season=time-base_year\n",
    "\n",
    "    # Don't worry too much about the details here.\n",
    "    # Basically, we use numpy.cos(2*pi*season) to get an oscillation from -1 to 1\n",
    "    # We subtract from 1 to make sure we are forcing with values between 0 and 2 (average = 1).\n",
    "    # This means the average will be the same every year as before.\n",
    "\n",
    "    # create a variable that oscillates along with the season\n",
    "    season_modifier=1-numpy.cos(2*numpy.pi*(season))\n",
    "    \n",
    "    return season_modifier"
   ]
  },
  {
   "cell_type": "markdown",
   "metadata": {},
   "source": [
    "## <font color=purple>EXERCISE 5a</font><br>\n",
    "\n",
    "<font color=purple>The seasonal modifier defined above needs to be applied to **one** of the fluxes in our model. Thinking physically about our model, which flux should have a strong seasonal cycle? [*Hint*: the flux is at its maximum in northern hemisphere summer and its minimum in northern hemisphere winter.] You might wish to verify your answer with the teaching staff before you continue.</font>"
   ]
  },
  {
   "cell_type": "code",
   "execution_count": null,
   "metadata": {
    "collapsed": true
   },
   "outputs": [],
   "source": [
    "# "
   ]
  },
  {
   "cell_type": "markdown",
   "metadata": {},
   "source": [
    "## <font color=purple>EXERCISE 5b</font><br>\n",
    "\n",
    "<font color=purple>Adapt your model from Exercise 4 to incorporate the seasonal cycle for the appropriate flux.</font>"
   ]
  },
  {
   "cell_type": "code",
   "execution_count": null,
   "metadata": {
    "collapsed": true
   },
   "outputs": [],
   "source": [
    "\n",
    "\n",
    "\n"
   ]
  },
  {
   "cell_type": "markdown",
   "metadata": {},
   "source": [
    "## <font color=purple>EXERCISE 5c</font><br>\n",
    "\n",
    "<font color=purple>Re-run the model and convert the output to CO2. Plot the result.</font>"
   ]
  },
  {
   "cell_type": "code",
   "execution_count": null,
   "metadata": {
    "collapsed": false
   },
   "outputs": [],
   "source": [
    "\n",
    "\n"
   ]
  },
  {
   "cell_type": "markdown",
   "metadata": {},
   "source": [
    "## <font color=purple>EXERCISE 5d</font><br>\n",
    "\n",
    "<font color=purple>Does the addition of a seasonal cycle improve the comparison between model and observations?</font>"
   ]
  },
  {
   "cell_type": "code",
   "execution_count": null,
   "metadata": {
    "collapsed": true
   },
   "outputs": [],
   "source": [
    "#"
   ]
  },
  {
   "cell_type": "markdown",
   "metadata": {},
   "source": [
    "## <font color=purple>EXERCISE 6</font><br>\n",
    "\n",
    "<font color=purple>**Finished really early? Want to improve your model even more?**<br>\n",
    "You can read the actual Mauna Loa data (downloaded with the rest of the practical) into the program using the following code (the observations will be stored as CO2obs_val).</font>"
   ]
  },
  {
   "cell_type": "code",
   "execution_count": null,
   "metadata": {
    "collapsed": false
   },
   "outputs": [],
   "source": [
    "# Open the data file for reading (\"r\")\n",
    "infile=open(\"data/co2_mm_mlo.txt\",\"r\")\n",
    "\n",
    "# Set up an empty list that will eventually contain the data\n",
    "CO2obs=[]\n",
    "\n",
    "# Loop over the lines in the file\n",
    "for line in infile:\n",
    "    \n",
    "    # Non-data lines start with # so only read lines that DON'T start with #\n",
    "    if line[0] != '#':\n",
    "        # Split each line up since it contains both time and CO2 value\n",
    "        line=line.split()\n",
    "        # Add the data from that line to the CO2obs list\n",
    "        CO2obs.append(line)\n",
    "        \n",
    "# close the file\n",
    "infile.close()\n",
    "\n",
    "# turn the list into a numpy array\n",
    "CO2obs=numpy.array(CO2obs,dtype='float')\n",
    "\n",
    "# Pull out from the array the relevant information by column\n",
    "CO2obs_time=CO2obs[:,2]\n",
    "CO2obs_val=CO2obs[:,3]\n",
    "\n",
    "# Overwrite missing data with NaN (not a number) so that they don't impact the plot\n",
    "missing=numpy.where(CO2obs_val < 0)\n",
    "CO2obs_val[missing]=numpy.nan"
   ]
  },
  {
   "cell_type": "markdown",
   "metadata": {},
   "source": [
    "<font color=purple>Try plotting the observed and modeled values on the same plot.<br><br>\n",
    "\n",
    "**Hint**: You will need to `pyplot.plot` lines. The first will be the same as in your previous exercises. For the second, you should use CO2obs_time on the x-axis and CO2obs_val on the y-axis.</font>"
   ]
  },
  {
   "cell_type": "code",
   "execution_count": null,
   "metadata": {
    "collapsed": false
   },
   "outputs": [],
   "source": [
    "\n",
    "\n",
    "\n"
   ]
  },
  {
   "cell_type": "markdown",
   "metadata": {},
   "source": [
    "<font color=purple>Does this give you an idea of where you need to focus on improving your model? Any ideas for how to do this?</font>"
   ]
  },
  {
   "cell_type": "code",
   "execution_count": null,
   "metadata": {
    "collapsed": true
   },
   "outputs": [],
   "source": [
    "# "
   ]
  },
  {
   "cell_type": "markdown",
   "metadata": {},
   "source": [
    "<font color=purple>If you want to get really fancy, you could even plot the **differences** between the model and the observations. To do so, you first need to make sure they have the same time basis. For that, we can use a function called <font face=courier>numpy.interp</font>:</font>"
   ]
  },
  {
   "cell_type": "code",
   "execution_count": null,
   "metadata": {
    "collapsed": true
   },
   "outputs": [],
   "source": [
    "CO2mod_val = numpy.interp(CO2obs_time,year,CO2_ppm) #interpolate model values to observed time basis"
   ]
  },
  {
   "cell_type": "markdown",
   "metadata": {},
   "source": [
    "<font color=purple>Now try plotting the **differences** (`CO2mod_val - CO2obs_val`). You will want `CO2obs_time` on the x-axis.</font>"
   ]
  },
  {
   "cell_type": "code",
   "execution_count": null,
   "metadata": {
    "collapsed": false
   },
   "outputs": [],
   "source": [
    "\n",
    "\n",
    "\n"
   ]
  },
  {
   "cell_type": "markdown",
   "metadata": {},
   "source": [
    "<font color=purple>What do you find? What could explain the behaviour you see? What would you do next to improve the fidelity of the model?</font>"
   ]
  },
  {
   "cell_type": "code",
   "execution_count": null,
   "metadata": {
    "collapsed": true
   },
   "outputs": [],
   "source": [
    "#\n",
    "\n"
   ]
  }
 ],
 "metadata": {
  "anaconda-cloud": {},
  "kernelspec": {
   "display_name": "Python [default]",
   "language": "python",
   "name": "python2"
  },
  "language_info": {
   "codemirror_mode": {
    "name": "ipython",
    "version": 2
   },
   "file_extension": ".py",
   "mimetype": "text/x-python",
   "name": "python",
   "nbconvert_exporter": "python",
   "pygments_lexer": "ipython2",
   "version": "2.7.12"
  }
 },
 "nbformat": 4,
 "nbformat_minor": 0
}
