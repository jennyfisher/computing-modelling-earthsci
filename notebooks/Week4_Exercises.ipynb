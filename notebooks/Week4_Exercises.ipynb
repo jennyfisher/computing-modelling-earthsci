{
 "cells": [
  {
   "cell_type": "markdown",
   "metadata": {},
   "source": [
    "# Introduction to Programming in Python: Logic & Loops"
   ]
  },
  {
   "cell_type": "markdown",
   "metadata": {},
   "source": [
    "# <font color=red>MAKE SURE TO EXECUTE THIS CELL BEFORE YOU START YOUR WORK!"
   ]
  },
  {
   "cell_type": "code",
   "execution_count": null,
   "metadata": {
    "collapsed": true
   },
   "outputs": [],
   "source": [
    "import numpy"
   ]
  },
  {
   "cell_type": "markdown",
   "metadata": {},
   "source": [
    "## <font color=blue>EXERCISE 1</font><br>\n",
    "\n",
    "<font color=blue>As usual, let's see what kind of errors we get when we make a mistake in the syntax. Try out each of the examples below without changing anything so you see the error message, then fix the error.</font>"
   ]
  },
  {
   "cell_type": "markdown",
   "metadata": {},
   "source": [
    "<font color = blue>**i. Original**:</font>"
   ]
  },
  {
   "cell_type": "code",
   "execution_count": null,
   "metadata": {
    "collapsed": true
   },
   "outputs": [],
   "source": [
    "for i in range(2,5,1)\n",
    "    print( i )"
   ]
  },
  {
   "cell_type": "markdown",
   "metadata": {},
   "source": [
    "<font color=blue>**i. Fixed**:</font>"
   ]
  },
  {
   "cell_type": "code",
   "execution_count": null,
   "metadata": {
    "collapsed": true,
    "scrolled": true
   },
   "outputs": [],
   "source": []
  },
  {
   "cell_type": "markdown",
   "metadata": {},
   "source": [
    "<font color = blue>**ii. Original**:</font>"
   ]
  },
  {
   "cell_type": "code",
   "execution_count": null,
   "metadata": {
    "collapsed": true
   },
   "outputs": [],
   "source": [
    "for i in range(0,7,1):\n",
    "print( i )"
   ]
  },
  {
   "cell_type": "markdown",
   "metadata": {},
   "source": [
    "<font color=blue>**ii. Fixed**:</font>"
   ]
  },
  {
   "cell_type": "code",
   "execution_count": null,
   "metadata": {
    "collapsed": true,
    "scrolled": true
   },
   "outputs": [],
   "source": []
  },
  {
   "cell_type": "markdown",
   "metadata": {},
   "source": [
    "<font color = blue>**iii. Original**:</font>"
   ]
  },
  {
   "cell_type": "code",
   "execution_count": null,
   "metadata": {
    "collapsed": true
   },
   "outputs": [],
   "source": [
    "for i in (0,10,1):\n",
    "    print( i )"
   ]
  },
  {
   "cell_type": "markdown",
   "metadata": {},
   "source": [
    "<font color=blue>**iii. Fixed**:</font>"
   ]
  },
  {
   "cell_type": "code",
   "execution_count": null,
   "metadata": {
    "collapsed": true,
    "scrolled": true
   },
   "outputs": [],
   "source": []
  },
  {
   "cell_type": "markdown",
   "metadata": {},
   "source": [
    "## <font color=blue>EXERCISE 2a</font><br>\n",
    "\n",
    "<font color=blue>i. Write a `for` loop to print every number from 1 to 11 and its square (`i`$^2$).</font>"
   ]
  },
  {
   "cell_type": "code",
   "execution_count": null,
   "metadata": {
    "collapsed": true
   },
   "outputs": [],
   "source": []
  },
  {
   "cell_type": "markdown",
   "metadata": {},
   "source": [
    "<font color=blue>ii. Write a `for` loop to print every even number from 2 to 20 (`i`) and calculate the product `i*(i-1)`.<br>\n",
    "For example, when `i=2` your program should calculate `i*(i-1)=2*(2-1)=2*1=2` and so on for other values of `i`.</font>"
   ]
  },
  {
   "cell_type": "code",
   "execution_count": null,
   "metadata": {
    "collapsed": true
   },
   "outputs": [],
   "source": []
  },
  {
   "cell_type": "markdown",
   "metadata": {},
   "source": [
    "## <font color=blue>EXERCISE 2b</font><br>\n",
    "\n",
    "<font color=blue>Recall that we can convert from temperature $F$ in degrees Fahrenheit to temperature $C$ in degrees Celsius using:\n",
    "$$ C = \\left({5\\over9}\\right)\\times(F - 32) $$\n",
    "\n",
    "Write a program that:<br>\n",
    "1. Makes an `array` of Fahrenheit values called `F`, with `F` = 37, 44, 58, 62, 73<br>\n",
    "2. Uses this `F` array and the equation above to calculate an array of Celsius values called `C`<br>\n",
    "3. Uses a **```for```** loop to print out a table with values of F_values in the first column and `C` in the second column.<br><br>\n",
    "\n",
    "**Hint 1**: If you don't remember how to make an `array`, take a look back at the Week 3 practical.<br>\n",
    "**Hint 2**: Your loop variable should not have the same name as any of your other variables (otherwise, you will overwrite them!). You want to calculate ```F``` and ```C``` **before** the loop, then use the loop to print the values one at a time.\n",
    "**Hint 3**: Each line should only show **one** value of `F` and **one** value of `C`.</font>"
   ]
  },
  {
   "cell_type": "code",
   "execution_count": null,
   "metadata": {
    "collapsed": true
   },
   "outputs": [],
   "source": []
  },
  {
   "cell_type": "markdown",
   "metadata": {},
   "source": [
    "## <font color=blue>EXERCISE 3</font><br>\n",
    "\n",
    "<font color=blue>In the practical workbook, we wrote a program to use a `for` loop to calculate then plot the temperature of the atmosphere as a function of altitude for the lowest part of the atmosphere, from 0-11 km:</font>"
   ]
  },
  {
   "cell_type": "raw",
   "metadata": {},
   "source": [
    "import numpy\n",
    "import matplotlib.pyplot as pyplot\n",
    "%matplotlib inline\n",
    "\n",
    "# altitude array in km, steps of 0.1km = 100m\n",
    "# For the lowest part of the atmosphere, we will start at 0 and end at 11.\n",
    "altitude=numpy.arange(0,11,.1)\n",
    "\n",
    "# set up an array for temperature\n",
    "Temperature=numpy.zeros(len(altitude))\n",
    "\n",
    "for i in range(0,len(Temperature),1):\n",
    "    Temperature[i] = 15.0 - 6.5*altitude[i]\n",
    "    \n",
    "# Set up the plot - we put altitude on the y-axis to represent it going \"up\"\n",
    "pyplot.plot(Temperature,altitude)\n",
    "pyplot.xlabel('Temperature (C)')\n",
    "pyplot.ylabel('Altitude (km)')\n",
    "pyplot.title('Change in temperature with altitude in the atmosphere')\n",
    "pyplot.show()"
   ]
  },
  {
   "cell_type": "markdown",
   "metadata": {},
   "source": [
    "<font color=blue>Adapt the code above to make TWO plots. The first one should show the temperature for altitudes between 11 and 25 km, and the second should show the temperature for altitudes between 25 and 32 km. The temperatures can be described by the following equations:<br><br>\n",
    "\n",
    "**`Temperature = 15.0 - 6.5 * altitude`** (when altitude is less than 11 km)<br>\n",
    "**`Temperature = -56.5`** (when altitude is between 11 and 20 km)<br>\n",
    "**`Temperature = -76.5 + 1.0 * altitude`** (when altitude is between 20 and 32 km)<br>\n",
    "\n",
    "**Make sure the TITLE of each plot tells us which plot is for which altitude range!**<br><br>\n",
    "\n",
    "**Hint**: You will either need to give each altitude and Temperature array a different name (e.g. `altitude1` and `altitude2`, or you will need to calculate and plot the first one, then calculate a plot the second one.<br>\n",
    "**Note**: A `for` loop isn't strictly necessary here - we could do this with array calculations. But please use one so that you get the practice~\n",
    "</font>"
   ]
  },
  {
   "cell_type": "code",
   "execution_count": null,
   "metadata": {
    "collapsed": true
   },
   "outputs": [],
   "source": []
  },
  {
   "cell_type": "markdown",
   "metadata": {},
   "source": [
    "## <font color=blue>EXERCISE 4: BRINGING IT ALL TOGETHER</font>\n",
    "\n",
    "<font color=blue>This final exercise is designed to give you a chance to practice everything you have learned so far today (and in the last few weeks). Make sure to spend time thinking about what your answers **mean**.\n",
    "\n",
    "This week, we will continue developing an understanding of Daisyworld (look back to the Week 3 practical and/or the textbook if you don't remember!). Last week, we made a plot that showed us how the temperature of the Daisyworld planet changed as the number of daisies increased.<br><br>\n",
    "\n",
    "This time we are going to determine how the fraction of the planet covered by daisies changes as temperature increases. We will start by thinking about how fast the flowers grow at each temperature (their \"growth rate\"). Based on what we know about real plants, we can expect that the daisies on Daisyworld can only grow within a certain temperature range.<br><br>\n",
    "\n",
    "On Daisyworld, flowers only grow when temperatures are between 281K (8°C) and 310K (37°C). In other words, assuming temperature is `T` (in units of Kelvin):<br>\n",
    "- when `T < 282 K` flowers do not grow<br>\n",
    "- when `282 K <= T < 310 K` flowers grow<br>\n",
    "- when `T >= 310 K` flowers do not grow<br><br>\n",
    "\n",
    "For now, we will treat each of these cases separately.\n",
    "\n",
    "### EXERCISE 4a<br>\n",
    "First we will define arrays that represent the possible temperature of the planet, in Kelvin, for each of these ranges. We will assume the planet can get as cold as 265 K (-8°C) and as hot as 315 K (42°C).\n",
    "\n",
    "**For this exercise:**\n",
    "1. Define three arrays, called `T1`, `T2`, and `T3` that represent the temperature of the planet (in K) in each regime. For `T1`, use values from 265-281K, for `T2` use values from 282-309, and for `T3` use values from 310-315. For all three, use steps of 1K.<br>\n",
    "2. For each temperature array, define an array full of zeros that will eventually represent the growth rate of flowers. So you should have **three** growth rate arrays (given them each unique and useful name). Each array should have the **same length** as the equivalent temperature array from step 1. (**Hint**: what does the function `len` do?)<br>\n",
    "3. Add three **`for` loops**, one for each temperature array. Each `for` loop should print the values in the temperature array, with one value on each line. (**Hint:** your counter variable should be `i` and you can use `len` to figure out how many values are in your temperature array)<br>\n",
    "\n",
    "***Do not delete the `%reset` line in the cell below*** (this makes sure your program isn't just \"remembering\" something you did before)."
   ]
  },
  {
   "cell_type": "code",
   "execution_count": null,
   "metadata": {
    "collapsed": true
   },
   "outputs": [],
   "source": [
    "%reset -s -f\n",
    "import numpy\n",
    "import matplotlib.pyplot as pyplot\n",
    "%matplotlib inline\n",
    "\n"
   ]
  },
  {
   "cell_type": "markdown",
   "metadata": {},
   "source": [
    "### <font color=blue>EXERCISE 4b</font><br>\n",
    "\n",
    "<font color=blue>Let's make this quantitative by adding some numbers to the growth rate. Based on the situation on earth, we expect that there is a temperature somewhere at which flowers grow best (their optimum). We can represent this situation as a parabola.\n",
    "\n",
    "The growth rate of the population of flowers (in units of *fraction of the planet covered by flowers / year*) as a function of the temperature T (in units of Kelvin) is defined as:<br>\n",
    "0 when `T < 282 K` <br>\n",
    "$1-0.005 \\times (295.5-T)^2$ when `282K <= T < 310K` <br>\n",
    "0 when `T >= 310 K` <br><br>\n",
    "\n",
    "**For this exercise:**\n",
    "1. Copy the code from Exercise 4a\n",
    "2. Modify the code in each `for` loop so that after printing the temperature, it prints the growth rate at that temperature (just the number, no extra text).\n",
    "\n",
    "In other words, you should see output that looks like:\n",
    "```\n",
    "265\n",
    "0\n",
    "266\n",
    "0\n",
    "...\n",
    "282\n",
    "0.08875\n",
    "283\n",
    "0.21875\n",
    "...\n",
    "314\n",
    "0\n",
    "315\n",
    "0```\n",
    "\n",
    "\n",
    "**Hint 1:** To print these on separate lines, you will need **two** action lines in each for loop (for now, both actions are to print something). For example:<br>\n",
    "```\n",
    "for i in range...\n",
    "    print( temperature value )\n",
    "    print( growth rate value )\n",
    "```\n",
    "**Hint 2:** If you just want to print a single number, you can put it directly in your print brackets. For example, `print( 25 )` will just print the value 25. So how might you print the value 0 when it is too cold or too hot for flowers to grow?<br>\n",
    "**Hint 3:** Make sure you are only trying to use 1 value of your temperature array at a time in your calculation. How can we use `[i]` for this?<br>\n",
    "**Hint 4:** None of the values should be negative - if they are, something has gone wrong!"
   ]
  },
  {
   "cell_type": "code",
   "execution_count": null,
   "metadata": {
    "collapsed": true,
    "scrolled": false
   },
   "outputs": [],
   "source": []
  },
  {
   "cell_type": "markdown",
   "metadata": {},
   "source": [
    "### <font color=blue>EXERCISE 4c</font><br>\n",
    "\n",
    "<font color=blue>Now we have printed the growth rate values, but we really want to plot them. To do that, we first need to store them in the growth rate arrays (these are the arrays we created in 5a that are currently full of zeros).\n",
    "\n",
    "**For this exercise:**\n",
    "1. Copy the code from Exercise 4b.\n",
    "2. Modify the code in the `for` loop so that instead of **printing** the growth rate, it puts the value of the growth rate into the growth rate array.\n",
    "3. **After** each `for` loop is finished, print the whole growth rate array to check that nothing has gone wrong. The values should be the same numbers you found in Exercise 5b.\n",
    "\n",
    "**Hint:** Remember that if we want to put a value into an array we can use its index. For example, `MyArray[0]=5` or `MyArray[1]=6`. How do we use `[i]` to do something similar in a `for` loop? Look back at Exercise 3 and the example in the workbook if you get stuck!"
   ]
  },
  {
   "cell_type": "code",
   "execution_count": null,
   "metadata": {
    "collapsed": true
   },
   "outputs": [],
   "source": []
  },
  {
   "cell_type": "markdown",
   "metadata": {},
   "source": [
    "### <font color=blue>EXERCISE 4d</font><br>\n",
    "\n",
    "<font color=blue>Make three plots, one for each temperature range. For each one, plot the growth rate (y-axis) as a function of temperature in Kelvin (x-axis).</font>"
   ]
  },
  {
   "cell_type": "code",
   "execution_count": null,
   "metadata": {
    "collapsed": true
   },
   "outputs": [],
   "source": []
  },
  {
   "cell_type": "markdown",
   "metadata": {},
   "source": [
    "### <font color=blue>EXERCISE 4e</font><br>\n",
    "\n",
    "<font color=blue>Think about the behaviour you see in the plot above and answer the following questions as comments in the next box:\n",
    "1. How does daisy growth respond to changes in temperature?\n",
    "2. If the temperature suddenly jumped from 10°C (283K) to 20°C (293K), would the flowers start grow more rapidly or more slowly? Why?\n",
    "3. If the temperature increased again to 35°C (308K), would the flowers start grow more rapidly or more slowly? Why?"
   ]
  },
  {
   "cell_type": "code",
   "execution_count": null,
   "metadata": {
    "collapsed": true
   },
   "outputs": [],
   "source": []
  },
  {
   "cell_type": "markdown",
   "metadata": {},
   "source": [
    "### <font color=purple>OPTIONAL EXERCISE 4f</font><br>\n",
    "\n",
    "<font color=purple>Feeling frustrated that we had to copy and paste a lot of our code 3 times? Don't worry, next week we are going to learn some new skills that will let us calculate the growth rates for different temperature ranges using just ONE for loop.<br><br>\n",
    "\n",
    "In the meantime, we can actually combine our three different temperature arrays and three different growth rate arrays to make ONE array for each using a special `numpy` function called `concatenate`. `concatenate` just lumps arrays together. For example, if we had two arrays `x` and `y`:<br>\n",
    "```\n",
    "x = numpy.array([27,36,19])\n",
    "y = numpy.array([77,88,99])\n",
    "```\n",
    "we can combine them into a new array `x_and_y` using `numpy.concatenate`:</color>"
   ]
  },
  {
   "cell_type": "code",
   "execution_count": null,
   "metadata": {
    "collapsed": true
   },
   "outputs": [],
   "source": [
    "x = numpy.array([27,36,19])\n",
    "y = numpy.array([77,88,99])\n",
    "x_and_y = numpy.concatenate((x,y))\n",
    "\n",
    "print(x_and_y)"
   ]
  },
  {
   "cell_type": "markdown",
   "metadata": {},
   "source": [
    "<font color=purple>You can concatenate as many arrays as you like, as long as you include them all in the brackets (for example, `numpy.concatenate((x,y,z,zz))`).<br><br>\n",
    "\n",
    "To try this out now, **concatenate** (combine) the three temperature arrays into **one** temperature array. Do the same thing with the three growth rate arrays. Finally, make one plot with temperature on the x-axis and growth rate on the y-axis. It should show the full temperature range, from 265-315K.</font>"
   ]
  },
  {
   "cell_type": "code",
   "execution_count": null,
   "metadata": {
    "collapsed": true
   },
   "outputs": [],
   "source": []
  }
 ],
 "metadata": {
  "anaconda-cloud": {},
  "kernelspec": {
   "display_name": "Python [conda env:py3]",
   "language": "python",
   "name": "conda-env-py3-py"
  },
  "language_info": {
   "codemirror_mode": {
    "name": "ipython",
    "version": 3
   },
   "file_extension": ".py",
   "mimetype": "text/x-python",
   "name": "python",
   "nbconvert_exporter": "python",
   "pygments_lexer": "ipython3",
   "version": "3.5.4"
  }
 },
 "nbformat": 4,
 "nbformat_minor": 1
}
